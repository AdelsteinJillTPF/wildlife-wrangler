{
 "cells": [
  {
   "cell_type": "markdown",
   "metadata": {},
   "source": [
    "# Test"
   ]
  },
  {
   "cell_type": "markdown",
   "metadata": {},
   "source": [
    "### Set Variables - fill out stuff in this cell.  \n",
    "Notes:\n",
    "default_coordUncertainty -- coordinateUncertaintyInMeters is often not provided.  Here is an option to use a default.  If you don't want anything entered, set this equal to False (boolean, not string)."
   ]
  },
  {
   "cell_type": "code",
   "execution_count": 1,
   "metadata": {},
   "outputs": [],
   "source": [
    "configDir = \"T:/Data/\"  # Path to folder where you saved your wildlifeconfig file.\n",
    "taxon_id = 'test1'\n",
    "summary_name = 'test1'\n",
    "gbif_req_id = 'test1'\n",
    "gbif_filter_id = 'test1'\n",
    "default_coordUncertainty = 1000       # Note above."
   ]
  },
  {
   "cell_type": "markdown",
   "metadata": {},
   "source": [
    "There is a bug with mpl_toolkits, the following code is a temporary fix until they resolve the bug.\n",
    "https://stackoverflow.com/questions/52911232/basemap-library-using-anaconda-jupyter-notebooks-keyerror-proj-lib/54087410#54087410\n",
    "\n",
    "os.environ['PROJ_LIB'] should be set equal to something like \"c:/Users/jramone/AppData/Local/Continuum/miniconda3/envs/wrangler/Library/share\""
   ]
  },
  {
   "cell_type": "code",
   "execution_count": 2,
   "metadata": {},
   "outputs": [],
   "source": [
    "import os\n",
    "os.environ['PROJ_LIB'] = \"\""
   ]
  },
  {
   "cell_type": "markdown",
   "metadata": {},
   "source": [
    "### Setup - nothing to fill out in this cell"
   ]
  },
  {
   "cell_type": "code",
   "execution_count": 3,
   "metadata": {
    "scrolled": false
   },
   "outputs": [
    {
     "name": "stdout",
     "output_type": "stream",
     "text": [
      "Notebook run 2020-12-03 12:41:47.743639\n",
      "T:/Occurrence_Records/test1test1test1.sqlite\n"
     ]
    }
   ],
   "source": [
    "%matplotlib inline\n",
    "import sqlite3\n",
    "import pprint\n",
    "import json\n",
    "import pandas as pd\n",
    "import numpy as np\n",
    "pd.set_option('display.width', 600)\n",
    "pd.set_option('display.max_colwidth', 30)\n",
    "pd.set_option('display.max_rows', 150)\n",
    "from IPython.display import Image\n",
    "from pygbif import occurrences\n",
    "import matplotlib.pyplot as plt\n",
    "import os\n",
    "from datetime import datetime\n",
    "t1 = datetime.now()\n",
    "import sys\n",
    "sys.path.append(configDir)\n",
    "import wranglerconfig as config\n",
    "codeDir = config.codeDir\n",
    "paramdb = config.paramdb\n",
    "sys.path.append(codeDir)\n",
    "import wrangler_functions as functions\n",
    "outDir = config.workDir\n",
    "spdb = outDir + taxon_id + gbif_req_id + gbif_filter_id + '.sqlite'\n",
    "username = config.gbif_username\n",
    "password = config.gbif_password\n",
    "email = config.gbif_email\n",
    "print(\"Notebook run \" + str(t1))\n",
    "print(spdb)\n",
    "connjup = sqlite3.connect(paramdb)\n",
    "cursorjup = connjup.cursor()\n",
    "# Get some variables\n",
    "years = connjup.execute(\"\"\"SELECT years_range \n",
    "                           FROM gbif_requests WHERE request_id = '{0}'\"\"\".format(gbif_req_id)).fetchone()[0]\n",
    "gap_id = connjup.execute(\"\"\"SELECT gap_id\n",
    "                            FROM taxa_concepts WHERE taxon_id = '{0}'\"\"\".format(taxon_id)).fetchone()[0]\n",
    "common_name = connjup.execute(\"\"\"SELECT common_name\n",
    "                                 FROM taxa_concepts WHERE taxon_id = '{0}'\"\"\".format(taxon_id)).fetchone()[0]"
   ]
  },
  {
   "cell_type": "markdown",
   "metadata": {},
   "source": [
    "# Taxon Concept\n",
    "Display species information from your wildlife-wrangler.sqlite database."
   ]
  },
  {
   "cell_type": "code",
   "execution_count": 4,
   "metadata": {},
   "outputs": [
    {
     "name": "stdout",
     "output_type": "stream",
     "text": [
      "TAXON CONCEPT RECORD\n",
      "                                     VALUE\n",
      "ATTRIBUTE                                 \n",
      "taxon_id                             test1\n",
      "fws_id                                None\n",
      "gap_id                              acytrx\n",
      "itis_tsn                            173510\n",
      "gbif_id                            2427572\n",
      "ebird_id                              None\n",
      "common_name                canyon treefrog\n",
      "scientific_name            Hyla arenicolor\n",
      "start_year                            None\n",
      "split_from                            None\n",
      "end_year                              None\n",
      "lumped_into                           None\n",
      "geometry                              None\n",
      "detection_distance_meters              200\n",
      "retro_misid_risk                      None\n",
      "vetted_how                               0\n",
      "vetted_who                            None\n",
      "vetted_date                           None\n",
      "notes                                 None\n"
     ]
    }
   ],
   "source": [
    "vals = cursorjup.execute(\"SELECT * FROM taxa_concepts WHERE taxon_id = '{0}';\".format(taxon_id)).fetchall()[0]\n",
    "cols = [x[1] for x in cursorjup.execute(\"PRAGMA table_info('taxa_concepts')\").fetchall()]\n",
    "sp_dict = dict(zip(cols, vals))\n",
    "sp_df = pd.DataFrame.from_dict(sp_dict, orient='index', columns=['VALUE'])\n",
    "sp_df.index.name = 'ATTRIBUTE'\n",
    "print(\"TAXON CONCEPT RECORD\")\n",
    "print(sp_df)"
   ]
  },
  {
   "cell_type": "markdown",
   "metadata": {},
   "source": [
    "# Filters\n",
    "Display the parameters of the request filter set.  These are deployed during the step where records are retrieved from the API."
   ]
  },
  {
   "cell_type": "code",
   "execution_count": 5,
   "metadata": {},
   "outputs": [
    {
     "name": "stdout",
     "output_type": "stream",
     "text": [
      "THE REQUEST FILTER SET\n",
      "request_id          test1\n",
      "source               GBIF\n",
      "lat_range            None\n",
      "lon_range            None\n",
      "years_range     1999,2020\n",
      "months_range         1,12\n",
      "geoissue            False\n",
      "coordinate           True\n",
      "country                US\n",
      "geometry                 \n",
      "creator              None\n",
      "notes                None\n",
      "Name: 0, dtype: object\n"
     ]
    }
   ],
   "source": [
    "request_df = pd.read_sql_query(sql=\"SELECT * FROM gbif_requests WHERE request_id = '{0}'\".format(gbif_req_id), con=connjup)\n",
    "print(\"THE REQUEST FILTER SET\")\n",
    "print(request_df.loc[0])"
   ]
  },
  {
   "cell_type": "markdown",
   "metadata": {},
   "source": [
    "Display the parameters of the post-request filter set.  These are deployed after the records are retrieved from the API, but before they are stored in the output occurrence record sqlite database."
   ]
  },
  {
   "cell_type": "code",
   "execution_count": 6,
   "metadata": {},
   "outputs": [
    {
     "name": "stdout",
     "output_type": "stream",
     "text": [
      "THE POST REQUEST FILTER SET\n",
      "filter_id                                   test1\n",
      "dataset                                      GBIF\n",
      "institutions_omit                             MCZ\n",
      "collection_codes_omit                        None\n",
      "datasets_omit                                None\n",
      "has_coordinate_uncertainty                      0\n",
      "max_coordinate_uncertainty                  10000\n",
      "bases_omit                    MACHINE_OBSERVATION\n",
      "sampling_protocols_omit                      None\n",
      "issues_omit                                  None\n",
      "duplicates_OK                               False\n",
      "creator                                      None\n",
      "notes                                        None\n",
      "Name: 0, dtype: object\n"
     ]
    }
   ],
   "source": [
    "filter_df = pd.read_sql_query(sql=\"SELECT * FROM gbif_filters WHERE filter_id = '{0}'\".format(gbif_filter_id), con=connjup)\n",
    "print(\"THE POST REQUEST FILTER SET\")\n",
    "print(filter_df.loc[0])"
   ]
  },
  {
   "cell_type": "markdown",
   "metadata": {},
   "source": [
    "## Filter set justification\n",
    "\n",
    "**default_coord_uncertainty:** \n",
    "\n",
    "**years_range:** \n",
    "\n",
    "**months_range:** \n",
    "\n",
    "**geoissue:** \n",
    "\n",
    "**coordinate:** \n",
    "\n",
    "**country:** \n",
    "\n",
    "**geometry:** \n",
    "\n",
    "**collection_codes_omit:** \n",
    "\n",
    "**institutions_omit:** \n",
    "\n",
    "**datasets_omit:** \n",
    "\n",
    "**has_coordinate_uncertainty:**\n",
    "\n",
    "**max_coordinate_uncertainty:** \n",
    "\n",
    "**bases_omit:** \n",
    "\n",
    "**sampling_protocols_omit:** \n",
    "\n",
    "**issues_omit:** \n",
    "\n",
    "**duplicates:** "
   ]
  },
  {
   "cell_type": "code",
   "execution_count": 7,
   "metadata": {
    "scrolled": true
   },
   "outputs": [
    {
     "name": "stdout",
     "output_type": "stream",
     "text": [
      "SPATIALITE_SECURITY set to relaxed\n",
      "Created occurrence db: 0:00:00.363232\n",
      "Got request params and sorted out geometry constraints: 0:00:00\n",
      "799 records available\n",
      "Downloaded records: 0:00:06.592067\n",
      "Summarized fields returned: 0:00:23.388135\n",
      "Created summary table of request results: 0:00:00.043393\n",
      "Performed post-request filtering: 0:00:00\n",
      "Calculated new columns, deleted some too: 0:00:00.015671\n",
      "19 duplicate records dropped: 0:00:00.351650\n",
      "Inserted records into table: 0:00:00.061298\n",
      "Summarized unique values retained: 0:00:00\n",
      "Updated occurrences table geometry column: 0:00:00.192448\n",
      "Buffered points: 0:00:00.658915\n",
      "Exported shapefile: 0:00:00.408004\n",
      "\n",
      "Records saved in T:/Occurrence_Records/test1test1test1.sqlite\n"
     ]
    }
   ],
   "source": [
    "functions.retrieve_gbif_occurrences(codeDir, taxon_id, paramdb, spdb, gbif_req_id, gbif_filter_id, \n",
    "                                    default_coordUncertainty, outDir, summary_name, username,\n",
    "                                   password, email)"
   ]
  },
  {
   "cell_type": "markdown",
   "metadata": {},
   "source": [
    "### Connect to output database, record species and filter info."
   ]
  },
  {
   "cell_type": "code",
   "execution_count": 8,
   "metadata": {},
   "outputs": [],
   "source": [
    "conn_occ= sqlite3.connect(spdb)\n",
    "curs_occ = conn_occ.cursor()\n",
    "sp_df.to_sql(name='taxon_concept', con=conn_occ, if_exists='replace')\n",
    "request_df.to_sql(name=gbif_req_id, con=conn_occ, if_exists='replace')\n",
    "filter_df.to_sql(name=gbif_filter_id, con=conn_occ, if_exists='replace')"
   ]
  },
  {
   "cell_type": "markdown",
   "metadata": {},
   "source": [
    "### How many records made it through the filters?\n",
    "This is the number that was actually saved in the occurrence record sqlite database."
   ]
  },
  {
   "cell_type": "code",
   "execution_count": 9,
   "metadata": {},
   "outputs": [
    {
     "name": "stdout",
     "output_type": "stream",
     "text": [
      "628 records\n"
     ]
    }
   ],
   "source": [
    "record_count = curs_occ.execute(\"SELECT COUNT(occ_id) FROM occurrences WHERE taxon_id = '{0}'\".format(taxon_id)).fetchone()\n",
    "print(str(record_count[0]) + \" records\")"
   ]
  },
  {
   "cell_type": "markdown",
   "metadata": {},
   "source": [
    "# Sources\n",
    "#### Pre-filters"
   ]
  },
  {
   "cell_type": "code",
   "execution_count": 10,
   "metadata": {},
   "outputs": [
    {
     "name": "stdout",
     "output_type": "stream",
     "text": [
      "GBIF\n",
      "   institutionCode                 collectionCode                    datasetName    0\n",
      "0              ASU                         ASUHEC                        UNKNOWN    1\n",
      "1             FHSM                           HERP                        UNKNOWN    2\n",
      "2              MSB  Amphibian and reptile spec...                        UNKNOWN   36\n",
      "3              MVZ  Amphibian and reptile spec...                        UNKNOWN    1\n",
      "4             OMNH                           OCGR  Oklahoma Collection of Gen...    2\n",
      "5             TCWC                    Herpetology                        UNKNOWN    3\n",
      "6             TNHC         Ichthyology Collection                        UNKNOWN   10\n",
      "7              UAZ                    Herpetology                        UNKNOWN    7\n",
      "8             USNM          Amphibians & Reptiles            NMNH Extant Biology    2\n",
      "9             UTEP  Amphibian and reptile spec...                        UNKNOWN    9\n",
      "10             YPM                             VZ                        UNKNOWN    2\n",
      "11     iNaturalist                   Observations  iNaturalist research-grade...  724\n"
     ]
    }
   ],
   "source": [
    "tables = cursorjup.execute(\"SELECT table_name FROM table_descriptions\").fetchall()\n",
    "tables = [x[0] for x in tables]\n",
    "\n",
    "filter_sets = [gbif_req_id, gbif_filter_id]\n",
    "\n",
    "sources = []\n",
    "for s in filter_sets:\n",
    "    s = s.strip()\n",
    "    for tab in tables:\n",
    "        columns = cursorjup.execute(\"SELECT column_name FROM column_descriptions WHERE table_name = '{0}'\".format(tab)).fetchall()\n",
    "        columns = [x[0] for x in columns]\n",
    "        for col in columns:\n",
    "            try:\n",
    "                a = cursorjup.execute(\"SELECT source FROM {1} WHERE {2} = '{0}'\".format(s, tab, col)).fetchone()[0]\n",
    "                sources.append(a)\n",
    "            except:\n",
    "                pass\n",
    "print(list(set(sources))[0])\n",
    "\n",
    "sources = pd.read_sql(sql=\"SELECT * FROM pre_filter_source_counts;\", con=conn_occ)\n",
    "print(sources)"
   ]
  },
  {
   "cell_type": "markdown",
   "metadata": {},
   "source": [
    "#### Post-filters"
   ]
  },
  {
   "cell_type": "code",
   "execution_count": 11,
   "metadata": {},
   "outputs": [
    {
     "name": "stdout",
     "output_type": "stream",
     "text": [
      "GBIF\n",
      "   institutionCode                 collectionCode                    datasetName  COUNT(occ_id)\n",
      "0              ASU                         ASUHEC                        UNKNOWN              1\n",
      "1             FHSM                           HERP                        UNKNOWN              1\n",
      "2              MSB  Amphibian and reptile spec...                        UNKNOWN             32\n",
      "3              MVZ  Amphibian and reptile spec...                        UNKNOWN              1\n",
      "4             OMNH                           OCGR  Oklahoma Collection of Gen...              1\n",
      "5             TCWC                    Herpetology                        UNKNOWN              3\n",
      "6             TNHC         Ichthyology Collection                        UNKNOWN              9\n",
      "7              UAZ                    Herpetology                        UNKNOWN              6\n",
      "8             USNM          Amphibians & Reptiles            NMNH Extant Biology              1\n",
      "9             UTEP  Amphibian and reptile spec...                        UNKNOWN              6\n",
      "10             YPM                             VZ                        UNKNOWN              2\n",
      "11     iNaturalist                   Observations  iNaturalist research-grade...            565\n"
     ]
    }
   ],
   "source": [
    "tables = cursorjup.execute(\"SELECT table_name FROM table_descriptions\").fetchall()\n",
    "tables = [x[0] for x in tables]\n",
    "\n",
    "filter_sets = [gbif_req_id, gbif_filter_id]\n",
    "\n",
    "sources = []\n",
    "for s in filter_sets:\n",
    "    s = s.strip()\n",
    "    for tab in tables:\n",
    "        columns = cursorjup.execute(\"SELECT column_name FROM column_descriptions WHERE table_name = '{0}'\".format(tab)).fetchall()\n",
    "        columns = [x[0] for x in columns]\n",
    "        for col in columns:\n",
    "            try:\n",
    "                a = cursorjup.execute(\"SELECT source FROM {1} WHERE {2} = '{0}'\".format(s, tab, col)).fetchone()[0]\n",
    "                sources.append(a)\n",
    "            except:\n",
    "                pass\n",
    "print(list(set(sources))[0])\n",
    "\n",
    "sql = \"SELECT institutionCode, collectionCode, datasetName, COUNT(occ_id) FROM occurrences GROUP BY institutionCode, collectionCode, datasetName;\"\n",
    "sources = pd.read_sql(sql=sql, con=conn_occ)\n",
    "print(sources)"
   ]
  },
  {
   "cell_type": "markdown",
   "metadata": {},
   "source": [
    "# Bases\n",
    "#### Pre-filter"
   ]
  },
  {
   "cell_type": "code",
   "execution_count": 12,
   "metadata": {},
   "outputs": [
    {
     "name": "stdout",
     "output_type": "stream",
     "text": [
      "        basisOfRecord  count\n",
      "0   HUMAN_OBSERVATION    724\n",
      "1  PRESERVED_SPECIMEN     75\n"
     ]
    }
   ],
   "source": [
    "bases = pd.read_sql(sql=\"SELECT value as basisOfRecord, count FROM pre_filter_value_counts WHERE attribute = 'bases';\", con=conn_occ)\n",
    "print(bases)"
   ]
  },
  {
   "cell_type": "markdown",
   "metadata": {},
   "source": [
    "#### Post-filters"
   ]
  },
  {
   "cell_type": "code",
   "execution_count": 13,
   "metadata": {
    "scrolled": true
   },
   "outputs": [
    {
     "name": "stdout",
     "output_type": "stream",
     "text": [
      "        basisOfRecord  count\n",
      "0   HUMAN_OBSERVATION    565\n",
      "1  PRESERVED_SPECIMEN     63\n"
     ]
    }
   ],
   "source": [
    "sql = \"SELECT basisOfRecord, COUNT(occ_id) as count FROM occurrences GROUP BY basisOfRecord;\"\n",
    "bases = pd.read_sql(sql=sql, con=conn_occ)\n",
    "print(bases)"
   ]
  },
  {
   "cell_type": "markdown",
   "metadata": {},
   "source": [
    "# Protocols\n",
    "#### Pre-filters"
   ]
  },
  {
   "cell_type": "code",
   "execution_count": 14,
   "metadata": {
    "scrolled": true
   },
   "outputs": [
    {
     "name": "stdout",
     "output_type": "stream",
     "text": [
      "  samplingProtocol  count\n",
      "0          UNKNOWN    799\n"
     ]
    }
   ],
   "source": [
    "protocol = pd.read_sql(sql=\"SELECT value as samplingProtocol, count FROM pre_filter_value_counts WHERE attribute = 'samplingProtocols';\", con=conn_occ)\n",
    "print(protocol)"
   ]
  },
  {
   "cell_type": "markdown",
   "metadata": {},
   "source": [
    "#### Post-filters"
   ]
  },
  {
   "cell_type": "code",
   "execution_count": 15,
   "metadata": {},
   "outputs": [
    {
     "name": "stdout",
     "output_type": "stream",
     "text": [
      "  samplingProtocol  count\n",
      "0          UNKNOWN    628\n"
     ]
    }
   ],
   "source": [
    "sql = \"SELECT samplingProtocol, COUNT(occ_id) as count FROM occurrences GROUP BY samplingProtocol;\"\n",
    "print(pd.read_sql(sql=sql, con=conn_occ))"
   ]
  },
  {
   "cell_type": "markdown",
   "metadata": {},
   "source": [
    "# Issues\n",
    "#### Pre-filters"
   ]
  },
  {
   "cell_type": "code",
   "execution_count": 16,
   "metadata": {
    "scrolled": true
   },
   "outputs": [
    {
     "name": "stdout",
     "output_type": "stream",
     "text": [
      "                                                                             issues  count\n",
      "0                                                        ['COLLECTION_MATCH_FUZZY']      1\n",
      "1                                  ['COORDINATE_ROUNDED', 'COLLECTION_MATCH_FUZZY']      6\n",
      "2   ['COORDINATE_ROUNDED', 'COORDINATE_REPROJECTED', 'COLLECTION_MATCH_NONE', 'I...      1\n",
      "3   ['COORDINATE_ROUNDED', 'COORDINATE_REPROJECTED', 'OCCURRENCE_STATUS_INFERRED...      5\n",
      "4   ['COORDINATE_ROUNDED', 'GEODETIC_DATUM_ASSUMED_WGS84', 'COORDINATE_UNCERTAIN...      2\n",
      "5   ['COORDINATE_ROUNDED', 'GEODETIC_DATUM_ASSUMED_WGS84', 'INSTITUTION_MATCH_FU...      1\n",
      "6   ['COORDINATE_ROUNDED', 'GEODETIC_DATUM_ASSUMED_WGS84', 'INSTITUTION_MATCH_NO...    613\n",
      "7   ['COORDINATE_ROUNDED', 'GEODETIC_DATUM_INVALID', 'GEODETIC_DATUM_ASSUMED_WGS...      1\n",
      "8   ['COORDINATE_ROUNDED', 'GEODETIC_DATUM_INVALID', 'GEODETIC_DATUM_ASSUMED_WGS...      3\n",
      "9   ['COORDINATE_ROUNDED', 'GEODETIC_DATUM_INVALID', 'GEODETIC_DATUM_ASSUMED_WGS...      7\n",
      "10      ['COORDINATE_ROUNDED', 'INSTITUTION_MATCH_FUZZY', 'COLLECTION_MATCH_FUZZY']      2\n",
      "11  ['COORDINATE_ROUNDED', 'OCCURRENCE_STATUS_INFERRED_FROM_INDIVIDUAL_COUNT', '...      3\n",
      "12  ['COORDINATE_ROUNDED', 'OCCURRENCE_STATUS_INFERRED_FROM_INDIVIDUAL_COUNT', '...      3\n",
      "13          ['COUNTRY_DERIVED_FROM_COORDINATES', 'INSTITUTION_COLLECTION_MISMATCH']      2\n",
      "14  ['GEODETIC_DATUM_ASSUMED_WGS84', 'INSTITUTION_MATCH_FUZZY', 'COLLECTION_MATC...      2\n",
      "15  ['GEODETIC_DATUM_ASSUMED_WGS84', 'INSTITUTION_MATCH_FUZZY', 'INSTITUTION_COL...      9\n",
      "16  ['GEODETIC_DATUM_ASSUMED_WGS84', 'INSTITUTION_MATCH_NONE', 'COLLECTION_MATCH...    109\n",
      "17  ['GEODETIC_DATUM_ASSUMED_WGS84', 'OCCURRENCE_STATUS_INFERRED_FROM_INDIVIDUAL...      2\n",
      "18  ['GEODETIC_DATUM_INVALID', 'GEODETIC_DATUM_ASSUMED_WGS84', 'OCCURRENCE_STATU...      1\n",
      "19  ['GEODETIC_DATUM_INVALID', 'GEODETIC_DATUM_ASSUMED_WGS84', 'OCCURRENCE_STATU...      7\n",
      "20                            ['INSTITUTION_MATCH_FUZZY', 'COLLECTION_MATCH_FUZZY']      2\n",
      "21  ['OCCURRENCE_STATUS_INFERRED_FROM_INDIVIDUAL_COUNT', 'AMBIGUOUS_INSTITUTION'...      2\n",
      "22  ['OCCURRENCE_STATUS_INFERRED_FROM_INDIVIDUAL_COUNT', 'COLLECTION_MATCH_NONE'...     15\n"
     ]
    }
   ],
   "source": [
    "iss = pd.read_sql(sql=\"SELECT value as issues, count FROM pre_filter_value_counts WHERE attribute = 'issues';\", con=conn_occ)\n",
    "pd.set_option('display.max_colwidth', 80)\n",
    "print(iss)"
   ]
  },
  {
   "cell_type": "markdown",
   "metadata": {},
   "source": [
    "#### Post-filters"
   ]
  },
  {
   "cell_type": "code",
   "execution_count": 17,
   "metadata": {
    "scrolled": true
   },
   "outputs": [
    {
     "name": "stdout",
     "output_type": "stream",
     "text": [
      "                                                                             issues  count\n",
      "0                                                            COLLECTION_MATCH_FUZZY      1\n",
      "1                                         COORDINATE_ROUNDED;COLLECTION_MATCH_FUZZY      5\n",
      "2   COORDINATE_ROUNDED;COORDINATE_REPROJECTED;COLLECTION_MATCH_NONE;INSTITUTION_...      1\n",
      "3   COORDINATE_ROUNDED;COORDINATE_REPROJECTED;OCCURRENCE_STATUS_INFERRED_FROM_IN...      5\n",
      "4   COORDINATE_ROUNDED;GEODETIC_DATUM_ASSUMED_WGS84;COORDINATE_UNCERTAINTY_METER...      2\n",
      "5   COORDINATE_ROUNDED;GEODETIC_DATUM_ASSUMED_WGS84;INSTITUTION_MATCH_FUZZY;INST...      1\n",
      "6   COORDINATE_ROUNDED;GEODETIC_DATUM_ASSUMED_WGS84;INSTITUTION_MATCH_NONE;COLLE...    460\n",
      "7   COORDINATE_ROUNDED;GEODETIC_DATUM_INVALID;GEODETIC_DATUM_ASSUMED_WGS84;COLLE...      1\n",
      "8   COORDINATE_ROUNDED;GEODETIC_DATUM_INVALID;GEODETIC_DATUM_ASSUMED_WGS84;OCCUR...      3\n",
      "9   COORDINATE_ROUNDED;GEODETIC_DATUM_INVALID;GEODETIC_DATUM_ASSUMED_WGS84;OCCUR...      6\n",
      "10                COORDINATE_ROUNDED;INSTITUTION_MATCH_FUZZY;COLLECTION_MATCH_FUZZY      2\n",
      "11  COORDINATE_ROUNDED;OCCURRENCE_STATUS_INFERRED_FROM_INDIVIDUAL_COUNT;AMBIGUOU...      1\n",
      "12  COORDINATE_ROUNDED;OCCURRENCE_STATUS_INFERRED_FROM_INDIVIDUAL_COUNT;COLLECTI...      3\n",
      "13                 COUNTRY_DERIVED_FROM_COORDINATES;INSTITUTION_COLLECTION_MISMATCH      1\n",
      "14      GEODETIC_DATUM_ASSUMED_WGS84;INSTITUTION_MATCH_FUZZY;COLLECTION_MATCH_FUZZY      1\n",
      "15  GEODETIC_DATUM_ASSUMED_WGS84;INSTITUTION_MATCH_FUZZY;INSTITUTION_COLLECTION_...      8\n",
      "16        GEODETIC_DATUM_ASSUMED_WGS84;INSTITUTION_MATCH_NONE;COLLECTION_MATCH_NONE    103\n",
      "17  GEODETIC_DATUM_ASSUMED_WGS84;OCCURRENCE_STATUS_INFERRED_FROM_INDIVIDUAL_COUN...      1\n",
      "18  GEODETIC_DATUM_INVALID;GEODETIC_DATUM_ASSUMED_WGS84;OCCURRENCE_STATUS_INFERR...      1\n",
      "19  GEODETIC_DATUM_INVALID;GEODETIC_DATUM_ASSUMED_WGS84;OCCURRENCE_STATUS_INFERR...      6\n",
      "20                                   INSTITUTION_MATCH_FUZZY;COLLECTION_MATCH_FUZZY      2\n",
      "21  OCCURRENCE_STATUS_INFERRED_FROM_INDIVIDUAL_COUNT;AMBIGUOUS_INSTITUTION;COLLE...      1\n",
      "22  OCCURRENCE_STATUS_INFERRED_FROM_INDIVIDUAL_COUNT;COLLECTION_MATCH_NONE;INSTI...     13\n"
     ]
    }
   ],
   "source": [
    "sql = \"SELECT issues, COUNT(occ_id) as count FROM occurrences GROUP BY issues;\"\n",
    "print(pd.read_sql(sql=sql, con=conn_occ))"
   ]
  },
  {
   "cell_type": "markdown",
   "metadata": {},
   "source": [
    "# Descriptions of filtered records"
   ]
  },
  {
   "cell_type": "markdown",
   "metadata": {},
   "source": [
    "### Locations"
   ]
  },
  {
   "cell_type": "code",
   "execution_count": 18,
   "metadata": {},
   "outputs": [
    {
     "name": "stdout",
     "output_type": "stream",
     "text": [
      "Unable to map:  [Errno 2] No such file or directory: 'epsg'\n"
     ]
    }
   ],
   "source": [
    "shp1 = {'file': '{0}{1}_polygons'.format(outDir, summary_name), 'column': None,\n",
    "        'alias': 'Occurrence records', 'drawbounds': True, 'linewidth': .75, 'linecolor': 'magenta',\n",
    "        'fillcolor': None, 'marker':'o'}\n",
    "\n",
    "# Display occurrence polygons\n",
    "map_these=[shp1]\n",
    "    \n",
    "title=\"{1} ({0})\".format(years, common_name)\n",
    "try:\n",
    "    functions.MapShapefilePolygons(map_these=map_these, title=title)\n",
    "except Exception as e:\n",
    "    print(\"Unable to map:  \" + str(e))"
   ]
  },
  {
   "cell_type": "markdown",
   "metadata": {},
   "source": [
    "### Years represented"
   ]
  },
  {
   "cell_type": "code",
   "execution_count": 19,
   "metadata": {},
   "outputs": [
    {
     "data": {
      "text/plain": [
       "Text(0.5, 1.0, 'Occurrences per Year')"
      ]
     },
     "execution_count": 19,
     "metadata": {},
     "output_type": "execute_result"
    },
    {
     "data": {
      "image/png": "[encoded data removed]",
      "text/plain": [
       "<Figure size 432x288 with 1 Axes>"
      ]
     },
     "metadata": {
      "needs_background": "light"
     },
     "output_type": "display_data"
    }
   ],
   "source": [
    "occ_years = [int(x[0]) for x in curs_occ.execute(\"SELECT strftime('%Y', occurrenceDate) FROM occurrences\").fetchall()]\n",
    "years = connjup.execute(\"SELECT years_range FROM gbif_requests WHERE request_id = '{0}'\".format(gbif_req_id)).fetchone()[0]\n",
    "years = years.split(',')\n",
    "yearsrng = list(range(int(years[0]), int(years[1]), 1))\n",
    "binsnum = int(years[1]) - int(years[0])\n",
    "plt.hist(occ_years, bins=binsnum)\n",
    "plt.ylabel(\"number of records\")\n",
    "plt.xlabel(\"year\")\n",
    "plt.xticks(yearsrng, rotation=90)\n",
    "plt.title(\"Occurrences per Year\")"
   ]
  },
  {
   "cell_type": "markdown",
   "metadata": {},
   "source": [
    "### Months represented"
   ]
  },
  {
   "cell_type": "code",
   "execution_count": 20,
   "metadata": {},
   "outputs": [
    {
     "data": {
      "text/plain": [
       "Text(0.5, 1.0, 'Occurrences per Month')"
      ]
     },
     "execution_count": 20,
     "metadata": {},
     "output_type": "execute_result"
    },
    {
     "data": {
      "image/png": "[encoded data removed]",
      "text/plain": [
       "<Figure size 432x288 with 1 Axes>"
      ]
     },
     "metadata": {
      "needs_background": "light"
     },
     "output_type": "display_data"
    }
   ],
   "source": [
    "occ_months = [int(x[0]) for x in curs_occ.execute(\"SELECT strftime('%m', occurrenceDate) FROM occurrences\").fetchall()]\n",
    "plt.hist(occ_months, bins=range(1, 14), color=\"g\")\n",
    "plt.ylabel(\"number of records\")\n",
    "plt.xlabel(\"month\")\n",
    "plt.xticks(range(1, 13))\n",
    "plt.title(\"Occurrences per Month\")"
   ]
  },
  {
   "cell_type": "markdown",
   "metadata": {},
   "source": [
    "### Distribution of coordinate uncertainty values"
   ]
  },
  {
   "cell_type": "code",
   "execution_count": 21,
   "metadata": {
    "scrolled": true
   },
   "outputs": [
    {
     "data": {
      "text/plain": [
       "Text(0.5, 1.0, 'Coordinate Uncertainty')"
      ]
     },
     "execution_count": 21,
     "metadata": {},
     "output_type": "execute_result"
    },
    {
     "data": {
      "image/png": "[encoded data removed]",
      "text/plain": [
       "<Figure size 1152x288 with 1 Axes>"
      ]
     },
     "metadata": {
      "needs_background": "light"
     },
     "output_type": "display_data"
    }
   ],
   "source": [
    "occ_cert = [int(x[0]) for x in curs_occ.execute(\"SELECT coordinateUncertaintyInMeters FROM occurrences\").fetchall()]\n",
    "maxi = np.max(occ_cert)\n",
    "plt.figure(figsize=(16,4))\n",
    "plt.hist(occ_cert, bins=50, color=\"r\")\n",
    "plt.xticks(range(0, maxi, int(maxi/50)), rotation=90)\n",
    "plt.ylabel(\"number of records\")\n",
    "plt.xlabel(\"coordinate uncertainty\")\n",
    "plt.title(\"Coordinate Uncertainty\")"
   ]
  },
  {
   "cell_type": "code",
   "execution_count": 22,
   "metadata": {},
   "outputs": [
    {
     "data": {
      "text/plain": [
       "Text(0.5, 1.0, 'Coordinate Uncertainty - Zoomed In')"
      ]
     },
     "execution_count": 22,
     "metadata": {},
     "output_type": "execute_result"
    },
    {
     "data": {
      "image/png": "[encoded data removed]",
      "text/plain": [
       "<Figure size 864x288 with 1 Axes>"
      ]
     },
     "metadata": {
      "needs_background": "light"
     },
     "output_type": "display_data"
    }
   ],
   "source": [
    "rng_max = 2000\n",
    "occ_cert2 = [x for x in occ_cert if x <= rng_max]\n",
    "plt.figure(figsize=(12,4))\n",
    "plt.hist(occ_cert2, bins=30, color=\"m\", align='mid')\n",
    "plt.xticks(range(0, rng_max + 100, int(rng_max/30.)), rotation=90)\n",
    "plt.ylabel(\"number of records\")\n",
    "plt.xlabel(\"coordinate uncertainty\")\n",
    "plt.title(\"Coordinate Uncertainty - Zoomed In\")"
   ]
  },
  {
   "cell_type": "markdown",
   "metadata": {},
   "source": [
    "### Establishment means reported"
   ]
  },
  {
   "cell_type": "code",
   "execution_count": 23,
   "metadata": {},
   "outputs": [
    {
     "name": "stdout",
     "output_type": "stream",
     "text": [
      "UNKNOWN, NATIVE\n"
     ]
    }
   ],
   "source": [
    "establishment = curs_occ.execute(\"SELECT vals FROM unique_values WHERE field = 'establishment' AND step = 'filter';\").fetchall()[0]\n",
    "for est in establishment:\n",
    "    est = est.replace('[', '').strip().replace(']', '').replace(\"'\", \"\")\n",
    "    print(est)"
   ]
  },
  {
   "cell_type": "markdown",
   "metadata": {},
   "source": [
    "### Identification qualifiers included"
   ]
  },
  {
   "cell_type": "code",
   "execution_count": 24,
   "metadata": {},
   "outputs": [
    {
     "name": "stdout",
     "output_type": "stream",
     "text": [
      "A, UNKNOWN\n"
     ]
    }
   ],
   "source": [
    "quali = curs_occ.execute(\"SELECT DISTINCT vals FROM unique_values WHERE field = 'IDqualifier' AND step = 'filter';\").fetchall()[0]\n",
    "for q in quali:\n",
    "    q = q.replace('[', '').strip().replace(']', '').replace(\"'\", \"\")\n",
    "    print(q)"
   ]
  },
  {
   "cell_type": "markdown",
   "metadata": {},
   "source": [
    "### Remarks included"
   ]
  },
  {
   "cell_type": "code",
   "execution_count": 25,
   "metadata": {
    "scrolled": true
   },
   "outputs": [
    {
     "name": "stdout",
     "output_type": "stream",
     "text": [
      "More than 20 remarks, consult the occurrence database.\n"
     ]
    }
   ],
   "source": [
    "remarks = curs_occ.execute(\"SELECT DISTINCT remarks FROM occurrences;\").fetchall()\n",
    "if len(remarks) <= 20:\n",
    "    try:\n",
    "        for rem in remarks:\n",
    "            if rem[0][0:1] == ';':\n",
    "                print(rem[0][2:])\n",
    "            else:\n",
    "                print(rem[0])\n",
    "    except:\n",
    "        pass\n",
    "else:\n",
    "    print(\"More than 20 remarks, consult the occurrence database.\")"
   ]
  },
  {
   "cell_type": "markdown",
   "metadata": {},
   "source": [
    "### Attributes returned for the records in the request (pre-filters)"
   ]
  },
  {
   "cell_type": "code",
   "execution_count": 26,
   "metadata": {
    "scrolled": false
   },
   "outputs": [
    {
     "name": "stdout",
     "output_type": "stream",
     "text": [
      "                                  attribute  included(n)  populated(n)\n",
      "Field                                                                 \n",
      "0                    acceptedScientificName          799           799\n",
      "1                          acceptedTaxonKey          799           799\n",
      "2                              accessRights           60            60\n",
      "3                      associatedReferences            2             2\n",
      "4                             basisOfRecord          799           799\n",
      "5                     bibliographicCitation            5             5\n",
      "6                             catalogNumber          799           799\n",
      "7                                     class          799           799\n",
      "8                                  classKey          799           799\n",
      "9                            collectionCode          799           799\n",
      "10                             collectionID           57            57\n",
      "11                            collectionKey           13            13\n",
      "12                                continent           72            72\n",
      "13            coordinateUncertaintyInMeters          620           620\n",
      "14                                  country          799           799\n",
      "15                              countryCode          799           799\n",
      "16                                   county           75            75\n",
      "17                                  crawlId          799           799\n",
      "18                                datasetID            2             2\n",
      "19                               datasetKey          799           799\n",
      "20                              datasetName          728           728\n",
      "21                           dateIdentified          752           752\n",
      "22                                      day          799           799\n",
      "23                          decimalLatitude          799           799\n",
      "24                         decimalLongitude          799           799\n",
      "25                              disposition            2             2\n",
      "26                        dynamicProperties           35            35\n",
      "27                                elevation           29            29\n",
      "28                        elevationAccuracy           28            28\n",
      "29                             endDayOfYear           60            60\n",
      "30                       establishmentMeans           12            12\n",
      "31                                eventDate          799           799\n",
      "32                             eventRemarks            5             5\n",
      "33                                eventTime          681           681\n",
      "34                               extensions          799           680\n",
      "35                                    facts          799             0\n",
      "36                                   family          799           799\n",
      "37                                familyKey          799           799\n",
      "38                              fieldNumber           10            10\n",
      "39                                     gadm          799           799\n",
      "40                                   gbifID          799           799\n",
      "41                              genericName          799           799\n",
      "42                                    genus          799           799\n",
      "43                                 genusKey          799           799\n",
      "44                            geodeticDatum          799           799\n",
      "45                     georeferenceProtocol           47            47\n",
      "46                      georeferenceRemarks            1             1\n",
      "47                      georeferenceSources           48            48\n",
      "48           georeferenceVerificationStatus           60            60\n",
      "49                          georeferencedBy           47            47\n",
      "50                        georeferencedDate           47            47\n",
      "51                                  habitat            1             1\n",
      "52                     higherClassification           63            63\n",
      "53                          higherGeography           72            72\n",
      "54                   hostingOrganizationKey          799           799\n",
      "55                  http://unknown.org/nick          724           724\n",
      "56     http://unknown.org/occurrenceDetails          724           724\n",
      "57       http://unknown.org/recordEnteredBy            1             1\n",
      "58              http://unknown.org/recordId            1             1\n",
      "59                         identificationID          708           708\n",
      "60                  identificationQualifier           46            46\n",
      "61                    identificationRemarks           41            41\n",
      "62         identificationVerificationStatus           46            46\n",
      "63                             identifiedBy          778           778\n",
      "64                          identifiedByIDs          799            12\n",
      "65                               identifier          799           799\n",
      "66                              identifiers          799             0\n",
      "67                          individualCount           50            50\n",
      "68                      informationWithheld          132           132\n",
      "69                          installationKey          799           799\n",
      "70                          institutionCode          799           799\n",
      "71                            institutionID           60            60\n",
      "72                           institutionKey           66            66\n",
      "73                                   issues          799           799\n",
      "74                                      key          799           799\n",
      "75                                  kingdom          799           799\n",
      "76                               kingdomKey          799           799\n",
      "77                                 language           60            60\n",
      "78                              lastCrawled          799           799\n",
      "79                          lastInterpreted          799           799\n",
      "80                               lastParsed          799           799\n",
      "81                                  license          799           799\n",
      "82                                lifeStage           26            26\n",
      "83                                 locality           75            75\n",
      "84                      locationAccordingTo           46            46\n",
      "85                          locationRemarks            6             6\n",
      "86                                    media          799           668\n",
      "87                                 modified          781           781\n",
      "88                                    month          799           799\n",
      "89                             municipality            1             1\n",
      "90                              networkKeys           46            46\n",
      "91                        nomenclaturalCode           60            60\n",
      "92                             occurrenceID          799           799\n",
      "93                        occurrenceRemarks          162           162\n",
      "94                         occurrenceStatus          799           799\n",
      "95                                    order          799           799\n",
      "96                                 orderKey          799           799\n",
      "97                               organismID           46            46\n",
      "98                      otherCatalogNumbers           41            41\n",
      "99                     ownerInstitutionCode            2             2\n",
      "100                                  phylum          799           799\n",
      "101                               phylumKey          799           799\n",
      "102                            preparations           66            66\n",
      "103                 previousIdentifications           48            48\n",
      "104                                protocol          799           799\n",
      "105                       publishingCountry          799           799\n",
      "106                        publishingOrgKey          799           799\n",
      "107                            recordNumber           35            35\n",
      "108                              recordedBy          796           796\n",
      "109                           recordedByIDs          799            12\n",
      "110                              references          785           785\n",
      "111                               relations          799             0\n",
      "112                   reproductiveCondition            3             3\n",
      "113                                  rights          725           725\n",
      "114                            rightsHolder          726           726\n",
      "115                          scientificName          799           799\n",
      "116                                     sex            1             1\n",
      "117                                 species          799           799\n",
      "118                              speciesKey          799           799\n",
      "119                         specificEpithet          799           799\n",
      "120                          startDayOfYear           15            15\n",
      "121                           stateProvince          799           799\n",
      "122                                 taxonID          725           725\n",
      "123                                taxonKey          799           799\n",
      "124                               taxonRank          799           799\n",
      "125                            taxonRemarks            2             2\n",
      "126                         taxonomicStatus          799           799\n",
      "127                                    type           62            62\n",
      "128                verbatimCoordinateSystem           48            48\n",
      "129                       verbatimElevation            1             1\n",
      "130                       verbatimEventDate          783           783\n",
      "131                        verbatimLocality          782           782\n",
      "132                          vernacularName           11            11\n",
      "133                                    year          799           799\n"
     ]
    }
   ],
   "source": [
    "fields_summary = pd.read_sql(\"SELECT * FROM gbif_fields_returned\", conn_occ)#, index_col='index')\n",
    "fields_summary.index.name = 'Field'\n",
    "pd.set_option('display.max_rows', 250)\n",
    "print(fields_summary)"
   ]
  },
  {
   "cell_type": "markdown",
   "metadata": {},
   "source": [
    "### Runtime"
   ]
  },
  {
   "cell_type": "code",
   "execution_count": 27,
   "metadata": {},
   "outputs": [
    {
     "name": "stdout",
     "output_type": "stream",
     "text": [
      "0:00:34.217578\n"
     ]
    }
   ],
   "source": [
    "t2 = datetime.now()\n",
    "print(t2 - t1)"
   ]
  }
 ],
 "metadata": {
  "kernelspec": {
   "display_name": "Python 3",
   "language": "python",
   "name": "python3"
  },
  "language_info": {
   "codemirror_mode": {
    "name": "ipython",
    "version": 3
   },
   "file_extension": ".py",
   "mimetype": "text/x-python",
   "name": "python",
   "nbconvert_exporter": "python",
   "pygments_lexer": "ipython3",
   "version": "3.6.10"
  }
 },
 "nbformat": 4,
 "nbformat_minor": 2
}
