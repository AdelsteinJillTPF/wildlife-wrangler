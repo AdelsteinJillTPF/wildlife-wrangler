{
 "cells": [
  {
   "cell_type": "markdown",
   "metadata": {},
   "source": [
    "# Does the GBIF DWCA/EMAIL Method Work?\n",
    "\n",
    "The following code can be edited with your notebook's name and run in command line in order to generate output without the input code:\n",
    "\n",
    "jupyter nbconvert --to html --TemplateExporter.exclude_input=True --output-dir=\"T:/Temp/\" NOTEBOOKNAMEHERE.ipynb"
   ]
  },
  {
   "cell_type": "code",
   "execution_count": 1,
   "metadata": {},
   "outputs": [],
   "source": [
    "# Specify some paths and names in the cell below.\n",
    "config_path = \"T:/Data/\"  # Path to folder where you saved your wildlifeconfig file.\n",
    "filter_set_json = None\n",
    "taxon_json = None\n",
    "query_name = 'DWCA_TEST'\n",
    "ask_eBird = False\n",
    "ask_GBIF = True"
   ]
  },
  {
   "cell_type": "code",
   "execution_count": 2,
   "metadata": {
    "scrolled": true
   },
   "outputs": [
    {
     "name": "stdout",
     "output_type": "stream",
     "text": [
      "Notebook run 2021-06-08 09:50:22.350131\n",
      "Results were saved in T:/Occurrence_Records/DWCA_TEST.sqlite\n"
     ]
    }
   ],
   "source": [
    "# Nothing to fill out in the next cell\n",
    "%matplotlib inline\n",
    "import os\n",
    "import sqlite3\n",
    "import pprint\n",
    "import json\n",
    "import pandas as pd\n",
    "import geopandas as gpd\n",
    "import numpy as np\n",
    "import matplotlib.pyplot as plt\n",
    "from datetime import datetime\n",
    "import sys\n",
    "sys.path.append(config_path)\n",
    "import wranglerconfig as config\n",
    "sys.path.append(config.codeDir)\n",
    "import wrangler_functions as functions\n",
    "\n",
    "# Define some variables\n",
    "t1 = datetime.now()\n",
    "working_directory = config.workDir\n",
    "username = config.gbif_username\n",
    "password = config.gbif_password\n",
    "email = config.gbif_email\n",
    "EBD_file = config.EBD_file\n",
    "output_database = working_directory + query_name + '.sqlite'\n",
    "\n",
    "# Set display options\n",
    "pd.set_option('display.width', 600)\n",
    "pd.set_option('display.max_colwidth', 80)\n",
    "pd.set_option('display.max_rows', 150)\n",
    "\n",
    "print(\"Notebook run \" + str(t1))\n",
    "print(\"Results were saved in \" + output_database)"
   ]
  },
  {
   "cell_type": "markdown",
   "metadata": {},
   "source": [
    "## Taxon Concept\n",
    "Caution! -- Taxon concept mismatches can cause inclusion of innapropriate records or ommission of useful records."
   ]
  },
  {
   "cell_type": "code",
   "execution_count": 3,
   "metadata": {},
   "outputs": [],
   "source": [
    "your_taxon_id = \"TestCuckoo\"\n",
    "gbif_id = 2496287 \n",
    "ebird_id = \"Yellow-billed Cuckoo\"\n",
    "detection_distance_m = 200\n",
    "taxon_polygon = None"
   ]
  },
  {
   "cell_type": "code",
   "execution_count": 4,
   "metadata": {},
   "outputs": [
    {
     "name": "stdout",
     "output_type": "stream",
     "text": [
      "{'EBIRD_ID': 'Yellow-billed Cuckoo',\n",
      " 'GBIF_ID': 2496287,\n",
      " 'ID': 'TestCuckoo',\n",
      " 'TAXON_EOO': None,\n",
      " 'detection_distance_m': 200}\n"
     ]
    }
   ],
   "source": [
    "# If a json was provided, use it, otherwise create a new one with info that was provided.\n",
    "if taxon_json is None:\n",
    "    # Build a species dictionary\n",
    "    taxon_info = {\"ID\": your_taxon_id, \"GBIF_ID\": gbif_id, \"EBIRD_ID\": ebird_id, \"detection_distance_m\": detection_distance_m,\n",
    "                  \"TAXON_EOO\": taxon_polygon}\n",
    "\n",
    "    # Save as json object\n",
    "    out_file = open(working_directory + your_taxon_id + \".json\", \"w\")  \n",
    "    json.dump(taxon_info, out_file) \n",
    "    out_file.close() \n",
    "\n",
    "if taxon_json is not None:\n",
    "    with open(taxon_json, \"r\") as f:\n",
    "        taxon_info = json.load(f)\n",
    "        f.close()\n",
    "        \n",
    "pprint.pprint(taxon_info)"
   ]
  },
  {
   "cell_type": "markdown",
   "metadata": {},
   "source": [
    "## Filter Set\n",
    "Specify how you want records filtered and cleaned.  Alternatively, you can load a filter set here by specifying a path in the first cell of this notebook.  \n",
    "\n",
    "To skip a filter, enter \"None\" without the quotation marks or \"\".  "
   ]
  },
  {
   "cell_type": "code",
   "execution_count": 5,
   "metadata": {},
   "outputs": [
    {
     "name": "stdout",
     "output_type": "stream",
     "text": [
      "Filter set name: test_dwca_1\n"
     ]
    }
   ],
   "source": [
    "filter_set_name = \"test_dwca_1\"\n",
    "print(\"Filter set name: \" + str(filter_set_name))"
   ]
  },
  {
   "cell_type": "markdown",
   "metadata": {},
   "source": [
    "#### GBIF Request Method"
   ]
  },
  {
   "cell_type": "code",
   "execution_count": 6,
   "metadata": {},
   "outputs": [
    {
     "name": "stdout",
     "output_type": "stream",
     "text": [
      "Request a Darwin Core Archive? True\n"
     ]
    }
   ],
   "source": [
    "\"\"\"\n",
    "Whether to get records from GBIF in a darwin core archive.  \n",
    "\"False\" uses the GBIF API, which has limitations that may be important.  \n",
    "\"True\" requests results be emailed in a darwin core archive.\n",
    "\"\"\"\n",
    "get_dwca = True \n",
    "print(\"Request a Darwin Core Archive? \" + str(get_dwca))"
   ]
  },
  {
   "cell_type": "markdown",
   "metadata": {},
   "source": [
    "#### Date Limits\n",
    "Notes: "
   ]
  },
  {
   "cell_type": "code",
   "execution_count": 7,
   "metadata": {},
   "outputs": [
    {
     "name": "stdout",
     "output_type": "stream",
     "text": [
      "Years: 2011,2020\n",
      "Months: 6,8\n"
     ]
    }
   ],
   "source": [
    "'''\n",
    "Enter year and month ranges.  For example, years_range = 2015,2017 and months_range = 3,6\n",
    "'''\n",
    "years_range = \"2011,2020\"\n",
    "months_range = \"6,8\"\n",
    "print(\"Years: \" + str(years_range))\n",
    "print(\"Months: \" + str(months_range))"
   ]
  },
  {
   "cell_type": "markdown",
   "metadata": {},
   "source": [
    "#### Country\n",
    "Notes:"
   ]
  },
  {
   "cell_type": "code",
   "execution_count": 8,
   "metadata": {},
   "outputs": [
    {
     "name": "stdout",
     "output_type": "stream",
     "text": [
      "Country: US\n"
     ]
    }
   ],
   "source": [
    "country = \"US\"\n",
    "print(\"Country: \" + country)"
   ]
  },
  {
   "cell_type": "markdown",
   "metadata": {},
   "source": [
    "#### Bounding Box\n",
    "Notes:"
   ]
  },
  {
   "cell_type": "code",
   "execution_count": 9,
   "metadata": {},
   "outputs": [
    {
     "name": "stdout",
     "output_type": "stream",
     "text": [
      "Latitude range: 30,35\n",
      "Longitude range: -89,-75\n"
     ]
    }
   ],
   "source": [
    "'''\n",
    "Coordinates should correspond to WGS84 (EPSG:4326).  Don't use this option if you specify a query polygon below.\n",
    "'''\n",
    "lat_range = \"30,35\"\n",
    "lon_range = \"-89,-75\"\n",
    "print(\"Latitude range: \" + lat_range)\n",
    "print(\"Longitude range: \" + lon_range)"
   ]
  },
  {
   "cell_type": "markdown",
   "metadata": {},
   "source": [
    "#### Area of Interest\n",
    "Notes:"
   ]
  },
  {
   "cell_type": "code",
   "execution_count": 10,
   "metadata": {},
   "outputs": [
    {
     "name": "stdout",
     "output_type": "stream",
     "text": [
      "None\n"
     ]
    }
   ],
   "source": [
    "'''\n",
    "Specify polygons to use for spatial filtering.  \n",
    "Records with coordinates outside of the polygons will be removed.  \n",
    "You can specify a geometry for the query and one for the species.  \n",
    "The species geometry is included to facilitate better handling of taxonomic issues.  \n",
    "If both are provided, the intersection is calculated and used as the filter.  \n",
    "The format should be well known text in WGS84 (EPSG 4326), and very importantly, vertices need to be listed counter-clockwise.  \n",
    "See the ccw_wkt_from_shp() function in wrangler functions for help.\n",
    "'''\n",
    "query_polygon = None\n",
    "print(query_polygon)"
   ]
  },
  {
   "cell_type": "markdown",
   "metadata": {},
   "source": [
    "#### Taxon EOO\n",
    "Notes:"
   ]
  },
  {
   "cell_type": "code",
   "execution_count": 11,
   "metadata": {},
   "outputs": [
    {
     "name": "stdout",
     "output_type": "stream",
     "text": [
      "Use taxon extent of occurrence? False\n"
     ]
    }
   ],
   "source": [
    "'''\n",
    "True or False whether you want to apply the taxon EOO to the filtering.  \n",
    "If True, removes records with centroids outside of the extent of occurrence geometry you provided in taxon_info.\n",
    "'''\n",
    "use_taxon_geometry = False\n",
    "print(\"Use taxon extent of occurrence? \" + str(use_taxon_geometry))"
   ]
  },
  {
   "cell_type": "markdown",
   "metadata": {},
   "source": [
    "#### Geoissue\n",
    "Notes:"
   ]
  },
  {
   "cell_type": "code",
   "execution_count": 12,
   "metadata": {},
   "outputs": [
    {
     "name": "stdout",
     "output_type": "stream",
     "text": [
      "Records with geoissues OK? None\n"
     ]
    }
   ],
   "source": [
    "'''\n",
    "Are GBIF records with noted geoissues OK to include? GBIF only.\n",
    "'''\n",
    "geoissue = None\n",
    "print(\"Records with geoissues OK? \" + str(geoissue))"
   ]
  },
  {
   "cell_type": "markdown",
   "metadata": {},
   "source": [
    "#### Collections\n",
    "Notes:"
   ]
  },
  {
   "cell_type": "code",
   "execution_count": 13,
   "metadata": {},
   "outputs": [
    {
     "name": "stdout",
     "output_type": "stream",
     "text": [
      "Omit: None\n"
     ]
    }
   ],
   "source": [
    "'''\n",
    "List collection codes that you'd like to omit. GBIF only.\n",
    "'''\n",
    "collection_codes_omit = None\n",
    "print(\"Omit: \" + str(collection_codes_omit))"
   ]
  },
  {
   "cell_type": "markdown",
   "metadata": {},
   "source": [
    "#### Institutions\n",
    "Notes:"
   ]
  },
  {
   "cell_type": "code",
   "execution_count": 14,
   "metadata": {},
   "outputs": [
    {
     "name": "stdout",
     "output_type": "stream",
     "text": [
      "Omit: None\n"
     ]
    }
   ],
   "source": [
    "'''\n",
    "List institution codes that you'd like to omit. GBIF only\n",
    "'''\n",
    "institutions_omit = None\n",
    "print(\"Omit: \" + str(institutions_omit))"
   ]
  },
  {
   "cell_type": "markdown",
   "metadata": {},
   "source": [
    "#### Datasets\n",
    "Notes:"
   ]
  },
  {
   "cell_type": "code",
   "execution_count": 15,
   "metadata": {},
   "outputs": [
    {
     "name": "stdout",
     "output_type": "stream",
     "text": [
      "Omit: None\n"
     ]
    }
   ],
   "source": [
    "'''\n",
    "List datasets that you'd like to omit.\n",
    "'''\n",
    "datasets_omit = None\n",
    "print(\"Omit: \" + str(datasets_omit))"
   ]
  },
  {
   "cell_type": "markdown",
   "metadata": {},
   "source": [
    "#### Coordinate Uncertainty\n",
    "Notes:"
   ]
  },
  {
   "cell_type": "code",
   "execution_count": 16,
   "metadata": {},
   "outputs": [
    {
     "name": "stdout",
     "output_type": "stream",
     "text": [
      "Coordinate uncertainty required? False\n",
      "Default coordinate uncertainty to use: 1000\n",
      "Maximum allowable coordinate uncertainty: 10000\n"
     ]
    }
   ],
   "source": [
    "'''\n",
    "Do you want to remove records without coordinate uncertainty (1) or leave them in the data set (0)?  \n",
    "Note that eBird records in GBIF (EOD) do not have this and neither do data in the EBD dataset.  \n",
    "With the EBD, the length of traveling counts is used as a surrogate value.  \n",
    "\n",
    "max_coordinate_uncertainty must be an integer greater than 0.\n",
    "\n",
    "default_coordUncertainty -- coordinateUncertaintyInMeters is often not provided.  \n",
    "Here is an option to use a default.  If you don't want anything entered, set this equal to False (boolean, not string).\n",
    "\n",
    "A maximum for coordinate uncertainty can also be set in meters.\n",
    "'''\n",
    "has_coordinate_uncertainty = False\n",
    "default_coordUncertainty = 1000\n",
    "max_coordinate_uncertainty = 10000\n",
    "print(\"Coordinate uncertainty required? \" + str(has_coordinate_uncertainty))\n",
    "print(\"Default coordinate uncertainty to use: \" + str(default_coordUncertainty))\n",
    "print(\"Maximum allowable coordinate uncertainty: \" + str(max_coordinate_uncertainty))"
   ]
  },
  {
   "cell_type": "markdown",
   "metadata": {},
   "source": [
    "#### Bases\n",
    "Notes:"
   ]
  },
  {
   "cell_type": "code",
   "execution_count": 17,
   "metadata": {},
   "outputs": [
    {
     "name": "stdout",
     "output_type": "stream",
     "text": [
      "Omit: None\n"
     ]
    }
   ],
   "source": [
    "'''\n",
    "List bases of records that you want to omit.  GBIF only.\n",
    "'''\n",
    "bases_omit = None\n",
    "print(\"Omit: \" + str(bases_omit))"
   ]
  },
  {
   "cell_type": "markdown",
   "metadata": {},
   "source": [
    "#### Sampling Protocols\n",
    "Notes:"
   ]
  },
  {
   "cell_type": "code",
   "execution_count": 18,
   "metadata": {},
   "outputs": [
    {
     "name": "stdout",
     "output_type": "stream",
     "text": [
      "Omit: None\n"
     ]
    }
   ],
   "source": [
    "'''\n",
    "List sampling protocols that you would like to omit.\n",
    "'''\n",
    "sampling_protocols_omit = None\n",
    "print(\"Omit: \" + str(sampling_protocols_omit))"
   ]
  },
  {
   "cell_type": "markdown",
   "metadata": {},
   "source": [
    "#### Issues\n",
    "Notes:"
   ]
  },
  {
   "cell_type": "code",
   "execution_count": 19,
   "metadata": {},
   "outputs": [
    {
     "name": "stdout",
     "output_type": "stream",
     "text": [
      "Omit: None\n"
     ]
    }
   ],
   "source": [
    "'''\n",
    "List issues that you want to omit.  GBIF only.\n",
    "'''\n",
    "issues_omit = None\n",
    "print(\"Omit: \" + str(issues_omit))"
   ]
  },
  {
   "cell_type": "markdown",
   "metadata": {},
   "source": [
    "#### Duplicates\n",
    "Notes:"
   ]
  },
  {
   "cell_type": "code",
   "execution_count": 20,
   "metadata": {},
   "outputs": [
    {
     "name": "stdout",
     "output_type": "stream",
     "text": [
      "Allow duplicates? True\n"
     ]
    }
   ],
   "source": [
    "'''\n",
    "Specify whether duplicates on latitude, longitude, and date should be included.\n",
    "'''\n",
    "duplicates_OK = True\n",
    "print(\"Allow duplicates? \" + str(duplicates_OK))"
   ]
  },
  {
   "cell_type": "markdown",
   "metadata": {},
   "source": [
    "#### Filter Set Summary"
   ]
  },
  {
   "cell_type": "code",
   "execution_count": 21,
   "metadata": {
    "scrolled": true
   },
   "outputs": [
    {
     "name": "stdout",
     "output_type": "stream",
     "text": [
      "{'bases_omit': None,\n",
      " 'collection_codes_omit': None,\n",
      " 'country': 'US',\n",
      " 'datasets_omit': None,\n",
      " 'default_coordUncertainty': 1000,\n",
      " 'duplicates_OK': True,\n",
      " 'geoissue': None,\n",
      " 'get_dwca': True,\n",
      " 'has_coordinate_uncertainty': False,\n",
      " 'institutions_omit': None,\n",
      " 'issues_omit': None,\n",
      " 'lat_range': '30,35',\n",
      " 'lon_range': '-89,-75',\n",
      " 'max_coordinate_uncertainty': 10000,\n",
      " 'months_range': '6,8',\n",
      " 'name': 'test_dwca_1',\n",
      " 'query_polygon': None,\n",
      " 'sampling_protocols_omit': None,\n",
      " 'use_taxon_geometry': False,\n",
      " 'years_range': '2011,2020'}\n"
     ]
    }
   ],
   "source": [
    "if filter_set_json is None:\n",
    "    # Build a filter set dictionary\n",
    "    filter_set = {\"name\": filter_set_name, \"query_polygon\": query_polygon, \"issues_omit\": issues_omit,\n",
    "                  \"sampling_protocols_omit\": sampling_protocols_omit, \"bases_omit\": bases_omit,\n",
    "                  \"has_coordinate_uncertainty\": has_coordinate_uncertainty, \"geoissue\": geoissue,\n",
    "                  \"default_coordUncertainty\": default_coordUncertainty,\n",
    "                  \"max_coordinate_uncertainty\": max_coordinate_uncertainty,\n",
    "                  \"datasets_omit\": datasets_omit, \"collection_codes_omit\": collection_codes_omit,\n",
    "                  \"institutions_omit\": institutions_omit, \"geoissue\": geoissue, \"use_taxon_geometry\": use_taxon_geometry,\n",
    "                  \"lat_range\": lat_range, \"lon_range\": lon_range, \"country\": country, \n",
    "                  \"years_range\": years_range, \"months_range\": months_range, \"duplicates_OK\": duplicates_OK, \"get_dwca\": get_dwca}\n",
    "    \n",
    "    # Replace empty strings with None\n",
    "    for x in filter_set.keys():\n",
    "        if filter_set[x] == \"\":\n",
    "            filter_set[x] = None\n",
    "    \n",
    "    # Save as json object\n",
    "    with open(working_directory + filter_set_name + \".json\", \"w\") as f:\n",
    "        json.dump(filter_set, f) \n",
    "        f.close()\n",
    "        \n",
    "if filter_set_json is not None:\n",
    "    with open(filter_set_json, \"r\") as f:\n",
    "        filter_set = json.load(f)\n",
    "        f.close()\n",
    "        \n",
    "    # Replace empty strings with None\n",
    "    for x in filter_set.keys():\n",
    "        if filter_set[x] == \"\":\n",
    "            filter_set[x] = None\n",
    "        \n",
    "pprint.pprint(filter_set)"
   ]
  },
  {
   "cell_type": "markdown",
   "metadata": {},
   "source": [
    "## Processing"
   ]
  },
  {
   "cell_type": "code",
   "execution_count": 22,
   "metadata": {},
   "outputs": [],
   "source": [
    "# Create an output database\n",
    "functions.build_output_database(output_database)\n",
    "\n",
    "# Save taxon and filter set info into database\n",
    "output_db_conn= sqlite3.connect(output_database)\n",
    "cursor = output_db_conn.cursor()\n",
    "pd.DataFrame(taxon_info.values(), taxon_info.keys()).applymap(str).to_sql(name='taxon_concept', con=output_db_conn, if_exists='replace')\n",
    "pd.DataFrame(filter_set.values(), filter_set.keys()).applymap(str).to_sql(name='filter_set', con=output_db_conn, if_exists='replace')\n",
    "output_db_conn.close()"
   ]
  },
  {
   "cell_type": "code",
   "execution_count": 23,
   "metadata": {},
   "outputs": [
    {
     "name": "stdout",
     "output_type": "stream",
     "text": [
      "Prepard filter set and sorted out geometry constraints: 0:00:00\n",
      "22423 records available\n",
      "['taxonKey = 2496287', 'hasCoordinate = True', 'country = US', 'year >= 2011', 'year <= 2020', 'month >= 6', 'month <= 8', 'decimalLatitude >= 30', 'decimalLatitude <= 35', 'decimalLongitude >= -89', 'decimalLongitude <= -75']\n",
      "Your download key is  0297512-200613084148143\n",
      "Downloading Darwin Core Archive zip file for this species .....\n",
      "Download file size: 2915391 bytes\n",
      "Download file size: 2915391 bytes\n",
      "Download file size: 2915391 bytes\n",
      "Download file size: 2915391 bytes\n",
      "Download file size: 2915391 bytes\n",
      "Download file size: 2915391 bytes\n",
      "Download file size: 2915391 bytes\n",
      "Download file size: 2915391 bytes\n",
      "Download file size: 2915391 bytes\n",
      "Download file size: 2915391 bytes\n",
      "Download file size: 2915391 bytes\n",
      "Download file size: 2915391 bytes\n",
      "Download file size: 2915391 bytes\n",
      "Download file size: 2915391 bytes\n",
      "Download file size: 2915391 bytes\n",
      "Download file size: 2915391 bytes\n",
      "Download file size: 2915391 bytes\n",
      "Download file size: 2915391 bytes\n",
      "Download file size: 2915391 bytes\n",
      "Download file size: 2915391 bytes\n",
      "Download file size: 2915391 bytes\n",
      "Download file size: 2915391 bytes\n",
      "Download file size: 2915391 bytes\n",
      "Download file size: 2915391 bytes\n",
      "Download file size: 2915391 bytes\n",
      "Download file size: 2915391 bytes\n",
      "Download file size: 2915391 bytes\n",
      "Download file size: 2915391 bytes\n",
      "Download file size: 2915391 bytes\n",
      "Download file size: 2915391 bytes\n",
      "Download file size: 2915391 bytes\n",
      "Download file size: 2915391 bytes\n",
      "Download file size: 2915391 bytes\n",
      "Download file size: 2915391 bytes\n",
      "Download file size: 2915391 bytes\n",
      "Download file size: 2915391 bytes\n",
      "Download file size: 2915391 bytes\n",
      "Download file size: 2915391 bytes\n",
      "Download file size: 2915391 bytes\n",
      "Download file size: 2915391 bytes\n",
      "Download file size: 2915391 bytes\n",
      "Download file size: 2915391 bytes\n",
      "Download file size: 2915391 bytes\n",
      "Download file size: 2915391 bytes\n",
      "Download file size: 2915391 bytes\n",
      "Download file size: 2915391 bytes\n",
      "Download file size: 2915391 bytes\n",
      "Download file size: 2915391 bytes\n",
      "Download file size: 2915391 bytes\n",
      "Download file size: 2915391 bytes\n",
      "Download file size: 2915391 bytes\n",
      "Download file size: 2915391 bytes\n",
      "Download file size: 2915391 bytes\n",
      "Download file size: 2915391 bytes\n",
      "Download file size: 2915391 bytes\n",
      "Download file size: 2915391 bytes\n",
      "Download file size: 2915391 bytes\n",
      "Download file size: 2915391 bytes\n",
      "Download file size: 2915391 bytes\n",
      "Download file size: 2915391 bytes\n",
      "Download file size: 2915391 bytes\n",
      "Download file size: 2915391 bytes\n",
      "Download file size: 2915391 bytes\n",
      "Download file size: 2915391 bytes\n",
      "Download file size: 2915391 bytes\n",
      "Download file size: 2915391 bytes\n",
      "Download file size: 2915391 bytes\n",
      "Download file size: 2915391 bytes\n",
      "Download file size: 2915391 bytes\n",
      "Download file size: 2915391 bytes\n",
      "Download file size: 2915391 bytes\n",
      "Download file size: 2915391 bytes\n",
      "Download file size: 2915391 bytes\n",
      "Download file size: 2915391 bytes\n",
      "Download file size: 2915391 bytes\n",
      "Download file size: 2915391 bytes\n",
      "Download file size: 2915391 bytes\n",
      "Download file size: 2915391 bytes\n",
      "Download file size: 2915391 bytes\n",
      "Download file size: 2915391 bytes\n",
      "Download file size: 2915391 bytes\n",
      "Download file size: 2915391 bytes\n",
      "Download file size: 2915391 bytes\n",
      "Download file size: 2915391 bytes\n",
      "Download file size: 2915391 bytes\n",
      "Download file size: 2915391 bytes\n",
      "Download file size: 2915391 bytes\n",
      "Download file size: 2915391 bytes\n",
      "Download file size: 2915391 bytes\n",
      "Download file size: 2915391 bytes\n",
      "Download file size: 2915391 bytes\n",
      "Download file size: 2915391 bytes\n",
      "Download file size: 2915391 bytes\n",
      "Download file size: 2915391 bytes\n",
      "Download file size: 2915391 bytes\n",
      "Download file size: 2915391 bytes\n",
      "Download file size: 2915391 bytes\n",
      "Download file size: 2915391 bytes\n",
      "Download file size: 2915391 bytes\n",
      "Download file size: 2915391 bytes\n",
      "Download file size: 2915391 bytes\n",
      "Download file size: 2915391 bytes\n",
      "Download file size: 2915391 bytes\n",
      "Download file size: 2915391 bytes\n",
      "Download file size: 2915391 bytes\n",
      "Download file size: 2915391 bytes\n",
      "Download file size: 2915391 bytes\n",
      "Download file size: 2915391 bytes\n",
      "Download file size: 2915391 bytes\n",
      "Download file size: 2915391 bytes\n",
      "Download file size: 2915391 bytes\n",
      "Download file size: 2915391 bytes\n",
      "Download file size: 2915391 bytes\n",
      "Download file size: 2915391 bytes\n",
      "Download file size: 2915391 bytes\n",
      "Download file size: 2915391 bytes\n",
      "Download file size: 2915391 bytes\n",
      "Download file size: 2915391 bytes\n",
      "Download file size: 2915391 bytes\n",
      "Download file size: 2915391 bytes\n",
      "Download file size: 2915391 bytes\n",
      "Download file size: 2915391 bytes\n",
      "Download file size: 2915391 bytes\n",
      "Download file size: 2915391 bytes\n",
      "Download file size: 2915391 bytes\n",
      "Download file size: 2915391 bytes\n",
      "Download file size: 2915391 bytes\n",
      "Download file size: 2915391 bytes\n",
      "Download file size: 2915391 bytes\n",
      "Download file size: 2915391 bytes\n",
      "Download file size: 2915391 bytes\n",
      "Download file size: 2915391 bytes\n",
      "Download file size: 2915391 bytes\n",
      "Download file size: 2915391 bytes\n",
      "Download file size: 2915391 bytes\n",
      "Download file size: 2915391 bytes\n",
      "Download file size: 2915391 bytes\n",
      "Download file size: 2915391 bytes\n",
      "Download file size: 2915391 bytes\n",
      "Download file size: 2915391 bytes\n",
      "Download file size: 2915391 bytes\n",
      "Download file size: 2915391 bytes\n",
      "Download file size: 2915391 bytes\n",
      "Download file size: 2915391 bytes\n",
      "Download file size: 2915391 bytes\n",
      "Download file size: 2915391 bytes\n",
      "Download file size: 2915391 bytes\n",
      "Download file size: 2915391 bytes\n",
      "Download file size: 2915391 bytes\n",
      "Download file size: 2915391 bytes\n",
      "Download file size: 2915391 bytes\n",
      "Download file size: 2915391 bytes\n",
      "Download file size: 2915391 bytes\n",
      "Download file size: 2915391 bytes\n",
      "Download file size: 2915391 bytes\n",
      "Download file size: 2915391 bytes\n",
      "Download file size: 2915391 bytes\n",
      "Download file size: 2915391 bytes\n",
      "Download file size: 2915391 bytes\n",
      "Download file size: 2915391 bytes\n",
      "Download file size: 2915391 bytes\n",
      "Download file size: 2915391 bytes\n",
      "Download file size: 2915391 bytes\n",
      "Download file size: 2915391 bytes\n",
      "Download file size: 2915391 bytes\n",
      "Download file size: 2915391 bytes\n",
      "Download file size: 2915391 bytes\n",
      "Download file size: 2915391 bytes\n",
      "Download file size: 2915391 bytes\n",
      "Download file size: 2915391 bytes\n",
      "Download file size: 2915391 bytes\n",
      "Download file size: 2915391 bytes\n",
      "Download file size: 2915391 bytes\n",
      "Download file size: 2915391 bytes\n",
      "Download file size: 2915391 bytes\n",
      "Download file size: 2915391 bytes\n",
      "Download file size: 2915391 bytes\n",
      "Download file size: 2915391 bytes\n",
      "Download file size: 2915391 bytes\n",
      "Download file size: 2915391 bytes\n",
      "Download file size: 2915391 bytes\n",
      "Download file size: 2915391 bytes\n",
      "Download file size: 2915391 bytes\n",
      "Download file size: 2915391 bytes\n",
      "Download file size: 2915391 bytes\n",
      "Download file size: 2915391 bytes\n",
      "Download file size: 2915391 bytes\n",
      "Download file size: 2915391 bytes\n",
      "Download file size: 2915391 bytes\n",
      "Download file size: 2915391 bytes\n",
      "Download file size: 2915391 bytes\n",
      "Download file size: 2915391 bytes\n",
      "Download file size: 2915391 bytes\n",
      "Download file size: 2915391 bytes\n",
      "Download file size: 2915391 bytes\n",
      "Download file size: 2915391 bytes\n",
      "Download file size: 2915391 bytes\n",
      "Download file size: 2915391 bytes\n",
      "Download file size: 2915391 bytes\n",
      "Download file size: 2915391 bytes\n",
      "Download file size: 2915391 bytes\n",
      "Download file size: 2915391 bytes\n",
      "Download file size: 2915391 bytes\n",
      "Download file size: 2915391 bytes\n",
      "Download file size: 2915391 bytes\n",
      "Download file size: 2915391 bytes\n",
      "Download file size: 2915391 bytes\n",
      "Download file size: 2915391 bytes\n",
      "Download file size: 2915391 bytes\n",
      "Download file size: 2915391 bytes\n",
      "Download file size: 2915391 bytes\n",
      "Download file size: 2915391 bytes\n",
      "Download file size: 2915391 bytes\n",
      "Download file size: 2915391 bytes\n",
      "Download file size: 2915391 bytes\n",
      "Download file size: 2915391 bytes\n",
      "Download file size: 2915391 bytes\n",
      "Download file size: 2915391 bytes\n",
      "Download file size: 2915391 bytes\n",
      "Download file size: 2915391 bytes\n",
      "Download file size: 2915391 bytes\n",
      "Download file size: 2915391 bytes\n",
      "Download file size: 2915391 bytes\n",
      "Download file size: 2915391 bytes\n",
      "Download file size: 2915391 bytes\n",
      "Download file size: 2915391 bytes\n",
      "Download file size: 2915391 bytes\n",
      "Download file size: 2915391 bytes\n",
      "Download file size: 2915391 bytes\n"
     ]
    },
    {
     "name": "stdout",
     "output_type": "stream",
     "text": [
      "Download file size: 2915391 bytes\n",
      "Download file size: 2915391 bytes\n",
      "Download file size: 2915391 bytes\n",
      "Download file size: 2915391 bytes\n",
      "Download file size: 2915391 bytes\n",
      "Download file size: 2915391 bytes\n",
      "Download file size: 2915391 bytes\n",
      "Download file size: 2915391 bytes\n",
      "Download file size: 2915391 bytes\n",
      "Download file size: 2915391 bytes\n",
      "Download file size: 2915391 bytes\n",
      "Download file size: 2915391 bytes\n",
      "Download file size: 2915391 bytes\n",
      "Download file size: 2915391 bytes\n",
      "Download file size: 2915391 bytes\n",
      "Download file size: 2915391 bytes\n",
      "Download file size: 2915391 bytes\n",
      "Download file size: 2915391 bytes\n",
      "Download file size: 2915391 bytes\n",
      "Download file size: 2915391 bytes\n",
      "Download file size: 2915391 bytes\n",
      "Download file size: 2915391 bytes\n",
      "Download file size: 2915391 bytes\n",
      "Download file size: 2915391 bytes\n",
      "Download file size: 2915391 bytes\n",
      "Download file size: 2915391 bytes\n",
      "Download file size: 2915391 bytes\n",
      "Download file size: 2915391 bytes\n",
      "Download file size: 2915391 bytes\n",
      "Download file size: 2915391 bytes\n",
      "Download file size: 2915391 bytes\n",
      "Download file size: 2915391 bytes\n",
      "Download file size: 2915391 bytes\n",
      "Download file size: 2915391 bytes\n",
      "Download file size: 2915391 bytes\n",
      "Download file size: 2915391 bytes\n",
      "Download file size: 2915391 bytes\n",
      "Download file size: 2915391 bytes\n",
      "Download file size: 2915391 bytes\n",
      "Download file size: 2915391 bytes\n",
      "Download file size: 2915391 bytes\n",
      "Download file size: 2915391 bytes\n",
      "Download file size: 2915391 bytes\n",
      "Download file size: 2915391 bytes\n",
      "Download file size: 2915391 bytes\n",
      "Download file size: 2915391 bytes\n",
      "Download file size: 2915391 bytes\n",
      "Download file size: 2915391 bytes\n",
      "Download file size: 2915391 bytes\n",
      "Download file size: 2915391 bytes\n",
      "Download file size: 2915391 bytes\n",
      "Download file size: 2915391 bytes\n",
      "Download file size: 2915391 bytes\n",
      "Download file size: 2915391 bytes\n",
      "Download file size: 2915391 bytes\n",
      "Download file size: 2915391 bytes\n",
      "Download file size: 2915391 bytes\n",
      "Download file size: 2915391 bytes\n",
      "Download file size: 2915391 bytes\n",
      "Download file size: 2915391 bytes\n",
      "Download file size: 2915391 bytes\n",
      "Download file size: 2915391 bytes\n",
      "Download file size: 2915391 bytes\n",
      "Download file size: 2915391 bytes\n",
      "Download file size: 2915391 bytes\n",
      "Download file size: 2915391 bytes\n",
      "Download file size: 2915391 bytes\n",
      "Download file size: 2915391 bytes\n",
      "Download file size: 2915391 bytes\n",
      "Download file size: 2915391 bytes\n",
      "Download file size: 2915391 bytes\n",
      "Download file size: 2915391 bytes\n",
      "Download file size: 2915391 bytes\n",
      "Download file size: 2915391 bytes\n",
      "Download file size: 2915391 bytes\n",
      "Download file size: 2915391 bytes\n",
      "Download file size: 2915391 bytes\n",
      "Download file size: 2915391 bytes\n",
      "Download file size: 2915391 bytes\n",
      "Download file size: 2915391 bytes\n",
      "Download file size: 2915391 bytes\n",
      "Download file size: 2915391 bytes\n",
      "Download file size: 2915391 bytes\n",
      "Download file size: 2915391 bytes\n",
      "Download file size: 2915391 bytes\n",
      "Download file size: 2915391 bytes\n",
      "Download file size: 2915391 bytes\n",
      "Download file size: 2915391 bytes\n",
      "Download file size: 2915391 bytes\n",
      "Download file size: 2915391 bytes\n",
      "Download file size: 2915391 bytes\n",
      "Download file size: 2915391 bytes\n",
      "Download file size: 2915391 bytes\n",
      "Download file size: 2915391 bytes\n",
      "Download file size: 2915391 bytes\n",
      "Download file size: 2915391 bytes\n",
      "Download file size: 2915391 bytes\n",
      "Download file size: 2915391 bytes\n",
      "Download file size: 2915391 bytes\n",
      "Download file size: 2915391 bytes\n",
      "Download file size: 2915391 bytes\n",
      "Download file size: 2915391 bytes\n",
      "Download file size: 2915391 bytes\n",
      "Download file size: 2915391 bytes\n",
      "Download file size: 2915391 bytes\n",
      "Download file size: 2915391 bytes\n",
      "Download file size: 2915391 bytes\n",
      "Download file size: 2915391 bytes\n",
      "Download file size: 2915391 bytes\n",
      "Download file size: 2915391 bytes\n",
      "Download file size: 2915391 bytes\n",
      "Download file size: 2915391 bytes\n",
      "Download file size: 2915391 bytes\n",
      "Download file size: 2915391 bytes\n",
      "Download file size: 2915391 bytes\n",
      "Download file size: 2915391 bytes\n",
      "Download file size: 2915391 bytes\n",
      "Download file size: 2915391 bytes\n",
      "Download file size: 2915391 bytes\n",
      "Download file size: 2915391 bytes\n",
      "Download file size: 2915391 bytes\n",
      "Download file size: 2915391 bytes\n",
      "Download file size: 2915391 bytes\n",
      "Download file size: 2915391 bytes\n",
      "Download file size: 2915391 bytes\n",
      "Download file size: 2915391 bytes\n",
      "Download file size: 2915391 bytes\n",
      "Download file size: 2915391 bytes\n",
      "Download file size: 2915391 bytes\n",
      "Download file size: 2915391 bytes\n",
      "Download file size: 2915391 bytes\n",
      "Download file size: 2915391 bytes\n",
      "Download file size: 2915391 bytes\n",
      "Download file size: 2915391 bytes\n",
      "Download file size: 2915391 bytes\n",
      "Download file size: 2915391 bytes\n",
      "Download file size: 2915391 bytes\n",
      "Download file size: 2915391 bytes\n",
      "Download file size: 2915391 bytes\n",
      "Download file size: 2915391 bytes\n",
      "Download file size: 2915391 bytes\n",
      "Download file size: 2915391 bytes\n",
      "Download file size: 2915391 bytes\n",
      "Download file size: 2915391 bytes\n",
      "Download file size: 2915391 bytes\n",
      "Download file size: 2915391 bytes\n",
      "Download file size: 2915391 bytes\n",
      "Download file size: 2915391 bytes\n",
      "Download file size: 2915391 bytes\n",
      "Download file size: 2915391 bytes\n",
      "Download file size: 2915391 bytes\n",
      "Download file size: 2915391 bytes\n",
      "Download file size: 2915391 bytes\n",
      "Download file size: 2915391 bytes\n",
      "Download file size: 2915391 bytes\n",
      "Download file size: 2915391 bytes\n",
      "Download file size: 2915391 bytes\n",
      "Download file size: 2915391 bytes\n",
      "Download file size: 2915391 bytes\n",
      "Download file size: 2915391 bytes\n",
      "Download file size: 2915391 bytes\n",
      "Download file size: 2915391 bytes\n",
      "Download file size: 2915391 bytes\n",
      "Download file size: 2915391 bytes\n",
      "Download file size: 2915391 bytes\n",
      "Download file size: 2915391 bytes\n",
      "Download file size: 2915391 bytes\n",
      "Download file size: 2915391 bytes\n",
      "Download file size: 2915391 bytes\n",
      "Download file size: 2915391 bytes\n",
      "Download file size: 2915391 bytes\n",
      "Download file size: 2915391 bytes\n",
      "Download file size: 2915391 bytes\n",
      "Download file size: 2915391 bytes\n",
      "Download file size: 2915391 bytes\n",
      "Download file size: 2915391 bytes\n",
      "Download file size: 2915391 bytes\n",
      "Download file size: 2915391 bytes\n",
      "Download file size: 2915391 bytes\n",
      "Download file size: 2915391 bytes\n",
      "Download file size: 2915391 bytes\n",
      "Download file size: 2915391 bytes\n",
      "Download file size: 2915391 bytes\n",
      "Download file size: 2915391 bytes\n",
      "Download file size: 2915391 bytes\n",
      "Download file size: 2915391 bytes\n",
      "Download file size: 2915391 bytes\n",
      "Download file size: 2915391 bytes\n",
      "Download file size: 2915391 bytes\n",
      "Download file size: 2915391 bytes\n",
      "Download file size: 2915391 bytes\n",
      "Download file size: 2915391 bytes\n",
      "Download file size: 2915391 bytes\n",
      "Download file size: 2915391 bytes\n",
      "Download file size: 2915391 bytes\n",
      "Download file size: 2915391 bytes\n",
      "Download file size: 2915391 bytes\n",
      "Download file size: 2915391 bytes\n",
      "Download file size: 2915391 bytes\n",
      "Download file size: 2915391 bytes\n",
      "Download file size: 2915391 bytes\n",
      "Download file size: 2915391 bytes\n",
      "Download file size: 2915391 bytes\n",
      "Download file size: 2915391 bytes\n",
      "Download file size: 2915391 bytes\n",
      "Download file size: 2915391 bytes\n",
      "Download file size: 2915391 bytes\n",
      "Download file size: 2915391 bytes\n",
      "Download file size: 2915391 bytes\n",
      "Download file size: 2915391 bytes\n",
      "Download file size: 2915391 bytes\n",
      "Download file size: 2915391 bytes\n",
      "Download file size: 2915391 bytes\n",
      "Download file size: 2915391 bytes\n",
      "Download file size: 2915391 bytes\n",
      "Download file size: 2915391 bytes\n",
      "Download file size: 2915391 bytes\n",
      "Download file size: 2915391 bytes\n",
      "Download file size: 2915391 bytes\n",
      "Download file size: 2915391 bytes\n",
      "Download file size: 2915391 bytes\n",
      "Download file size: 2915391 bytes\n",
      "Download file size: 2915391 bytes\n",
      "Download file size: 2915391 bytes\n",
      "Download file size: 2915391 bytes\n",
      "Download file size: 2915391 bytes\n",
      "Download file size: 2915391 bytes\n",
      "Download file size: 2915391 bytes\n",
      "Download file size: 2915391 bytes\n",
      "Download file size: 2915391 bytes\n",
      "Download file size: 2915391 bytes\n",
      "Download file size: 2915391 bytes\n",
      "Download file size: 2915391 bytes\n",
      "Download file size: 2915391 bytes\n",
      "Download file size: 2915391 bytes\n",
      "Download file size: 2915391 bytes\n",
      "Download file size: 2915391 bytes\n",
      "Download file size: 2915391 bytes\n",
      "Download file size: 2915391 bytes\n",
      "Download file size: 2915391 bytes\n",
      "Download file size: 2915391 bytes\n"
     ]
    },
    {
     "name": "stdout",
     "output_type": "stream",
     "text": [
      "Download file size: 2915391 bytes\n",
      "Download file size: 2915391 bytes\n",
      "Download file size: 2915391 bytes\n",
      "Download file size: 2915391 bytes\n",
      "Download file size: 2915391 bytes\n",
      "Download file size: 2915391 bytes\n",
      "Download file size: 2915391 bytes\n",
      "Download file size: 2915391 bytes\n",
      "Download file size: 2915391 bytes\n",
      "Download file size: 2915391 bytes\n",
      "Download file size: 2915391 bytes\n",
      "Download file size: 2915391 bytes\n",
      "Download file size: 2915391 bytes\n",
      "Download file size: 2915391 bytes\n",
      "Download file size: 2915391 bytes\n",
      "Download file size: 2915391 bytes\n",
      "Download file size: 2915391 bytes\n",
      "Download file size: 2915391 bytes\n",
      "Download file size: 2915391 bytes\n",
      "Download file size: 2915391 bytes\n",
      "Download file size: 2915391 bytes\n",
      "Download file size: 2915391 bytes\n",
      "Download file size: 2915391 bytes\n",
      "Download file size: 2915391 bytes\n",
      "Download file size: 2915391 bytes\n",
      "Download file size: 2915391 bytes\n",
      "Download file size: 2915391 bytes\n",
      "Download file size: 2915391 bytes\n",
      "Download file size: 2915391 bytes\n",
      "Download file size: 2915391 bytes\n",
      "Download file size: 2915391 bytes\n",
      "Download file size: 2915391 bytes\n",
      "Download file size: 2915391 bytes\n",
      "Download file size: 2915391 bytes\n",
      "Download file size: 2915391 bytes\n",
      "Download file size: 2915391 bytes\n",
      "Download file size: 2915391 bytes\n",
      "Download file size: 2915391 bytes\n",
      "Download file size: 2915391 bytes\n",
      "Download file size: 2915391 bytes\n",
      "Download file size: 2915391 bytes\n",
      "Download file size: 2915391 bytes\n",
      "Download file size: 2915391 bytes\n",
      "Download file size: 2915391 bytes\n",
      "Download file size: 2915391 bytes\n",
      "Download file size: 2915391 bytes\n",
      "Download file size: 2915391 bytes\n",
      "Download file size: 2915391 bytes\n",
      "Download file size: 2915391 bytes\n",
      "Download file size: 2915391 bytes\n",
      "Download file size: 2915391 bytes\n",
      "Download file size: 2915391 bytes\n",
      "Download file size: 2915391 bytes\n",
      "Download file size: 2915391 bytes\n",
      "Download file size: 2915391 bytes\n",
      "Download file size: 2915391 bytes\n",
      "Download file size: 2915391 bytes\n",
      "Download file size: 2915391 bytes\n",
      "Download file size: 2915391 bytes\n",
      "Download file size: 2915391 bytes\n",
      "Download file size: 2915391 bytes\n",
      "Download file size: 2915391 bytes\n",
      "Download file size: 2915391 bytes\n",
      "Download file size: 2915391 bytes\n",
      "Download file size: 2915391 bytes\n",
      "Download file size: 2915391 bytes\n",
      "Download file size: 2915391 bytes\n",
      "Download file size: 2915391 bytes\n",
      "Download file size: 2915391 bytes\n",
      "Download file size: 2915391 bytes\n",
      "Download file size: 2915391 bytes\n",
      "Download file size: 2915391 bytes\n",
      "Download file size: 2915391 bytes\n",
      "Download file size: 2915391 bytes\n",
      "Download file size: 2915391 bytes\n",
      "Download file size: 2915391 bytes\n",
      "Download file size: 2915391 bytes\n",
      "Download file size: 2915391 bytes\n",
      "Download file size: 2915391 bytes\n",
      "Download file size: 2915391 bytes\n",
      "Download file size: 2915391 bytes\n",
      "Download file size: 2915391 bytes\n",
      "Download file size: 2915391 bytes\n",
      "Download file size: 2915391 bytes\n",
      "Download file size: 2915391 bytes\n",
      "Download file size: 2915391 bytes\n",
      "Download file size: 2915391 bytes\n",
      "Download file size: 2915391 bytes\n",
      "Download file size: 2915391 bytes\n",
      "Download file size: 2915391 bytes\n",
      "Download file size: 2915391 bytes\n",
      "Download file size: 2915391 bytes\n",
      "Download file size: 2915391 bytes\n",
      "Download file size: 2915391 bytes\n",
      "Download file size: 2915391 bytes\n",
      "Download file size: 2915391 bytes\n",
      "Download file size: 2915391 bytes\n",
      "Download file size: 2915391 bytes\n",
      "Download file size: 2915391 bytes\n",
      "Download file size: 2915391 bytes\n",
      "Download file size: 2915391 bytes\n",
      "Download file size: 2915391 bytes\n",
      "Download file size: 2915391 bytes\n",
      "Download file size: 2915391 bytes\n",
      "Download file size: 2915391 bytes\n",
      "Download file size: 2915391 bytes\n",
      "Download file size: 2915391 bytes\n",
      "Download file size: 2915391 bytes\n",
      "Download file size: 2915391 bytes\n",
      "Download file size: 2915391 bytes\n",
      "Download file size: 2915391 bytes\n",
      "Download file size: 2915391 bytes\n",
      "Download file size: 2915391 bytes\n",
      "Download file size: 2915391 bytes\n",
      "Download file size: 2915391 bytes\n",
      "Download file size: 2915391 bytes\n",
      "Download file size: 2915391 bytes\n",
      "Download file size: 2915391 bytes\n",
      "Download file size: 2915391 bytes\n",
      "Download file size: 2915391 bytes\n",
      "Download file size: 2915391 bytes\n",
      "Download file size: 2915391 bytes\n",
      "Download file size: 2915391 bytes\n",
      "Download file size: 2915391 bytes\n",
      "Download file size: 2915391 bytes\n",
      "Download file size: 2915391 bytes\n",
      "Download file size: 2915391 bytes\n",
      "Download file size: 2915391 bytes\n",
      "Download file size: 2915391 bytes\n",
      "Download file size: 2915391 bytes\n",
      "Download file size: 2915391 bytes\n",
      "Download file size: 2915391 bytes\n",
      "Download file size: 2915391 bytes\n",
      "Download file size: 2915391 bytes\n",
      "Download file size: 2915391 bytes\n",
      "Download file size: 2915391 bytes\n",
      "Download file size: 2915391 bytes\n",
      "Download file size: 2915391 bytes\n",
      "Download file size: 2915391 bytes\n",
      "Download file size: 2915391 bytes\n",
      "Download file size: 2915391 bytes\n",
      "Download file size: 2915391 bytes\n",
      "Download file size: 2915391 bytes\n",
      "Download file size: 2915391 bytes\n",
      "Download file size: 2915391 bytes\n",
      "Download file size: 2915391 bytes\n",
      "Download file size: 2915391 bytes\n",
      "Download file size: 2915391 bytes\n",
      "Download file size: 2915391 bytes\n",
      "Download file size: 2915391 bytes\n",
      "Download file size: 2915391 bytes\n",
      "Download file size: 2915391 bytes\n",
      "Download file size: 2915391 bytes\n",
      "Download file size: 2915391 bytes\n",
      "Download file size: 2915391 bytes\n",
      "Download file size: 2915391 bytes\n",
      "Download file size: 2915391 bytes\n",
      "Download file size: 2915391 bytes\n",
      "Download file size: 2915391 bytes\n",
      "Download file size: 2915391 bytes\n",
      "Download file size: 2915391 bytes\n",
      "Download file size: 2915391 bytes\n",
      "Download file size: 2915391 bytes\n",
      "Download file size: 2915391 bytes\n",
      "Download file size: 2915391 bytes\n",
      "Download file size: 2915391 bytes\n",
      "Download file size: 2915391 bytes\n",
      "Download file size: 2915391 bytes\n",
      "Download file size: 2915391 bytes\n",
      "Download file size: 2915391 bytes\n",
      "Download file size: 2915391 bytes\n",
      "Download file size: 2915391 bytes\n",
      "Download file size: 2915391 bytes\n",
      "Download file size: 2915391 bytes\n",
      "Download file size: 2915391 bytes\n",
      "Download file size: 2915391 bytes\n",
      "Download file size: 2915391 bytes\n",
      "Download file size: 2915391 bytes\n",
      "Download file size: 2915391 bytes\n",
      "Download file size: 2915391 bytes\n",
      "Download file size: 2915391 bytes\n",
      "Download file size: 2915391 bytes\n",
      "Download file size: 2915391 bytes\n",
      "Download file size: 2915391 bytes\n",
      "Download file size: 2915391 bytes\n",
      "Download file size: 2915391 bytes\n",
      "Download file size: 2915391 bytes\n",
      "Download file size: 2915391 bytes\n",
      "Download file size: 2915391 bytes\n",
      "Download file size: 2915391 bytes\n",
      "Download file size: 2915391 bytes\n",
      "Download file size: 2915391 bytes\n",
      "Download file size: 2915391 bytes\n",
      "Download file size: 2915391 bytes\n",
      "Download file size: 2915391 bytes\n",
      "Download file size: 2915391 bytes\n",
      "Download file size: 2915391 bytes\n",
      "Download file size: 2915391 bytes\n",
      "Download file size: 2915391 bytes\n",
      "Download file size: 2915391 bytes\n",
      "Download file size: 2915391 bytes\n",
      "Download file size: 2915391 bytes\n",
      "Download file size: 2915391 bytes\n",
      "Download file size: 2915391 bytes\n",
      "Download file size: 2915391 bytes\n",
      "Download file size: 2915391 bytes\n",
      "Download file size: 2915391 bytes\n",
      "Download file size: 2915391 bytes\n",
      "Download file size: 2915391 bytes\n",
      "Download file size: 2915391 bytes\n",
      "Download file size: 2915391 bytes\n",
      "Download file size: 2915391 bytes\n",
      "Download file size: 2915391 bytes\n",
      "Download file size: 2915391 bytes\n",
      "Download file size: 2915391 bytes\n",
      "Download file size: 2915391 bytes\n",
      "Download file size: 2915391 bytes\n",
      "Download file size: 2915391 bytes\n",
      "Download file size: 2915391 bytes\n",
      "Download file size: 2915391 bytes\n",
      "Download file size: 2915391 bytes\n",
      "Download file size: 2915391 bytes\n",
      "Download file size: 2915391 bytes\n",
      "Download file size: 2915391 bytes\n",
      "Download file size: 2915391 bytes\n",
      "Download file size: 2915391 bytes\n",
      "Download file size: 2915391 bytes\n",
      "Download file size: 2915391 bytes\n",
      "Download file size: 2915391 bytes\n",
      "Download file size: 2915391 bytes\n",
      "Download file size: 2915391 bytes\n",
      "Download file size: 2915391 bytes\n",
      "Download file size: 2915391 bytes\n",
      "Download file size: 2915391 bytes\n",
      "Download file size: 2915391 bytes\n",
      "Download file size: 2915391 bytes\n",
      "Download file size: 2915391 bytes\n",
      "Download file size: 2915391 bytes\n",
      "Download file size: 2915391 bytes\n",
      "Download file size: 2915391 bytes\n",
      "Download file size: 2915391 bytes\n"
     ]
    },
    {
     "name": "stdout",
     "output_type": "stream",
     "text": [
      "Download file size: 2915391 bytes\n",
      "Download file size: 2915391 bytes\n",
      "Download file size: 2915391 bytes\n",
      "Download file size: 2915391 bytes\n",
      "Download file size: 2915391 bytes\n",
      "Download file size: 2915391 bytes\n",
      "Download file size: 2915391 bytes\n",
      "Download file size: 2915391 bytes\n",
      "Download file size: 2915391 bytes\n",
      "Download file size: 2915391 bytes\n",
      "Download file size: 2915391 bytes\n",
      "Download file size: 2915391 bytes\n",
      "Download file size: 2915391 bytes\n",
      "Download file size: 2915391 bytes\n",
      "Download file size: 2915391 bytes\n",
      "Download file size: 2915391 bytes\n",
      "Download file size: 2915391 bytes\n",
      "Download file size: 2915391 bytes\n",
      "Download file size: 2915391 bytes\n",
      "Download file size: 2915391 bytes\n",
      "Download file size: 2915391 bytes\n",
      "Download file size: 2915391 bytes\n",
      "Download file size: 2915391 bytes\n",
      "Download file size: 2915391 bytes\n",
      "Download file size: 2915391 bytes\n",
      "Download file size: 2915391 bytes\n",
      "Download file size: 2915391 bytes\n",
      "Download file size: 2915391 bytes\n",
      "Download file size: 2915391 bytes\n",
      "Download file size: 2915391 bytes\n",
      "Download file size: 2915391 bytes\n",
      "Download file size: 2915391 bytes\n",
      "Download file size: 2915391 bytes\n",
      "Download file size: 2915391 bytes\n",
      "Download file size: 2915391 bytes\n",
      "Download file size: 2915391 bytes\n",
      "Download file size: 2915391 bytes\n",
      "Download file size: 2915391 bytes\n",
      "Download file size: 2915391 bytes\n",
      "Download file size: 2915391 bytes\n",
      "Download file size: 2915391 bytes\n",
      "Download file size: 2915391 bytes\n",
      "Download file size: 2915391 bytes\n",
      "Download file size: 2915391 bytes\n",
      "Download file size: 2915391 bytes\n",
      "Download file size: 2915391 bytes\n",
      "Download file size: 2915391 bytes\n",
      "Download file size: 2915391 bytes\n",
      "Download file size: 2915391 bytes\n",
      "Download file size: 2915391 bytes\n",
      "Download file size: 2915391 bytes\n",
      "Download file size: 2915391 bytes\n",
      "Download file size: 2915391 bytes\n",
      "Download file size: 2915391 bytes\n",
      "Download file size: 2915391 bytes\n",
      "Download file size: 2915391 bytes\n",
      "Download file size: 2915391 bytes\n",
      "Download file size: 2915391 bytes\n",
      "Download file size: 2915391 bytes\n",
      "Download file size: 2915391 bytes\n",
      "Download file size: 2915391 bytes\n",
      "Download file size: 2915391 bytes\n",
      "Download file size: 2915391 bytes\n",
      "Download file size: 2915391 bytes\n",
      "Download file size: 2915391 bytes\n",
      "Download file size: 2915391 bytes\n",
      "Download file size: 2915391 bytes\n",
      "Download file size: 2915391 bytes\n",
      "Download file size: 2915391 bytes\n",
      "Download file size: 2915391 bytes\n",
      "Download file size: 2915391 bytes\n",
      "Download file size: 2915391 bytes\n",
      "Download file size: 2915391 bytes\n",
      "Download file size: 2915391 bytes\n",
      "Download file size: 2915391 bytes\n",
      "Download file size: 2915391 bytes\n",
      "Download file size: 2915391 bytes\n",
      "Download file size: 2915391 bytes\n",
      "Download file size: 2915391 bytes\n",
      "Download file size: 2915391 bytes\n",
      "Download file size: 2915391 bytes\n",
      "Download file size: 2915391 bytes\n",
      "Download file size: 2915391 bytes\n",
      "Download file size: 2915391 bytes\n",
      "Download file size: 2915391 bytes\n",
      "Download file size: 2915391 bytes\n",
      "Download file size: 2915391 bytes\n",
      "Download file size: 2915391 bytes\n",
      "Download file size: 2915391 bytes\n",
      "Download file size: 2915391 bytes\n",
      "Download file size: 2915391 bytes\n",
      "Download file size: 2915391 bytes\n",
      "Download file size: 2915391 bytes\n",
      "Download file size: 2915391 bytes\n",
      "Download file size: 2915391 bytes\n",
      "Download file size: 2915391 bytes\n",
      "Download file size: 2915391 bytes\n",
      "Download file size: 2915391 bytes\n",
      "Download file size: 2915391 bytes\n",
      "Download file size: 2915391 bytes\n",
      "Download file size: 2915391 bytes\n",
      "Download file size: 2915391 bytes\n",
      "Download file size: 2915391 bytes\n",
      "Download file size: 2915391 bytes\n",
      "Download file size: 2915391 bytes\n",
      "Download file size: 2915391 bytes\n",
      "Download file size: 2915391 bytes\n",
      "Download file size: 2915391 bytes\n",
      "Download file size: 2915391 bytes\n",
      "Download file size: 2915391 bytes\n",
      "Download file size: 2915391 bytes\n",
      "Download file size: 2915391 bytes\n",
      "Download file size: 2915391 bytes\n",
      "Download file size: 2915391 bytes\n",
      "Download file size: 2915391 bytes\n",
      "Download file size: 2915391 bytes\n",
      "Download file size: 2915391 bytes\n",
      "Download file size: 2915391 bytes\n",
      "Download file size: 2915391 bytes\n",
      "Download file size: 2915391 bytes\n",
      "Download file size: 2915391 bytes\n",
      "Download file size: 2915391 bytes\n",
      "Download file size: 2915391 bytes\n",
      "Download file size: 2915391 bytes\n",
      "Download file size: 2915391 bytes\n",
      "Download file size: 2915391 bytes\n",
      "Download file size: 2915391 bytes\n",
      "Download file size: 2915391 bytes\n",
      "Download file size: 2915391 bytes\n",
      "Download file size: 2915391 bytes\n",
      "Download file size: 2915391 bytes\n",
      "Download file size: 2915391 bytes\n",
      "Download file size: 2915391 bytes\n",
      "Download file size: 2915391 bytes\n",
      "Download file size: 2915391 bytes\n",
      "Download file size: 2915391 bytes\n",
      "Download file size: 2915391 bytes\n",
      "Download file size: 2915391 bytes\n",
      "Download file size: 2915391 bytes\n",
      "Download file size: 2915391 bytes\n",
      "Download file size: 2915391 bytes\n",
      "Download file size: 2915391 bytes\n",
      "Download file size: 2915391 bytes\n",
      "Download file size: 2915391 bytes\n",
      "Download file size: 2915391 bytes\n",
      "Download file size: 2915391 bytes\n",
      "Download file size: 2915391 bytes\n",
      "Download file size: 2915391 bytes\n",
      "Download file size: 2915391 bytes\n",
      "Download file size: 2915391 bytes\n",
      "Download file size: 2915391 bytes\n",
      "Download file size: 2915391 bytes\n",
      "Download file size: 2915391 bytes\n",
      "Download file size: 2915391 bytes\n",
      "Download file size: 2915391 bytes\n",
      "Download file size: 2915391 bytes\n",
      "Download file size: 2915391 bytes\n",
      "Download file size: 2915391 bytes\n",
      "Download file size: 2915391 bytes\n",
      "Download file size: 2915391 bytes\n",
      "Download file size: 2915391 bytes\n",
      "Download file size: 2915391 bytes\n",
      "Download file size: 2915391 bytes\n",
      "Download file size: 2915391 bytes\n",
      "Download file size: 2915391 bytes\n",
      "Download file size: 2915391 bytes\n",
      "Download file size: 2915391 bytes\n",
      "Download file size: 2915391 bytes\n",
      "Download file size: 2915391 bytes\n",
      "Download file size: 2915391 bytes\n",
      "Download file size: 2915391 bytes\n",
      "Download file size: 2915391 bytes\n",
      "Download file size: 2915391 bytes\n",
      "Download file size: 2915391 bytes\n",
      "Download file size: 2915391 bytes\n",
      "Download file size: 2915391 bytes\n",
      "Download file size: 2915391 bytes\n",
      "Download file size: 2915391 bytes\n",
      "Download file size: 2915391 bytes\n",
      "Download file size: 2915391 bytes\n",
      "Download file size: 2915391 bytes\n",
      "Download file size: 2915391 bytes\n",
      "Download file size: 2915391 bytes\n",
      "Download file size: 2915391 bytes\n",
      "Download file size: 2915391 bytes\n",
      "Download file size: 2915391 bytes\n",
      "Download file size: 2915391 bytes\n",
      "Download file size: 2915391 bytes\n",
      "Download file size: 2915391 bytes\n",
      "Download file size: 2915391 bytes\n",
      "Download file size: 2915391 bytes\n",
      "Download file size: 2915391 bytes\n",
      "Download file size: 2915391 bytes\n",
      "Download file size: 2915391 bytes\n",
      "Download file size: 2915391 bytes\n",
      "Download file size: 2915391 bytes\n",
      "Download file size: 2915391 bytes\n",
      "Download file size: 2915391 bytes\n",
      "Download file size: 2915391 bytes\n",
      "Download file size: 2915391 bytes\n",
      "Download file size: 2915391 bytes\n",
      "Download file size: 2915391 bytes\n",
      "Download file size: 2915391 bytes\n",
      "Download file size: 2915391 bytes\n",
      "Download file size: 2915391 bytes\n",
      "Download file size: 2915391 bytes\n",
      "Download file size: 2915391 bytes\n",
      "Download file size: 2915391 bytes\n",
      "Download file size: 2915391 bytes\n",
      "Download file size: 2915391 bytes\n",
      "Download file size: 2915391 bytes\n",
      "Download file size: 2915391 bytes\n",
      "Download file size: 2915391 bytes\n",
      "Download file size: 2915391 bytes\n",
      "Download file size: 2915391 bytes\n",
      "Download file size: 2915391 bytes\n",
      "Download file size: 2915391 bytes\n",
      "Download file size: 2915391 bytes\n",
      "Download file size: 2915391 bytes\n",
      "Download file size: 2915391 bytes\n",
      "Download file size: 2915391 bytes\n",
      "Download file size: 2915391 bytes\n",
      "Download file size: 2915391 bytes\n",
      "Download file size: 2915391 bytes\n",
      "Download file size: 2915391 bytes\n",
      "Download file size: 2915391 bytes\n",
      "Download file size: 2915391 bytes\n",
      "Download file size: 2915391 bytes\n",
      "Download file size: 2915391 bytes\n",
      "Download file size: 2915391 bytes\n",
      "Download file size: 2915391 bytes\n",
      "Download file size: 2915391 bytes\n",
      "Download file size: 2915391 bytes\n",
      "Download file size: 2915391 bytes\n",
      "Download file size: 2915391 bytes\n",
      "Download file size: 2915391 bytes\n",
      "Download file size: 2915391 bytes\n",
      "Download file size: 2915391 bytes\n",
      "Download file size: 2915391 bytes\n",
      "Download file size: 2915391 bytes\n",
      "Download file size: 2915391 bytes\n"
     ]
    },
    {
     "name": "stdout",
     "output_type": "stream",
     "text": [
      "Download file size: 2915391 bytes\n",
      "Download file size: 2915391 bytes\n",
      "Download file size: 2915391 bytes\n",
      "Download file size: 2915391 bytes\n",
      "Download file size: 2915391 bytes\n",
      "Download file size: 2915391 bytes\n",
      "Download file size: 2915391 bytes\n",
      "Download file size: 2915391 bytes\n",
      "Download file size: 2915391 bytes\n",
      "Download file size: 2915391 bytes\n",
      "Download file size: 2915391 bytes\n",
      "Download file size: 2915391 bytes\n",
      "Download file size: 2915391 bytes\n",
      "Download file size: 2915391 bytes\n",
      "Download file size: 2915391 bytes\n",
      "Download file size: 2915391 bytes\n",
      "Download file size: 2915391 bytes\n",
      "Download file size: 2915391 bytes\n",
      "Download file size: 2915391 bytes\n",
      "Download file size: 2915391 bytes\n",
      "Download file size: 2915391 bytes\n",
      "Download file size: 2915391 bytes\n",
      "Download file size: 2915391 bytes\n",
      "Download file size: 2915391 bytes\n",
      "Download file size: 2915391 bytes\n",
      "Download file size: 2915391 bytes\n",
      "Download file size: 2915391 bytes\n",
      "Download file size: 2915391 bytes\n",
      "Download file size: 2915391 bytes\n",
      "Download file size: 2915391 bytes\n",
      "Download file size: 2915391 bytes\n",
      "Download file size: 2915391 bytes\n",
      "Download file size: 2915391 bytes\n",
      "Download file size: 2915391 bytes\n",
      "Download file size: 2915391 bytes\n",
      "Download file size: 2915391 bytes\n",
      "Download file size: 2915391 bytes\n",
      "Download file size: 2915391 bytes\n",
      "Download file size: 2915391 bytes\n",
      "Download file size: 2915391 bytes\n",
      "Download file size: 2915391 bytes\n",
      "Download file size: 2915391 bytes\n",
      "Download file size: 2915391 bytes\n",
      "Download file size: 2915391 bytes\n",
      "Download file size: 2915391 bytes\n",
      "Download file size: 2915391 bytes\n",
      "Download file size: 2915391 bytes\n",
      "Download file size: 2915391 bytes\n",
      "Download file size: 2915391 bytes\n",
      "Download file size: 2915391 bytes\n",
      "Download file size: 2915391 bytes\n",
      "Download file size: 2915391 bytes\n",
      "Download file size: 2915391 bytes\n",
      "Download file size: 2915391 bytes\n",
      "Download file size: 2915391 bytes\n",
      "Download file size: 2915391 bytes\n",
      "Download file size: 2915391 bytes\n",
      "Download file size: 2915391 bytes\n",
      "Download file size: 2915391 bytes\n",
      "Download file size: 2915391 bytes\n",
      "Download file size: 2915391 bytes\n",
      "Download file size: 2915391 bytes\n",
      "Download file size: 2915391 bytes\n",
      "Download file size: 2915391 bytes\n",
      "Download file size: 2915391 bytes\n",
      "Download file size: 2915391 bytes\n",
      "Download file size: 2915391 bytes\n",
      "Download file size: 2915391 bytes\n",
      "Download file size: 2915391 bytes\n",
      "Download file size: 2915391 bytes\n",
      "Download file size: 2915391 bytes\n",
      "Download file size: 2915391 bytes\n",
      "Download file size: 2915391 bytes\n",
      "Download file size: 2915391 bytes\n",
      "Download file size: 2915391 bytes\n",
      "TIMED OUT -- attempting to proceed anyways\n",
      "Stored GBIF Download DOI etc.: 0:00:00\n",
      "Summarized fields returned: 0:00:00.124969\n",
      "Prepared GBIF records for processing: 0:00:00.589792\n"
     ]
    }
   ],
   "source": [
    "# Run the appropriate queries\n",
    "if ask_eBird == True and ask_GBIF == True:\n",
    "    # Run eBird query\n",
    "    ebird_data = functions.get_EBD_records(taxon_info, filter_set, working_directory, EBD_file, query_name)\n",
    "    # Run GBIF query\n",
    "    gbif_data = functions.get_GBIF_records(taxon_info, filter_set, query_name, working_directory, username, password, email) \n",
    "\n",
    "elif ask_eBird == True and ask_GBIF == False:\n",
    "    # Run eBird query\n",
    "    ebird_data = functions.get_EBD_records(taxon_info, filter_set, working_directory, EBD_file, query_name)\n",
    "    gbif_data = None\n",
    "\n",
    "elif ask_eBird == False and ask_GBIF == True:\n",
    "    # Run GBIF query\n",
    "    gbif_data = functions.get_GBIF_records(taxon_info, filter_set, query_name, working_directory, username, password, email)\n",
    "    ebird_data = None"
   ]
  },
  {
   "cell_type": "code",
   "execution_count": 24,
   "metadata": {},
   "outputs": [],
   "source": [
    "# Filter out records with undesirable values, locations, and/or duplication.\n",
    "#import importlib\n",
    "#importlib.reload(functions)\n",
    "for x in filter_set.keys():\n",
    "    if filter_set[x] == \"\":\n",
    "        filter_set[x] = None"
   ]
  },
  {
   "cell_type": "code",
   "execution_count": 25,
   "metadata": {
    "scrolled": true
   },
   "outputs": [
    {
     "name": "stdout",
     "output_type": "stream",
     "text": [
      "Prepared data frames for processing: 0:00:00.047479\n",
      "Summarized values acquired: 0:00:00.119671\n",
      "Number of georeferenced records: 37\n",
      "Number of record without georeference: 22386\n",
      "Applying default coordinate uncertainties\n",
      "Prepared and georeferenced records:0:00:00.112866\n",
      "Performed filtering: 0:00:00.234114\n",
      "DUPLICATES ON LATITUDE, LONGITUDE, DATE-TIME INCLUDED\n",
      "Saved summary of filtering results: 0:00:00.160907\n"
     ]
    }
   ],
   "source": [
    "functions.process_records(ebird_data=ebird_data, gbif_data=gbif_data, filter_set=filter_set, \n",
    "                        taxon_info=taxon_info, working_directory=working_directory, \n",
    "                        query_name=query_name)"
   ]
  },
  {
   "cell_type": "code",
   "execution_count": 26,
   "metadata": {},
   "outputs": [
    {
     "name": "stdout",
     "output_type": "stream",
     "text": [
      "22421 records were saved in the output database\n"
     ]
    }
   ],
   "source": [
    "output_db_conn= sqlite3.connect(output_database)\n",
    "cursor = output_db_conn.cursor()\n",
    "record_count = cursor.execute(\"SELECT COUNT(record_id) FROM occurrence_records;\").fetchone()\n",
    "print(str(record_count[0]) + \" records were saved in the output database\")"
   ]
  },
  {
   "cell_type": "markdown",
   "metadata": {},
   "source": [
    "## Results of the Filtering"
   ]
  },
  {
   "cell_type": "markdown",
   "metadata": {},
   "source": [
    "#### Attributes Returned for GBIF Records\n",
    "This count was made before filters were applied"
   ]
  },
  {
   "cell_type": "code",
   "execution_count": 27,
   "metadata": {
    "scrolled": true
   },
   "outputs": [
    {
     "name": "stdout",
     "output_type": "stream",
     "text": [
      "                                 attribute  included(n)  populated(n)\n",
      "Field                                                                \n",
      "0                                 abstract        22423             0\n",
      "182                      acceptedNameUsage        22423             0\n",
      "175                    acceptedNameUsageID        22423             0\n",
      "230                 acceptedScientificName        22423         22423\n",
      "219                       acceptedTaxonKey        22423         22423\n",
      "1                             accessRights        22423             0\n",
      "2                            accrualMethod        22423             0\n",
      "3                       accrualPeriodicity        22423             0\n",
      "4                            accrualPolicy        22423             0\n",
      "5                              alternative        22423             0\n",
      "89                   associatedOccurrences        22423             0\n",
      "90                     associatedOrganisms        22423             0\n",
      "81                    associatedReferences        22423             0\n",
      "82                     associatedSequences        22423             0\n",
      "83                          associatedTaxa        22423             1\n",
      "6                                 audience        22423             0\n",
      "7                                available        22423             0\n",
      "62                           basisOfRecord        22423         22423\n",
      "164                                    bed        22423             0\n",
      "76                                behavior        22423             2\n",
      "8                    bibliographicCitation        22423             0\n",
      "67                           catalogNumber        22423         22423\n",
      "191                                  class        22423         22423\n",
      "222                               classKey        22423         22423\n",
      "59                          collectionCode        22423         22423\n",
      "56                            collectionID        22423             0\n",
      "9                               conformsTo        22423             0\n",
      "115                              continent        22423             0\n",
      "10                             contributor        22423             0\n",
      "134                    coordinatePrecision        22423             0\n",
      "133          coordinateUncertaintyInMeters        22423            37\n",
      "119                            countryCode        22423         22423\n",
      "121                                 county        22423         22379\n",
      "11                                coverage        22423             0\n",
      "12                                 created        22423             0\n",
      "13                                 creator        22423             0\n",
      "64                     dataGeneralizations        22423             0\n",
      "57                               datasetID        22423             0\n",
      "205                             datasetKey        22423         22423\n",
      "60                             datasetName        22423            42\n",
      "14                                    date        22423             0\n",
      "15                            dateAccepted        22423             0\n",
      "16                         dateCopyrighted        22423             0\n",
      "169                         dateIdentified        22423            41\n",
      "17                           dateSubmitted        22423             0\n",
      "103                                    day        22423         22423\n",
      "131                        decimalLatitude        22423         22423\n",
      "132                       decimalLongitude        22423         22423\n",
      "210                                  depth        22423             0\n",
      "211                          depthAccuracy        22423             0\n",
      "18                             description        22423             0\n",
      "80                             disposition        22423             0\n",
      "212                   distanceAboveSurface        22423             0\n",
      "213           distanceAboveSurfaceAccuracy        22423             0\n",
      "65                       dynamicProperties        22423             0\n",
      "156               earliestAgeOrLowestStage        22423             0\n",
      "148            earliestEonOrLowestEonothem        22423             0\n",
      "154            earliestEpochOrLowestSeries        22423             0\n",
      "150             earliestEraOrLowestErathem        22423             0\n",
      "152           earliestPeriodOrLowestSystem        22423             0\n",
      "19                          educationLevel        22423             0\n",
      "208                              elevation        22423             0\n",
      "209                      elevationAccuracy        22423             0\n",
      "100                           endDayOfYear        22423             0\n",
      "77                      establishmentMeans        22423             0\n",
      "97                               eventDate        22423         22423\n",
      "94                                 eventID        22423             0\n",
      "111                           eventRemarks        22423             0\n",
      "98                               eventTime        22423            41\n",
      "20                                  extent        22423             0\n",
      "193                                 family        22423         22423\n",
      "224                              familyKey        22423         22423\n",
      "110                             fieldNotes        22423             2\n",
      "96                             fieldNumber        22423             0\n",
      "139                           footprintSRS        22423             0\n",
      "140                    footprintSpatialFit        22423             0\n",
      "138                           footprintWKT        22423             0\n",
      "21                                  format        22423             0\n",
      "162                              formation        22423             0\n",
      "229                            genericName        22423         22423\n",
      "194                                  genus        22423         22423\n",
      "225                               genusKey        22423         22423\n",
      "249                          geodeticDatum        22423         22423\n",
      "147                    geologicalContextID        22423             0\n",
      "143                   georeferenceProtocol        22423             0\n",
      "146                    georeferenceRemarks        22423             0\n",
      "144                    georeferenceSources        22423             0\n",
      "145         georeferenceVerificationStatus        22423             0\n",
      "141                        georeferencedBy        22423             0\n",
      "142                      georeferencedDate        22423             0\n",
      "161                                  group        22423             0\n",
      "105                                habitat        22423             0\n",
      "216                          hasCoordinate        22423         22423\n",
      "22                               hasFormat        22423             0\n",
      "217                    hasGeospatialIssues        22423         22423\n",
      "23                                 hasPart        22423             0\n",
      "24                              hasVersion        22423             0\n",
      "188                   higherClassification        22423             2\n",
      "114                        higherGeography        22423             0\n",
      "113                      higherGeographyID        22423             0\n",
      "159            highestBiostratigraphicZone        22423             0\n",
      "165                       identificationID        22423            41\n",
      "166                identificationQualifier        22423             0\n",
      "170               identificationReferences        22423             0\n",
      "172                  identificationRemarks        22423             0\n",
      "171       identificationVerificationStatus        22423             0\n",
      "168                           identifiedBy        22423            41\n",
      "239                         identifiedByID        22423             0\n",
      "25                              identifier        22423         22423\n",
      "70                         individualCount        22423         21957\n",
      "63                     informationWithheld        22423             2\n",
      "197                   infraspecificEpithet        22423             0\n",
      "58                         institutionCode        22423         22421\n",
      "55                           institutionID        22423             0\n",
      "26                     instructionalMethod        22423             0\n",
      "27                              isFormatOf        22423             0\n",
      "28                                isPartOf        22423             0\n",
      "29                          isReferencedBy        22423             0\n",
      "30                            isReplacedBy        22423             0\n",
      "31                            isRequiredBy        22423             0\n",
      "32                             isVersionOf        22423             0\n",
      "118                                 island        22423             0\n",
      "117                            islandGroup        22423             0\n",
      "214                                  issue        22423         22421\n",
      "33                                  issued        22423             0\n",
      "248                    iucnRedListCategory        22423         22423\n",
      "189                                kingdom        22423         22423\n",
      "220                             kingdomKey        22423         22423\n",
      "34                                language        22423             0\n",
      "235                            lastCrawled        22423         22423\n",
      "207                        lastInterpreted        22423         22423\n",
      "234                             lastParsed        22423         22423\n",
      "157                latestAgeOrHighestStage        22423             0\n",
      "149             latestEonOrHighestEonothem        22423             0\n",
      "155             latestEpochOrHighestSeries        22423             0\n",
      "151              latestEraOrHighestErathem        22423             0\n",
      "153            latestPeriodOrHighestSystem        22423             0\n",
      "240                              level0Gid        22423         22389\n",
      "241                             level0Name        22423         22389\n",
      "242                              level1Gid        22423         22389\n",
      "243                             level1Name        22423         22389\n",
      "244                              level2Gid        22423         22389\n",
      "245                             level2Name        22423         22389\n",
      "246                              level3Gid        22423             0\n",
      "247                             level3Name        22423             0\n",
      "35                                 license        22423         22423\n",
      "74                               lifeStage        22423             1\n",
      "160                lithostratigraphicTerms        22423             0\n",
      "123                               locality        22423         22381\n",
      "129                    locationAccordingTo        22423             0\n",
      "112                             locationID        22423             0\n",
      "130                        locationRemarks        22423             0\n",
      "158             lowestBiostratigraphicZone        22423             0\n",
      "93                        materialSampleID        22423             0\n",
      "128    maximumDistanceAboveSurfaceInMeters        22423             0\n",
      "215                              mediaType        22423            43\n",
      "36                                mediator        22423             0\n",
      "37                                  medium        22423             0\n",
      "163                                 member        22423             0\n",
      "127    minimumDistanceAboveSurfaceInMeters        22423             0\n",
      "38                                modified        22423            42\n",
      "102                                  month        22423         22423\n",
      "122                           municipality        22423             0\n",
      "185                        nameAccordingTo        22423             0\n",
      "178                      nameAccordingToID        22423             0\n",
      "186                        namePublishedIn        22423             0\n",
      "179                      namePublishedInID        22423             0\n",
      "187                    namePublishedInYear        22423             0\n",
      "201                      nomenclaturalCode        22423             2\n",
      "203                    nomenclaturalStatus        22423             0\n",
      "66                            occurrenceID        22423         22423\n",
      "85                       occurrenceRemarks        22423             7\n",
      "78                        occurrenceStatus        22423         22423\n",
      "192                                  order        22423         22423\n",
      "223                               orderKey        22423         22423\n",
      "86                              organismID        22423             0\n",
      "87                            organismName        22423             0\n",
      "71                        organismQuantity        22423             0\n",
      "72                    organismQuantityType        22423             0\n",
      "92                         organismRemarks        22423             0\n",
      "88                           organismScope        22423             0\n",
      "184                      originalNameUsage        22423             0\n",
      "177                    originalNameUsageID        22423             0\n",
      "84                     otherCatalogNumbers        22423             0\n",
      "61                    ownerInstitutionCode        22423             0\n",
      "95                           parentEventID        22423             0\n",
      "183                        parentNameUsage        22423             0\n",
      "176                      parentNameUsageID        22423             0\n",
      "190                                 phylum        22423         22423\n",
      "221                              phylumKey        22423         22423\n",
      "135                  pointRadiusSpatialFit        22423             0\n",
      "79                            preparations        22423             0\n",
      "91                 previousIdentifications        22423             0\n",
      "233                               protocol        22423         22423\n",
      "39                              provenance        22423             0\n",
      "40                               publisher        22423             0\n",
      "206                      publishingCountry        22423         22423\n",
      "68                            recordNumber        22423             0\n",
      "69                              recordedBy        22423         22423\n",
      "238                           recordedByID        22423             0\n",
      "41                              references        22423            44\n",
      "42                                relation        22423             0\n",
      "237               relativeOrganismQuantity        22423             0\n",
      "236                            repatriated        22423         22423\n",
      "43                                replaces        22423             0\n",
      "75                   reproductiveCondition        22423             0\n",
      "44                                requires        22423             0\n",
      "45                                  rights        22423            42\n",
      "46                            rightsHolder        22423            44\n",
      "109                         sampleSizeUnit        22423             0\n",
      "108                        sampleSizeValue        22423             0\n",
      "107                         samplingEffort        22423             0\n",
      "106                       samplingProtocol        22423             0\n",
      "181                         scientificName        22423         22423\n",
      "174                       scientificNameID        22423             0\n",
      "73                                     sex        22423             0\n",
      "47                                  source        22423             0\n",
      "48                                 spatial        22423             0\n",
      "228                                species        22423         22423\n",
      "227                             speciesKey        22423         22423\n",
      "196                        specificEpithet        22423         22423\n",
      "99                          startDayOfYear        22423             0\n",
      "120                          stateProvince        22423         22421\n",
      "195                               subgenus        22423             0\n",
      "226                            subgenusKey        22423             0\n",
      "49                                 subject        22423             0\n",
      "50                         tableOfContents        22423             0\n",
      "180                         taxonConceptID        22423             0\n",
      "173                                taxonID        22423            42\n",
      "218                               taxonKey        22423         22423\n",
      "198                              taxonRank        22423         22423\n",
      "204                           taxonRemarks        22423             0\n",
      "202                        taxonomicStatus        22423         22423\n",
      "51                                temporal        22423             0\n",
      "52                                   title        22423             0\n",
      "53                                    type        22423             0\n",
      "167                             typeStatus        22423             0\n",
      "232                           typifiedName        22423             0\n",
      "54                                   valid        22423             0\n",
      "136               verbatimCoordinateSystem        22423             0\n",
      "126                          verbatimDepth        22423             0\n",
      "125                      verbatimElevation        22423             2\n",
      "104                      verbatimEventDate        22423            44\n",
      "124                       verbatimLocality        22423            42\n",
      "137                            verbatimSRS        22423             0\n",
      "231                 verbatimScientificName        22423         22423\n",
      "199                      verbatimTaxonRank        22423             0\n",
      "200                         vernacularName        22423         22381\n",
      "116                              waterBody        22423             0\n",
      "101                                   year        22423         22423\n"
     ]
    }
   ],
   "source": [
    "if ask_GBIF == True:\n",
    "    fields_summary = pd.read_sql(\"SELECT * FROM gbif_fields_returned\", output_db_conn)\n",
    "    fields_summary.index.name = 'Field'\n",
    "    pd.set_option('display.max_rows', 250)\n",
    "    print(fields_summary.sort_values(by=\"attribute\"))\n",
    "if ask_GBIF == False:\n",
    "    print(\"GBIF was not queried.\")"
   ]
  },
  {
   "cell_type": "markdown",
   "metadata": {},
   "source": [
    "#### Attributes Returned for eBird Records\n",
    "This count was made before filters were applied"
   ]
  },
  {
   "cell_type": "code",
   "execution_count": 28,
   "metadata": {},
   "outputs": [
    {
     "name": "stdout",
     "output_type": "stream",
     "text": [
      "No eBird Basic Dataset was queried.\n"
     ]
    }
   ],
   "source": [
    "if ask_eBird == True:\n",
    "    fields_summary = pd.read_sql(\"SELECT * FROM ebird_fields_returned\", output_db_conn)\n",
    "    fields_summary.index.name = 'Field'\n",
    "    pd.set_option('display.max_rows', 250)\n",
    "    print(fields_summary)\n",
    "if ask_eBird == False:\n",
    "    print(\"No eBird Basic Dataset was queried.\")"
   ]
  },
  {
   "cell_type": "markdown",
   "metadata": {},
   "source": [
    "#### Sources"
   ]
  },
  {
   "cell_type": "code",
   "execution_count": 29,
   "metadata": {},
   "outputs": [
    {
     "name": "stdout",
     "output_type": "stream",
     "text": [
      "   institutionID  collectionCode                              datasetName  acquired  removed  retained\n",
      "0            nan     Bird sounds                                      nan         2        0         2\n",
      "1            nan           EBIRD                                      nan     22199        0     22199\n",
      "2            nan        EBIRD_AK                                      nan         2        0         2\n",
      "3            nan    EBIRD_ATL_VA                                      nan         1        0         1\n",
      "4            nan    EBIRD_ATL_WI                                      nan         1        0         1\n",
      "5            nan        EBIRD_AU                                      nan         1        0         1\n",
      "6            nan       EBIRD_BRA                                      nan        65        0        65\n",
      "7            nan  EBIRD_CAMERICA                                      nan        15        0        15\n",
      "8            nan       EBIRD_CAN                                      nan        11        0        11\n",
      "9            nan        EBIRD_CB                                      nan         5        0         5\n",
      "10           nan        EBIRD_CL                                      nan        10        0        10\n",
      "11           nan       EBIRD_ESP                                      nan         3        0         3\n",
      "12           nan        EBIRD_ME                                      nan         3        0         3\n",
      "13           nan       EBIRD_MEX                                      nan        18        0        18\n",
      "14           nan        EBIRD_MO                                      nan         6        0         6\n",
      "15           nan        EBIRD_NH                                      nan         1        0         1\n",
      "16           nan        EBIRD_NJ                                      nan         2        0         2\n",
      "17           nan        EBIRD_PA                                      nan         3        0         3\n",
      "18           nan       EBIRD_PNW                                      nan         5        0         5\n",
      "19           nan        EBIRD_PR                                      nan         1        0         1\n",
      "20           nan        EBIRD_QC                                      nan         1        0         1\n",
      "21           nan        EBIRD_TX                                      nan        15        0        15\n",
      "22           nan        EBIRD_VA                                      nan         1        0         1\n",
      "23           nan      EBIRD_VINS                                      nan         1        0         1\n",
      "24           nan        EBIRD_WI                                      nan         9        0         9\n",
      "25           nan    Observations  iNaturalist research-grade observations        42        2        40\n"
     ]
    }
   ],
   "source": [
    "sources = pd.read_sql(sql=\"SELECT * FROM sources;\", con=output_db_conn)\n",
    "print(sources[['institutionID', 'collectionCode', 'datasetName', 'acquired', 'removed', 'retained']])"
   ]
  },
  {
   "cell_type": "markdown",
   "metadata": {},
   "source": [
    "#### Bases"
   ]
  },
  {
   "cell_type": "code",
   "execution_count": 30,
   "metadata": {
    "scrolled": true
   },
   "outputs": [
    {
     "name": "stdout",
     "output_type": "stream",
     "text": [
      "               value  acquired  removed  retained\n",
      "0  HUMAN_OBSERVATION     22423        2     22421\n"
     ]
    }
   ],
   "source": [
    "bases = pd.read_sql(sql=\"SELECT * FROM attribute_value_counts WHERE attribute = 'basisOfRecord';\", con=output_db_conn)\n",
    "print(bases[['value', 'acquired', 'removed', 'retained']])"
   ]
  },
  {
   "cell_type": "markdown",
   "metadata": {},
   "source": [
    "#### Protocols"
   ]
  },
  {
   "cell_type": "code",
   "execution_count": 31,
   "metadata": {
    "scrolled": true
   },
   "outputs": [
    {
     "name": "stdout",
     "output_type": "stream",
     "text": [
      "  value  acquired  removed  retained\n",
      "0   nan     22423        2     22421\n"
     ]
    }
   ],
   "source": [
    "protocols = pd.read_sql(sql=\"SELECT * FROM attribute_value_counts WHERE attribute = 'samplingProtocol';\", con=output_db_conn)\n",
    "if protocols.empty == True:\n",
    "    print(\"No protocols were documented.\")\n",
    "if protocols.empty == False:\n",
    "    print(protocols[['value', 'acquired', 'removed', 'retained']])"
   ]
  },
  {
   "cell_type": "markdown",
   "metadata": {},
   "source": [
    "#### Issues"
   ]
  },
  {
   "cell_type": "code",
   "execution_count": 32,
   "metadata": {
    "scrolled": true
   },
   "outputs": [
    {
     "name": "stdout",
     "output_type": "stream",
     "text": [
      "                                                                             value  acquired  removed  retained\n",
      "0                                    COLLECTION_MATCH_NONE;INSTITUTION_MATCH_FUZZY     22379        0     22379\n",
      "1                                  COORDINATE_ROUNDED;GEODETIC_DATUM_ASSUMED_WGS84        34        2        32\n",
      "2  COORDINATE_ROUNDED;GEODETIC_DATUM_ASSUMED_WGS84;COORDINATE_UNCERTAINTY_METER...         2        0         2\n",
      "3                                                     GEODETIC_DATUM_ASSUMED_WGS84         6        0         6\n",
      "4                                                                              nan         2        0         2\n"
     ]
    }
   ],
   "source": [
    "issues = pd.read_sql(sql=\"SELECT * FROM attribute_value_counts WHERE attribute = 'issues';\", con=output_db_conn)\n",
    "if issues.empty == True:\n",
    "    print(\"No issues were documented.\")\n",
    "if issues.empty == False:\n",
    "    print(issues[['value', 'acquired', 'removed', 'retained']])"
   ]
  },
  {
   "cell_type": "markdown",
   "metadata": {},
   "source": [
    "#### Establishment Means"
   ]
  },
  {
   "cell_type": "code",
   "execution_count": 33,
   "metadata": {},
   "outputs": [
    {
     "name": "stdout",
     "output_type": "stream",
     "text": [
      "  value  acquired  removed  retained\n",
      "0   nan     22423        2     22421\n"
     ]
    }
   ],
   "source": [
    "establishment = pd.read_sql(sql=\"SELECT * FROM attribute_value_counts WHERE attribute = 'establishmentMeans';\", con=output_db_conn)\n",
    "if establishment.empty == True:\n",
    "    print(\"No establishment means were reported.\")\n",
    "if establishment.empty == False:\n",
    "    print(establishment[['value', 'acquired', 'removed', 'retained']])"
   ]
  },
  {
   "cell_type": "markdown",
   "metadata": {},
   "source": [
    "#### Identification Qualifiers"
   ]
  },
  {
   "cell_type": "code",
   "execution_count": 34,
   "metadata": {},
   "outputs": [
    {
     "name": "stdout",
     "output_type": "stream",
     "text": [
      "No identification qualifiers were reported.\n"
     ]
    }
   ],
   "source": [
    "qualifications = pd.read_sql(sql=\"SELECT * FROM attribute_value_counts WHERE attribute = 'identificationQualifers';\", con=output_db_conn)\n",
    "if qualifications.empty == True:\n",
    "    print(\"No identification qualifiers were reported.\")\n",
    "if qualifications.empty == False:\n",
    "    print(establishment[['value', 'acquired', 'removed', 'retained']])"
   ]
  },
  {
   "cell_type": "markdown",
   "metadata": {},
   "source": [
    "## Descriptions of Retained Records"
   ]
  },
  {
   "cell_type": "markdown",
   "metadata": {},
   "source": [
    "#### Locations"
   ]
  },
  {
   "cell_type": "code",
   "execution_count": 35,
   "metadata": {},
   "outputs": [
    {
     "data": {
      "image/png": "[encoded data removed]",
      "text/plain": [
       "<Figure size 864x864 with 1 Axes>"
      ]
     },
     "metadata": {
      "needs_background": "light"
     },
     "output_type": "display_data"
    },
    {
     "data": {
      "image/png": "[encoded data removed]",
      "text/plain": [
       "<Figure size 864x864 with 1 Axes>"
      ]
     },
     "metadata": {
      "needs_background": "light"
     },
     "output_type": "display_data"
    },
    {
     "data": {
      "image/png": "[encoded data removed]",
      "text/plain": [
       "<Figure size 864x864 with 1 Axes>"
      ]
     },
     "metadata": {
      "needs_background": "light"
     },
     "output_type": "display_data"
    }
   ],
   "source": [
    "# Get the record coordinates as a data frame\n",
    "record_coordinates = (pd.read_sql(\"\"\"SELECT decimalLatitude, decimalLongitude, radius_meters\n",
    "                                     FROM occurrence_records\"\"\",\n",
    "                                  con=output_db_conn)\n",
    "                      .astype({'decimalLongitude': 'float', 'decimalLatitude': 'float',\n",
    "                               'radius_meters': 'float'}))\n",
    "\n",
    "# Make the data frame spatial\n",
    "gdf = gpd.GeoDataFrame(record_coordinates, geometry=gpd.points_from_xy(record_coordinates['decimalLongitude'],\n",
    "                                                   record_coordinates['decimalLatitude']))\n",
    "\n",
    "# Set the coordinate reference system\n",
    "gdf.crs={'init' :'epsg:4326'}\n",
    "\n",
    "# Create world map <<<<<<<<<<<<<<<<<<<<<<<<<<<<<<<<<<<<<<<<<<<<<<<<<<<<<<<<<<<<<<<<<<<<<<<<<<<<\n",
    "world = gpd.read_file(gpd.datasets.get_path('naturalearth_lowres'))\n",
    "base = world.plot(figsize=(12,12), color = 'darkkhaki')\n",
    "gdf.plot(ax=base, marker='o', color='k', markersize=5)\n",
    "plt.show()\n",
    "\n",
    "# Create USA map <<<<<<<<<<<<<<<<<<<<<<<<<<<<<<<<<<<<<<<<<<<<<<<<<<<<<<<<<<<<<<<<<<<<<<<<<<<<<<\n",
    "if filter_set[\"country\"] == \"US\":\n",
    "    usa_bbox = np.array([-124.725839,   24.498131,  -66.949895,   49.384358])\n",
    "    fig, ax = plt.subplots(figsize=(12,12))\n",
    "    ax.set_xlim(([usa_bbox[0],  usa_bbox[2]]))\n",
    "    ax.set_ylim(([usa_bbox[1],  usa_bbox[3]]))\n",
    "    world.plot(ax=ax, color='darkkhaki')\n",
    "    gdf.plot(ax=ax, marker='o', color='k', markersize=5)\n",
    "    plt.show()\n",
    "\n",
    "# Create coordinate extent map <<<<<<<<<<<<<<<<<<<<<<<<<<<<<<<<<<<<<<<<<<<<<<<<<<<<<<<<<<<<<<<<\n",
    "os.chdir(config.codeDir)\n",
    "states = gpd.read_file(os.getcwd() + '/data/us_states.shp')\n",
    "\n",
    "# Reproject states and record coordinates to facilitate buffering\n",
    "states = states.to_crs(epsg=5070)\n",
    "footprints = gdf.to_crs(epsg=5070)\n",
    "\n",
    "# Buffer points for record footprints\n",
    "footprints['footprint']=footprints.apply(lambda x: x.geometry.buffer(x.radius_meters), axis=1)\n",
    "footprints.set_geometry(col='footprint', inplace=True, drop=True)\n",
    "\n",
    "# Map the buffered points/footprints\n",
    "fig, ax = plt.subplots(figsize=(12,12))\n",
    "coordinate_bbox = footprints.geometry.total_bounds\n",
    "ax.set_xlim(([coordinate_bbox[0],  coordinate_bbox[2]]))\n",
    "ax.set_ylim(([coordinate_bbox[1],  coordinate_bbox[3]]))\n",
    "states.plot(ax=ax, color = 'darkkhaki')\n",
    "footprints.boundary.plot(ax=ax, color='k')\n",
    "plt.show()\n",
    "\n",
    "# Cleanup\n",
    "del footprints, gdf"
   ]
  },
  {
   "cell_type": "markdown",
   "metadata": {},
   "source": [
    "#### Years Represented"
   ]
  },
  {
   "cell_type": "code",
   "execution_count": 36,
   "metadata": {},
   "outputs": [
    {
     "data": {
      "text/plain": [
       "Text(0.5, 1.0, 'Occurrences per Year')"
      ]
     },
     "execution_count": 36,
     "metadata": {},
     "output_type": "execute_result"
    },
    {
     "data": {
      "image/png": "[encoded data removed]",
      "text/plain": [
       "<Figure size 432x288 with 1 Axes>"
      ]
     },
     "metadata": {
      "needs_background": "light"
     },
     "output_type": "display_data"
    }
   ],
   "source": [
    "occ_years = [int(x[0]) for x in cursor.execute(\"SELECT strftime('%Y', eventDate) FROM occurrence_records\").fetchall()]\n",
    "years = filter_set['years_range']\n",
    "years = years.split(',')\n",
    "yearsrng = list(range(int(years[0]), int(years[1]), 1))\n",
    "binsnum = int(years[1]) - int(years[0])\n",
    "plt.hist(occ_years, bins=binsnum)\n",
    "plt.ylabel(\"number of records\")\n",
    "plt.xlabel(\"year\")\n",
    "plt.xticks(yearsrng, rotation=90)\n",
    "plt.title(\"Occurrences per Year\")"
   ]
  },
  {
   "cell_type": "markdown",
   "metadata": {},
   "source": [
    "#### Months Represented"
   ]
  },
  {
   "cell_type": "code",
   "execution_count": 37,
   "metadata": {},
   "outputs": [
    {
     "data": {
      "text/plain": [
       "Text(0.5, 1.0, 'Occurrences per Month')"
      ]
     },
     "execution_count": 37,
     "metadata": {},
     "output_type": "execute_result"
    },
    {
     "data": {
      "image/png": "[encoded data removed]",
      "text/plain": [
       "<Figure size 432x288 with 1 Axes>"
      ]
     },
     "metadata": {
      "needs_background": "light"
     },
     "output_type": "display_data"
    }
   ],
   "source": [
    "occ_months = [int(x[0]) for x in cursor.execute(\"SELECT strftime('%m', eventDate) FROM occurrence_records\").fetchall()]\n",
    "plt.hist(occ_months, bins=range(1, 14), color=\"g\")\n",
    "plt.ylabel(\"number of records\")\n",
    "plt.xlabel(\"month\")\n",
    "plt.xticks(range(1, 13))\n",
    "plt.title(\"Occurrences per Month\")"
   ]
  },
  {
   "cell_type": "markdown",
   "metadata": {},
   "source": [
    "#### Distribution of Coordinate Uncertainty Values for Retained Records"
   ]
  },
  {
   "cell_type": "code",
   "execution_count": 38,
   "metadata": {
    "scrolled": false
   },
   "outputs": [
    {
     "data": {
      "text/plain": [
       "Text(0.5, 1.0, 'Coordinate Uncertainty')"
      ]
     },
     "execution_count": 38,
     "metadata": {},
     "output_type": "execute_result"
    },
    {
     "data": {
      "image/png": "[encoded data removed]",
      "text/plain": [
       "<Figure size 1152x288 with 1 Axes>"
      ]
     },
     "metadata": {
      "needs_background": "light"
     },
     "output_type": "display_data"
    }
   ],
   "source": [
    "occ_cert = [float(x[0]) for x in cursor.execute(\"SELECT coordinateUncertaintyInMeters FROM occurrence_records\").fetchall()]\n",
    "maxi = max(occ_cert)\n",
    "plt.figure(figsize=(16,4))\n",
    "plt.hist(occ_cert, bins=50, color=\"r\")\n",
    "plt.xticks(range(0, int(maxi), int(maxi/50)), rotation=90)\n",
    "plt.ylabel(\"number of records\")\n",
    "plt.xlabel(\"meters\")\n",
    "plt.title(\"Coordinate Uncertainty\")"
   ]
  },
  {
   "cell_type": "code",
   "execution_count": 39,
   "metadata": {},
   "outputs": [
    {
     "data": {
      "text/plain": [
       "Text(0.5, 1.0, 'Coordinate Uncertainty')"
      ]
     },
     "execution_count": 39,
     "metadata": {},
     "output_type": "execute_result"
    },
    {
     "data": {
      "image/png": "[encoded data removed]",
      "text/plain": [
       "<Figure size 792x288 with 1 Axes>"
      ]
     },
     "metadata": {
      "needs_background": "light"
     },
     "output_type": "display_data"
    }
   ],
   "source": [
    "occ_cert = [float(x[0]) for x in cursor.execute(\"SELECT coordinateUncertaintyInMeters FROM occurrence_records\").fetchall()]\n",
    "plt.figure(figsize=(11,4))\n",
    "plt.boxplot(occ_cert, vert=False)\n",
    "plt.xlabel(\"meters\")\n",
    "plt.title(\"Coordinate Uncertainty\")"
   ]
  },
  {
   "cell_type": "code",
   "execution_count": 40,
   "metadata": {},
   "outputs": [
    {
     "data": {
      "text/plain": [
       "Text(0.5, 1.0, 'Coordinate Uncertainties Below 2km')"
      ]
     },
     "execution_count": 40,
     "metadata": {},
     "output_type": "execute_result"
    },
    {
     "data": {
      "image/png": "[encoded data removed]",
      "text/plain": [
       "<Figure size 864x288 with 1 Axes>"
      ]
     },
     "metadata": {
      "needs_background": "light"
     },
     "output_type": "display_data"
    }
   ],
   "source": [
    "rng_max = 2000\n",
    "occ_cert2 = [x for x in occ_cert if x <= rng_max]\n",
    "plt.figure(figsize=(12,4))\n",
    "plt.hist(occ_cert2, bins=30, color=\"m\", align='mid')\n",
    "plt.xticks(range(0, rng_max + 100, int(rng_max/30.)), rotation=90)\n",
    "plt.ylabel(\"number of records\")\n",
    "plt.xlabel(\"meters\")\n",
    "plt.title(\"Coordinate Uncertainties Below 2km\")"
   ]
  },
  {
   "cell_type": "markdown",
   "metadata": {},
   "source": [
    "#### Remarks"
   ]
  },
  {
   "cell_type": "code",
   "execution_count": 41,
   "metadata": {
    "scrolled": true
   },
   "outputs": [
    {
     "name": "stdout",
     "output_type": "stream",
     "text": [
      "General remarks:\n",
      "nan\n"
     ]
    }
   ],
   "source": [
    "print(\"General remarks:\")\n",
    "remarks = output_db_conn.execute(\"SELECT DISTINCT general_remarks FROM occurrence_records;\").fetchall()\n",
    "if len(remarks) <= 20:\n",
    "    try:\n",
    "        for rem in remarks:\n",
    "            if rem[0][0:1] == ';':\n",
    "                print(rem[0][2:])\n",
    "            else:\n",
    "                print(rem[0])\n",
    "    except:\n",
    "        pass\n",
    "else:\n",
    "    print(\"More than 20 remarks, consult the occurrence database.\")"
   ]
  },
  {
   "cell_type": "code",
   "execution_count": 42,
   "metadata": {},
   "outputs": [
    {
     "name": "stdout",
     "output_type": "stream",
     "text": [
      "Event remarks:\n",
      "nan\n"
     ]
    }
   ],
   "source": [
    "print(\"Event remarks:\")\n",
    "remarks = output_db_conn.execute(\"SELECT DISTINCT eventRemarks FROM occurrence_records;\").fetchall()\n",
    "if len(remarks) <= 20:\n",
    "    try:\n",
    "        for rem in remarks:\n",
    "            if rem[0][0:1] == ';':\n",
    "                print(rem[0][2:])\n",
    "            else:\n",
    "                print(rem[0])\n",
    "    except:\n",
    "        pass\n",
    "else:\n",
    "    print(\"More than 20 remarks, consult the occurrence database.\")"
   ]
  },
  {
   "cell_type": "code",
   "execution_count": 43,
   "metadata": {},
   "outputs": [
    {
     "name": "stdout",
     "output_type": "stream",
     "text": [
      "Occurrence remarks:\n",
      "nan\n",
      "Need headphones to properly hear this call - it's a soft, rapid, repetitive cooing sound. In the second audio file, you'll hear a red-bellied woodpecker and my phone vibrating. This bird call is much quieter than those sounds. I believe it's a bird, but not sure. Closest match I could find is ground dove (Columbina passerina), but I think it's not that species - the call is too rapid a little different in pitch. Help - it's driving me crazy, been hearing it for weeks now. Yesterday I'm pretty sure I heard a call-and-response from two of these. Both were located near small creeks through young, mixed hardwood forest.\n",
      "Adults and juveniles in trees above the Goose Overlook Observation deck\n",
      "on nest\n",
      "recently fledged juvenile\n",
      "Window kill\n",
      "Yellow-billed Cuckoo Washington County, Florida 7-15-11\n"
     ]
    }
   ],
   "source": [
    "print(\"Occurrence remarks:\")\n",
    "remarks = output_db_conn.execute(\"SELECT DISTINCT occurrenceRemarks FROM occurrence_records;\").fetchall()\n",
    "if len(remarks) <= 20:\n",
    "    try:\n",
    "        for rem in remarks:\n",
    "            if rem[0][0:1] == ';':\n",
    "                print(rem[0][2:])\n",
    "            else:\n",
    "                print(rem[0])\n",
    "    except:\n",
    "        pass\n",
    "else:\n",
    "    print(\"More than 20 remarks, consult the occurrence database.\")"
   ]
  },
  {
   "cell_type": "code",
   "execution_count": 44,
   "metadata": {},
   "outputs": [
    {
     "name": "stdout",
     "output_type": "stream",
     "text": [
      "Location remarks:\n",
      "nan\n"
     ]
    }
   ],
   "source": [
    "print(\"Location remarks:\")\n",
    "remarks = output_db_conn.execute(\"SELECT DISTINCT locationRemarks FROM occurrence_records;\").fetchall()\n",
    "if len(remarks) <= 20:\n",
    "    try:\n",
    "        for rem in remarks:\n",
    "            if rem[0][0:1] == ';':\n",
    "                print(rem[0][2:])\n",
    "            else:\n",
    "                print(rem[0])\n",
    "    except:\n",
    "        pass\n",
    "else:\n",
    "    print(\"More than 20 remarks, consult the occurrence database.\")"
   ]
  },
  {
   "cell_type": "code",
   "execution_count": 45,
   "metadata": {},
   "outputs": [
    {
     "name": "stdout",
     "output_type": "stream",
     "text": [
      "Identified remarks:\n",
      "nan\n"
     ]
    }
   ],
   "source": [
    "print(\"Identified remarks:\")\n",
    "remarks = output_db_conn.execute(\"SELECT DISTINCT general_remarks FROM occurrence_records;\").fetchall()\n",
    "if len(remarks) <= 20:\n",
    "    try:\n",
    "        for rem in remarks:\n",
    "            if rem[0][0:1] == ';':\n",
    "                print(rem[0][2:])\n",
    "            else:\n",
    "                print(rem[0])\n",
    "    except:\n",
    "        pass\n",
    "else:\n",
    "    print(\"More than 20 remarks, consult the occurrence database.\")"
   ]
  },
  {
   "cell_type": "code",
   "execution_count": 46,
   "metadata": {},
   "outputs": [
    {
     "name": "stdout",
     "output_type": "stream",
     "text": [
      "Georeference remarks:\n",
      "nan\n"
     ]
    }
   ],
   "source": [
    "print(\"Georeference remarks:\")\n",
    "remarks = output_db_conn.execute(\"SELECT DISTINCT georeferenceRemarks FROM occurrence_records;\").fetchall()\n",
    "if len(remarks) <= 20:\n",
    "    try:\n",
    "        for rem in remarks:\n",
    "            if rem[0][0:1] == ';':\n",
    "                print(rem[0][2:])\n",
    "            else:\n",
    "                print(rem[0])\n",
    "    except:\n",
    "        pass\n",
    "else:\n",
    "    print(\"More than 20 remarks, consult the occurrence database.\")"
   ]
  },
  {
   "cell_type": "markdown",
   "metadata": {},
   "source": [
    "## Citations\n",
    "#### eBird "
   ]
  },
  {
   "cell_type": "code",
   "execution_count": 47,
   "metadata": {},
   "outputs": [
    {
     "name": "stdout",
     "output_type": "stream",
     "text": [
      "No eBird Basic Dataset was queried\n"
     ]
    }
   ],
   "source": [
    "if ask_eBird == True:\n",
    "    with open(config.EBD_file[:-22] + \"recommended_citation.txt\", \"r\") as reference:\n",
    "        print(reference.readlines()[0])\n",
    "else:\n",
    "    print(\"No eBird Basic Dataset was queried\")"
   ]
  },
  {
   "cell_type": "markdown",
   "metadata": {},
   "source": [
    "#### GBIF"
   ]
  },
  {
   "cell_type": "code",
   "execution_count": 48,
   "metadata": {},
   "outputs": [
    {
     "name": "stdout",
     "output_type": "stream",
     "text": [
      "Citations-- \n",
      "When using this dataset please use the following citation and pay attention to the rights documented in rights.txt:\n",
      "Vellinga W (2021). Xeno-canto - Bird sounds from around the world. Xeno-canto Foundation for Nature Sounds. Occurrence dataset https://doi.org/10.15468/qv0ksn accessed via GBIF.org on 2021-06-08.\n",
      "Ueda K (2021). iNaturalist Research-grade Observations. iNaturalist.org. Occurrence dataset https://doi.org/10.15468/ab3s5x accessed via GBIF.org on 2021-06-08.\n",
      "Levatich T, Ligocki S (2020). EOD - eBird Observation Dataset. Cornell Lab of Ornithology. Occurrence dataset https://doi.org/10.15468/aomfnb accessed via GBIF.org on 2021-06-08.\n",
      "\n"
     ]
    }
   ],
   "source": [
    "if ask_GBIF == True:\n",
    "    if get_dwca == True:\n",
    "        print(\"Citations-- \")\n",
    "        print(cursor.execute(\"SELECT citations FROM GBIF_download_info\").fetchall()[0][0])\n",
    "    else:\n",
    "        print(\"Set 'get_dwca' to True to acquire a list of citations\")\n",
    "if ask_GBIF == False:\n",
    "    print(\"GBIF was not queried.\")"
   ]
  },
  {
   "cell_type": "code",
   "execution_count": 49,
   "metadata": {},
   "outputs": [
    {
     "name": "stdout",
     "output_type": "stream",
     "text": [
      "Rights-- \n",
      "\n",
      "Dataset: Xeno-canto - Bird sounds from around the world\n",
      "Rights as supplied: http://creativecommons.org/licenses/by-nc/4.0/legalcode\n",
      "Dataset: iNaturalist Research-grade Observations\n",
      "Rights as supplied: http://creativecommons.org/licenses/by-nc/4.0/legalcode\n",
      "Dataset: EOD - eBird Observation Dataset\n",
      "Rights as supplied: http://creativecommons.org/publicdomain/zero/1.0/legalcode\n"
     ]
    }
   ],
   "source": [
    "if ask_GBIF == True:\n",
    "    if get_dwca == True:\n",
    "        print(\"Rights-- \")\n",
    "        print(output_db_conn.execute(\"SELECT rights FROM GBIF_download_info\").fetchall()[0][0])\n",
    "    else:\n",
    "        print(\"Set 'get_dwca' to True to see the rights\")\n",
    "if ask_GBIF == False:\n",
    "    print(\"GBIF was not queried.\")"
   ]
  },
  {
   "cell_type": "code",
   "execution_count": 50,
   "metadata": {},
   "outputs": [
    {
     "name": "stdout",
     "output_type": "stream",
     "text": [
      "DOI-- \n",
      "https://doi.org/10.15468/dl.net434\n"
     ]
    }
   ],
   "source": [
    "if ask_GBIF == True:\n",
    "    if get_dwca == True:\n",
    "        print(\"DOI-- \")\n",
    "        doi = output_db_conn.execute(\"SELECT doi FROM GBIF_download_info\").fetchall()[0][0]\n",
    "        print(\"https://doi.org/\" + doi)\n",
    "    else:\n",
    "        print(\"Set 'get_dwca' to True to perform a search with a doi assigned\")\n",
    "if ask_GBIF == False:\n",
    "    print(\"GBIF was not queried.\")"
   ]
  },
  {
   "cell_type": "code",
   "execution_count": 51,
   "metadata": {},
   "outputs": [
    {
     "name": "stdout",
     "output_type": "stream",
     "text": [
      "GBIF download key-- \n",
      "0297512-200613084148143\n"
     ]
    }
   ],
   "source": [
    "if ask_GBIF == True:\n",
    "    if get_dwca == True:\n",
    "        print(\"GBIF download key-- \")\n",
    "        print(output_db_conn.execute(\"SELECT download_key FROM GBIF_download_info\").fetchall()[0][0])\n",
    "    else:\n",
    "        print(\"Set 'get_dwca' to True to perform a search with a download key assigned\")\n",
    "if ask_GBIF == False:\n",
    "    print(\"GBIF was not queried\")"
   ]
  },
  {
   "cell_type": "markdown",
   "metadata": {},
   "source": [
    "## Runtime"
   ]
  },
  {
   "cell_type": "code",
   "execution_count": 52,
   "metadata": {
    "scrolled": true
   },
   "outputs": [
    {
     "name": "stdout",
     "output_type": "stream",
     "text": [
      "0:45:19.439509\n"
     ]
    }
   ],
   "source": [
    "output_db_conn.close()\n",
    "del cursor\n",
    "t2 = datetime.now()\n",
    "print(t2 - t1)"
   ]
  },
  {
   "cell_type": "code",
   "execution_count": 55,
   "metadata": {},
   "outputs": [],
   "source": [
    "import importlib\n",
    "importlib.reload(functions)\n",
    "functions.verify_results(output_database)"
   ]
  }
 ],
 "metadata": {
  "kernelspec": {
   "display_name": "Python 3",
   "language": "python",
   "name": "python3"
  },
  "language_info": {
   "codemirror_mode": {
    "name": "ipython",
    "version": 3
   },
   "file_extension": ".py",
   "mimetype": "text/x-python",
   "name": "python",
   "nbconvert_exporter": "python",
   "pygments_lexer": "ipython3",
   "version": "3.7.10"
  }
 },
 "nbformat": 4,
 "nbformat_minor": 2
}
