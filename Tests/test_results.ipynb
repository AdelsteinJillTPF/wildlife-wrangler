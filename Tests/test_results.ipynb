{
 "cells": [
  {
   "cell_type": "markdown",
   "id": "f4dd1c15",
   "metadata": {},
   "source": [
    "# Test of whether parameters were successfully applied\n",
    "Provide the path to an ouput sqlite database and this code will check the attributes of results against the parameters that were supposed to be applied."
   ]
  },
  {
   "cell_type": "code",
   "execution_count": 12,
   "id": "32ec126c",
   "metadata": {},
   "outputs": [],
   "source": [
    "import sqlite3\n",
    "import pandas as pd"
   ]
  },
  {
   "cell_type": "code",
   "execution_count": 65,
   "id": "aaf49d8b",
   "metadata": {},
   "outputs": [
    {
     "name": "stdout",
     "output_type": "stream",
     "text": [
      "                            value\n",
      "key                              \n",
      "ID                        bwitux0\n",
      "GBIF_ID                   9606290\n",
      "EBIRD_ID              Wild Turkey\n",
      "detection_distance_m          300\n",
      "TAXON_EOO                    None\n",
      "                                                                value\n",
      "parameter                                                            \n",
      "name                                                            GAP_1\n",
      "query_polygon                                                    None\n",
      "issues_omit                 ['COORDINATE_UNCERTAINTY_METERS_INVALID']\n",
      "sampling_protocols_omit                    ['eBird Pelagic Protocol']\n",
      "bases_omit                                     ['PRESERVED_SPECIMEN']\n",
      "has_coordinate_uncertainty                                      False\n",
      "geoissue                                                         None\n",
      "default_coordUncertainty                                         2000\n",
      "max_coordinate_uncertainty                                      10000\n",
      "datasets_omit                                                    None\n",
      "collection_codes_omit                                            None\n",
      "institutions_omit                                                None\n",
      "use_taxon_geometry                                              False\n",
      "lat_range                                                       18,50\n",
      "lon_range                                                    -150,-67\n",
      "country                                                            US\n",
      "years_range                                                 2001,2021\n",
      "months_range                                                     1,12\n",
      "duplicates_OK                                                    True\n",
      "get_dwca                                                         True\n"
     ]
    }
   ],
   "source": [
    "# Connect to a database\n",
    "db = \"T:/Occurrence_Records/WITU_TEST.sqlite\"\n",
    "conn = sqlite3.connect(db)\n",
    "cursor = conn.cursor()\n",
    "\n",
    "# Get the taxon concept\n",
    "taxon_concept = (pd.read_sql(sql=\"SELECT * FROM taxon_concept;\", con=conn)\n",
    "                 .rename({\"index\": \"key\", \"0\": \"value\"}, axis=1)\n",
    "                 .set_index(\"key\"))\n",
    "print(taxon_concept)\n",
    "\n",
    "# Get the filter set that was applied\n",
    "filter_set = (pd.read_sql(sql=\"SELECT * FROM filter_set\", con=conn)\n",
    "              .rename({\"index\": \"parameter\", \"0\": \"value\"}, axis=1)\n",
    "              .set_index(\"parameter\"))\n",
    "print(filter_set)"
   ]
  },
  {
   "cell_type": "code",
   "execution_count": 77,
   "id": "76a33d70",
   "metadata": {},
   "outputs": [
    {
     "name": "stdout",
     "output_type": "stream",
     "text": [
      "['nan', 'COORDINATE_ROUNDED;GEODETIC_DATUM_ASSUMED_WGS84', 'GEODETIC_DATUM_ASSUMED_WGS84', 'OCCURRENCE_STATUS_INFERRED_FROM_INDIVIDUAL_COUNT;COORDINATE_ROUNDED', 'COORDINATE_ROUNDED;GEODETIC_DATUM_ASSUMED_WGS84;TAXON_MATCH_HIGHERRANK', 'OCCURRENCE_STATUS_INFERRED_FROM_INDIVIDUAL_COUNT', 'GEODETIC_DATUM_ASSUMED_WGS84;TAXON_MATCH_HIGHERRANK', 'COORDINATE_ROUNDED;COUNTRY_DERIVED_FROM_COORDINATES;GEODETIC_DATUM_ASSUMED_WGS84', 'COUNTRY_DERIVED_FROM_COORDINATES', 'COORDINATE_ROUNDED;COUNTRY_DERIVED_FROM_COORDINATES', 'OCCURRENCE_STATUS_INFERRED_FROM_INDIVIDUAL_COUNT;RECORDED_DATE_INVALID', 'COORDINATE_ROUNDED;FOOTPRINT_WKT_INVALID', 'COORDINATE_ROUNDED', 'GEODETIC_DATUM_ASSUMED_WGS84;COORDINATE_PRECISION_INVALID', 'OCCURRENCE_STATUS_INFERRED_FROM_INDIVIDUAL_COUNT;GEODETIC_DATUM_ASSUMED_WGS84']\n",
      "['COORDINATE_UNCERTAINTY_METERS_INVALID']\n"
     ]
    }
   ],
   "source": [
    "multilists = {\"issues_omit\": \"issues\", \"sampling_protocols_omit\": \"samplingProtocol\", \"bases_omit\": \"basisOfRecord\", \n",
    "              \"datasets_omit\": \"datasetName\", \"collection_codes_omit\": \"collectionCode\", \"institutions_omit\": \"institutionID\"}\n",
    "\n",
    "values = [x[0] for x in conn.execute(\"SELECT DISTINCT issues FROM occurrence_records\").fetchall()]\n",
    "print(values)\n",
    "parameter = filter_set.loc[\"issues_omit\", \"value\"]\n",
    "print(parameter)\n"
   ]
  },
  {
   "cell_type": "code",
   "execution_count": 64,
   "id": "bc71e1aa",
   "metadata": {},
   "outputs": [
    {
     "name": "stdout",
     "output_type": "stream",
     "text": [
      "Index(['value'], dtype='object')\n"
     ]
    }
   ],
   "source": [
    "print(filter_set.columns)"
   ]
  },
  {
   "cell_type": "code",
   "execution_count": null,
   "id": "d1007781",
   "metadata": {},
   "outputs": [],
   "source": []
  },
  {
   "cell_type": "code",
   "execution_count": null,
   "id": "5bb4bac5",
   "metadata": {},
   "outputs": [],
   "source": []
  },
  {
   "cell_type": "code",
   "execution_count": null,
   "id": "2111a594",
   "metadata": {},
   "outputs": [],
   "source": []
  },
  {
   "cell_type": "code",
   "execution_count": null,
   "id": "a9198dd6",
   "metadata": {},
   "outputs": [],
   "source": []
  },
  {
   "cell_type": "code",
   "execution_count": null,
   "id": "577f19d4",
   "metadata": {},
   "outputs": [],
   "source": []
  },
  {
   "cell_type": "code",
   "execution_count": null,
   "id": "9bc7cdd5",
   "metadata": {},
   "outputs": [],
   "source": []
  },
  {
   "cell_type": "code",
   "execution_count": null,
   "id": "7e044034",
   "metadata": {},
   "outputs": [],
   "source": []
  },
  {
   "cell_type": "code",
   "execution_count": null,
   "id": "5ff06120",
   "metadata": {},
   "outputs": [],
   "source": []
  },
  {
   "cell_type": "code",
   "execution_count": null,
   "id": "13209f27",
   "metadata": {},
   "outputs": [],
   "source": []
  },
  {
   "cell_type": "code",
   "execution_count": null,
   "id": "2027f77f",
   "metadata": {},
   "outputs": [],
   "source": []
  }
 ],
 "metadata": {
  "kernelspec": {
   "display_name": "Python 3",
   "language": "python",
   "name": "python3"
  },
  "language_info": {
   "codemirror_mode": {
    "name": "ipython",
    "version": 3
   },
   "file_extension": ".py",
   "mimetype": "text/x-python",
   "name": "python",
   "nbconvert_exporter": "python",
   "pygments_lexer": "ipython3",
   "version": "3.7.10"
  }
 },
 "nbformat": 4,
 "nbformat_minor": 5
}
