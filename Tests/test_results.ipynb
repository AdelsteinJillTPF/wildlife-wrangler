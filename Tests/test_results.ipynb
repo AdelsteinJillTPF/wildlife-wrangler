{
 "cells": [
  {
   "cell_type": "markdown",
   "id": "b3baa897",
   "metadata": {},
   "source": [
    "# Test of whether parameters were successfully applied\n",
    "Provide the path to an ouput sqlite database and this code will check the attributes of results against the parameters that were supposed to be applied."
   ]
  },
  {
   "cell_type": "code",
   "execution_count": 53,
   "id": "1a36020b",
   "metadata": {},
   "outputs": [],
   "source": [
    "import sqlite3\n",
    "import pandas as pd\n",
    "\n",
    "database = \"T:/Occurrence_Records/All_params_1.sqlite\""
   ]
  },
  {
   "cell_type": "code",
   "execution_count": 54,
   "id": "2d1baf11",
   "metadata": {},
   "outputs": [],
   "source": [
    "def validate_output(database):\n",
    "    '''\n",
    "    Compares the occurrence record attributes to the filters that were supposed to be applied.  \n",
    "    \n",
    "    PARAMTERS\n",
    "    ---------\n",
    "    database: path to a wrangler output database\n",
    "    \n",
    "    RESULTS\n",
    "    -------\n",
    "    prints messages if tests are failed\n",
    "    '''\n",
    "    import sqlite3\n",
    "    import pandas as pd\n",
    "    \n",
    "    return"
   ]
  },
  {
   "cell_type": "code",
   "execution_count": 55,
   "id": "cbba9812",
   "metadata": {},
   "outputs": [
    {
     "name": "stdout",
     "output_type": "stream",
     "text": [
      "                            value\n",
      "key                              \n",
      "ID                        bwitux0\n",
      "GBIF_ID                   9606290\n",
      "EBIRD_ID              Wild Turkey\n",
      "detection_distance_m          300\n",
      "TAXON_EOO                    None\n",
      "                                                                        value\n",
      "parameter                                                                    \n",
      "name                                                               Test_EBD_1\n",
      "query_polygon                                                            None\n",
      "issues_omit                 ['TAXON_MATCH_HIGHERRANK', 'COORDINATE_UNCERTA...\n",
      "sampling_protocols_omit                  ['eBird Pelagic Protocol', 'Random']\n",
      "bases_omit                      ['PRESERVED_SPECIMEN', 'MACHINE_OBSERVATION']\n",
      "has_coordinate_uncertainty                                              False\n",
      "geoissue                                                                 None\n",
      "default_coordUncertainty                                                 2000\n",
      "max_coordinate_uncertainty                                              10000\n",
      "datasets_omit                   ['Gaia Guide', 'Earth Guardians Weekly Feed']\n",
      "collection_codes_omit                                ['naturgucker', 'VBBA2']\n",
      "institutions_omit           ['e3aa237e-53c8-4c46-93ef-77a18bb9c80e', 'urn:...\n",
      "use_taxon_geometry                                                      False\n",
      "lat_range                                                               20,50\n",
      "lon_range                                                            -130,-67\n",
      "country                                                                    US\n",
      "years_range                                                         2018,2021\n",
      "months_range                                                             5,12\n",
      "duplicates_OK                                                           False\n",
      "get_dwca                                                                False\n"
     ]
    }
   ],
   "source": [
    "# Connect to a database\n",
    "conn = sqlite3.connect(database)\n",
    "cursor = conn.cursor()\n",
    "\n",
    "# Get the taxon concept\n",
    "taxon_concept = (pd.read_sql(sql=\"SELECT * FROM taxon_concept;\", con=conn)\n",
    "                 .rename({\"index\": \"key\", \"0\": \"value\"}, axis=1)\n",
    "                 .set_index(\"key\"))\n",
    "print(taxon_concept)\n",
    "\n",
    "# Get the filter set that was applied\n",
    "filter_set = (pd.read_sql(sql=\"SELECT * FROM filter_set\", con=conn)\n",
    "              .rename({\"index\": \"parameter\", \"0\": \"value\"}, axis=1)\n",
    "              .set_index(\"parameter\"))\n",
    "print(filter_set)"
   ]
  },
  {
   "cell_type": "code",
   "execution_count": 56,
   "id": "391d200f",
   "metadata": {},
   "outputs": [],
   "source": [
    "# Presence only\n",
    "presabs = [x[0] for x in conn.execute(\"SELECT DISTINCT occurrenceStatus FROM occurrence_records;\").fetchall()]\n",
    "if presabs != [\"PRESENT\"]:\n",
    "    print(\"!!! Failed occurrenceStatus test: \" + str(presabs))"
   ]
  },
  {
   "cell_type": "code",
   "execution_count": 57,
   "id": "d0de873f",
   "metadata": {},
   "outputs": [],
   "source": [
    "# DWCA archive\n",
    "if filter_set.loc[\"get_dwca\", \"value\"] == \"True\":\n",
    "    try:\n",
    "        conn.execute(\"SELECT download_key FROM GBIF_download_info;\").fetchall()\n",
    "    except:\n",
    "        print(\"!!! Failed DWCA download key test\")"
   ]
  },
  {
   "cell_type": "code",
   "execution_count": 58,
   "id": "2c79e7fc",
   "metadata": {},
   "outputs": [],
   "source": [
    "# Latitude range\n",
    "lat_range = filter_set.loc[\"lat_range\", \"value\"]\n",
    "if lat_range != \"None\":\n",
    "    lat_range = [float(x) for x in lat_range.split(\",\")]\n",
    "    max_lat = float(conn.execute(\"SELECT MAX(decimalLatitude) FROM occurrence_records;\").fetchall()[0][0])\n",
    "    min_lat = float(conn.execute(\"SELECT MIN(decimalLatitude) FROM occurrence_records;\").fetchall()[0][0])\n",
    "    if (min_lat < lat_range[0] or max_lat > lat_range[1]):\n",
    "        print(\"!!! Failed test of decimalLatitude values\")\n",
    "\n",
    "# Longitude range\n",
    "lon_range = filter_set.loc[\"lon_range\", \"value\"]\n",
    "if lon_range != \"None\":\n",
    "    lon_range = [float(x) for x in lon_range.split(\",\")]\n",
    "    max_lon = float(conn.execute(\"SELECT MAX(decimalLongitude) FROM occurrence_records;\").fetchall()[0][0])\n",
    "    min_lon = float(conn.execute(\"SELECT MIN(decimalLongitude) FROM occurrence_records;\").fetchall()[0][0])\n",
    "    if (min_lon < lon_range[0] or max_lon > lon_range[1]):\n",
    "        print(\"!!! Failed test of decimalLongitude values\")"
   ]
  },
  {
   "cell_type": "code",
   "execution_count": 72,
   "id": "095277c2",
   "metadata": {},
   "outputs": [],
   "source": [
    "# Years range\n",
    "yrs_range = filter_set.loc[\"years_range\", \"value\"]\n",
    "if yrs_range != \"None\":\n",
    "    yrs_range = [float(x) for x in yrs_range.split(\",\")]\n",
    "    max_yr = float(conn.execute(\"SELECT MAX(strftime('%Y', eventDate)) FROM occurrence_records;\").fetchall()[0][0])\n",
    "    min_yr = float(conn.execute(\"SELECT MIN(strftime('%Y', eventDate)) FROM occurrence_records;\").fetchall()[0][0])\n",
    "    if (min_yr < yrs_range[0] or max_yr > yrs_range[1]):\n",
    "        print(\"!!! Failed test of year (eventDate) values\")"
   ]
  },
  {
   "cell_type": "code",
   "execution_count": 102,
   "id": "2ba90aff",
   "metadata": {},
   "outputs": [],
   "source": [
    "# Months range\n",
    "months_range = filter_set.loc[\"months_range\", \"value\"]\n",
    "if months_range != \"None\":\n",
    "    months_range = [float(x) for x in months_range.split(\",\")]\n",
    "    max_month = float(conn.execute(\"SELECT MAX(strftime('%m', eventDate)) FROM occurrence_records;\").fetchall()[0][0])\n",
    "    min_month = float(conn.execute(\"SELECT MIN(strftime('%m', eventDate)) FROM occurrence_records;\").fetchall()[0][0])\n",
    "    # Months range could be like 1,12\n",
    "    if months_range[0] < months_range[1]:\n",
    "        if (min_month < months_range[0] or max_month > months_range[1]):\n",
    "            print(\"!!! Failed test of month (eventDate) values\")\n",
    "    # Months range could be like 11,3\n",
    "    if months_range[0] > months_range[1]:\n",
    "        no_months = list(range(months_range[1] + 1, months_range[0]) -1)\n",
    "        months = conn.execute(\"SELECT DISTINCT strftime('%m', eventDate) FROM occurrence_records;\").fetchall()\n",
    "        months = [int(x[0]) for x in months]\n",
    "        if len(set(months) & set(no_months)) != 0:\n",
    "            print(\"!!! Failed test of month (eventDate) values\")"
   ]
  },
  {
   "cell_type": "code",
   "execution_count": 95,
   "id": "e82f4fdf",
   "metadata": {},
   "outputs": [
    {
     "name": "stdout",
     "output_type": "stream",
     "text": [
      "[4, 5, 6, 7, 8, 9]\n",
      "[5, 6, 7, 8, 9, 10, 11, 12]\n",
      "!!! Failed test of month (eventDate) values\n"
     ]
    }
   ],
   "source": [
    "a = 11\n",
    "b = 3\n",
    "no_months = list(range(b + 1, a - 1))\n",
    "print(no_months)\n",
    "months = conn.execute(\"SELECT DISTINCT strftime('%m', eventDate) FROM occurrence_records;\").fetchall()\n",
    "months = [int(x[0]) for x in months]\n",
    "print(sorted(months))\n",
    "if len(set(months) & set(no_months)) != 0:\n",
    "    print(\"!!! Failed test of month (eventDate) values\")"
   ]
  },
  {
   "cell_type": "code",
   "execution_count": 59,
   "id": "a3bc5dd2",
   "metadata": {},
   "outputs": [
    {
     "name": "stdout",
     "output_type": "stream",
     "text": [
      "['nan']\n",
      "['TAXON_MATCH_HIGHERRANK', 'COORDINATE_UNCERTAINTY_METERS_INVALID']\n",
      "['TAXON_MATCH_HIGHERRANK, COORDINATE_UNCERTAINTY_METERS_INVALID']\n"
     ]
    }
   ],
   "source": [
    "multilists = {\"issues_omit\": \"issues\", \"sampling_protocols_omit\": \"samplingProtocol\", \"bases_omit\": \"basisOfRecord\", \n",
    "              \"datasets_omit\": \"datasetName\", \"collection_codes_omit\": \"collectionCode\", \"institutions_omit\": \"institutionID\"}\n",
    "\n",
    "# Issues\n",
    "values = [x[0] for x in conn.execute(\"SELECT DISTINCT issues FROM occurrence_records\").fetchall()]\n",
    "print(values)\n",
    "parameter = filter_set.loc[\"issues_omit\", \"value\"]\n",
    "print(parameter)\n",
    "a = []\n",
    "a.append(parameter.replace(\"'\", \"\").replace(\"[\", \"\").replace(\"]\", \"\"))\n",
    "print(a)\n",
    "\n"
   ]
  },
  {
   "cell_type": "code",
   "execution_count": null,
   "id": "5e24af32",
   "metadata": {},
   "outputs": [],
   "source": []
  },
  {
   "cell_type": "code",
   "execution_count": null,
   "id": "1690a1dd",
   "metadata": {},
   "outputs": [],
   "source": []
  },
  {
   "cell_type": "code",
   "execution_count": null,
   "id": "f6edfeea",
   "metadata": {},
   "outputs": [],
   "source": []
  },
  {
   "cell_type": "code",
   "execution_count": null,
   "id": "15c8a148",
   "metadata": {},
   "outputs": [],
   "source": []
  }
 ],
 "metadata": {
  "kernelspec": {
   "display_name": "Python 3",
   "language": "python",
   "name": "python3"
  },
  "language_info": {
   "codemirror_mode": {
    "name": "ipython",
    "version": 3
   },
   "file_extension": ".py",
   "mimetype": "text/x-python",
   "name": "python",
   "nbconvert_exporter": "python",
   "pygments_lexer": "ipython3",
   "version": "3.7.10"
  }
 },
 "nbformat": 4,
 "nbformat_minor": 5
}
