{
 "cells": [
  {
   "cell_type": "markdown",
   "metadata": {},
   "source": [
    "# Create output with footprintWKT\n",
    "\n",
    "The following code can be edited with your notebook's name and run in command line in order to generate output without the input code:\n",
    "\n",
    "jupyter nbconvert --to html --TemplateExporter.exclude_input=True --output-dir=\"T:/Temp/\" NOTEBOOKNAMEHERE.ipynb"
   ]
  },
  {
   "cell_type": "code",
   "execution_count": 1,
   "metadata": {},
   "outputs": [],
   "source": [
    "# Specify some paths and names in the cell below.\n",
    "config_path = \"T:/Data/\"  # Path to folder where you saved your wildlifeconfig file.\n",
    "filter_set_json = None\n",
    "taxon_json = None\n",
    "query_name = 'footprintWKT2'\n",
    "ask_eBird = False\n",
    "ask_GBIF = True"
   ]
  },
  {
   "cell_type": "code",
   "execution_count": 2,
   "metadata": {
    "scrolled": true
   },
   "outputs": [
    {
     "name": "stdout",
     "output_type": "stream",
     "text": [
      "Notebook run 2021-06-09 08:42:19.496104\n",
      "Results were saved in T:/Occurrence_Records/footprintWKT2.sqlite\n"
     ]
    }
   ],
   "source": [
    "# Nothing to fill out in the next cell\n",
    "%matplotlib inline\n",
    "import os\n",
    "import sqlite3\n",
    "import pprint\n",
    "import json\n",
    "import pandas as pd\n",
    "import geopandas as gpd\n",
    "import numpy as np\n",
    "import matplotlib.pyplot as plt\n",
    "from datetime import datetime\n",
    "import sys\n",
    "sys.path.append(config_path)\n",
    "import wranglerconfig as config\n",
    "sys.path.append(config.codeDir)\n",
    "import wrangler_functions as functions\n",
    "\n",
    "# Define some variables\n",
    "t1 = datetime.now()\n",
    "working_directory = config.workDir\n",
    "username = config.gbif_username\n",
    "password = config.gbif_password\n",
    "email = config.gbif_email\n",
    "EBD_file = config.EBD_file\n",
    "output_database = working_directory + query_name + '.sqlite'\n",
    "\n",
    "# Set display options\n",
    "pd.set_option('display.width', 600)\n",
    "pd.set_option('display.max_colwidth', 80)\n",
    "pd.set_option('display.max_rows', 150)\n",
    "\n",
    "print(\"Notebook run \" + str(t1))\n",
    "print(\"Results were saved in \" + output_database)"
   ]
  },
  {
   "cell_type": "markdown",
   "metadata": {},
   "source": [
    "## Taxon Concept\n",
    "Caution! -- Taxon concept mismatches can cause inclusion of innapropriate records or ommission of useful records."
   ]
  },
  {
   "cell_type": "code",
   "execution_count": 3,
   "metadata": {},
   "outputs": [],
   "source": [
    "your_taxon_id = \"Pileated\"\n",
    "gbif_id = 5228824 \n",
    "ebird_id = \"Pileated Woodpecker\"\n",
    "detection_distance_m = 200\n",
    "taxon_polygon = None"
   ]
  },
  {
   "cell_type": "code",
   "execution_count": 4,
   "metadata": {},
   "outputs": [
    {
     "name": "stdout",
     "output_type": "stream",
     "text": [
      "{'EBIRD_ID': 'Pileated Woodpecker',\n",
      " 'GBIF_ID': 5228824,\n",
      " 'ID': 'Pileated',\n",
      " 'TAXON_EOO': None,\n",
      " 'detection_distance_m': 200}\n"
     ]
    }
   ],
   "source": [
    "# If a json was provided, use it, otherwise create a new one with info that was provided.\n",
    "if taxon_json is None:\n",
    "    # Build a species dictionary\n",
    "    taxon_info = {\"ID\": your_taxon_id, \"GBIF_ID\": gbif_id, \"EBIRD_ID\": ebird_id, \"detection_distance_m\": detection_distance_m,\n",
    "                  \"TAXON_EOO\": taxon_polygon}\n",
    "\n",
    "    # Save as json object\n",
    "    out_file = open(working_directory + your_taxon_id + \".json\", \"w\")  \n",
    "    json.dump(taxon_info, out_file) \n",
    "    out_file.close() \n",
    "\n",
    "if taxon_json is not None:\n",
    "    with open(taxon_json, \"r\") as f:\n",
    "        taxon_info = json.load(f)\n",
    "        f.close()\n",
    "        \n",
    "pprint.pprint(taxon_info)"
   ]
  },
  {
   "cell_type": "markdown",
   "metadata": {},
   "source": [
    "## Filter Set\n",
    "Specify how you want records filtered and cleaned.  Alternatively, you can load a filter set here by specifying a path in the first cell of this notebook.  \n",
    "\n",
    "To skip a filter, enter \"None\" without the quotation marks or \"\".  "
   ]
  },
  {
   "cell_type": "code",
   "execution_count": 5,
   "metadata": {},
   "outputs": [
    {
     "name": "stdout",
     "output_type": "stream",
     "text": [
      "Filter set name: footprintWKT_2\n"
     ]
    }
   ],
   "source": [
    "filter_set_name = \"footprintWKT_2\"\n",
    "print(\"Filter set name: \" + str(filter_set_name))"
   ]
  },
  {
   "cell_type": "markdown",
   "metadata": {},
   "source": [
    "#### GBIF Request Method"
   ]
  },
  {
   "cell_type": "code",
   "execution_count": 6,
   "metadata": {},
   "outputs": [
    {
     "name": "stdout",
     "output_type": "stream",
     "text": [
      "Request a Darwin Core Archive? True\n"
     ]
    }
   ],
   "source": [
    "\"\"\"\n",
    "Whether to get records from GBIF in a darwin core archive.  \n",
    "\"False\" uses the GBIF API, which has limitations that may be important.  \n",
    "\"True\" requests results be emailed in a darwin core archive.\n",
    "\"\"\"\n",
    "get_dwca = True \n",
    "print(\"Request a Darwin Core Archive? \" + str(get_dwca))"
   ]
  },
  {
   "cell_type": "markdown",
   "metadata": {},
   "source": [
    "#### Date Limits\n",
    "Notes: "
   ]
  },
  {
   "cell_type": "code",
   "execution_count": 7,
   "metadata": {},
   "outputs": [
    {
     "name": "stdout",
     "output_type": "stream",
     "text": [
      "Years: 2011,2020\n",
      "Months: 3,8\n"
     ]
    }
   ],
   "source": [
    "'''\n",
    "Enter year and month ranges.  For example, years_range = 2015,2017 and months_range = 3,6\n",
    "'''\n",
    "years_range = \"2011,2020\"\n",
    "months_range = \"3,8\"\n",
    "print(\"Years: \" + str(years_range))\n",
    "print(\"Months: \" + str(months_range))"
   ]
  },
  {
   "cell_type": "markdown",
   "metadata": {},
   "source": [
    "#### Country\n",
    "Notes:"
   ]
  },
  {
   "cell_type": "code",
   "execution_count": 8,
   "metadata": {},
   "outputs": [
    {
     "name": "stdout",
     "output_type": "stream",
     "text": [
      "Country: US\n"
     ]
    }
   ],
   "source": [
    "country = \"US\"\n",
    "print(\"Country: \" + country)"
   ]
  },
  {
   "cell_type": "markdown",
   "metadata": {},
   "source": [
    "#### Bounding Box\n",
    "Notes:"
   ]
  },
  {
   "cell_type": "code",
   "execution_count": 9,
   "metadata": {},
   "outputs": [
    {
     "name": "stdout",
     "output_type": "stream",
     "text": [
      "Latitude range: \n",
      "Longitude range: \n"
     ]
    }
   ],
   "source": [
    "'''\n",
    "Coordinates should correspond to WGS84 (EPSG:4326).  Don't use this option if you specify a query polygon below.\n",
    "'''\n",
    "lat_range = \"\"\n",
    "lon_range = \"\"\n",
    "print(\"Latitude range: \" + lat_range)\n",
    "print(\"Longitude range: \" + lon_range)"
   ]
  },
  {
   "cell_type": "markdown",
   "metadata": {},
   "source": [
    "#### Area of Interest\n",
    "Notes:"
   ]
  },
  {
   "cell_type": "code",
   "execution_count": 10,
   "metadata": {},
   "outputs": [
    {
     "name": "stdout",
     "output_type": "stream",
     "text": [
      "None\n"
     ]
    }
   ],
   "source": [
    "'''\n",
    "Specify polygons to use for spatial filtering.  \n",
    "Records with coordinates outside of the polygons will be removed.  \n",
    "You can specify a geometry for the query and one for the species.  \n",
    "The species geometry is included to facilitate better handling of taxonomic issues.  \n",
    "If both are provided, the intersection is calculated and used as the filter.  \n",
    "The format should be well known text in WGS84 (EPSG 4326), and very importantly, vertices need to be listed counter-clockwise.  \n",
    "See the ccw_wkt_from_shp() function in wrangler functions for help.\n",
    "'''\n",
    "query_polygon = None\n",
    "print(query_polygon)"
   ]
  },
  {
   "cell_type": "markdown",
   "metadata": {},
   "source": [
    "#### Taxon EOO\n",
    "Notes:"
   ]
  },
  {
   "cell_type": "code",
   "execution_count": 11,
   "metadata": {},
   "outputs": [
    {
     "name": "stdout",
     "output_type": "stream",
     "text": [
      "Use taxon extent of occurrence? False\n"
     ]
    }
   ],
   "source": [
    "'''\n",
    "True or False whether you want to apply the taxon EOO to the filtering.  \n",
    "If True, removes records with centroids outside of the extent of occurrence geometry you provided in taxon_info.\n",
    "'''\n",
    "use_taxon_geometry = False\n",
    "print(\"Use taxon extent of occurrence? \" + str(use_taxon_geometry))"
   ]
  },
  {
   "cell_type": "markdown",
   "metadata": {},
   "source": [
    "#### Geoissue\n",
    "Notes:"
   ]
  },
  {
   "cell_type": "code",
   "execution_count": 12,
   "metadata": {},
   "outputs": [
    {
     "name": "stdout",
     "output_type": "stream",
     "text": [
      "Records with geoissues OK? None\n"
     ]
    }
   ],
   "source": [
    "'''\n",
    "Are GBIF records with noted geoissues OK to include? GBIF only.\n",
    "'''\n",
    "geoissue = None\n",
    "print(\"Records with geoissues OK? \" + str(geoissue))"
   ]
  },
  {
   "cell_type": "markdown",
   "metadata": {},
   "source": [
    "#### Collections\n",
    "Notes:"
   ]
  },
  {
   "cell_type": "code",
   "execution_count": 13,
   "metadata": {},
   "outputs": [
    {
     "name": "stdout",
     "output_type": "stream",
     "text": [
      "Omit: None\n"
     ]
    }
   ],
   "source": [
    "'''\n",
    "List collection codes that you'd like to omit. GBIF only.\n",
    "'''\n",
    "collection_codes_omit = None\n",
    "print(\"Omit: \" + str(collection_codes_omit))"
   ]
  },
  {
   "cell_type": "markdown",
   "metadata": {},
   "source": [
    "#### Institutions\n",
    "Notes:"
   ]
  },
  {
   "cell_type": "code",
   "execution_count": 14,
   "metadata": {},
   "outputs": [
    {
     "name": "stdout",
     "output_type": "stream",
     "text": [
      "Omit: None\n"
     ]
    }
   ],
   "source": [
    "'''\n",
    "List institution codes that you'd like to omit. GBIF only\n",
    "'''\n",
    "institutions_omit = None\n",
    "print(\"Omit: \" + str(institutions_omit))"
   ]
  },
  {
   "cell_type": "markdown",
   "metadata": {},
   "source": [
    "#### Datasets\n",
    "Notes:"
   ]
  },
  {
   "cell_type": "code",
   "execution_count": 15,
   "metadata": {},
   "outputs": [
    {
     "name": "stdout",
     "output_type": "stream",
     "text": [
      "Omit: None\n"
     ]
    }
   ],
   "source": [
    "'''\n",
    "List datasets that you'd like to omit.\n",
    "'''\n",
    "datasets_omit = None\n",
    "print(\"Omit: \" + str(datasets_omit))"
   ]
  },
  {
   "cell_type": "markdown",
   "metadata": {},
   "source": [
    "#### Coordinate Uncertainty\n",
    "Notes:"
   ]
  },
  {
   "cell_type": "code",
   "execution_count": 16,
   "metadata": {},
   "outputs": [
    {
     "name": "stdout",
     "output_type": "stream",
     "text": [
      "Coordinate uncertainty required? False\n",
      "Default coordinate uncertainty to use: 1000\n",
      "Maximum allowable coordinate uncertainty: 1000000\n"
     ]
    }
   ],
   "source": [
    "'''\n",
    "Do you want to remove records without coordinate uncertainty (1) or leave them in the data set (0)?  \n",
    "Note that eBird records in GBIF (EOD) do not have this and neither do data in the EBD dataset.  \n",
    "With the EBD, the length of traveling counts is used as a surrogate value.  \n",
    "\n",
    "max_coordinate_uncertainty must be an integer greater than 0.\n",
    "\n",
    "default_coordUncertainty -- coordinateUncertaintyInMeters is often not provided.  \n",
    "Here is an option to use a default.  If you don't want anything entered, set this equal to False (boolean, not string).\n",
    "\n",
    "A maximum for coordinate uncertainty can also be set in meters.\n",
    "'''\n",
    "has_coordinate_uncertainty = False\n",
    "default_coordUncertainty = 1000\n",
    "max_coordinate_uncertainty = 1000000\n",
    "print(\"Coordinate uncertainty required? \" + str(has_coordinate_uncertainty))\n",
    "print(\"Default coordinate uncertainty to use: \" + str(default_coordUncertainty))\n",
    "print(\"Maximum allowable coordinate uncertainty: \" + str(max_coordinate_uncertainty))"
   ]
  },
  {
   "cell_type": "markdown",
   "metadata": {},
   "source": [
    "#### Bases\n",
    "Notes:"
   ]
  },
  {
   "cell_type": "code",
   "execution_count": 17,
   "metadata": {},
   "outputs": [
    {
     "name": "stdout",
     "output_type": "stream",
     "text": [
      "Omit: None\n"
     ]
    }
   ],
   "source": [
    "'''\n",
    "List bases of records that you want to omit.  GBIF only.\n",
    "'''\n",
    "bases_omit = None\n",
    "print(\"Omit: \" + str(bases_omit))"
   ]
  },
  {
   "cell_type": "markdown",
   "metadata": {},
   "source": [
    "#### Sampling Protocols\n",
    "Notes:"
   ]
  },
  {
   "cell_type": "code",
   "execution_count": 18,
   "metadata": {},
   "outputs": [
    {
     "name": "stdout",
     "output_type": "stream",
     "text": [
      "Omit: None\n"
     ]
    }
   ],
   "source": [
    "'''\n",
    "List sampling protocols that you would like to omit.\n",
    "'''\n",
    "sampling_protocols_omit = None\n",
    "print(\"Omit: \" + str(sampling_protocols_omit))"
   ]
  },
  {
   "cell_type": "markdown",
   "metadata": {},
   "source": [
    "#### Issues\n",
    "Notes:"
   ]
  },
  {
   "cell_type": "code",
   "execution_count": 19,
   "metadata": {},
   "outputs": [
    {
     "name": "stdout",
     "output_type": "stream",
     "text": [
      "Omit: None\n"
     ]
    }
   ],
   "source": [
    "'''\n",
    "List issues that you want to omit.  GBIF only.\n",
    "'''\n",
    "issues_omit = None\n",
    "print(\"Omit: \" + str(issues_omit))"
   ]
  },
  {
   "cell_type": "markdown",
   "metadata": {},
   "source": [
    "#### Duplicates\n",
    "Notes:"
   ]
  },
  {
   "cell_type": "code",
   "execution_count": 20,
   "metadata": {},
   "outputs": [
    {
     "name": "stdout",
     "output_type": "stream",
     "text": [
      "Allow duplicates? True\n"
     ]
    }
   ],
   "source": [
    "'''\n",
    "Specify whether duplicates on latitude, longitude, and date should be included.\n",
    "'''\n",
    "duplicates_OK = True\n",
    "print(\"Allow duplicates? \" + str(duplicates_OK))"
   ]
  },
  {
   "cell_type": "markdown",
   "metadata": {},
   "source": [
    "#### Filter Set Summary"
   ]
  },
  {
   "cell_type": "code",
   "execution_count": 21,
   "metadata": {
    "scrolled": true
   },
   "outputs": [
    {
     "name": "stdout",
     "output_type": "stream",
     "text": [
      "{'bases_omit': None,\n",
      " 'collection_codes_omit': None,\n",
      " 'country': 'US',\n",
      " 'datasets_omit': None,\n",
      " 'default_coordUncertainty': 1000,\n",
      " 'duplicates_OK': True,\n",
      " 'geoissue': None,\n",
      " 'get_dwca': True,\n",
      " 'has_coordinate_uncertainty': False,\n",
      " 'institutions_omit': None,\n",
      " 'issues_omit': None,\n",
      " 'lat_range': None,\n",
      " 'lon_range': None,\n",
      " 'max_coordinate_uncertainty': 1000000,\n",
      " 'months_range': '3,8',\n",
      " 'name': 'footprintWKT_2',\n",
      " 'query_polygon': None,\n",
      " 'sampling_protocols_omit': None,\n",
      " 'use_taxon_geometry': False,\n",
      " 'years_range': '2011,2020'}\n"
     ]
    }
   ],
   "source": [
    "if filter_set_json is None:\n",
    "    # Build a filter set dictionary\n",
    "    filter_set = {\"name\": filter_set_name, \"query_polygon\": query_polygon, \"issues_omit\": issues_omit,\n",
    "                  \"sampling_protocols_omit\": sampling_protocols_omit, \"bases_omit\": bases_omit,\n",
    "                  \"has_coordinate_uncertainty\": has_coordinate_uncertainty, \"geoissue\": geoissue,\n",
    "                  \"default_coordUncertainty\": default_coordUncertainty,\n",
    "                  \"max_coordinate_uncertainty\": max_coordinate_uncertainty,\n",
    "                  \"datasets_omit\": datasets_omit, \"collection_codes_omit\": collection_codes_omit,\n",
    "                  \"institutions_omit\": institutions_omit, \"geoissue\": geoissue, \"use_taxon_geometry\": use_taxon_geometry,\n",
    "                  \"lat_range\": lat_range, \"lon_range\": lon_range, \"country\": country, \n",
    "                  \"years_range\": years_range, \"months_range\": months_range, \"duplicates_OK\": duplicates_OK, \"get_dwca\": get_dwca}\n",
    "    \n",
    "    # Replace empty strings with None\n",
    "    for x in filter_set.keys():\n",
    "        if filter_set[x] == \"\":\n",
    "            filter_set[x] = None\n",
    "    \n",
    "    # Save as json object\n",
    "    with open(working_directory + filter_set_name + \".json\", \"w\") as f:\n",
    "        json.dump(filter_set, f) \n",
    "        f.close()\n",
    "        \n",
    "if filter_set_json is not None:\n",
    "    with open(filter_set_json, \"r\") as f:\n",
    "        filter_set = json.load(f)\n",
    "        f.close()\n",
    "        \n",
    "    # Replace empty strings with None\n",
    "    for x in filter_set.keys():\n",
    "        if filter_set[x] == \"\":\n",
    "            filter_set[x] = None\n",
    "        \n",
    "pprint.pprint(filter_set)"
   ]
  },
  {
   "cell_type": "markdown",
   "metadata": {},
   "source": [
    "## Processing"
   ]
  },
  {
   "cell_type": "code",
   "execution_count": 22,
   "metadata": {},
   "outputs": [],
   "source": [
    "# Create an output database\n",
    "functions.build_output_database(output_database)\n",
    "\n",
    "# Save taxon and filter set info into database\n",
    "output_db_conn= sqlite3.connect(output_database)\n",
    "cursor = output_db_conn.cursor()\n",
    "pd.DataFrame(taxon_info.values(), taxon_info.keys()).applymap(str).to_sql(name='taxon_concept', con=output_db_conn, if_exists='replace')\n",
    "pd.DataFrame(filter_set.values(), filter_set.keys()).applymap(str).to_sql(name='filter_set', con=output_db_conn, if_exists='replace')\n",
    "output_db_conn.close()"
   ]
  },
  {
   "cell_type": "code",
   "execution_count": 23,
   "metadata": {},
   "outputs": [
    {
     "name": "stdout",
     "output_type": "stream",
     "text": [
      "Prepared filter set and sorted out geometry constraints: 0:00:00.015606\n",
      "923048 records available\n",
      "['taxonKey = 5228824', 'hasCoordinate = True', 'country = US', 'year >= 2011', 'year <= 2020', 'month >= 3', 'month <= 8']\n",
      "Your download key is  0298431-200613084148143\n",
      "Downloading Darwin Core Archive zip file for this species .....\n",
      "Download file size: 212890923 bytes\n",
      "Download file size: 212890923 bytes\n",
      "Download file size: 212890923 bytes\n",
      "Download file size: 212890923 bytes\n",
      "Download file size: 212890923 bytes\n",
      "Download file size: 212890923 bytes\n",
      "Download file size: 212890923 bytes\n",
      "Download file size: 212890923 bytes\n",
      "Download file size: 212890923 bytes\n",
      "Download file size: 212890923 bytes\n",
      "Download file size: 212890923 bytes\n",
      "Download file size: 212890923 bytes\n",
      "Download file size: 212890923 bytes\n",
      "Download file size: 212890923 bytes\n",
      "Download file size: 212890923 bytes\n",
      "Download file size: 212890923 bytes\n",
      "Download file size: 212890923 bytes\n",
      "Download file size: 212890923 bytes\n",
      "Download file size: 212890923 bytes\n",
      "Download file size: 212890923 bytes\n",
      "Download file size: 212890923 bytes\n",
      "Download file size: 212890923 bytes\n",
      "Download file size: 212890923 bytes\n",
      "Download file size: 212890923 bytes\n",
      "Download file size: 212890923 bytes\n",
      "Download file size: 212890923 bytes\n",
      "Download file size: 212890923 bytes\n",
      "Download file size: 212890923 bytes\n",
      "Download file size: 212890923 bytes\n",
      "Download file size: 212890923 bytes\n",
      "Download file size: 212890923 bytes\n",
      "Download file size: 212890923 bytes\n",
      "Download file size: 212890923 bytes\n",
      "Download file size: 212890923 bytes\n",
      "Download file size: 212890923 bytes\n",
      "Download file size: 212890923 bytes\n",
      "Download file size: 212890923 bytes\n",
      "Download file size: 212890923 bytes\n",
      "Download file size: 212890923 bytes\n",
      "Download file size: 212890923 bytes\n",
      "Download file size: 212890923 bytes\n",
      "Download file size: 212890923 bytes\n",
      "Download file size: 212890923 bytes\n",
      "Download file size: 212890923 bytes\n",
      "Download file size: 212890923 bytes\n",
      "Download file size: 212890923 bytes\n",
      "Download file size: 212890923 bytes\n",
      "Download file size: 212890923 bytes\n",
      "Download file size: 212890923 bytes\n",
      "Download file size: 212890923 bytes\n",
      "Download file size: 212890923 bytes\n",
      "Download file size: 212890923 bytes\n",
      "Download file size: 212890923 bytes\n",
      "Download file size: 212890923 bytes\n",
      "Download file size: 212890923 bytes\n",
      "Download file size: 212890923 bytes\n",
      "Download file size: 212890923 bytes\n",
      "Download file size: 212890923 bytes\n",
      "Download file size: 212890923 bytes\n",
      "Download file size: 212890923 bytes\n",
      "Download file size: 212890923 bytes\n",
      "Download file size: 212890923 bytes\n",
      "Download file size: 212890923 bytes\n",
      "Download file size: 212890923 bytes\n",
      "Download file size: 212890923 bytes\n",
      "Download file size: 212890923 bytes\n",
      "Download file size: 212890923 bytes\n",
      "Download file size: 212890923 bytes\n",
      "Download file size: 212890923 bytes\n",
      "Download file size: 212890923 bytes\n",
      "Download file size: 212890923 bytes\n",
      "Download file size: 212890923 bytes\n",
      "Download file size: 212890923 bytes\n",
      "Download file size: 212890923 bytes\n",
      "Download file size: 212890923 bytes\n",
      "Download file size: 212890923 bytes\n",
      "TIMED OUT -- attempting to proceed anyways\n",
      "Stored GBIF Download DOI etc.: 0:00:00.004687\n",
      "Summarized fields returned: 0:00:05.746967\n",
      "Prepared GBIF records for processing: 0:00:24.920938\n"
     ]
    }
   ],
   "source": [
    "# Run the appropriate queries\n",
    "if ask_eBird == True and ask_GBIF == True:\n",
    "    # Run eBird query\n",
    "    ebird_data = functions.get_EBD_records(taxon_info, filter_set, working_directory, EBD_file, query_name)\n",
    "    # Run GBIF query\n",
    "    gbif_data = functions.get_GBIF_records(taxon_info, filter_set, query_name, working_directory, username, password, email) \n",
    "\n",
    "elif ask_eBird == True and ask_GBIF == False:\n",
    "    # Run eBird query\n",
    "    ebird_data = functions.get_EBD_records(taxon_info, filter_set, working_directory, EBD_file, query_name)\n",
    "    gbif_data = None\n",
    "\n",
    "elif ask_eBird == False and ask_GBIF == True:\n",
    "    # Run GBIF query\n",
    "    gbif_data = functions.get_GBIF_records(taxon_info, filter_set, query_name, working_directory, username, password, email)\n",
    "    ebird_data = None"
   ]
  },
  {
   "cell_type": "code",
   "execution_count": 24,
   "metadata": {},
   "outputs": [],
   "source": [
    "# Filter out records with undesirable values, locations, and/or duplication.\n",
    "#import importlib\n",
    "#importlib.reload(functions)\n",
    "for x in filter_set.keys():\n",
    "    if filter_set[x] == \"\":\n",
    "        filter_set[x] = None"
   ]
  },
  {
   "cell_type": "code",
   "execution_count": 25,
   "metadata": {
    "scrolled": true
   },
   "outputs": [
    {
     "name": "stdout",
     "output_type": "stream",
     "text": [
      "Prepared data frames for processing: 0:00:01.852553\n",
      "Summarized values acquired: 0:00:02.563290\n",
      "Number of georeferenced records: 3866\n",
      "Number of record without georeference: 919182\n",
      "Applying default coordinate uncertainties\n",
      "Prepared and georeferenced records:0:00:05.120561\n",
      "Performed filtering: 0:00:09.230327\n",
      "DUPLICATES ON LATITUDE, LONGITUDE, DATE-TIME INCLUDED\n",
      "Saved summary of filtering results: 0:00:02.682467\n"
     ]
    }
   ],
   "source": [
    "functions.process_records(ebird_data=ebird_data, gbif_data=gbif_data, filter_set=filter_set, \n",
    "                        taxon_info=taxon_info, working_directory=working_directory, \n",
    "                        query_name=query_name)"
   ]
  },
  {
   "cell_type": "code",
   "execution_count": 26,
   "metadata": {},
   "outputs": [
    {
     "name": "stdout",
     "output_type": "stream",
     "text": [
      "923043 records were saved in the output database\n"
     ]
    }
   ],
   "source": [
    "output_db_conn= sqlite3.connect(output_database)\n",
    "cursor = output_db_conn.cursor()\n",
    "record_count = cursor.execute(\"SELECT COUNT(record_id) FROM occurrence_records;\").fetchone()\n",
    "print(str(record_count[0]) + \" records were saved in the output database\")"
   ]
  },
  {
   "cell_type": "markdown",
   "metadata": {},
   "source": [
    "## Results of the Filtering"
   ]
  },
  {
   "cell_type": "markdown",
   "metadata": {},
   "source": [
    "#### Attributes Returned for GBIF Records\n",
    "This count was made before filters were applied"
   ]
  },
  {
   "cell_type": "code",
   "execution_count": 27,
   "metadata": {
    "scrolled": true
   },
   "outputs": [
    {
     "name": "stdout",
     "output_type": "stream",
     "text": [
      "                                 attribute  included(n)  populated(n)\n",
      "Field                                                                \n",
      "0                                 abstract       923048             0\n",
      "182                      acceptedNameUsage       923048             0\n",
      "175                    acceptedNameUsageID       923048        923048\n",
      "230                 acceptedScientificName       923048        923048\n",
      "219                       acceptedTaxonKey       923048        923048\n",
      "1                             accessRights       923048            28\n",
      "2                            accrualMethod       923048             0\n",
      "3                       accrualPeriodicity       923048             0\n",
      "4                            accrualPolicy       923048             0\n",
      "5                              alternative       923048             0\n",
      "89                   associatedOccurrences       923048             0\n",
      "90                     associatedOrganisms       923048             0\n",
      "81                    associatedReferences       923048             1\n",
      "82                     associatedSequences       923048             0\n",
      "83                          associatedTaxa       923048            27\n",
      "6                                 audience       923048             0\n",
      "7                                available       923048             0\n",
      "62                           basisOfRecord       923048        923048\n",
      "164                                    bed       923048             0\n",
      "76                                behavior       923048            79\n",
      "8                    bibliographicCitation       923048             6\n",
      "67                           catalogNumber       923048        923043\n",
      "191                                  class       923048        923048\n",
      "222                               classKey       923048        923048\n",
      "59                          collectionCode       923048        923043\n",
      "56                            collectionID       923048            16\n",
      "9                               conformsTo       923048             0\n",
      "115                              continent       923048            61\n",
      "10                             contributor       923048             0\n",
      "134                    coordinatePrecision       923048             0\n",
      "133          coordinateUncertaintyInMeters       923048          3866\n",
      "119                            countryCode       923048        923048\n",
      "121                                 county       923048        918264\n",
      "11                                coverage       923048             0\n",
      "12                                 created       923048             0\n",
      "13                                 creator       923048             0\n",
      "64                     dataGeneralizations       923048            11\n",
      "57                               datasetID       923048             7\n",
      "205                             datasetKey       923048        923048\n",
      "60                             datasetName       923048        923048\n",
      "14                                    date       923048             0\n",
      "15                            dateAccepted       923048             0\n",
      "16                         dateCopyrighted       923048             0\n",
      "169                         dateIdentified       923048          4535\n",
      "17                           dateSubmitted       923048             0\n",
      "103                                    day       923048        923046\n",
      "131                        decimalLatitude       923048        923048\n",
      "132                       decimalLongitude       923048        923048\n",
      "210                                  depth       923048             2\n",
      "211                          depthAccuracy       923048             2\n",
      "18                             description       923048             0\n",
      "80                             disposition       923048             1\n",
      "212                   distanceAboveSurface       923048             0\n",
      "213           distanceAboveSurfaceAccuracy       923048             0\n",
      "65                       dynamicProperties       923048            11\n",
      "156               earliestAgeOrLowestStage       923048             0\n",
      "148            earliestEonOrLowestEonothem       923048             0\n",
      "154            earliestEpochOrLowestSeries       923048             0\n",
      "150             earliestEraOrLowestErathem       923048             0\n",
      "152           earliestPeriodOrLowestSystem       923048             0\n",
      "19                          educationLevel       923048             0\n",
      "208                              elevation       923048             3\n",
      "209                      elevationAccuracy       923048             3\n",
      "100                           endDayOfYear       923048            15\n",
      "77                      establishmentMeans       923048            15\n",
      "97                               eventDate       923048        923048\n",
      "94                                 eventID       923048             0\n",
      "111                           eventRemarks       923048             0\n",
      "98                               eventTime       923048          4190\n",
      "20                                  extent       923048             0\n",
      "193                                 family       923048        923048\n",
      "224                              familyKey       923048        923048\n",
      "110                             fieldNotes       923048            72\n",
      "96                             fieldNumber       923048             3\n",
      "139                           footprintSRS       923048             0\n",
      "140                    footprintSpatialFit       923048             0\n",
      "138                           footprintWKT       923048             0\n",
      "21                                  format       923048             0\n",
      "162                              formation       923048             0\n",
      "229                            genericName       923048        923048\n",
      "194                                  genus       923048        923048\n",
      "225                               genusKey       923048        923048\n",
      "249                          geodeticDatum       923048        923048\n",
      "147                    geologicalContextID       923048             0\n",
      "143                   georeferenceProtocol       923048            12\n",
      "146                    georeferenceRemarks       923048             1\n",
      "144                    georeferenceSources       923048             5\n",
      "145         georeferenceVerificationStatus       923048            18\n",
      "141                        georeferencedBy       923048             3\n",
      "142                      georeferencedDate       923048             3\n",
      "161                                  group       923048             0\n",
      "105                                habitat       923048             1\n",
      "216                          hasCoordinate       923048        923048\n",
      "22                               hasFormat       923048             0\n",
      "217                    hasGeospatialIssues       923048        923048\n",
      "23                                 hasPart       923048             0\n",
      "24                              hasVersion       923048             0\n",
      "188                   higherClassification       923048           125\n",
      "114                        higherGeography       923048            27\n",
      "113                      higherGeographyID       923048             0\n",
      "159            highestBiostratigraphicZone       923048             0\n",
      "165                       identificationID       923048          4534\n",
      "166                identificationQualifier       923048             1\n",
      "170               identificationReferences       923048             0\n",
      "172                  identificationRemarks       923048            44\n",
      "171       identificationVerificationStatus       923048             1\n",
      "168                           identifiedBy       923048          4539\n",
      "239                         identifiedByID       923048            60\n",
      "25                              identifier       923048        922994\n",
      "70                         individualCount       923048        890883\n",
      "63                     informationWithheld       923048           282\n",
      "197                   infraspecificEpithet       923048            34\n",
      "58                         institutionCode       923048        922936\n",
      "55                           institutionID       923048            20\n",
      "26                     instructionalMethod       923048             0\n",
      "27                              isFormatOf       923048             0\n",
      "28                                isPartOf       923048             0\n",
      "29                          isReferencedBy       923048             0\n",
      "30                            isReplacedBy       923048             0\n",
      "31                            isRequiredBy       923048             0\n",
      "32                             isVersionOf       923048             0\n",
      "118                                 island       923048             0\n",
      "117                            islandGroup       923048             0\n",
      "214                                  issue       923048          4663\n",
      "33                                  issued       923048             0\n",
      "248                    iucnRedListCategory       923048        923014\n",
      "189                                kingdom       923048        923048\n",
      "220                             kingdomKey       923048        923048\n",
      "34                                language       923048            26\n",
      "235                            lastCrawled       923048        923048\n",
      "207                        lastInterpreted       923048        923048\n",
      "234                             lastParsed       923048        923048\n",
      "157                latestAgeOrHighestStage       923048             0\n",
      "149             latestEonOrHighestEonothem       923048             0\n",
      "155             latestEpochOrHighestSeries       923048             0\n",
      "151              latestEraOrHighestErathem       923048             0\n",
      "153            latestPeriodOrHighestSystem       923048             0\n",
      "240                              level0Gid       923048        921374\n",
      "241                             level0Name       923048        921374\n",
      "242                              level1Gid       923048        921374\n",
      "243                             level1Name       923048        921374\n",
      "244                              level2Gid       923048        921374\n",
      "245                             level2Name       923048        921374\n",
      "246                              level3Gid       923048             1\n",
      "247                             level3Name       923048             1\n",
      "35                                 license       923048        923048\n",
      "74                               lifeStage       923048           444\n",
      "160                lithostratigraphicTerms       923048             0\n",
      "123                               locality       923048        918488\n",
      "129                    locationAccordingTo       923048             1\n",
      "112                             locationID       923048             6\n",
      "130                        locationRemarks       923048             7\n",
      "158             lowestBiostratigraphicZone       923048             0\n",
      "93                        materialSampleID       923048             0\n",
      "128    maximumDistanceAboveSurfaceInMeters       923048             0\n",
      "215                              mediaType       923048          4380\n",
      "36                                mediator       923048             0\n",
      "37                                  medium       923048             0\n",
      "163                                 member       923048             0\n",
      "127    minimumDistanceAboveSurfaceInMeters       923048             0\n",
      "38                                modified       923048          4606\n",
      "102                                  month       923048        923048\n",
      "122                           municipality       923048             2\n",
      "185                        nameAccordingTo       923048             0\n",
      "178                      nameAccordingToID       923048             0\n",
      "186                        namePublishedIn       923048             0\n",
      "179                      namePublishedInID       923048             0\n",
      "187                    namePublishedInYear       923048             0\n",
      "201                      nomenclaturalCode       923048            94\n",
      "203                    nomenclaturalStatus       923048             0\n",
      "66                            occurrenceID       923048        922994\n",
      "85                       occurrenceRemarks       923048           885\n",
      "78                        occurrenceStatus       923048        923048\n",
      "192                                  order       923048        923048\n",
      "223                               orderKey       923048        923048\n",
      "86                              organismID       923048             7\n",
      "87                            organismName       923048             0\n",
      "71                        organismQuantity       923048             2\n",
      "72                    organismQuantityType       923048             2\n",
      "92                         organismRemarks       923048             1\n",
      "88                           organismScope       923048             0\n",
      "184                      originalNameUsage       923048             0\n",
      "177                    originalNameUsageID       923048             0\n",
      "84                     otherCatalogNumbers       923048             4\n",
      "61                    ownerInstitutionCode       923048             8\n",
      "95                           parentEventID       923048             0\n",
      "183                        parentNameUsage       923048             0\n",
      "176                      parentNameUsageID       923048             0\n",
      "190                                 phylum       923048        923048\n",
      "221                              phylumKey       923048        923048\n",
      "135                  pointRadiusSpatialFit       923048             0\n",
      "79                            preparations       923048            23\n",
      "91                 previousIdentifications       923048             2\n",
      "233                               protocol       923048        923048\n",
      "39                              provenance       923048             0\n",
      "40                               publisher       923048        923048\n",
      "206                      publishingCountry       923048        923048\n",
      "68                            recordNumber       923048            12\n",
      "69                              recordedBy       923048        923000\n",
      "238                           recordedByID       923048            54\n",
      "41                              references       923048          4681\n",
      "42                                relation       923048             0\n",
      "237               relativeOrganismQuantity       923048             0\n",
      "236                            repatriated       923048        923048\n",
      "43                                replaces       923048             0\n",
      "75                   reproductiveCondition       923048             4\n",
      "44                                requires       923048             0\n",
      "45                                  rights       923048          4561\n",
      "46                            rightsHolder       923048          4667\n",
      "109                         sampleSizeUnit       923048             0\n",
      "108                        sampleSizeValue       923048             0\n",
      "107                         samplingEffort       923048             0\n",
      "106                       samplingProtocol       923048             6\n",
      "181                         scientificName       923048        923048\n",
      "174                       scientificNameID       923048             0\n",
      "73                                     sex       923048           557\n",
      "47                                  source       923048             0\n",
      "48                                 spatial       923048             0\n",
      "228                                species       923048        923048\n",
      "227                             speciesKey       923048        923048\n",
      "196                        specificEpithet       923048        923048\n",
      "99                          startDayOfYear       923048            24\n",
      "120                          stateProvince       923048        922881\n",
      "195                               subgenus       923048             0\n",
      "226                            subgenusKey       923048             0\n",
      "49                                 subject       923048             0\n",
      "50                         tableOfContents       923048             0\n",
      "180                         taxonConceptID       923048             0\n",
      "173                                taxonID       923048          4552\n",
      "218                               taxonKey       923048        923048\n",
      "198                              taxonRank       923048        923048\n",
      "204                           taxonRemarks       923048             1\n",
      "202                        taxonomicStatus       923048        923048\n",
      "51                                temporal       923048             0\n",
      "52                                   title       923048             0\n",
      "53                                    type       923048            26\n",
      "167                             typeStatus       923048             0\n",
      "232                           typifiedName       923048             0\n",
      "54                                   valid       923048             0\n",
      "136               verbatimCoordinateSystem       923048             3\n",
      "126                          verbatimDepth       923048             0\n",
      "125                      verbatimElevation       923048            77\n",
      "104                      verbatimEventDate       923048          4640\n",
      "124                       verbatimLocality       923048          4562\n",
      "137                            verbatimSRS       923048             0\n",
      "231                 verbatimScientificName       923048        923048\n",
      "199                      verbatimTaxonRank       923048             0\n",
      "200                         vernacularName       923048        918419\n",
      "116                              waterBody       923048             0\n",
      "101                                   year       923048        923048\n"
     ]
    }
   ],
   "source": [
    "if ask_GBIF == True:\n",
    "    fields_summary = pd.read_sql(\"SELECT * FROM gbif_fields_returned\", output_db_conn)\n",
    "    fields_summary.index.name = 'Field'\n",
    "    pd.set_option('display.max_rows', 250)\n",
    "    print(fields_summary.sort_values(by=\"attribute\"))\n",
    "if ask_GBIF == False:\n",
    "    print(\"GBIF was not queried.\")"
   ]
  },
  {
   "cell_type": "markdown",
   "metadata": {},
   "source": [
    "#### Attributes Returned for eBird Records\n",
    "This count was made before filters were applied"
   ]
  },
  {
   "cell_type": "code",
   "execution_count": 28,
   "metadata": {},
   "outputs": [
    {
     "name": "stdout",
     "output_type": "stream",
     "text": [
      "No eBird Basic Dataset was queried.\n"
     ]
    }
   ],
   "source": [
    "if ask_eBird == True:\n",
    "    fields_summary = pd.read_sql(\"SELECT * FROM ebird_fields_returned\", output_db_conn)\n",
    "    fields_summary.index.name = 'Field'\n",
    "    pd.set_option('display.max_rows', 250)\n",
    "    print(fields_summary)\n",
    "if ask_eBird == False:\n",
    "    print(\"No eBird Basic Dataset was queried.\")"
   ]
  },
  {
   "cell_type": "markdown",
   "metadata": {},
   "source": [
    "#### Sources"
   ]
  },
  {
   "cell_type": "code",
   "execution_count": 29,
   "metadata": {},
   "outputs": [
    {
     "name": "stdout",
     "output_type": "stream",
     "text": [
      "                                      institutionID  collectionCode                                                        datasetName  acquired  removed  retained\n",
      "0                                              DMNS  Bird specimens                                      DMNS Bird Collection (Arctos)         1        0         1\n",
      "1   http://biocol.org/urn:lsid:biocol.org:col:34795           Birds          Field Museum of Natural History (Zoology) Bird Collection         6        0         6\n",
      "2       http://biocol.org/urn:lsid:biocol:org:34802           Birds                                         LACM Vertebrate Collection         1        0         1\n",
      "3                   http://grbio.org/cool/i64g-wjcr            Bird                                               CUMV Bird Collection         1        0         1\n",
      "4                   http://grbio.org/cool/iakn-125z           Birds                                        KUBI Ornithology Collection         1        0         1\n",
      "5                                               nan            Bird                                                  Bell Museum birds         5        0         5\n",
      "6                                               nan            Bird                                        UWBM Ornithology Collection         2        0         2\n",
      "7                                               nan     Bird sounds                     Xeno-canto - Bird sounds from around the world        70        0        70\n",
      "8                                               nan           EBIRD                                    EOD - eBird Observation Dataset    850144        0    850144\n",
      "9                                               nan        EBIRD_AK                                    EOD - eBird Observation Dataset       100        0       100\n",
      "10                                              nan       EBIRD_ARG                                    EOD - eBird Observation Dataset        26        0        26\n",
      "11                                              nan    EBIRD_ATL_ME                                    EOD - eBird Observation Dataset      2781        0      2781\n",
      "12                                              nan    EBIRD_ATL_VA                                    EOD - eBird Observation Dataset     12771        0     12771\n",
      "13                                              nan    EBIRD_ATL_WI                                    EOD - eBird Observation Dataset     11085        0     11085\n",
      "14                                              nan        EBIRD_AU                                    EOD - eBird Observation Dataset        57        0        57\n",
      "15                                              nan       EBIRD_BCN                                    EOD - eBird Observation Dataset       581        0       581\n",
      "16                                              nan       EBIRD_BRA                                    EOD - eBird Observation Dataset        45        0        45\n",
      "17                                              nan  EBIRD_CAMERICA                                    EOD - eBird Observation Dataset        87        0        87\n",
      "18                                              nan       EBIRD_CAN                                    EOD - eBird Observation Dataset       639        0       639\n",
      "19                                              nan        EBIRD_CB                                    EOD - eBird Observation Dataset        98        0        98\n",
      "20                                              nan        EBIRD_CL                                    EOD - eBird Observation Dataset        53        0        53\n",
      "21                                              nan       EBIRD_COL                                    EOD - eBird Observation Dataset        12        0        12\n",
      "22                                              nan       EBIRD_ESP                                    EOD - eBird Observation Dataset        18        0        18\n",
      "23                                              nan       EBIRD_IND                                    EOD - eBird Observation Dataset        27        0        27\n",
      "24                                              nan      EBIRD_LWBA                                    EOD - eBird Observation Dataset       970        0       970\n",
      "25                                              nan        EBIRD_MA                                    EOD - eBird Observation Dataset       821        0       821\n",
      "26                                              nan        EBIRD_ME                                    EOD - eBird Observation Dataset      2140        0      2140\n",
      "27                                              nan       EBIRD_MEX                                    EOD - eBird Observation Dataset       340        0       340\n",
      "28                                              nan        EBIRD_MO                                    EOD - eBird Observation Dataset       414        0       414\n",
      "29                                              nan        EBIRD_MT                                    EOD - eBird Observation Dataset        11        0        11\n",
      "30                                              nan       EBIRD_MYS                                    EOD - eBird Observation Dataset        12        0        12\n",
      "31                                              nan        EBIRD_NH                                    EOD - eBird Observation Dataset      2377        0      2377\n",
      "32                                              nan        EBIRD_NJ                                    EOD - eBird Observation Dataset      1172        0      1172\n",
      "33                                              nan        EBIRD_NZ                                    EOD - eBird Observation Dataset        12        0        12\n",
      "34                                              nan        EBIRD_PA                                    EOD - eBird Observation Dataset      6519        0      6519\n",
      "35                                              nan        EBIRD_PE                                    EOD - eBird Observation Dataset        13        0        13\n",
      "36                                              nan       EBIRD_PNW                                    EOD - eBird Observation Dataset      5001        0      5001\n",
      "37                                              nan       EBIRD_POR                                    EOD - eBird Observation Dataset         2        0         2\n",
      "38                                              nan        EBIRD_PR                                    EOD - eBird Observation Dataset        18        0        18\n",
      "39                                              nan        EBIRD_QC                                    EOD - eBird Observation Dataset       289        0       289\n",
      "40                                              nan       EBIRD_TWN                                    EOD - eBird Observation Dataset         6        0         6\n",
      "41                                              nan        EBIRD_TX                                    EOD - eBird Observation Dataset      2276        0      2276\n",
      "42                                              nan        EBIRD_VA                                    EOD - eBird Observation Dataset      2934        0      2934\n",
      "43                                              nan      EBIRD_VINS                                    EOD - eBird Observation Dataset      7663        0      7663\n",
      "44                                              nan        EBIRD_WI                                    EOD - eBird Observation Dataset      6788        0      6788\n",
      "45                                              nan            FNJV                      FNJV - Fonoteca Neotropical Jacques Vielliard         1        0         1\n",
      "46                                              nan    Observations                 Observation.org, Nature data from around the World        37        0        37\n",
      "47                                              nan    Observations                            iNaturalist Research-grade Observations      4547        5      4542\n",
      "48                                              nan              VZ     Vertebrate Zoology Division - Ornithology, Yale Peabody Museum         1        0         1\n",
      "49                                              nan              ZO                                                         NYSM Birds         2        0         2\n",
      "50                                              nan           birds        University of Michigan Museum of Zoology, Division of Birds         2        0         2\n",
      "51                                              nan             nan                                        Earth Guardians Weekly Feed         5        0         5\n",
      "52                                              nan     naturgucker                                                        naturgucker        53        0        53\n",
      "53                                              nan      user: 1541                              Anymals+plants - Citizen Science Data         1        0         1\n",
      "54                    urn:lsid:biocol.org:col:34844           Birds  Biodiversity Research and Teaching Collections - TCWC Vertebrates         1        0         1\n",
      "55                    urn:lsid:biocol.org:col:34939              ML                        Macaulay Library Audio and Video Collection         9        0         9\n"
     ]
    }
   ],
   "source": [
    "sources = pd.read_sql(sql=\"SELECT * FROM sources;\", con=output_db_conn)\n",
    "print(sources[['institutionID', 'collectionCode', 'datasetName', 'acquired', 'removed', 'retained']])"
   ]
  },
  {
   "cell_type": "markdown",
   "metadata": {},
   "source": [
    "#### Bases"
   ]
  },
  {
   "cell_type": "code",
   "execution_count": 30,
   "metadata": {
    "scrolled": true
   },
   "outputs": [
    {
     "name": "stdout",
     "output_type": "stream",
     "text": [
      "                 value  acquired  removed  retained\n",
      "0    HUMAN_OBSERVATION    923015        5    923010\n",
      "1  MACHINE_OBSERVATION         9        0         9\n",
      "2   PRESERVED_SPECIMEN        24        0        24\n"
     ]
    }
   ],
   "source": [
    "bases = pd.read_sql(sql=\"SELECT * FROM attribute_value_counts WHERE attribute = 'basisOfRecord';\", con=output_db_conn)\n",
    "print(bases[['value', 'acquired', 'removed', 'retained']])"
   ]
  },
  {
   "cell_type": "markdown",
   "metadata": {},
   "source": [
    "#### Protocols"
   ]
  },
  {
   "cell_type": "code",
   "execution_count": 31,
   "metadata": {
    "scrolled": true
   },
   "outputs": [
    {
     "name": "stdout",
     "output_type": "stream",
     "text": [
      "              value  acquired  removed  retained\n",
      "0  field collection         1        0         1\n",
      "1               nan    923042        5    923037\n",
      "2              seen         5        0         5\n"
     ]
    }
   ],
   "source": [
    "protocols = pd.read_sql(sql=\"SELECT * FROM attribute_value_counts WHERE attribute = 'samplingProtocol';\", con=output_db_conn)\n",
    "if protocols.empty == True:\n",
    "    print(\"No protocols were documented.\")\n",
    "if protocols.empty == False:\n",
    "    print(protocols[['value', 'acquired', 'removed', 'retained']])"
   ]
  },
  {
   "cell_type": "markdown",
   "metadata": {},
   "source": [
    "#### Issues"
   ]
  },
  {
   "cell_type": "code",
   "execution_count": 32,
   "metadata": {
    "scrolled": true
   },
   "outputs": [
    {
     "name": "stdout",
     "output_type": "stream",
     "text": [
      "                                                                              value  acquired  removed  retained\n",
      "0                                                                COORDINATE_ROUNDED         5        0         5\n",
      "1   COORDINATE_ROUNDED;COUNTRY_DERIVED_FROM_COORDINATES;GEODETIC_DATUM_ASSUMED_W...         1        0         1\n",
      "2                                   COORDINATE_ROUNDED;GEODETIC_DATUM_ASSUMED_WGS84      3988        5      3983\n",
      "3   COORDINATE_ROUNDED;GEODETIC_DATUM_ASSUMED_WGS84;COORDINATE_UNCERTAINTY_METER...         1        0         1\n",
      "4                                                  COUNTRY_DERIVED_FROM_COORDINATES         1        0         1\n",
      "5                                                      GEODETIC_DATUM_ASSUMED_WGS84       622        0       622\n",
      "6                               GEODETIC_DATUM_ASSUMED_WGS84;GEODETIC_DATUM_INVALID         3        0         3\n",
      "7   INDIVIDUAL_COUNT_CONFLICTS_WITH_OCCURRENCE_STATUS;COUNTRY_COORDINATE_MISMATC...         2        0         2\n",
      "8                                  OCCURRENCE_STATUS_INFERRED_FROM_INDIVIDUAL_COUNT         4        0         4\n",
      "9               OCCURRENCE_STATUS_INFERRED_FROM_INDIVIDUAL_COUNT;COORDINATE_ROUNDED        34        0        34\n",
      "10    OCCURRENCE_STATUS_INFERRED_FROM_INDIVIDUAL_COUNT;GEODETIC_DATUM_ASSUMED_WGS84         1        0         1\n",
      "11                                                            RECORDED_DATE_INVALID         1        0         1\n",
      "12                                                                              nan    918385        0    918385\n"
     ]
    }
   ],
   "source": [
    "issues = pd.read_sql(sql=\"SELECT * FROM attribute_value_counts WHERE attribute = 'issues';\", con=output_db_conn)\n",
    "if issues.empty == True:\n",
    "    print(\"No issues were documented.\")\n",
    "if issues.empty == False:\n",
    "    print(issues[['value', 'acquired', 'removed', 'retained']])"
   ]
  },
  {
   "cell_type": "markdown",
   "metadata": {},
   "source": [
    "#### Establishment Means"
   ]
  },
  {
   "cell_type": "code",
   "execution_count": 33,
   "metadata": {},
   "outputs": [
    {
     "name": "stdout",
     "output_type": "stream",
     "text": [
      "    value  acquired  removed  retained\n",
      "0  NATIVE        15        0        15\n",
      "1     nan    923033        5    923028\n"
     ]
    }
   ],
   "source": [
    "establishment = pd.read_sql(sql=\"SELECT * FROM attribute_value_counts WHERE attribute = 'establishmentMeans';\", con=output_db_conn)\n",
    "if establishment.empty == True:\n",
    "    print(\"No establishment means were reported.\")\n",
    "if establishment.empty == False:\n",
    "    print(establishment[['value', 'acquired', 'removed', 'retained']])"
   ]
  },
  {
   "cell_type": "markdown",
   "metadata": {},
   "source": [
    "#### Identification Qualifiers"
   ]
  },
  {
   "cell_type": "code",
   "execution_count": 34,
   "metadata": {},
   "outputs": [
    {
     "name": "stdout",
     "output_type": "stream",
     "text": [
      "No identification qualifiers were reported.\n"
     ]
    }
   ],
   "source": [
    "qualifications = pd.read_sql(sql=\"SELECT * FROM attribute_value_counts WHERE attribute = 'identificationQualifers';\", con=output_db_conn)\n",
    "if qualifications.empty == True:\n",
    "    print(\"No identification qualifiers were reported.\")\n",
    "if qualifications.empty == False:\n",
    "    print(establishment[['value', 'acquired', 'removed', 'retained']])"
   ]
  },
  {
   "cell_type": "markdown",
   "metadata": {},
   "source": [
    "## Descriptions of Retained Records"
   ]
  },
  {
   "cell_type": "markdown",
   "metadata": {},
   "source": [
    "#### Locations"
   ]
  },
  {
   "cell_type": "code",
   "execution_count": 35,
   "metadata": {},
   "outputs": [
    {
     "data": {
      "image/png": "[encoded data removed]",
      "text/plain": [
       "<Figure size 864x864 with 1 Axes>"
      ]
     },
     "metadata": {
      "needs_background": "light"
     },
     "output_type": "display_data"
    },
    {
     "data": {
      "image/png": "[encoded data removed]",
      "text/plain": [
       "<Figure size 864x864 with 1 Axes>"
      ]
     },
     "metadata": {
      "needs_background": "light"
     },
     "output_type": "display_data"
    },
    {
     "data": {
      "image/png": "[encoded data removed]",
      "text/plain": [
       "<Figure size 864x864 with 1 Axes>"
      ]
     },
     "metadata": {
      "needs_background": "light"
     },
     "output_type": "display_data"
    }
   ],
   "source": [
    "# Get the record coordinates as a data frame\n",
    "record_coordinates = (pd.read_sql(\"\"\"SELECT decimalLatitude, decimalLongitude, radius_meters\n",
    "                                     FROM occurrence_records\"\"\",\n",
    "                                  con=output_db_conn)\n",
    "                      .astype({'decimalLongitude': 'float', 'decimalLatitude': 'float',\n",
    "                               'radius_meters': 'float'}))\n",
    "\n",
    "# Make the data frame spatial\n",
    "gdf = gpd.GeoDataFrame(record_coordinates, geometry=gpd.points_from_xy(record_coordinates['decimalLongitude'],\n",
    "                                                   record_coordinates['decimalLatitude']))\n",
    "\n",
    "# Set the coordinate reference system\n",
    "gdf.crs={'init' :'epsg:4326'}\n",
    "\n",
    "# Create world map <<<<<<<<<<<<<<<<<<<<<<<<<<<<<<<<<<<<<<<<<<<<<<<<<<<<<<<<<<<<<<<<<<<<<<<<<<<<\n",
    "world = gpd.read_file(gpd.datasets.get_path('naturalearth_lowres'))\n",
    "base = world.plot(figsize=(12,12), color = 'darkkhaki')\n",
    "gdf.plot(ax=base, marker='o', color='k', markersize=5)\n",
    "plt.show()\n",
    "\n",
    "# Create USA map <<<<<<<<<<<<<<<<<<<<<<<<<<<<<<<<<<<<<<<<<<<<<<<<<<<<<<<<<<<<<<<<<<<<<<<<<<<<<<\n",
    "if filter_set[\"country\"] == \"US\":\n",
    "    usa_bbox = np.array([-124.725839,   24.498131,  -66.949895,   49.384358])\n",
    "    fig, ax = plt.subplots(figsize=(12,12))\n",
    "    ax.set_xlim(([usa_bbox[0],  usa_bbox[2]]))\n",
    "    ax.set_ylim(([usa_bbox[1],  usa_bbox[3]]))\n",
    "    world.plot(ax=ax, color='darkkhaki')\n",
    "    gdf.plot(ax=ax, marker='o', color='k', markersize=5)\n",
    "    plt.show()\n",
    "\n",
    "# Create coordinate extent map <<<<<<<<<<<<<<<<<<<<<<<<<<<<<<<<<<<<<<<<<<<<<<<<<<<<<<<<<<<<<<<<\n",
    "os.chdir(config.codeDir)\n",
    "states = gpd.read_file(os.getcwd() + '/data/us_states.shp')\n",
    "\n",
    "# Reproject states and record coordinates to facilitate buffering\n",
    "states = states.to_crs(epsg=5070)\n",
    "footprints = gdf.to_crs(epsg=5070)\n",
    "\n",
    "# Buffer points for record footprints\n",
    "footprints['footprint']=footprints.apply(lambda x: x.geometry.buffer(x.radius_meters), axis=1)\n",
    "footprints.set_geometry(col='footprint', inplace=True, drop=True)\n",
    "\n",
    "# Map the buffered points/footprints\n",
    "fig, ax = plt.subplots(figsize=(12,12))\n",
    "coordinate_bbox = footprints.geometry.total_bounds\n",
    "ax.set_xlim(([coordinate_bbox[0],  coordinate_bbox[2]]))\n",
    "ax.set_ylim(([coordinate_bbox[1],  coordinate_bbox[3]]))\n",
    "states.plot(ax=ax, color = 'darkkhaki')\n",
    "footprints.boundary.plot(ax=ax, color='k')\n",
    "plt.show()\n",
    "\n",
    "# Cleanup\n",
    "del footprints, gdf"
   ]
  },
  {
   "cell_type": "markdown",
   "metadata": {},
   "source": [
    "#### Years Represented"
   ]
  },
  {
   "cell_type": "code",
   "execution_count": 36,
   "metadata": {},
   "outputs": [
    {
     "data": {
      "text/plain": [
       "Text(0.5, 1.0, 'Occurrences per Year')"
      ]
     },
     "execution_count": 36,
     "metadata": {},
     "output_type": "execute_result"
    },
    {
     "data": {
      "image/png": "[encoded data removed]",
      "text/plain": [
       "<Figure size 432x288 with 1 Axes>"
      ]
     },
     "metadata": {
      "needs_background": "light"
     },
     "output_type": "display_data"
    }
   ],
   "source": [
    "occ_years = [int(x[0]) for x in cursor.execute(\"SELECT strftime('%Y', eventDate) FROM occurrence_records\").fetchall()]\n",
    "years = filter_set['years_range']\n",
    "years = years.split(',')\n",
    "yearsrng = list(range(int(years[0]), int(years[1]), 1))\n",
    "binsnum = int(years[1]) - int(years[0])\n",
    "plt.hist(occ_years, bins=binsnum)\n",
    "plt.ylabel(\"number of records\")\n",
    "plt.xlabel(\"year\")\n",
    "plt.xticks(yearsrng, rotation=90)\n",
    "plt.title(\"Occurrences per Year\")"
   ]
  },
  {
   "cell_type": "markdown",
   "metadata": {},
   "source": [
    "#### Months Represented"
   ]
  },
  {
   "cell_type": "code",
   "execution_count": 37,
   "metadata": {},
   "outputs": [
    {
     "data": {
      "text/plain": [
       "Text(0.5, 1.0, 'Occurrences per Month')"
      ]
     },
     "execution_count": 37,
     "metadata": {},
     "output_type": "execute_result"
    },
    {
     "data": {
      "image/png": "[encoded data removed]",
      "text/plain": [
       "<Figure size 432x288 with 1 Axes>"
      ]
     },
     "metadata": {
      "needs_background": "light"
     },
     "output_type": "display_data"
    }
   ],
   "source": [
    "occ_months = [int(x[0]) for x in cursor.execute(\"SELECT strftime('%m', eventDate) FROM occurrence_records\").fetchall()]\n",
    "plt.hist(occ_months, bins=range(1, 14), color=\"g\")\n",
    "plt.ylabel(\"number of records\")\n",
    "plt.xlabel(\"month\")\n",
    "plt.xticks(range(1, 13))\n",
    "plt.title(\"Occurrences per Month\")"
   ]
  },
  {
   "cell_type": "markdown",
   "metadata": {},
   "source": [
    "#### Distribution of Coordinate Uncertainty Values for Retained Records"
   ]
  },
  {
   "cell_type": "code",
   "execution_count": 38,
   "metadata": {
    "scrolled": false
   },
   "outputs": [
    {
     "data": {
      "text/plain": [
       "Text(0.5, 1.0, 'Coordinate Uncertainty')"
      ]
     },
     "execution_count": 38,
     "metadata": {},
     "output_type": "execute_result"
    },
    {
     "data": {
      "image/png": "[encoded data removed]",
      "text/plain": [
       "<Figure size 1152x288 with 1 Axes>"
      ]
     },
     "metadata": {
      "needs_background": "light"
     },
     "output_type": "display_data"
    }
   ],
   "source": [
    "occ_cert = [float(x[0]) for x in cursor.execute(\"SELECT coordinateUncertaintyInMeters FROM occurrence_records\").fetchall()]\n",
    "maxi = max(occ_cert)\n",
    "plt.figure(figsize=(16,4))\n",
    "plt.hist(occ_cert, bins=50, color=\"r\")\n",
    "plt.xticks(range(0, int(maxi), int(maxi/50)), rotation=90)\n",
    "plt.ylabel(\"number of records\")\n",
    "plt.xlabel(\"meters\")\n",
    "plt.title(\"Coordinate Uncertainty\")"
   ]
  },
  {
   "cell_type": "code",
   "execution_count": 39,
   "metadata": {},
   "outputs": [
    {
     "data": {
      "text/plain": [
       "Text(0.5, 1.0, 'Coordinate Uncertainty')"
      ]
     },
     "execution_count": 39,
     "metadata": {},
     "output_type": "execute_result"
    },
    {
     "data": {
      "image/png": "[encoded data removed]",
      "text/plain": [
       "<Figure size 792x288 with 1 Axes>"
      ]
     },
     "metadata": {
      "needs_background": "light"
     },
     "output_type": "display_data"
    }
   ],
   "source": [
    "occ_cert = [float(x[0]) for x in cursor.execute(\"SELECT coordinateUncertaintyInMeters FROM occurrence_records\").fetchall()]\n",
    "plt.figure(figsize=(11,4))\n",
    "plt.boxplot(occ_cert, vert=False)\n",
    "plt.xlabel(\"meters\")\n",
    "plt.title(\"Coordinate Uncertainty\")"
   ]
  },
  {
   "cell_type": "code",
   "execution_count": 40,
   "metadata": {},
   "outputs": [
    {
     "data": {
      "text/plain": [
       "Text(0.5, 1.0, 'Coordinate Uncertainties Below 2km')"
      ]
     },
     "execution_count": 40,
     "metadata": {},
     "output_type": "execute_result"
    },
    {
     "data": {
      "image/png": "[encoded data removed]",
      "text/plain": [
       "<Figure size 864x288 with 1 Axes>"
      ]
     },
     "metadata": {
      "needs_background": "light"
     },
     "output_type": "display_data"
    }
   ],
   "source": [
    "rng_max = 2000\n",
    "occ_cert2 = [x for x in occ_cert if x <= rng_max]\n",
    "plt.figure(figsize=(12,4))\n",
    "plt.hist(occ_cert2, bins=30, color=\"m\", align='mid')\n",
    "plt.xticks(range(0, rng_max + 100, int(rng_max/30.)), rotation=90)\n",
    "plt.ylabel(\"number of records\")\n",
    "plt.xlabel(\"meters\")\n",
    "plt.title(\"Coordinate Uncertainties Below 2km\")"
   ]
  },
  {
   "cell_type": "markdown",
   "metadata": {},
   "source": [
    "#### Remarks"
   ]
  },
  {
   "cell_type": "code",
   "execution_count": 41,
   "metadata": {
    "scrolled": true
   },
   "outputs": [
    {
     "name": "stdout",
     "output_type": "stream",
     "text": [
      "General remarks:\n",
      "nan\n"
     ]
    }
   ],
   "source": [
    "print(\"General remarks:\")\n",
    "remarks = output_db_conn.execute(\"SELECT DISTINCT general_remarks FROM occurrence_records;\").fetchall()\n",
    "if len(remarks) <= 20:\n",
    "    try:\n",
    "        for rem in remarks:\n",
    "            if rem[0][0:1] == ';':\n",
    "                print(rem[0][2:])\n",
    "            else:\n",
    "                print(rem[0])\n",
    "    except:\n",
    "        pass\n",
    "else:\n",
    "    print(\"More than 20 remarks, consult the occurrence database.\")"
   ]
  },
  {
   "cell_type": "code",
   "execution_count": 42,
   "metadata": {},
   "outputs": [
    {
     "name": "stdout",
     "output_type": "stream",
     "text": [
      "Event remarks:\n",
      "nan\n"
     ]
    }
   ],
   "source": [
    "print(\"Event remarks:\")\n",
    "remarks = output_db_conn.execute(\"SELECT DISTINCT eventRemarks FROM occurrence_records;\").fetchall()\n",
    "if len(remarks) <= 20:\n",
    "    try:\n",
    "        for rem in remarks:\n",
    "            if rem[0][0:1] == ';':\n",
    "                print(rem[0][2:])\n",
    "            else:\n",
    "                print(rem[0])\n",
    "    except:\n",
    "        pass\n",
    "else:\n",
    "    print(\"More than 20 remarks, consult the occurrence database.\")"
   ]
  },
  {
   "cell_type": "code",
   "execution_count": 43,
   "metadata": {},
   "outputs": [
    {
     "name": "stdout",
     "output_type": "stream",
     "text": [
      "Occurrence remarks:\n",
      "More than 20 remarks, consult the occurrence database.\n"
     ]
    }
   ],
   "source": [
    "print(\"Occurrence remarks:\")\n",
    "remarks = output_db_conn.execute(\"SELECT DISTINCT occurrenceRemarks FROM occurrence_records;\").fetchall()\n",
    "if len(remarks) <= 20:\n",
    "    try:\n",
    "        for rem in remarks:\n",
    "            if rem[0][0:1] == ';':\n",
    "                print(rem[0][2:])\n",
    "            else:\n",
    "                print(rem[0])\n",
    "    except:\n",
    "        pass\n",
    "else:\n",
    "    print(\"More than 20 remarks, consult the occurrence database.\")"
   ]
  },
  {
   "cell_type": "code",
   "execution_count": 44,
   "metadata": {},
   "outputs": [
    {
     "name": "stdout",
     "output_type": "stream",
     "text": [
      "Location remarks:\n",
      "nan\n",
      "OR1\n",
      "decimal degrees\n"
     ]
    }
   ],
   "source": [
    "print(\"Location remarks:\")\n",
    "remarks = output_db_conn.execute(\"SELECT DISTINCT locationRemarks FROM occurrence_records;\").fetchall()\n",
    "if len(remarks) <= 20:\n",
    "    try:\n",
    "        for rem in remarks:\n",
    "            if rem[0][0:1] == ';':\n",
    "                print(rem[0][2:])\n",
    "            else:\n",
    "                print(rem[0])\n",
    "    except:\n",
    "        pass\n",
    "else:\n",
    "    print(\"More than 20 remarks, consult the occurrence database.\")"
   ]
  },
  {
   "cell_type": "code",
   "execution_count": 45,
   "metadata": {},
   "outputs": [
    {
     "name": "stdout",
     "output_type": "stream",
     "text": [
      "Identified remarks:\n",
      "nan\n"
     ]
    }
   ],
   "source": [
    "print(\"Identified remarks:\")\n",
    "remarks = output_db_conn.execute(\"SELECT DISTINCT general_remarks FROM occurrence_records;\").fetchall()\n",
    "if len(remarks) <= 20:\n",
    "    try:\n",
    "        for rem in remarks:\n",
    "            if rem[0][0:1] == ';':\n",
    "                print(rem[0][2:])\n",
    "            else:\n",
    "                print(rem[0])\n",
    "    except:\n",
    "        pass\n",
    "else:\n",
    "    print(\"More than 20 remarks, consult the occurrence database.\")"
   ]
  },
  {
   "cell_type": "code",
   "execution_count": 46,
   "metadata": {},
   "outputs": [
    {
     "name": "stdout",
     "output_type": "stream",
     "text": [
      "Georeference remarks:\n",
      "nan\n",
      "ex Argus\n"
     ]
    }
   ],
   "source": [
    "print(\"Georeference remarks:\")\n",
    "remarks = output_db_conn.execute(\"SELECT DISTINCT georeferenceRemarks FROM occurrence_records;\").fetchall()\n",
    "if len(remarks) <= 20:\n",
    "    try:\n",
    "        for rem in remarks:\n",
    "            if rem[0][0:1] == ';':\n",
    "                print(rem[0][2:])\n",
    "            else:\n",
    "                print(rem[0])\n",
    "    except:\n",
    "        pass\n",
    "else:\n",
    "    print(\"More than 20 remarks, consult the occurrence database.\")"
   ]
  },
  {
   "cell_type": "markdown",
   "metadata": {},
   "source": [
    "## Citations\n",
    "#### eBird "
   ]
  },
  {
   "cell_type": "code",
   "execution_count": 47,
   "metadata": {},
   "outputs": [
    {
     "name": "stdout",
     "output_type": "stream",
     "text": [
      "No eBird Basic Dataset was queried\n"
     ]
    }
   ],
   "source": [
    "if ask_eBird == True:\n",
    "    with open(config.EBD_file[:-22] + \"recommended_citation.txt\", \"r\") as reference:\n",
    "        print(reference.readlines()[0])\n",
    "else:\n",
    "    print(\"No eBird Basic Dataset was queried\")"
   ]
  },
  {
   "cell_type": "markdown",
   "metadata": {},
   "source": [
    "#### GBIF"
   ]
  },
  {
   "cell_type": "code",
   "execution_count": 48,
   "metadata": {},
   "outputs": [
    {
     "name": "stdout",
     "output_type": "stream",
     "text": [
      "Citations-- \n",
      "When using this dataset please use the following citation and pay attention to the rights documented in rights.txt:\n",
      "Gall L (2021). Vertebrate Zoology Division - Ornithology, Yale Peabody Museum. Yale University Peabody Museum. Occurrence dataset https://doi.org/10.15468/h25uz7 accessed via GBIF.org on 2021-06-09.\n",
      "Prestridge H (2021). Biodiversity Research and Teaching Collections - TCWC Vertebrates. Version 9.4. Texas A&M University Biodiversity Research and Teaching Collections. Occurrence dataset https://doi.org/10.15468/szomia accessed via GBIF.org on 2021-06-09.\n",
      "Felipe Toledo L (2021). FNJV - Fonoteca Neotropical Jacques Vielliard. Version 1.63. Universidade Estadual de Campinas - Instituto de Biologia. Occurrence dataset https://doi.org/10.15468/fr6q2k accessed via GBIF.org on 2021-06-09.\n",
      "Robbins M (2020). KUBI Ornithology Collection. Version 10.27. University of Kansas Biodiversity Institute. Occurrence dataset https://doi.org/10.15468/hlh5ud accessed via GBIF.org on 2021-06-09.\n",
      "Museum fÃ¼r Naturkunde Berlin. Anymals+plants - Citizen Science Data. Occurrence dataset https://doi.org/10.15468/ee6ps6 accessed via GBIF.org on 2021-06-09.\n",
      "Rohwer V (2018). CUMV Bird Collection. Version 28.17. Cornell University Museum of Vertebrates. Occurrence dataset https://doi.org/10.15468/fyugn7 accessed via GBIF.org on 2021-06-09.\n",
      "Spellman G (2021). DMNS Bird Collection (Arctos). Version 34.50. Denver Museum of Nature & Science. Occurrence dataset https://doi.org/10.15468/t3bsxx accessed via GBIF.org on 2021-06-09.\n",
      "Mertz W (2021). LACM Vertebrate Collection. Version 18.8. Natural History Museum of Los Angeles County. Occurrence dataset https://doi.org/10.15468/77rmwd accessed via GBIF.org on 2021-06-09.\n",
      "Faucett R (2021). UWBM Ornithology Collection. University of Washington Burke Museum. Occurrence dataset https://doi.org/10.15468/a2cmfl accessed via GBIF.org on 2021-06-09.\n",
      "UMMZ Birds Data Group, LSA IT A (2021). University of Michigan Museum of Zoology, Division of Birds. Version 14.34. University of Michigan Museum of Zoology. Occurrence dataset https://doi.org/10.15468/lns1qm accessed via GBIF.org on 2021-06-09.\n",
      "Gerhard D, Whitehouse R (2021). NYSM Birds. Version 5.2. New York State Museum (NYSM). Occurrence dataset https://doi.org/10.15468/dwylzw accessed via GBIF.org on 2021-06-09.\n",
      "University of Minnesota Bell Museum (2021). Bell Museum birds. Occurrence dataset https://doi.org/10.15468/u1diwq accessed via GBIF.org on 2021-06-09.\n",
      "Questagame (2021). Earth Guardians Weekly Feed. Occurrence dataset https://doi.org/10.15468/slqqt8 accessed via GBIF.org on 2021-06-09.\n",
      "Grant S, Marks B (2020). Field Museum of Natural History (Zoology) Bird Collection. Version 14.19. Field Museum. Occurrence dataset https://doi.org/10.15468/exkxdx accessed via GBIF.org on 2021-06-09.\n",
      "Scholes III, Ph.D. E (2015). Macaulay Library Audio and Video Collection. Cornell Lab of Ornithology. Occurrence dataset https://doi.org/10.15468/ckcdpy accessed via GBIF.org on 2021-06-09.\n",
      "de Vries H, Lemmens M. Observation.org, Nature data from around the World. Observation.org. Occurrence dataset https://doi.org/10.15468/5nilie accessed via GBIF.org on 2021-06-09.\n",
      "naturgucker.de. naturgucker. Occurrence dataset https://doi.org/10.15468/uc1apo accessed via GBIF.org on 2021-06-09.\n",
      "Vellinga W (2021). Xeno-canto - Bird sounds from around the world. Xeno-canto Foundation for Nature Sounds. Occurrence dataset https://doi.org/10.15468/qv0ksn accessed via GBIF.org on 2021-06-09.\n",
      "Ueda K (2021). iNaturalist Research-grade Observations. iNaturalist.org. Occurrence dataset https://doi.org/10.15468/ab3s5x accessed via GBIF.org on 2021-06-09.\n",
      "Levatich T, Ligocki S (2020). EOD - eBird Observation Dataset. Cornell Lab of Ornithology. Occurrence dataset https://doi.org/10.15468/aomfnb accessed via GBIF.org on 2021-06-09.\n",
      "\n"
     ]
    }
   ],
   "source": [
    "if ask_GBIF == True:\n",
    "    if get_dwca == True:\n",
    "        print(\"Citations-- \")\n",
    "        print(cursor.execute(\"SELECT citations FROM GBIF_download_info\").fetchall()[0][0])\n",
    "    else:\n",
    "        print(\"Set 'get_dwca' to True to acquire a list of citations\")\n",
    "if ask_GBIF == False:\n",
    "    print(\"GBIF was not queried.\")"
   ]
  },
  {
   "cell_type": "code",
   "execution_count": 49,
   "metadata": {},
   "outputs": [
    {
     "name": "stdout",
     "output_type": "stream",
     "text": [
      "Rights-- \n",
      "\n",
      "Dataset: Vertebrate Zoology Division - Ornithology, Yale Peabody Museum\n",
      "Rights as supplied: http://creativecommons.org/publicdomain/zero/1.0/legalcode\n",
      "Dataset: Biodiversity Research and Teaching Collections - TCWC Vertebrates\n",
      "Rights as supplied: http://creativecommons.org/publicdomain/zero/1.0/legalcode\n",
      "Dataset: FNJV - Fonoteca Neotropical Jacques Vielliard\n",
      "Rights as supplied: http://creativecommons.org/licenses/by-nc/4.0/legalcode\n",
      "Dataset: KUBI Ornithology Collection\n",
      "Rights as supplied: http://creativecommons.org/licenses/by/4.0/legalcode\n",
      "Dataset: Anymals+plants - Citizen Science Data\n",
      "Rights as supplied: http://creativecommons.org/licenses/by-nc/4.0/legalcode\n",
      "Dataset: CUMV Bird Collection\n",
      "Rights as supplied: http://creativecommons.org/publicdomain/zero/1.0/legalcode\n",
      "Dataset: DMNS Bird Collection (Arctos)\n",
      "Rights as supplied: http://creativecommons.org/licenses/by-nc/4.0/legalcode\n",
      "Dataset: LACM Vertebrate Collection\n",
      "Rights as supplied: http://creativecommons.org/publicdomain/zero/1.0/legalcode\n",
      "Dataset: UWBM Ornithology Collection\n",
      "Rights as supplied: http://creativecommons.org/publicdomain/zero/1.0/legalcode\n",
      "Dataset: University of Michigan Museum of Zoology, Division of Birds\n",
      "Rights as supplied: http://creativecommons.org/licenses/by-nc/4.0/legalcode\n",
      "Dataset: NYSM Birds\n",
      "Rights as supplied: http://creativecommons.org/publicdomain/zero/1.0/legalcode\n",
      "Dataset: Bell Museum birds\n",
      "Rights as supplied: http://creativecommons.org/publicdomain/zero/1.0/legalcode\n",
      "Dataset: Earth Guardians Weekly Feed\n",
      "Rights as supplied: http://creativecommons.org/licenses/by-nc/4.0/legalcode\n",
      "Dataset: Field Museum of Natural History (Zoology) Bird Collection\n",
      "Rights as supplied: http://creativecommons.org/publicdomain/zero/1.0/legalcode\n",
      "Dataset: Macaulay Library Audio and Video Collection\n",
      "Rights as supplied: http://creativecommons.org/publicdomain/zero/1.0/legalcode\n",
      "Dataset: Observation.org, Nature data from around the World\n",
      "Rights as supplied: http://creativecommons.org/licenses/by-nc/4.0/legalcode\n",
      "Dataset: naturgucker\n",
      "Rights as supplied: http://creativecommons.org/licenses/by/4.0/legalcode\n",
      "Dataset: Xeno-canto - Bird sounds from around the world\n",
      "Rights as supplied: http://creativecommons.org/licenses/by-nc/4.0/legalcode\n",
      "Dataset: iNaturalist Research-grade Observations\n",
      "Rights as supplied: http://creativecommons.org/licenses/by-nc/4.0/legalcode\n",
      "Dataset: EOD - eBird Observation Dataset\n",
      "Rights as supplied: http://creativecommons.org/publicdomain/zero/1.0/legalcode\n"
     ]
    }
   ],
   "source": [
    "if ask_GBIF == True:\n",
    "    if get_dwca == True:\n",
    "        print(\"Rights-- \")\n",
    "        print(output_db_conn.execute(\"SELECT rights FROM GBIF_download_info\").fetchall()[0][0])\n",
    "    else:\n",
    "        print(\"Set 'get_dwca' to True to see the rights\")\n",
    "if ask_GBIF == False:\n",
    "    print(\"GBIF was not queried.\")"
   ]
  },
  {
   "cell_type": "code",
   "execution_count": 50,
   "metadata": {},
   "outputs": [
    {
     "name": "stdout",
     "output_type": "stream",
     "text": [
      "DOI-- \n",
      "https://doi.org/10.15468/dl.7cdw59\n"
     ]
    }
   ],
   "source": [
    "if ask_GBIF == True:\n",
    "    if get_dwca == True:\n",
    "        print(\"DOI-- \")\n",
    "        doi = output_db_conn.execute(\"SELECT doi FROM GBIF_download_info\").fetchall()[0][0]\n",
    "        print(\"https://doi.org/\" + doi)\n",
    "    else:\n",
    "        print(\"Set 'get_dwca' to True to perform a search with a doi assigned\")\n",
    "if ask_GBIF == False:\n",
    "    print(\"GBIF was not queried.\")"
   ]
  },
  {
   "cell_type": "code",
   "execution_count": 51,
   "metadata": {},
   "outputs": [
    {
     "name": "stdout",
     "output_type": "stream",
     "text": [
      "GBIF download key-- \n",
      "0298431-200613084148143\n"
     ]
    }
   ],
   "source": [
    "if ask_GBIF == True:\n",
    "    if get_dwca == True:\n",
    "        print(\"GBIF download key-- \")\n",
    "        print(output_db_conn.execute(\"SELECT download_key FROM GBIF_download_info\").fetchall()[0][0])\n",
    "    else:\n",
    "        print(\"Set 'get_dwca' to True to perform a search with a download key assigned\")\n",
    "if ask_GBIF == False:\n",
    "    print(\"GBIF was not queried\")"
   ]
  },
  {
   "cell_type": "markdown",
   "metadata": {},
   "source": [
    "## Runtime"
   ]
  },
  {
   "cell_type": "code",
   "execution_count": 52,
   "metadata": {
    "scrolled": true
   },
   "outputs": [
    {
     "name": "stdout",
     "output_type": "stream",
     "text": [
      "0:53:31.783546\n"
     ]
    }
   ],
   "source": [
    "output_db_conn.close()\n",
    "del cursor\n",
    "t2 = datetime.now()\n",
    "print(t2 - t1)"
   ]
  },
  {
   "cell_type": "code",
   "execution_count": 53,
   "metadata": {},
   "outputs": [],
   "source": [
    "functions.verify_results(output_database)"
   ]
  }
 ],
 "metadata": {
  "kernelspec": {
   "display_name": "Python 3",
   "language": "python",
   "name": "python3"
  },
  "language_info": {
   "codemirror_mode": {
    "name": "ipython",
    "version": 3
   },
   "file_extension": ".py",
   "mimetype": "text/x-python",
   "name": "python",
   "nbconvert_exporter": "python",
   "pygments_lexer": "ipython3",
   "version": "3.7.10"
  }
 },
 "nbformat": 4,
 "nbformat_minor": 2
}
