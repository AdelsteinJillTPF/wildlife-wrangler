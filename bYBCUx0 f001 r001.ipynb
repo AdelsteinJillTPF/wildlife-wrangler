{
 "cells": [
  {
   "cell_type": "markdown",
   "metadata": {},
   "source": [
    "## General Setup"
   ]
  },
  {
   "cell_type": "code",
   "execution_count": 8,
   "metadata": {},
   "outputs": [],
   "source": [
    "%matplotlib inline\n",
    "import sqlite3\n",
    "import pprint\n",
    "import pandas as pd\n",
    "#import geopandas as gpd\n",
    "pd.set_option('display.width', 600)\n",
    "pd.set_option('display.max_colwidth', 60)\n",
    "pd.set_option('display.max_rows', 100)\n",
    "from IPython.display import Image\n",
    "import config\n",
    "from pygbif import occurrences\n",
    "import matplotlib.pyplot as plt\n",
    "\n",
    "gap_id = 'bybcux'\n",
    "species_id = 'bybcux0'\n",
    "inDir = '/users/nmtarr/documents/ranges/inputs/'\n",
    "outDir = '/users/nmtarr/documents/ranges/outputs/'\n",
    "summary_name = 'cuckoo' # an short, memorable name to use for file names etc.\n",
    "years = '1970-2018'\n",
    "eval_id = 'eval_gbif1'\n",
    "filter_id = 'f001'\n",
    "request_id = 'r001'"
   ]
  },
  {
   "cell_type": "code",
   "execution_count": 9,
   "metadata": {
    "scrolled": false
   },
   "outputs": [],
   "source": [
    "connjup = sqlite3.connect('/users/nmtarr/documents/ranges/inputs/rng_eval_params.sqlite')\n",
    "cursorjup = connjup.cursor()"
   ]
  },
  {
   "cell_type": "markdown",
   "metadata": {},
   "source": [
    "## Species Concept"
   ]
  },
  {
   "cell_type": "code",
   "execution_count": 10,
   "metadata": {},
   "outputs": [
    {
     "name": "stdout",
     "output_type": "stream",
     "text": [
      "{'bcb_id': None,\n",
      " 'breeding_months': '4,5,6,7,8',\n",
      " 'common_name': 'yellow-billed cuckoo',\n",
      " 'detection_distance_meters': 200,\n",
      " 'end_year': None,\n",
      " 'error_tolerance': 40,\n",
      " 'fws_id': None,\n",
      " 'gap_id': 'bybcux',\n",
      " 'gbif_id': '2496287',\n",
      " 'geometry': None,\n",
      " 'itis_tsn': '177831',\n",
      " 'migratory': '1',\n",
      " 'notes': 'Manually entered for use in development. ',\n",
      " 'pad': 2,\n",
      " 'scientific_name': 'Coccyzus americanus',\n",
      " 'species_id': 'bybcux0',\n",
      " 'start_year': None,\n",
      " 'wintering_months': '11,12,1,2'}\n"
     ]
    }
   ],
   "source": [
    "vals = cursorjup.execute(\"SELECT * FROM species_concepts;\").fetchall()[0]\n",
    "cols = [x[1] for x in cursorjup.execute(\"PRAGMA table_info('species_concepts')\").fetchall()]\n",
    "pprint.pprint(dict(zip(cols, vals)))"
   ]
  },
  {
   "cell_type": "markdown",
   "metadata": {},
   "source": [
    "## Retrieve and Filter Occurrence Data"
   ]
  },
  {
   "cell_type": "code",
   "execution_count": 11,
   "metadata": {},
   "outputs": [
    {
     "name": "stdout",
     "output_type": "stream",
     "text": [
      "REQUEST FILTER SET\n",
      "request_id                                   r001\n",
      "source                                       GBIF\n",
      "lat_range                                   27,41\n",
      "lon_range                                 -91,-75\n",
      "years_range                             1970,2018\n",
      "months_range                                 1,12\n",
      "geoissue                                    False\n",
      "coordinate_issue                             True\n",
      "continent                           north_america\n",
      "creator                                   N. Tarr\n",
      "notes               Used during code development.\n",
      "Name: 0, dtype: object\n"
     ]
    }
   ],
   "source": [
    "df1 = pd.read_sql_query(sql=\"SELECT * FROM gbif_requests WHERE request_id = '{0}'\".format(request_id), con=connjup)\n",
    "print(\"REQUEST FILTER SET\")\n",
    "print(df1.loc[0])"
   ]
  },
  {
   "cell_type": "code",
   "execution_count": 12,
   "metadata": {},
   "outputs": [
    {
     "name": "stdout",
     "output_type": "stream",
     "text": [
      "POST REQUEST FILTER SET\n",
      "filter_id                                      f001\n",
      "source                                         GBIF\n",
      "has_coordinate_uncertainty                        1\n",
      "creator                                     N. Tarr\n",
      "notes                         Used for development.\n",
      "Name: 0, dtype: object\n"
     ]
    }
   ],
   "source": [
    "df2 = pd.read_sql_query(sql=\"SELECT * FROM gbif_filters WHERE filter_id = '{0}'\".format(filter_id), con=connjup)\n",
    "print(\"POST REQUEST FILTER SET\")\n",
    "print(df2.loc[0])"
   ]
  },
  {
   "cell_type": "code",
   "execution_count": null,
   "metadata": {},
   "outputs": [
    {
     "name": "stdout",
     "output_type": "stream",
     "text": [
      "downloading https://www.sciencebase.gov/catalog/file/get/59f5e201e4b063d5d307dc0f?f=__disk__89%2Fbb%2F19%2F89bb19045ef553fdf3a05056b81618649e77e351 to /Users/nmtarr/Documents/RANGES/Inputs/bYBCUx_CONUS_Range_2001v1.zip\n",
      "downloading https://www.sciencebase.gov/catalog/file/get/59f5e201e4b063d5d307dc0f?f=__disk__db%2Fb5%2F9a%2Fdbb59a7ae14e77d87bd9a6f527f91dd55e577628 to /Users/nmtarr/Documents/RANGES/Inputs/bYBCUx_CONUS_Range_2001v1.xml\n",
      "716 records exist\n"
     ]
    }
   ],
   "source": [
    "# Run a script that retrieves and filters\n",
    "%run 'retrieve_occurrences.py'"
   ]
  },
  {
   "cell_type": "code",
   "execution_count": null,
   "metadata": {},
   "outputs": [],
   "source": [
    "gap_range2 = \"{0}{1}_range_4326\".format(inDir, gap_id)\n",
    "\n",
    "shp1 = {'file': gap_range2, 'column': None, 'alias': 'GAP range map',\n",
    "        'drawbounds': False, 'linewidth': .5, 'linecolor': 'y',\n",
    "        'fillcolor': 'y', 'marker':'s'}\n",
    "\n",
    "shp2 = {'file': '{0}{1}_circles'.format(outDir, summary_name), 'column': None,\n",
    "        'alias': 'Occurrence records', 'drawbounds': True, 'linewidth': .75, 'linecolor': 'k',\n",
    "        'fillcolor': None, 'marker':'o'}\n",
    "\n",
    "# Display occurrence polygons\n",
    "title=\"Yellow-billed Cuckoo ({0})\".format(years)\n",
    "config.MapShapefilePolygons(map_these=[shp1, shp2], title=title)"
   ]
  },
  {
   "cell_type": "markdown",
   "metadata": {},
   "source": [
    "### Where were records retrieved from for the evaluation?"
   ]
  },
  {
   "cell_type": "code",
   "execution_count": 8,
   "metadata": {},
   "outputs": [
    {
     "name": "stdout",
     "output_type": "stream",
     "text": [
      "GBIF\n"
     ]
    }
   ],
   "source": [
    "tables = cursorjup.execute(\"SELECT table_name FROM table_descriptions\").fetchall()\n",
    "tables = [x[0] for x in tables]\n",
    "\n",
    "filter_sets = cursorjup.execute(\"SELECT filter_sets FROM evaluations WHERE evaluation_id = 'eval_gbif1'\").fetchone()[0]\n",
    "filter_sets = filter_sets.split(\",\")\n",
    "\n",
    "sources = []\n",
    "for s in filter_sets:\n",
    "    s = s.strip()\n",
    "    for tab in tables:\n",
    "        columns = cursorjup.execute(\"SELECT column_name FROM column_descriptions WHERE table_name = '{0}'\".format(tab)).fetchall()\n",
    "        columns = [x[0] for x in columns]\n",
    "        for col in columns:\n",
    "            try:\n",
    "                a = cursorjup.execute(\"SELECT source FROM {1} WHERE {2} = '{0}'\".format(s, tab, col)).fetchone()[0]\n",
    "                sources.append(a)\n",
    "            except:\n",
    "                pass\n",
    "print(list(set(sources))[0])"
   ]
  },
  {
   "cell_type": "markdown",
   "metadata": {},
   "source": [
    "### What was the filtering criteria for the data used in the evaluation?"
   ]
  },
  {
   "cell_type": "code",
   "execution_count": 9,
   "metadata": {
    "scrolled": false
   },
   "outputs": [
    {
     "name": "stdout",
     "output_type": "stream",
     "text": [
      "request_id                                   r001\n",
      "source                                       GBIF\n",
      "lat_range                                   27,41\n",
      "lon_range                                 -91,-75\n",
      "years_range                             1970,2018\n",
      "months_range                                 1,12\n",
      "geoissue                                    False\n",
      "coordinate_issue                             True\n",
      "continent                           north_america\n",
      "creator                                   N. Tarr\n",
      "notes               Used during code development.\n",
      "Name: 0, dtype: object\n",
      "\n",
      "\n",
      "filter_id                                      f001\n",
      "source                                         GBIF\n",
      "has_coordinate_uncertainty                        1\n",
      "creator                                     N. Tarr\n",
      "notes                         Used for development.\n",
      "Name: 0, dtype: object\n",
      "\n",
      "\n"
     ]
    }
   ],
   "source": [
    "filter_sets = cursorjup.execute(\"SELECT filter_sets FROM evaluations WHERE evaluation_id = 'eval_gbif1'\").fetchone()[0]\n",
    "filter_sets = filter_sets.split(\",\")\n",
    "\n",
    "tables = cursorjup.execute(\"SELECT table_name FROM table_descriptions\").fetchall()\n",
    "tables = [x[0] for x in tables]\n",
    "\n",
    "for s in filter_sets:\n",
    "    s = s.strip()\n",
    "    for tab in tables:\n",
    "        columns = cursorjup.execute(\"SELECT column_name FROM column_descriptions WHERE table_name = '{0}'\".format(tab)).fetchall()\n",
    "        columns=[x[0] for x in columns]   \n",
    "        for col in columns:\n",
    "            try:\n",
    "                df1 = pd.read_sql_query(sql=\"SELECT * FROM {0} WHERE {1} = '{2}'\".format(tab, col, s), con=connjup)\n",
    "                print(df1.iloc[0]) \n",
    "                print('\\n')\n",
    "            except:\n",
    "                pass"
   ]
  },
  {
   "cell_type": "markdown",
   "metadata": {},
   "source": [
    "### How many records made it through the filters?"
   ]
  },
  {
   "cell_type": "code",
   "execution_count": 5,
   "metadata": {},
   "outputs": [
    {
     "name": "stdout",
     "output_type": "stream",
     "text": [
      "0 records made it through the filters\n"
     ]
    }
   ],
   "source": [
    "conn_occ= sqlite3.connect(outDir + species_id + \"_occurrences.sqlite\")\n",
    "curs_occ = conn_occ.cursor()\n",
    "record_count = curs_occ.execute(\"SELECT COUNT(occ_id) FROM occurrences WHERE species_id = '{0}'\".format(species_id)).fetchone()\n",
    "print(str(record_count[0]) + \" records made it through the filters\")"
   ]
  },
  {
   "cell_type": "markdown",
   "metadata": {},
   "source": [
    "### What years were represented in the data?"
   ]
  },
  {
   "cell_type": "code",
   "execution_count": 11,
   "metadata": {},
   "outputs": [
    {
     "data": {
      "text/plain": [
       "Text(0.5, 1.0, 'Occurrences per Year')"
      ]
     },
     "execution_count": 11,
     "metadata": {},
     "output_type": "execute_result"
    },
    {
     "data": {
      "image/png": "[encoded data removed]",
      "text/plain": [
       "<Figure size 432x288 with 1 Axes>"
      ]
     },
     "metadata": {
      "needs_background": "light"
     },
     "output_type": "display_data"
    }
   ],
   "source": [
    "occ_years = [int(x[0]) for x in curs_occ.execute(\"SELECT strftime('%Y', occurrenceDate) FROM occurrences\").fetchall()]\n",
    "plt.hist(occ_years, bins=20)\n",
    "plt.ylabel(\"number of occurrences\")\n",
    "plt.xlabel(\"year\")\n",
    "plt.title(\"Occurrences per Year\")"
   ]
  },
  {
   "cell_type": "markdown",
   "metadata": {},
   "source": [
    "### What months were represented in the data?"
   ]
  },
  {
   "cell_type": "code",
   "execution_count": 12,
   "metadata": {},
   "outputs": [
    {
     "data": {
      "text/plain": [
       "Text(0.5, 1.0, 'Occurrences per Month')"
      ]
     },
     "execution_count": 12,
     "metadata": {},
     "output_type": "execute_result"
    },
    {
     "data": {
      "image/png": "[encoded data removed]",
      "text/plain": [
       "<Figure size 432x288 with 1 Axes>"
      ]
     },
     "metadata": {
      "needs_background": "light"
     },
     "output_type": "display_data"
    }
   ],
   "source": [
    "occ_months = [int(x[0]) for x in curs_occ.execute(\"SELECT strftime('%m', occurrenceDate) FROM occurrences\").fetchall()]\n",
    "plt.hist(occ_months, bins=range(1, 14), color=\"g\")\n",
    "plt.ylabel(\"number of occurrences\")\n",
    "plt.xlabel(\"month\")\n",
    "plt.xticks(range(1, 13))\n",
    "plt.title(\"Occurrences per Month\")"
   ]
  },
  {
   "cell_type": "markdown",
   "metadata": {},
   "source": [
    "### What months were represented in the data?"
   ]
  },
  {
   "cell_type": "code",
   "execution_count": 6,
   "metadata": {},
   "outputs": [
    {
     "data": {
      "text/plain": [
       "Text(0.5, 1.0, 'Coordinate Uncertainty')"
      ]
     },
     "execution_count": 6,
     "metadata": {},
     "output_type": "execute_result"
    },
    {
     "data": {
      "image/png": "[encoded data removed]",
      "text/plain": [
       "<Figure size 432x288 with 1 Axes>"
      ]
     },
     "metadata": {
      "needs_background": "light"
     },
     "output_type": "display_data"
    }
   ],
   "source": [
    "occ_cert = [int(x[0]) for x in curs_occ.execute(\"SELECT coordinateUncertaintyInMeters FROM occurrences\").fetchall()]\n",
    "plt.hist(occ_cert, color=\"r\")\n",
    "plt.ylabel(\"number of records\")\n",
    "plt.xlabel(\"coordinate uncertainty\")\n",
    "plt.title(\"Coordinate Uncertainty\")"
   ]
  },
  {
   "cell_type": "markdown",
   "metadata": {},
   "source": [
    "### What issues were present in the data?"
   ]
  },
  {
   "cell_type": "code",
   "execution_count": 14,
   "metadata": {
    "scrolled": true
   },
   "outputs": [
    {
     "name": "stdout",
     "output_type": "stream",
     "text": [
      "RECORDED_DATE_MISMATCH\n",
      "COORDINATE_ROUNDED\n",
      "GEODETIC_DATUM_INVALID\n",
      "COORDINATE_REPROJECTED\n",
      "GEODETIC_DATUM_ASSUMED_WGS84\n"
     ]
    }
   ],
   "source": [
    "conn_occ= sqlite3.connect(outDir + species_id + \"_occurrences.sqlite\")\n",
    "curs_occ = conn_occ.cursor()\n",
    "occ_ids = [x[0] for x in curs_occ.execute(\"SELECT occ_id FROM occurrences\").fetchall()]\n",
    "issues = set([])\n",
    "for id in occ_ids:\n",
    "    occdict = occurrences.get(key=id)\n",
    "    issues = issues | set(occdict['issues'])\n",
    "for x in list(issues):\n",
    "    print(x)"
   ]
  },
  {
   "cell_type": "markdown",
   "metadata": {},
   "source": [
    "### What were the bases of the records?"
   ]
  },
  {
   "cell_type": "code",
   "execution_count": 15,
   "metadata": {
    "scrolled": true
   },
   "outputs": [
    {
     "name": "stdout",
     "output_type": "stream",
     "text": [
      "PRESERVED_SPECIMEN\n"
     ]
    }
   ],
   "source": [
    "occ_ids = [x[0] for x in curs_occ.execute(\"SELECT occ_id FROM occurrences\").fetchall()]\n",
    "bases = []\n",
    "for id in occ_ids:\n",
    "    occdict = occurrences.get(key=id)\n",
    "    BOR = occdict['basisOfRecord']\n",
    "    if BOR == \"\" or BOR == None:\n",
    "        bases.append(\"UNKNOWN\")\n",
    "    else:\n",
    "        bases.append(BOR)\n",
    "for x in list(set(bases)):\n",
    "    print(x)"
   ]
  },
  {
   "cell_type": "markdown",
   "metadata": {},
   "source": [
    "### Who provided the records?"
   ]
  },
  {
   "cell_type": "code",
   "execution_count": 16,
   "metadata": {
    "scrolled": true
   },
   "outputs": [
    {
     "name": "stdout",
     "output_type": "stream",
     "text": [
      "urn:lsid:biocol.org:col:34847\n",
      "urn:lsid:biocol.org:col:35295\n",
      "urn:lsid:biocol.org:col:34777\n",
      "http://grbio.org/cool/gq95-3z97\n",
      "urn:lsid:biocol.org:col:34967\n",
      "YPM\n",
      "urn:lsid:biocol.org:col:34925\n",
      "urn:lsid:biocol.org:col:34825\n",
      "ROM\n",
      "urn:lsid:biocol.org:col:35013\n",
      "http://grbio.org/cool/i64g-wjcr\n",
      "http://biocol.org/urn:lsid:biocol.org:col:34940\n",
      "OMNH\n",
      "CAS\n",
      "b4640710-8e03-11d8-b956-b8a03c50a862\n",
      "UWYMV\n",
      "http://grbio.org/cool/iakn-125z\n",
      "http://grbio.org/cool/nn0p-dxqs\n",
      "http://biocol.org/urn:lsid:biocol:org:34802\n",
      "urn:lsid:biocol.org:col:34495\n",
      "urn:lsid:biocol.org:col:34878\n",
      "UMMZ\n"
     ]
    }
   ],
   "source": [
    "occ_ids = [x[0] for x in curs_occ.execute(\"SELECT occ_id FROM occurrences\").fetchall()]\n",
    "by = []\n",
    "for id in occ_ids:\n",
    "    occdict = occurrences.get(key=id)\n",
    "    try:\n",
    "        who = occdict['institutionID']\n",
    "        by.append(who)\n",
    "    except:\n",
    "        who = occdict['institutionCode']\n",
    "        by.append(who)\n",
    "for x in list(set(by)):\n",
    "    print(x)"
   ]
  },
  {
   "cell_type": "markdown",
   "metadata": {},
   "source": [
    "### Were there duplicate records?"
   ]
  },
  {
   "cell_type": "code",
   "execution_count": 17,
   "metadata": {},
   "outputs": [
    {
     "name": "stdout",
     "output_type": "stream",
     "text": [
      "22 records were duplicates based on xy coordinate and date-time\n"
     ]
    }
   ],
   "source": [
    "dups0 = curs_occ.execute(\"SELECT COUNT(occ_id) FROM occurrences GROUP BY geom_xy4326, occurrenceDate;\").fetchall()\n",
    "dups1 = [x[0] for x in dups0]\n",
    "dups2 = [x for x in dups1 if x > 1]\n",
    "print(str(len(dups2)) + ' records were duplicates based on xy coordinate and date-time')"
   ]
  }
 ],
 "metadata": {
  "kernelspec": {
   "display_name": "Python 3",
   "language": "python",
   "name": "python3"
  },
  "language_info": {
   "codemirror_mode": {
    "name": "ipython",
    "version": 3
   },
   "file_extension": ".py",
   "mimetype": "text/x-python",
   "name": "python",
   "nbconvert_exporter": "python",
   "pygments_lexer": "ipython3",
   "version": "3.6.8"
  }
 },
 "nbformat": 4,
 "nbformat_minor": 2
}
