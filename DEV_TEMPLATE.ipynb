{
 "cells": [
  {
   "cell_type": "markdown",
   "metadata": {},
   "source": [
    "# Yellow-billed Cuckoo Test\n",
    "\n",
    "The following code can be edited with your notebook's name and run in command line in order to generate output without the input code:\n",
    "\n",
    "jupyter nbconvert --to html --TemplateExporter.exclude_input=True --output-dir=\"T:/Temp/\" DEV_TEMPLATE.ipynb"
   ]
  },
  {
   "cell_type": "code",
   "execution_count": 1,
   "metadata": {},
   "outputs": [],
   "source": [
    "# Specify some paths and names in the cell below.\n",
    "config_path = \"T:/Data/\"  # Path to folder where you saved your wildlifeconfig file.\n",
    "filter_set_json = None\n",
    "taxon_json = None\n",
    "query_name = 'Mystery'\n",
    "ask_eBird = False\n",
    "ask_GBIF = True"
   ]
  },
  {
   "cell_type": "code",
   "execution_count": 2,
   "metadata": {
    "scrolled": true
   },
   "outputs": [
    {
     "name": "stdout",
     "output_type": "stream",
     "text": [
      "Notebook run 2021-04-16 14:59:11.935685\n",
      "Results were saved in T:/Occurrence_Records/Mystery.sqlite\n"
     ]
    }
   ],
   "source": [
    "# Nothing to fill out in the next cell\n",
    "%matplotlib inline\n",
    "import os\n",
    "import sqlite3\n",
    "import pprint\n",
    "import json\n",
    "import pandas as pd\n",
    "import geopandas as gpd\n",
    "import numpy as np\n",
    "import matplotlib.pyplot as plt\n",
    "from datetime import datetime\n",
    "import sys\n",
    "sys.path.append(config_path)\n",
    "import wranglerconfig as config\n",
    "sys.path.append(config.codeDir)\n",
    "import wrangler_functions as functions\n",
    "\n",
    "# Define some variables\n",
    "t1 = datetime.now()\n",
    "working_directory = config.workDir\n",
    "username = config.gbif_username\n",
    "password = config.gbif_password\n",
    "email = config.gbif_email\n",
    "EBD_file = config.EBD_file\n",
    "output_database = working_directory + query_name + '.sqlite'\n",
    "\n",
    "# Set display options\n",
    "pd.set_option('display.width', 600)\n",
    "pd.set_option('display.max_colwidth', 30)\n",
    "pd.set_option('display.max_rows', 150)\n",
    "\n",
    "print(\"Notebook run \" + str(t1))\n",
    "print(\"Results were saved in \" + output_database)"
   ]
  },
  {
   "cell_type": "markdown",
   "metadata": {},
   "source": [
    "## Taxon Concept\n",
    "GBIF and eBird can currently be accessed.\n",
    "\n",
    "Caution! -- Taxon concept mismatches can cause inclusion of innapropriate records or ommission of useful records."
   ]
  },
  {
   "cell_type": "code",
   "execution_count": 3,
   "metadata": {},
   "outputs": [],
   "source": [
    "your_taxon_id = \"TestCuckoo\"\n",
    "gbif_id = 2496287 \n",
    "ebird_id = \"Yellow-billed Cuckoo\"\n",
    "detection_distance_m = 200\n",
    "taxon_polygon = \"POLYGON ((-84.09680233298448 36.69265225442667, -84.07962135716329 34.5561660300382, -84.07962135716329 34.5561660300382, -80.25685423694925 34.65515526072436, -81.15026497965096 36.71331438415306, -84.09680233298448 36.69265225442667))\""
   ]
  },
  {
   "cell_type": "code",
   "execution_count": 4,
   "metadata": {},
   "outputs": [
    {
     "name": "stdout",
     "output_type": "stream",
     "text": [
      "{'EBIRD_ID': 'Yellow-billed Cuckoo',\n",
      " 'GBIF_ID': 2496287,\n",
      " 'ID': 'TestCuckoo',\n",
      " 'TAXON_EOO': 'POLYGON ((-84.09680233298448 36.69265225442667, '\n",
      "              '-84.07962135716329 34.5561660300382, -84.07962135716329 '\n",
      "              '34.5561660300382, -80.25685423694925 34.65515526072436, '\n",
      "              '-81.15026497965096 36.71331438415306, -84.09680233298448 '\n",
      "              '36.69265225442667))',\n",
      " 'detection_distance_m': 200}\n"
     ]
    }
   ],
   "source": [
    "# If a json was provided, use it, otherwise create a new one with info that was provided.\n",
    "if taxon_json is None:\n",
    "    # Build a species dictionary\n",
    "    taxon_info = {\"ID\": your_taxon_id, \"GBIF_ID\": gbif_id, \"EBIRD_ID\": ebird_id, \"detection_distance_m\": detection_distance_m,\n",
    "                  \"TAXON_EOO\": taxon_polygon}\n",
    "\n",
    "    # Save as json object\n",
    "    out_file = open(working_directory + your_taxon_id + \".json\", \"w\")  \n",
    "    json.dump(taxon_info, out_file) \n",
    "    out_file.close() \n",
    "\n",
    "if taxon_json is not None:\n",
    "    with open(taxon_json, \"r\") as f:\n",
    "        taxon_info = json.load(f)\n",
    "        f.close()\n",
    "        \n",
    "pprint.pprint(taxon_info)"
   ]
  },
  {
   "cell_type": "markdown",
   "metadata": {},
   "source": [
    "## Filter Set\n",
    "Fill out this section to specify how you want records filtered and cleaned.  Alternatively, you can load a filter set here by specifying a path in the first cell of this notebook.  \n",
    "\n",
    "To skip a filter, enter \"None\" without the quotation marks or \"\".  "
   ]
  },
  {
   "cell_type": "code",
   "execution_count": 5,
   "metadata": {},
   "outputs": [
    {
     "name": "stdout",
     "output_type": "stream",
     "text": [
      "Name: test_filters_1\n"
     ]
    }
   ],
   "source": [
    "filter_set_name = \"test_filters_1\"\n",
    "print(\"Name: \" + str(filter_set_name))"
   ]
  },
  {
   "cell_type": "markdown",
   "metadata": {},
   "source": [
    "#### Date Limits\n",
    "Enter year and month ranges.  For example, years_range = 2015,2017 and months_range = 3,6\n",
    "\n",
    "Justification: "
   ]
  },
  {
   "cell_type": "code",
   "execution_count": 6,
   "metadata": {},
   "outputs": [
    {
     "name": "stdout",
     "output_type": "stream",
     "text": [
      "Years: 2014,2016\n",
      "Months: 5,7\n"
     ]
    }
   ],
   "source": [
    "years_range = \"2014,2016\"\n",
    "months_range = \"5,7\"\n",
    "print(\"Years: \" + str(years_range))\n",
    "print(\"Months: \" + str(months_range))"
   ]
  },
  {
   "cell_type": "markdown",
   "metadata": {},
   "source": [
    "#### Country\n",
    "Notes:"
   ]
  },
  {
   "cell_type": "code",
   "execution_count": 7,
   "metadata": {},
   "outputs": [
    {
     "name": "stdout",
     "output_type": "stream",
     "text": [
      "Country: US\n"
     ]
    }
   ],
   "source": [
    "country = \"US\"\n",
    "print(\"Country: \" + country)"
   ]
  },
  {
   "cell_type": "markdown",
   "metadata": {},
   "source": [
    "#### Bounding Box\n",
    "Coordinates should correspond to WGS84 (EPSG:4326).  Don't use this option if you specify a query polygon below.\n",
    "\n",
    "Notes:"
   ]
  },
  {
   "cell_type": "code",
   "execution_count": 8,
   "metadata": {},
   "outputs": [
    {
     "name": "stdout",
     "output_type": "stream",
     "text": [
      "Latitude range: 27,41\n",
      "Longitude range: -89,-75\n"
     ]
    }
   ],
   "source": [
    "lat_range = \"27,41\"\n",
    "lon_range = \"-89,-75\"\n",
    "print(\"Latitude range: \" + lat_range)\n",
    "print(\"Longitude range: \" + lon_range)"
   ]
  },
  {
   "cell_type": "markdown",
   "metadata": {},
   "source": [
    "#### Area of Interest\n",
    "Specify polygons to use for spatial filtering.  Records with coordinates outside of the polygons will be removed.  You can specify a geometry for the query and one for the species.  The species geometry is included to facilitate better handling of taxonomic issues.  If both are provided, the intersection is calculated and used as the filter.  The format should be well known text in WGS84 (EPSG 4326), and very importantly, vertices need to be listed counter-clockwise.  See the ccw_wkt_from_shp() function in wrangler functions for help.\n",
    "\n",
    "Notes:"
   ]
  },
  {
   "cell_type": "code",
   "execution_count": 9,
   "metadata": {},
   "outputs": [
    {
     "name": "stdout",
     "output_type": "stream",
     "text": [
      "\n"
     ]
    }
   ],
   "source": [
    "query_polygon = \"\"#\"POLYGON ((-82.74809573102132 36.96082629937069, -85.0932989306133 35.63154639485496, -81.0987220521874 33.56697226279766, -79.4235769096217 36.34054727735634, -79.4235769096217 36.34054727735634, -82.74809573102132 36.96082629937069))\"\n",
    "print(query_polygon)"
   ]
  },
  {
   "cell_type": "markdown",
   "metadata": {},
   "source": [
    "#### Taxon EOO\n",
    "True or False whether you want to apply the taxon EOO to the filtering.  If True, removes records with centroids outside of the extent of occurrence geometry you provided in taxon_info.\n",
    "\n",
    "Notes:"
   ]
  },
  {
   "cell_type": "code",
   "execution_count": 10,
   "metadata": {},
   "outputs": [
    {
     "name": "stdout",
     "output_type": "stream",
     "text": [
      "Use taxon extent of occurrence? False\n"
     ]
    }
   ],
   "source": [
    "use_taxon_geometry = False\n",
    "print(\"Use taxon extent of occurrence? \" + str(use_taxon_geometry))"
   ]
  },
  {
   "cell_type": "markdown",
   "metadata": {},
   "source": [
    "#### GBIF Request Method\n",
    "Whether to get records from GBIF in a darwin core archive.  \"False\" uses the GBIF API, which has limitations that may be important.  \"True\" requests results be emailed in a darwin core archive."
   ]
  },
  {
   "cell_type": "code",
   "execution_count": 11,
   "metadata": {},
   "outputs": [
    {
     "name": "stdout",
     "output_type": "stream",
     "text": [
      "Request a Darwin Core Archive? True\n"
     ]
    }
   ],
   "source": [
    "get_dwca = True \n",
    "print(\"Request a Darwin Core Archive? \" + str(get_dwca))"
   ]
  },
  {
   "cell_type": "markdown",
   "metadata": {},
   "source": [
    "#### Geoissue\n",
    "Are GBIF records with noted geoissues OK to include? GBIF only.\n",
    "\n",
    "Notes:"
   ]
  },
  {
   "cell_type": "code",
   "execution_count": 12,
   "metadata": {},
   "outputs": [
    {
     "name": "stdout",
     "output_type": "stream",
     "text": [
      "Records with geoissues OK? False\n"
     ]
    }
   ],
   "source": [
    "geoissue = False\n",
    "print(\"Records with geoissues OK? \" + str(geoissue))"
   ]
  },
  {
   "cell_type": "markdown",
   "metadata": {},
   "source": [
    "#### Collections\n",
    "List collection codes that you'd like to omit. GBIF only.\n",
    "\n",
    "Notes:"
   ]
  },
  {
   "cell_type": "code",
   "execution_count": 13,
   "metadata": {},
   "outputs": [
    {
     "name": "stdout",
     "output_type": "stream",
     "text": [
      "Omit: None\n"
     ]
    }
   ],
   "source": [
    "collection_codes_omit = None\n",
    "print(\"Omit: \" + str(collection_codes_omit))"
   ]
  },
  {
   "cell_type": "markdown",
   "metadata": {},
   "source": [
    "#### Institutions\n",
    "List institution codes that you'd like to omit. GBIF only\n",
    "\n",
    "Notes:"
   ]
  },
  {
   "cell_type": "code",
   "execution_count": 14,
   "metadata": {},
   "outputs": [
    {
     "name": "stdout",
     "output_type": "stream",
     "text": [
      "Omit: None\n"
     ]
    }
   ],
   "source": [
    "institutions_omit = None\n",
    "print(\"Omit: \" + str(institutions_omit))"
   ]
  },
  {
   "cell_type": "markdown",
   "metadata": {},
   "source": [
    "#### Datasets\n",
    "List datasets that you'd like to omit.\n",
    "\n",
    "Notes:"
   ]
  },
  {
   "cell_type": "code",
   "execution_count": 15,
   "metadata": {},
   "outputs": [
    {
     "name": "stdout",
     "output_type": "stream",
     "text": [
      "Omit: None\n"
     ]
    }
   ],
   "source": [
    "datasets_omit = None\n",
    "print(\"Omit: \" + str(datasets_omit))"
   ]
  },
  {
   "cell_type": "markdown",
   "metadata": {},
   "source": [
    "#### Coordinate Uncertainty\n",
    "Do you want to remove records without coordinate uncertainty (1) or leave them in the data set (0)?  Note that eBird records in GBIF (EOD) do not have this and neither do data in the EBD dataset.  With the EBD, the length of traveling counts is used as a surrogate value.  \n",
    "\n",
    "max_coordinate_uncertainty must be an integer greater than 0.\n",
    "\n",
    "default_coordUncertainty -- coordinateUncertaintyInMeters is often not provided.  Here is an option to use a default.  If you don't want anything entered, set this equal to False (boolean, not string).\n",
    "\n",
    "A maximum for coordinate uncertainty can also be set in meters.\n",
    "\n",
    "Notes:"
   ]
  },
  {
   "cell_type": "code",
   "execution_count": 16,
   "metadata": {},
   "outputs": [
    {
     "name": "stdout",
     "output_type": "stream",
     "text": [
      "Coordinate uncertainty required? True\n",
      "Default coordinate uncertainty to use: 1000\n",
      "Maximum allowable coordinate uncertainty: 10000\n"
     ]
    }
   ],
   "source": [
    "has_coordinate_uncertainty = True\n",
    "default_coordUncertainty = 1000\n",
    "max_coordinate_uncertainty = 10000\n",
    "print(\"Coordinate uncertainty required? \" + str(has_coordinate_uncertainty))\n",
    "print(\"Default coordinate uncertainty to use: \" + str(default_coordUncertainty))\n",
    "print(\"Maximum allowable coordinate uncertainty: \" + str(max_coordinate_uncertainty))"
   ]
  },
  {
   "cell_type": "markdown",
   "metadata": {},
   "source": [
    "#### Bases\n",
    "List bases of records that you want to omit.  GBIF only.\n",
    "\n",
    "Notes:"
   ]
  },
  {
   "cell_type": "code",
   "execution_count": 17,
   "metadata": {},
   "outputs": [
    {
     "name": "stdout",
     "output_type": "stream",
     "text": [
      "Omit: None\n"
     ]
    }
   ],
   "source": [
    "bases_omit = None\n",
    "print(\"Omit: \" + str(bases_omit))"
   ]
  },
  {
   "cell_type": "markdown",
   "metadata": {},
   "source": [
    "#### Sampling Protocols\n",
    "List sampling protocols that you would like to omit.\n",
    "\n",
    "Notes:"
   ]
  },
  {
   "cell_type": "code",
   "execution_count": 18,
   "metadata": {},
   "outputs": [
    {
     "name": "stdout",
     "output_type": "stream",
     "text": [
      "Omit: None\n"
     ]
    }
   ],
   "source": [
    "sampling_protocols_omit = None\n",
    "print(\"Omit: \" + str(sampling_protocols_omit))"
   ]
  },
  {
   "cell_type": "markdown",
   "metadata": {},
   "source": [
    "#### Issues\n",
    "List issues that you want to omit.  GBIF only.\n",
    "\n",
    "Notes:"
   ]
  },
  {
   "cell_type": "code",
   "execution_count": 19,
   "metadata": {},
   "outputs": [
    {
     "name": "stdout",
     "output_type": "stream",
     "text": [
      "Omit: None\n"
     ]
    }
   ],
   "source": [
    "issues_omit = None\n",
    "print(\"Omit: \" + str(issues_omit))"
   ]
  },
  {
   "cell_type": "markdown",
   "metadata": {},
   "source": [
    "#### Duplicates\n",
    "Specify whether duplicates on latitude, longitude, and date should be included.\n",
    "\n",
    "Notes:"
   ]
  },
  {
   "cell_type": "code",
   "execution_count": 20,
   "metadata": {},
   "outputs": [
    {
     "name": "stdout",
     "output_type": "stream",
     "text": [
      "Allow duplicates? False\n"
     ]
    }
   ],
   "source": [
    "duplicates_OK = False\n",
    "print(\"Allow duplicates? \" + str(duplicates_OK))"
   ]
  },
  {
   "cell_type": "markdown",
   "metadata": {},
   "source": [
    "#### Filter Set Summary"
   ]
  },
  {
   "cell_type": "code",
   "execution_count": 21,
   "metadata": {
    "scrolled": true
   },
   "outputs": [
    {
     "name": "stdout",
     "output_type": "stream",
     "text": [
      "{'bases_omit': None,\n",
      " 'collection_codes_omit': None,\n",
      " 'country': 'US',\n",
      " 'datasets_omit': None,\n",
      " 'default_coordUncertainty': 1000,\n",
      " 'duplicates_OK': False,\n",
      " 'geoissue': False,\n",
      " 'get_dwca': True,\n",
      " 'has_coordinate_uncertainty': True,\n",
      " 'institutions_omit': None,\n",
      " 'issues_omit': None,\n",
      " 'lat_range': '27,41',\n",
      " 'lon_range': '-89,-75',\n",
      " 'max_coordinate_uncertainty': 10000,\n",
      " 'months_range': '5,7',\n",
      " 'name': 'test_filters_1',\n",
      " 'query_polygon': None,\n",
      " 'sampling_protocols_omit': None,\n",
      " 'use_taxon_geometry': False,\n",
      " 'years_range': '2014,2016'}\n"
     ]
    }
   ],
   "source": [
    "if filter_set_json is None:\n",
    "    # Build a filter set dictionary\n",
    "    filter_set = {\"name\": filter_set_name, \"query_polygon\": query_polygon, \"issues_omit\": issues_omit,\n",
    "                  \"sampling_protocols_omit\": sampling_protocols_omit, \"bases_omit\": bases_omit,\n",
    "                  \"has_coordinate_uncertainty\": has_coordinate_uncertainty, \"geoissue\": geoissue,\n",
    "                  \"default_coordUncertainty\": default_coordUncertainty,\n",
    "                  \"max_coordinate_uncertainty\": max_coordinate_uncertainty,\n",
    "                  \"datasets_omit\": datasets_omit, \"collection_codes_omit\": collection_codes_omit,\n",
    "                  \"institutions_omit\": institutions_omit, \"geoissue\": geoissue, \"use_taxon_geometry\": use_taxon_geometry,\n",
    "                  \"lat_range\": lat_range, \"lon_range\": lon_range, \"country\": country, \n",
    "                  \"years_range\": years_range, \"months_range\": months_range, \"duplicates_OK\": duplicates_OK, \"get_dwca\": get_dwca}\n",
    "    \n",
    "    # Replace empty strings with None\n",
    "    for x in filter_set.keys():\n",
    "        if filter_set[x] == \"\":\n",
    "            filter_set[x] = None\n",
    "    \n",
    "    # Save as json object\n",
    "    with open(working_directory + filter_set_name + \".json\", \"w\") as f:\n",
    "        json.dump(filter_set, f) \n",
    "        f.close()\n",
    "        \n",
    "if filter_set_json is not None:\n",
    "    with open(filter_set_json, \"r\") as f:\n",
    "        filter_set = json.load(f)\n",
    "        f.close()\n",
    "        \n",
    "    # Replace empty strings with None\n",
    "    for x in filter_set.keys():\n",
    "        if filter_set[x] == \"\":\n",
    "            filter_set[x] = None\n",
    "        \n",
    "pprint.pprint(filter_set)"
   ]
  },
  {
   "cell_type": "markdown",
   "metadata": {},
   "source": [
    "## Processing"
   ]
  },
  {
   "cell_type": "code",
   "execution_count": 22,
   "metadata": {},
   "outputs": [],
   "source": [
    "# Create an output database\n",
    "functions.build_output_database(output_database)\n",
    "\n",
    "# Save taxon and filter set info into database\n",
    "output_db_conn= sqlite3.connect(output_database)\n",
    "cursor = output_db_conn.cursor()\n",
    "pd.DataFrame(taxon_info.values(), taxon_info.keys()).applymap(str).to_sql(name='taxon_concept', con=output_db_conn, if_exists='replace')\n",
    "pd.DataFrame(filter_set.values(), filter_set.keys()).applymap(str).to_sql(name='filter_set', con=output_db_conn, if_exists='replace')\n",
    "output_db_conn.close()"
   ]
  },
  {
   "cell_type": "code",
   "execution_count": 23,
   "metadata": {},
   "outputs": [
    {
     "name": "stdout",
     "output_type": "stream",
     "text": [
      "Got request params and sorted out geometry constraints: 0:00:00\n",
      "46440 records available\n",
      "['taxonKey = 2496287', 'hasCoordinate = True', 'country = US', 'year >= 2014', 'year <= 2016', 'month >= 5', 'month <= 7', 'hasGeospatialIssue = False', 'decimalLatitude >= 27', 'decimalLatitude <= 41', 'decimalLongitude >= -89', 'decimalLongitude <= -75']\n",
      "Your download key is  0253668-200613084148143\n",
      "Downloading Darwin Core Archive zip file for this species .....\n",
      "Download file size: 6248402 bytes\n",
      "On disk at T:/Occurrence_Records//0253668-200613084148143.zip\n",
      "Download complete: 0:01:34.101368\n",
      "Stored GBIF Download DOI etc.: 0:00:00.015626\n",
      "Summarized fields returned: 0:00:00.156215\n",
      "Revised field names and values: 0:00:00.320238\n"
     ]
    }
   ],
   "source": [
    "# Run the appropriate queries\n",
    "if ask_eBird == True and ask_GBIF == True:\n",
    "    # Run eBird query\n",
    "    ebird_data = functions.get_EBD_records(taxon_info, filter_set, working_directory, EBD_file, query_name)\n",
    "    # Run GBIF query\n",
    "    gbif_data = functions.get_GBIF_records(taxon_info, filter_set, query_name, working_directory, username, password, email) \n",
    "\n",
    "elif ask_eBird == True and ask_GBIF == False:\n",
    "    # Run eBird query\n",
    "    ebird_data = functions.get_EBD_records(taxon_info, filter_set, working_directory, EBD_file, query_name)\n",
    "    gbif_data = None\n",
    "\n",
    "elif ask_eBird == False and ask_GBIF == True:\n",
    "    # Run GBIF query\n",
    "    gbif_data = functions.get_GBIF_records(taxon_info, filter_set, query_name, working_directory, username, password, email)\n",
    "    ebird_data = None"
   ]
  },
  {
   "cell_type": "code",
   "execution_count": 24,
   "metadata": {},
   "outputs": [
    {
     "data": {
      "text/plain": [
       "'\\nif ebird_data is not None:\\n    ebird_data.to_csv(\"T:/Temp/ebird.csv\")\\n    ebird_data=pd.read_csv(\"T:/Temp/ebird.csv\", index_col=\"Unnamed: 0\")\\nif gbif_data is not None:\\n    gbif_data.to_csv(\"T:/Temp/gbif.csv\")\\n'"
      ]
     },
     "execution_count": 24,
     "metadata": {},
     "output_type": "execute_result"
    }
   ],
   "source": [
    "# THIS CAN EVENTUALLY BE DELETED\n",
    "\"\"\"\n",
    "if ebird_data is not None:\n",
    "    ebird_data.to_csv(\"T:/Temp/ebird.csv\")\n",
    "    ebird_data=pd.read_csv(\"T:/Temp/ebird.csv\", index_col=\"Unnamed: 0\")\n",
    "if gbif_data is not None:\n",
    "    gbif_data.to_csv(\"T:/Temp/gbif.csv\")\n",
    "\"\"\""
   ]
  },
  {
   "cell_type": "code",
   "execution_count": 25,
   "metadata": {},
   "outputs": [],
   "source": [
    "# Filter out records with undesirable values, locations, and/or duplication.\n",
    "#import importlib\n",
    "#importlib.reload(functions)\n",
    "for x in filter_set.keys():\n",
    "    if filter_set[x] == \"\":\n",
    "        filter_set[x] = None"
   ]
  },
  {
   "cell_type": "code",
   "execution_count": 26,
   "metadata": {},
   "outputs": [
    {
     "name": "stdout",
     "output_type": "stream",
     "text": [
      "Summarized values acquired: 0:00:00.171843\n",
      "Performed filtering: 0:00:00\n",
      "0 duplicate records dropped: 0:00:00.031244\n"
     ]
    }
   ],
   "source": [
    "functions.filter_records(ebird_data=ebird_data, gbif_data=gbif_data, filter_set=filter_set, \n",
    "                        taxon_info=taxon_info, working_directory=working_directory, \n",
    "                        query_name=query_name)"
   ]
  },
  {
   "cell_type": "code",
   "execution_count": 27,
   "metadata": {},
   "outputs": [
    {
     "name": "stdout",
     "output_type": "stream",
     "text": [
      "27 records were saved in the output database\n"
     ]
    }
   ],
   "source": [
    "output_db_conn= sqlite3.connect(output_database)\n",
    "cursor = output_db_conn.cursor()\n",
    "record_count = cursor.execute(\"SELECT COUNT(record_id) FROM occurrence_records;\").fetchone()\n",
    "print(str(record_count[0]) + \" records were saved in the output database\")"
   ]
  },
  {
   "cell_type": "markdown",
   "metadata": {},
   "source": [
    "## Results of the Filtering"
   ]
  },
  {
   "cell_type": "markdown",
   "metadata": {},
   "source": [
    "#### Attributes Returned for GBIF Records\n",
    "This count was made before filters were applied"
   ]
  },
  {
   "cell_type": "code",
   "execution_count": 28,
   "metadata": {
    "scrolled": true
   },
   "outputs": [
    {
     "name": "stdout",
     "output_type": "stream",
     "text": [
      "                           attribute  included(n)  populated(n)\n",
      "Field                                                          \n",
      "0                           abstract        46440             0\n",
      "1                       accessRights        46440             0\n",
      "2                      accrualMethod        46440             0\n",
      "3                 accrualPeriodicity        46440             0\n",
      "4                      accrualPolicy        46440             0\n",
      "5                        alternative        46440             0\n",
      "6                           audience        46440             0\n",
      "7                          available        46440             0\n",
      "8              bibliographicCitation        46440             0\n",
      "9                         conformsTo        46440             0\n",
      "10                       contributor        46440             0\n",
      "11                          coverage        46440             0\n",
      "12                           created        46440             0\n",
      "13                           creator        46440             0\n",
      "14                              date        46440             0\n",
      "15                      dateAccepted        46440             0\n",
      "16                   dateCopyrighted        46440             0\n",
      "17                     dateSubmitted        46440             0\n",
      "18                       description        46440             0\n",
      "19                    educationLevel        46440             0\n",
      "20                            extent        46440             0\n",
      "21                            format        46440             0\n",
      "22                         hasFormat        46440             0\n",
      "23                           hasPart        46440             0\n",
      "24                        hasVersion        46440             0\n",
      "25                        identifier        46440         46440\n",
      "26               instructionalMethod        46440             0\n",
      "27                        isFormatOf        46440             0\n",
      "28                          isPartOf        46440             0\n",
      "29                    isReferencedBy        46440             0\n",
      "30                      isReplacedBy        46440             0\n",
      "31                      isRequiredBy        46440             0\n",
      "32                       isVersionOf        46440             0\n",
      "33                            issued        46440             0\n",
      "34                          language        46440             1\n",
      "35                           license        46440         46440\n",
      "36                          mediator        46440             0\n",
      "37                            medium        46440             0\n",
      "38                          modified        46440            36\n",
      "39                        provenance        46440             0\n",
      "40                         publisher        46440             0\n",
      "41                        references        46440            41\n",
      "42                          relation        46440             0\n",
      "43                          replaces        46440             0\n",
      "44                          requires        46440             0\n",
      "45                            rights        46440            35\n",
      "46                      rightsHolder        46440            41\n",
      "47                            source        46440             0\n",
      "48                           spatial        46440             0\n",
      "49                           subject        46440             0\n",
      "50                   tableOfContents        46440             0\n",
      "51                          temporal        46440             0\n",
      "52                             title        46440             0\n",
      "53                              type        46440             0\n",
      "54                             valid        46440             0\n",
      "55                     institutionID        46440             0\n",
      "56                      collectionID        46440             0\n",
      "57                         datasetID        46440             0\n",
      "58                   institutionCode        46440         46434\n",
      "59                    collectionCode        46440         46440\n",
      "60                       datasetName        46440            35\n",
      "61              ownerInstitutionCode        46440             0\n",
      "62                     basisOfRecord        46440         46440\n",
      "63               informationWithheld        46440             0\n",
      "64               dataGeneralizations        46440             0\n",
      "65                 dynamicProperties        46440             0\n",
      "66                      occurrenceID        46440         46440\n",
      "67                     catalogNumber        46440         46440\n",
      "68                      recordNumber        46440             0\n",
      "69                        recordedBy        46440         46440\n",
      "70                   individualCount        46440         45317\n",
      "71                  organismQuantity        46440             0\n",
      "72              organismQuantityType        46440             0\n",
      "73                               sex        46440             1\n",
      "74                         lifeStage        46440             1\n",
      "75             reproductiveCondition        46440             0\n",
      "76                          behavior        46440             6\n",
      "77                establishmentMeans        46440             0\n",
      "78                  occurrenceStatus        46440         46440\n",
      "79                      preparations        46440             0\n",
      "80                       disposition        46440             0\n",
      "81              associatedReferences        46440             0\n",
      "82               associatedSequences        46440             0\n",
      "83                    associatedTaxa        46440             2\n",
      "84               otherCatalogNumbers        46440             0\n",
      "85                 occurrenceRemarks        46440            11\n",
      "86                        organismID        46440             0\n",
      "87                      organismName        46440             0\n",
      "88                     organismScope        46440             0\n",
      "89             associatedOccurrences        46440             0\n",
      "90               associatedOrganisms        46440             0\n",
      "91           previousIdentifications        46440             0\n",
      "92                   organismRemarks        46440             0\n",
      "93                  materialSampleID        46440             0\n",
      "94                           eventID        46440             0\n",
      "95                     parentEventID        46440             0\n",
      "96                       fieldNumber        46440             0\n",
      "97                         eventDate        46440         46440\n",
      "98                         eventTime        46440            37\n",
      "99                    startDayOfYear        46440             0\n",
      "100                     endDayOfYear        46440             0\n",
      "101                             year        46440         46440\n",
      "102                            month        46440         46440\n",
      "103                              day        46440         46440\n",
      "104                verbatimEventDate        46440            42\n",
      "105                          habitat        46440             0\n",
      "106                 samplingProtocol        46440             1\n",
      "107                   samplingEffort        46440             0\n",
      "108                  sampleSizeValue        46440             0\n",
      "109                   sampleSizeUnit        46440             0\n",
      "110                       fieldNotes        46440             7\n",
      "111                     eventRemarks        46440             0\n",
      "112                       locationID        46440             0\n",
      "113                higherGeographyID        46440             0\n",
      "114                  higherGeography        46440             0\n",
      "115                        continent        46440             0\n",
      "116                        waterBody        46440             0\n",
      "117                      islandGroup        46440             0\n",
      "118                           island        46440             0\n",
      "119                      countryCode        46440         46440\n",
      "120                    stateProvince        46440         46434\n",
      "121                           county        46440         46399\n",
      "122                     municipality        46440             0\n",
      "123                         locality        46440         46405\n",
      "124                 verbatimLocality        46440            34\n",
      "125                verbatimElevation        46440             6\n",
      "126                    verbatimDepth        46440             0\n",
      "127    minimumDistanceAboveSurfac...        46440             0\n",
      "128    maximumDistanceAboveSurfac...        46440             0\n",
      "129              locationAccordingTo        46440             0\n",
      "130                  locationRemarks        46440             0\n",
      "131                  decimalLatitude        46440         46440\n",
      "132                 decimalLongitude        46440         46440\n",
      "133    coordinateUncertaintyInMeters        46440            27\n",
      "134              coordinatePrecision        46440             0\n",
      "135            pointRadiusSpatialFit        46440             0\n",
      "136         verbatimCoordinateSystem        46440             0\n",
      "137                      verbatimSRS        46440             0\n",
      "138                     footprintWKT        46440             0\n",
      "139                     footprintSRS        46440             0\n",
      "140              footprintSpatialFit        46440             0\n",
      "141                  georeferencedBy        46440             0\n",
      "142                georeferencedDate        46440             0\n",
      "143             georeferenceProtocol        46440             0\n",
      "144              georeferenceSources        46440             1\n",
      "145    georeferenceVerificationSt...        46440             0\n",
      "146              georeferenceRemarks        46440             1\n",
      "147              geologicalContextID        46440             0\n",
      "148      earliestEonOrLowestEonothem        46440             0\n",
      "149       latestEonOrHighestEonothem        46440             0\n",
      "150       earliestEraOrLowestErathem        46440             0\n",
      "151        latestEraOrHighestErathem        46440             0\n",
      "152     earliestPeriodOrLowestSystem        46440             0\n",
      "153      latestPeriodOrHighestSystem        46440             0\n",
      "154      earliestEpochOrLowestSeries        46440             0\n",
      "155       latestEpochOrHighestSeries        46440             0\n",
      "156         earliestAgeOrLowestStage        46440             0\n",
      "157          latestAgeOrHighestStage        46440             0\n",
      "158       lowestBiostratigraphicZone        46440             0\n",
      "159      highestBiostratigraphicZone        46440             0\n",
      "160          lithostratigraphicTerms        46440             0\n",
      "161                            group        46440             0\n",
      "162                        formation        46440             0\n",
      "163                           member        46440             0\n",
      "164                              bed        46440             0\n",
      "165                 identificationID        46440            35\n",
      "166          identificationQualifier        46440             0\n",
      "167                       typeStatus        46440             0\n",
      "168                     identifiedBy        46440            35\n",
      "169                   dateIdentified        46440            36\n",
      "170         identificationReferences        46440             0\n",
      "171    identificationVerification...        46440             0\n",
      "172            identificationRemarks        46440             1\n",
      "173                          taxonID        46440            35\n",
      "174                 scientificNameID        46440             1\n",
      "175              acceptedNameUsageID        46440             0\n",
      "176                parentNameUsageID        46440             0\n",
      "177              originalNameUsageID        46440             0\n",
      "178                nameAccordingToID        46440             0\n",
      "179                namePublishedInID        46440             0\n",
      "180                   taxonConceptID        46440             0\n",
      "181                   scientificName        46440         46440\n",
      "182                acceptedNameUsage        46440             0\n",
      "183                  parentNameUsage        46440             0\n",
      "184                originalNameUsage        46440             0\n",
      "185                  nameAccordingTo        46440             0\n",
      "186                  namePublishedIn        46440             0\n",
      "187              namePublishedInYear        46440             0\n",
      "188             higherClassification        46440             6\n",
      "189                          kingdom        46440         46440\n",
      "190                           phylum        46440         46440\n",
      "191                            class        46440         46440\n",
      "192                            order        46440         46440\n",
      "193                           family        46440         46440\n",
      "194                            genus        46440         46440\n",
      "195                         subgenus        46440             0\n",
      "196                  specificEpithet        46440         46440\n",
      "197             infraspecificEpithet        46440             0\n",
      "198                        taxonRank        46440         46440\n",
      "199                verbatimTaxonRank        46440             0\n",
      "200                   vernacularName        46440         46404\n",
      "201                nomenclaturalCode        46440             6\n",
      "202                  taxonomicStatus        46440         46440\n",
      "203              nomenclaturalStatus        46440             0\n",
      "204                     taxonRemarks        46440             0\n",
      "205                       datasetKey        46440         46440\n",
      "206                publishingCountry        46440         46440\n",
      "207                  lastInterpreted        46440         46440\n",
      "208                        elevation        46440             0\n",
      "209                elevationAccuracy        46440             0\n",
      "210                            depth        46440             0\n",
      "211                    depthAccuracy        46440             0\n",
      "212             distanceAboveSurface        46440             0\n",
      "213     distanceAboveSurfaceAccuracy        46440             0\n",
      "214                            issue        46440         46440\n",
      "215                        mediaType        46440            35\n",
      "216                    hasCoordinate        46440         46440\n",
      "217              hasGeospatialIssues        46440         46440\n",
      "218                         taxonKey        46440         46440\n",
      "219                 acceptedTaxonKey        46440         46440\n",
      "220                       kingdomKey        46440         46440\n",
      "221                        phylumKey        46440         46440\n",
      "222                         classKey        46440         46440\n",
      "223                         orderKey        46440         46440\n",
      "224                        familyKey        46440         46440\n",
      "225                         genusKey        46440         46440\n",
      "226                      subgenusKey        46440             0\n",
      "227                       speciesKey        46440         46440\n",
      "228                          species        46440         46440\n",
      "229                      genericName        46440         46440\n",
      "230           acceptedScientificName        46440         46440\n",
      "231           verbatimScientificName        46440         46440\n",
      "232                     typifiedName        46440             0\n",
      "233                         protocol        46440         46440\n",
      "234                       lastParsed        46440         46440\n",
      "235                      lastCrawled        46440         46440\n",
      "236                      repatriated        46440         46440\n",
      "237         relativeOrganismQuantity        46440             0\n",
      "238                     recordedByID        46440             0\n",
      "239                   identifiedByID        46440             1\n",
      "240                        level0Gid        46440         46349\n",
      "241                       level0Name        46440         46349\n",
      "242                        level1Gid        46440         46349\n",
      "243                       level1Name        46440         46349\n",
      "244                        level2Gid        46440         46349\n",
      "245                       level2Name        46440         46349\n",
      "246                        level3Gid        46440             0\n",
      "247                       level3Name        46440             0\n",
      "248              iucnRedListCategory        46440         46440\n",
      "249                    geodeticDatum        46440         46440\n"
     ]
    }
   ],
   "source": [
    "if ask_GBIF == True:\n",
    "    fields_summary = pd.read_sql(\"SELECT * FROM gbif_fields_returned\", output_db_conn)\n",
    "    fields_summary.index.name = 'Field'\n",
    "    pd.set_option('display.max_rows', 250)\n",
    "    print(fields_summary)\n",
    "if ask_GBIF == False:\n",
    "    print(\"GBIF was not queried.\")"
   ]
  },
  {
   "cell_type": "markdown",
   "metadata": {},
   "source": [
    "#### Attributes Returned for eBird Records\n",
    "This count was made before filters were applied"
   ]
  },
  {
   "cell_type": "code",
   "execution_count": 29,
   "metadata": {},
   "outputs": [
    {
     "name": "stdout",
     "output_type": "stream",
     "text": [
      "No eBird Basic Dataset was queried.\n"
     ]
    }
   ],
   "source": [
    "if ask_eBird == True:\n",
    "    fields_summary = pd.read_sql(\"SELECT * FROM ebird_fields_returned\", output_db_conn)\n",
    "    fields_summary.index.name = 'Field'\n",
    "    pd.set_option('display.max_rows', 250)\n",
    "    print(fields_summary)\n",
    "if ask_eBird == False:\n",
    "    print(\"No eBird Basic Dataset was queried.\")"
   ]
  },
  {
   "cell_type": "markdown",
   "metadata": {},
   "source": [
    "#### Sources"
   ]
  },
  {
   "cell_type": "code",
   "execution_count": 30,
   "metadata": {},
   "outputs": [
    {
     "name": "stdout",
     "output_type": "stream",
     "text": [
      "  institutionID collectionCode                    datasetName  acquired  removed  retained\n",
      "0           nan   Observations  iNaturalist research-grade...        35        8        27\n"
     ]
    }
   ],
   "source": [
    "sources = pd.read_sql(sql=\"SELECT * FROM sources;\", con=output_db_conn)\n",
    "print(sources[['institutionID', 'collectionCode', 'datasetName', 'acquired', 'removed', 'retained']])"
   ]
  },
  {
   "cell_type": "markdown",
   "metadata": {},
   "source": [
    "#### Bases"
   ]
  },
  {
   "cell_type": "code",
   "execution_count": 31,
   "metadata": {
    "scrolled": true
   },
   "outputs": [
    {
     "name": "stdout",
     "output_type": "stream",
     "text": [
      "               value  acquired  removed  retained\n",
      "0  HUMAN_OBSERVATION     46439    46412        27\n"
     ]
    }
   ],
   "source": [
    "bases = pd.read_sql(sql=\"SELECT * FROM attribute_value_counts WHERE attribute = 'basisOfRecord';\", con=output_db_conn)\n",
    "print(bases[['value', 'acquired', 'removed', 'retained']])"
   ]
  },
  {
   "cell_type": "markdown",
   "metadata": {},
   "source": [
    "#### Protocols"
   ]
  },
  {
   "cell_type": "code",
   "execution_count": 32,
   "metadata": {
    "scrolled": true
   },
   "outputs": [
    {
     "name": "stdout",
     "output_type": "stream",
     "text": [
      "  value  acquired  removed  retained\n",
      "0   nan     46439    46412        27\n"
     ]
    }
   ],
   "source": [
    "protocols = pd.read_sql(sql=\"SELECT * FROM attribute_value_counts WHERE attribute = 'samplingProtocol';\", con=output_db_conn)\n",
    "if protocols.empty == True:\n",
    "    print(\"No protocols were documented.\")\n",
    "if protocols.empty == False:\n",
    "    print(protocols[['value', 'acquired', 'removed', 'retained']])"
   ]
  },
  {
   "cell_type": "markdown",
   "metadata": {},
   "source": [
    "#### Issues"
   ]
  },
  {
   "cell_type": "code",
   "execution_count": 33,
   "metadata": {
    "scrolled": true
   },
   "outputs": [
    {
     "name": "stdout",
     "output_type": "stream",
     "text": [
      "                           value  acquired  removed  retained\n",
      "0  COORDINATE_ROUNDED;GEODETI...        19        4        15\n",
      "1  GEODETIC_DATUM_ASSUMED_WGS...        16        4        12\n"
     ]
    }
   ],
   "source": [
    "issues = pd.read_sql(sql=\"SELECT * FROM attribute_value_counts WHERE attribute = 'issues';\", con=output_db_conn)\n",
    "if issues.empty == True:\n",
    "    print(\"No issues were documented.\")\n",
    "if issues.empty == False:\n",
    "    print(issues[['value', 'acquired', 'removed', 'retained']])"
   ]
  },
  {
   "cell_type": "markdown",
   "metadata": {},
   "source": [
    "#### Establishment Means"
   ]
  },
  {
   "cell_type": "code",
   "execution_count": 34,
   "metadata": {},
   "outputs": [
    {
     "name": "stdout",
     "output_type": "stream",
     "text": [
      "  value  acquired  removed  retained\n",
      "0   nan     46440    46413        27\n"
     ]
    }
   ],
   "source": [
    "establishment = pd.read_sql(sql=\"SELECT * FROM attribute_value_counts WHERE attribute = 'establishmentMeans';\", con=output_db_conn)\n",
    "if establishment.empty == True:\n",
    "    print(\"No establishment means were reported.\")\n",
    "if establishment.empty == False:\n",
    "    print(establishment[['value', 'acquired', 'removed', 'retained']])"
   ]
  },
  {
   "cell_type": "markdown",
   "metadata": {},
   "source": [
    "#### Identification Qualifiers"
   ]
  },
  {
   "cell_type": "code",
   "execution_count": 35,
   "metadata": {},
   "outputs": [
    {
     "name": "stdout",
     "output_type": "stream",
     "text": [
      "No identification qualifiers were reported.\n"
     ]
    }
   ],
   "source": [
    "qualifications = pd.read_sql(sql=\"SELECT * FROM attribute_value_counts WHERE attribute = 'identificationQualifers';\", con=output_db_conn)\n",
    "if qualifications.empty == True:\n",
    "    print(\"No identification qualifiers were reported.\")\n",
    "if qualifications.empty == False:\n",
    "    print(establishment[['value', 'acquired', 'removed', 'retained']])"
   ]
  },
  {
   "cell_type": "markdown",
   "metadata": {},
   "source": [
    "## Descriptions of Retained Records"
   ]
  },
  {
   "cell_type": "markdown",
   "metadata": {},
   "source": [
    "#### Locations"
   ]
  },
  {
   "cell_type": "code",
   "execution_count": 36,
   "metadata": {},
   "outputs": [
    {
     "data": {
      "image/png": "[encoded data removed]",
      "text/plain": [
       "<Figure size 864x864 with 1 Axes>"
      ]
     },
     "metadata": {
      "needs_background": "light"
     },
     "output_type": "display_data"
    },
    {
     "data": {
      "image/png": "[encoded data removed]",
      "text/plain": [
       "<Figure size 864x864 with 1 Axes>"
      ]
     },
     "metadata": {
      "needs_background": "light"
     },
     "output_type": "display_data"
    },
    {
     "data": {
      "image/png": "[encoded data removed]",
      "text/plain": [
       "<Figure size 864x864 with 1 Axes>"
      ]
     },
     "metadata": {
      "needs_background": "light"
     },
     "output_type": "display_data"
    }
   ],
   "source": [
    "# Get the record coordinates as a data frame\n",
    "record_coordinates = (pd.read_sql(\"\"\"SELECT decimalLatitude, decimalLongitude, radius_meters\n",
    "                                     FROM occurrence_records\"\"\",\n",
    "                                  con=output_db_conn)\n",
    "                      .astype({'decimalLongitude': 'float', 'decimalLatitude': 'float',\n",
    "                               'radius_meters': 'float'}))\n",
    "\n",
    "# Make the data frame spatial\n",
    "gdf = gpd.GeoDataFrame(record_coordinates, geometry=gpd.points_from_xy(record_coordinates['decimalLongitude'],\n",
    "                                                   record_coordinates['decimalLatitude']))\n",
    "\n",
    "# Set the coordinate reference system\n",
    "gdf.crs={'init' :'epsg:4326'}\n",
    "\n",
    "# Create world map <<<<<<<<<<<<<<<<<<<<<<<<<<<<<<<<<<<<<<<<<<<<<<<<<<<<<<<<<<<<<<<<<<<<<<<<<<<<\n",
    "world = gpd.read_file(gpd.datasets.get_path('naturalearth_lowres'))\n",
    "base = world.plot(figsize=(12,12), color = 'darkgrey')\n",
    "gdf.plot(ax=base, marker='o', color='k', markersize=5)\n",
    "plt.show()\n",
    "\n",
    "# Create USA map <<<<<<<<<<<<<<<<<<<<<<<<<<<<<<<<<<<<<<<<<<<<<<<<<<<<<<<<<<<<<<<<<<<<<<<<<<<<<<\n",
    "if filter_set[\"country\"] == \"US\":\n",
    "    usa_bbox = np.array([-124.725839,   24.498131,  -66.949895,   49.384358])\n",
    "    fig, ax = plt.subplots(figsize=(12,12))\n",
    "    ax.set_xlim(([usa_bbox[0],  usa_bbox[2]]))\n",
    "    ax.set_ylim(([usa_bbox[1],  usa_bbox[3]]))\n",
    "    world.plot(ax=ax, color='darkgrey')\n",
    "    gdf.plot(ax=ax, marker='o', color='k', markersize=5)\n",
    "    plt.show()\n",
    "\n",
    "# Create coordinate extent map <<<<<<<<<<<<<<<<<<<<<<<<<<<<<<<<<<<<<<<<<<<<<<<<<<<<<<<<<<<<<<<<\n",
    "os.chdir(config.codeDir)\n",
    "states = gpd.read_file(os.getcwd() + '/data/us_states.shp')\n",
    "\n",
    "# Reproject states and record coordinates to facilitate buffering\n",
    "states = states.to_crs(epsg=5070)\n",
    "footprints = gdf.to_crs(epsg=5070)\n",
    "\n",
    "# Buffer points for record footprints\n",
    "footprints['footprint']=footprints.apply(lambda x: x.geometry.buffer(x.radius_meters), axis=1)\n",
    "footprints.set_geometry(col='footprint', inplace=True, drop=True)\n",
    "\n",
    "# Map the buffered points/footprints\n",
    "fig, ax = plt.subplots(figsize=(12,12))\n",
    "coordinate_bbox = footprints.geometry.total_bounds\n",
    "ax.set_xlim(([coordinate_bbox[0],  coordinate_bbox[2]]))\n",
    "ax.set_ylim(([coordinate_bbox[1],  coordinate_bbox[3]]))\n",
    "states.plot(ax=ax, color = 'darkgrey')\n",
    "footprints.boundary.plot(ax=ax, color='k')\n",
    "plt.show()\n",
    "\n",
    "# Cleanup\n",
    "del footprints, gdf"
   ]
  },
  {
   "cell_type": "markdown",
   "metadata": {},
   "source": [
    "#### Years Represented"
   ]
  },
  {
   "cell_type": "code",
   "execution_count": 37,
   "metadata": {},
   "outputs": [
    {
     "data": {
      "text/plain": [
       "Text(0.5, 1.0, 'Occurrences per Year')"
      ]
     },
     "execution_count": 37,
     "metadata": {},
     "output_type": "execute_result"
    },
    {
     "data": {
      "image/png": "[encoded data removed]",
      "text/plain": [
       "<Figure size 432x288 with 1 Axes>"
      ]
     },
     "metadata": {
      "needs_background": "light"
     },
     "output_type": "display_data"
    }
   ],
   "source": [
    "occ_years = [int(x[0]) for x in cursor.execute(\"SELECT strftime('%Y', eventDate) FROM occurrence_records\").fetchall()]\n",
    "years = filter_set['years_range']\n",
    "years = years.split(',')\n",
    "yearsrng = list(range(int(years[0]), int(years[1]), 1))\n",
    "binsnum = int(years[1]) - int(years[0])\n",
    "plt.hist(occ_years, bins=binsnum)\n",
    "plt.ylabel(\"number of records\")\n",
    "plt.xlabel(\"year\")\n",
    "plt.xticks(yearsrng, rotation=90)\n",
    "plt.title(\"Occurrences per Year\")"
   ]
  },
  {
   "cell_type": "markdown",
   "metadata": {},
   "source": [
    "#### Months Represented"
   ]
  },
  {
   "cell_type": "code",
   "execution_count": 38,
   "metadata": {},
   "outputs": [
    {
     "data": {
      "text/plain": [
       "Text(0.5, 1.0, 'Occurrences per Month')"
      ]
     },
     "execution_count": 38,
     "metadata": {},
     "output_type": "execute_result"
    },
    {
     "data": {
      "image/png": "[encoded data removed]",
      "text/plain": [
       "<Figure size 432x288 with 1 Axes>"
      ]
     },
     "metadata": {
      "needs_background": "light"
     },
     "output_type": "display_data"
    }
   ],
   "source": [
    "occ_months = [int(x[0]) for x in cursor.execute(\"SELECT strftime('%m', eventDate) FROM occurrence_records\").fetchall()]\n",
    "plt.hist(occ_months, bins=range(1, 14), color=\"g\")\n",
    "plt.ylabel(\"number of records\")\n",
    "plt.xlabel(\"month\")\n",
    "plt.xticks(range(1, 13))\n",
    "plt.title(\"Occurrences per Month\")"
   ]
  },
  {
   "cell_type": "markdown",
   "metadata": {},
   "source": [
    "#### Distribution of Coordinate Uncertainty Values for Retained Records"
   ]
  },
  {
   "cell_type": "code",
   "execution_count": 39,
   "metadata": {
    "scrolled": false
   },
   "outputs": [
    {
     "data": {
      "text/plain": [
       "Text(0.5, 1.0, 'Coordinate Uncertainty')"
      ]
     },
     "execution_count": 39,
     "metadata": {},
     "output_type": "execute_result"
    },
    {
     "data": {
      "image/png": "[encoded data removed]",
      "text/plain": [
       "<Figure size 1152x288 with 1 Axes>"
      ]
     },
     "metadata": {
      "needs_background": "light"
     },
     "output_type": "display_data"
    }
   ],
   "source": [
    "occ_cert = [float(x[0]) for x in cursor.execute(\"SELECT coordinateUncertaintyInMeters FROM occurrence_records\").fetchall()]\n",
    "maxi = max(occ_cert)\n",
    "plt.figure(figsize=(16,4))\n",
    "plt.hist(occ_cert, bins=50, color=\"r\")\n",
    "plt.xticks(range(0, int(maxi), int(maxi/50)), rotation=90)\n",
    "plt.ylabel(\"number of records\")\n",
    "plt.xlabel(\"meters\")\n",
    "plt.title(\"Coordinate Uncertainty\")"
   ]
  },
  {
   "cell_type": "code",
   "execution_count": 40,
   "metadata": {},
   "outputs": [
    {
     "data": {
      "text/plain": [
       "Text(0.5, 1.0, 'Coordinate Uncertainty')"
      ]
     },
     "execution_count": 40,
     "metadata": {},
     "output_type": "execute_result"
    },
    {
     "data": {
      "image/png": "[encoded data removed]",
      "text/plain": [
       "<Figure size 792x288 with 1 Axes>"
      ]
     },
     "metadata": {
      "needs_background": "light"
     },
     "output_type": "display_data"
    }
   ],
   "source": [
    "occ_cert = [float(x[0]) for x in cursor.execute(\"SELECT coordinateUncertaintyInMeters FROM occurrence_records\").fetchall()]\n",
    "plt.figure(figsize=(11,4))\n",
    "plt.boxplot(occ_cert, vert=False)\n",
    "plt.xlabel(\"meters\")\n",
    "plt.title(\"Coordinate Uncertainty\")"
   ]
  },
  {
   "cell_type": "code",
   "execution_count": 41,
   "metadata": {},
   "outputs": [
    {
     "data": {
      "text/plain": [
       "Text(0.5, 1.0, 'Coordinate Uncertainties Below 2km')"
      ]
     },
     "execution_count": 41,
     "metadata": {},
     "output_type": "execute_result"
    },
    {
     "data": {
      "image/png": "[encoded data removed]",
      "text/plain": [
       "<Figure size 864x288 with 1 Axes>"
      ]
     },
     "metadata": {
      "needs_background": "light"
     },
     "output_type": "display_data"
    }
   ],
   "source": [
    "rng_max = 2000\n",
    "occ_cert2 = [x for x in occ_cert if x <= rng_max]\n",
    "plt.figure(figsize=(12,4))\n",
    "plt.hist(occ_cert2, bins=30, color=\"m\", align='mid')\n",
    "plt.xticks(range(0, rng_max + 100, int(rng_max/30.)), rotation=90)\n",
    "plt.ylabel(\"number of records\")\n",
    "plt.xlabel(\"meters\")\n",
    "plt.title(\"Coordinate Uncertainties Below 2km\")"
   ]
  },
  {
   "cell_type": "markdown",
   "metadata": {},
   "source": [
    "#### Remarks"
   ]
  },
  {
   "cell_type": "code",
   "execution_count": 42,
   "metadata": {
    "scrolled": true
   },
   "outputs": [
    {
     "name": "stdout",
     "output_type": "stream",
     "text": [
      "General remarks:\n",
      "nan\n"
     ]
    }
   ],
   "source": [
    "print(\"General remarks:\")\n",
    "remarks = output_db_conn.execute(\"SELECT DISTINCT general_remarks FROM occurrence_records;\").fetchall()\n",
    "if len(remarks) <= 20:\n",
    "    try:\n",
    "        for rem in remarks:\n",
    "            if rem[0][0:1] == ';':\n",
    "                print(rem[0][2:])\n",
    "            else:\n",
    "                print(rem[0])\n",
    "    except:\n",
    "        pass\n",
    "else:\n",
    "    print(\"More than 20 remarks, consult the occurrence database.\")"
   ]
  },
  {
   "cell_type": "code",
   "execution_count": 43,
   "metadata": {},
   "outputs": [
    {
     "name": "stdout",
     "output_type": "stream",
     "text": [
      "Event remarks:\n",
      "nan\n"
     ]
    }
   ],
   "source": [
    "print(\"Event remarks:\")\n",
    "remarks = output_db_conn.execute(\"SELECT DISTINCT eventRemarks FROM occurrence_records;\").fetchall()\n",
    "if len(remarks) <= 20:\n",
    "    try:\n",
    "        for rem in remarks:\n",
    "            if rem[0][0:1] == ';':\n",
    "                print(rem[0][2:])\n",
    "            else:\n",
    "                print(rem[0])\n",
    "    except:\n",
    "        pass\n",
    "else:\n",
    "    print(\"More than 20 remarks, consult the occurrence database.\")"
   ]
  },
  {
   "cell_type": "code",
   "execution_count": 44,
   "metadata": {},
   "outputs": [
    {
     "name": "stdout",
     "output_type": "stream",
     "text": [
      "Occurrence remarks:\n",
      "nan\n",
      "Walking on the path at the Denison Bioreserve.\n",
      "Yellow-billed Cuckoo\n",
      "18 Jun 2016. Conowingo Dam, Harford Co, MD.\n",
      "Flew into window. Released\n",
      "recently fledged juvenile\n",
      "This observation and photo, which were made during the 2016 BioBlitz, are courtesy of Congaree National Park ranger Rachel Post. Thanks for sharing, Rachel!\n"
     ]
    }
   ],
   "source": [
    "print(\"Occurrence remarks:\")\n",
    "remarks = output_db_conn.execute(\"SELECT DISTINCT occurrenceRemarks FROM occurrence_records;\").fetchall()\n",
    "if len(remarks) <= 20:\n",
    "    try:\n",
    "        for rem in remarks:\n",
    "            if rem[0][0:1] == ';':\n",
    "                print(rem[0][2:])\n",
    "            else:\n",
    "                print(rem[0])\n",
    "    except:\n",
    "        pass\n",
    "else:\n",
    "    print(\"More than 20 remarks, consult the occurrence database.\")"
   ]
  },
  {
   "cell_type": "code",
   "execution_count": 45,
   "metadata": {},
   "outputs": [
    {
     "name": "stdout",
     "output_type": "stream",
     "text": [
      "Location remarks:\n",
      "nan\n"
     ]
    }
   ],
   "source": [
    "print(\"Location remarks:\")\n",
    "remarks = output_db_conn.execute(\"SELECT DISTINCT locationRemarks FROM occurrence_records;\").fetchall()\n",
    "if len(remarks) <= 20:\n",
    "    try:\n",
    "        for rem in remarks:\n",
    "            if rem[0][0:1] == ';':\n",
    "                print(rem[0][2:])\n",
    "            else:\n",
    "                print(rem[0])\n",
    "    except:\n",
    "        pass\n",
    "else:\n",
    "    print(\"More than 20 remarks, consult the occurrence database.\")"
   ]
  },
  {
   "cell_type": "code",
   "execution_count": 46,
   "metadata": {},
   "outputs": [
    {
     "name": "stdout",
     "output_type": "stream",
     "text": [
      "Identified remarks:\n",
      "nan\n"
     ]
    }
   ],
   "source": [
    "print(\"Identified remarks:\")\n",
    "remarks = output_db_conn.execute(\"SELECT DISTINCT general_remarks FROM occurrence_records;\").fetchall()\n",
    "if len(remarks) <= 20:\n",
    "    try:\n",
    "        for rem in remarks:\n",
    "            if rem[0][0:1] == ';':\n",
    "                print(rem[0][2:])\n",
    "            else:\n",
    "                print(rem[0])\n",
    "    except:\n",
    "        pass\n",
    "else:\n",
    "    print(\"More than 20 remarks, consult the occurrence database.\")"
   ]
  },
  {
   "cell_type": "code",
   "execution_count": 47,
   "metadata": {},
   "outputs": [
    {
     "name": "stdout",
     "output_type": "stream",
     "text": [
      "Georeference remarks:\n",
      "nan\n"
     ]
    }
   ],
   "source": [
    "print(\"Georeference remarks:\")\n",
    "remarks = output_db_conn.execute(\"SELECT DISTINCT georeferenceRemarks FROM occurrence_records;\").fetchall()\n",
    "if len(remarks) <= 20:\n",
    "    try:\n",
    "        for rem in remarks:\n",
    "            if rem[0][0:1] == ';':\n",
    "                print(rem[0][2:])\n",
    "            else:\n",
    "                print(rem[0])\n",
    "    except:\n",
    "        pass\n",
    "else:\n",
    "    print(\"More than 20 remarks, consult the occurrence database.\")"
   ]
  },
  {
   "cell_type": "markdown",
   "metadata": {},
   "source": [
    "## Citations\n",
    "#### eBird "
   ]
  },
  {
   "cell_type": "code",
   "execution_count": 48,
   "metadata": {},
   "outputs": [
    {
     "name": "stdout",
     "output_type": "stream",
     "text": [
      "No eBird Basic Dataset was queried\n"
     ]
    }
   ],
   "source": [
    "if ask_eBird == True:\n",
    "    with open(config.EBD_file[:-22] + \"recommended_citation.txt\", \"r\") as reference:\n",
    "        print(reference.readlines()[0])\n",
    "else:\n",
    "    print(\"No eBird Basic Dataset was queried\")"
   ]
  },
  {
   "cell_type": "markdown",
   "metadata": {},
   "source": [
    "#### GBIF"
   ]
  },
  {
   "cell_type": "code",
   "execution_count": 49,
   "metadata": {},
   "outputs": [
    {
     "name": "stdout",
     "output_type": "stream",
     "text": [
      "Citations-- \n",
      "When using this dataset please use the following citation and pay attention to the rights documented in rights.txt:\n",
      "Nelson A, Johnson N (2018). Ohio State University Tetrapod Division - Bird Collection (OSUM). Version 95.36. Museum of Biological Diversity, The Ohio State University. Occurrence dataset https://doi.org/10.15468/h6n5vl accessed via GBIF.org on 2021-04-16.\n",
      "Vellinga W (2021). Xeno-canto - Bird sounds from around the world. Xeno-canto Foundation for Nature Sounds. Occurrence dataset https://doi.org/10.15468/qv0ksn accessed via GBIF.org on 2021-04-16.\n",
      "Ueda K (2021). iNaturalist Research-grade Observations. iNaturalist.org. Occurrence dataset https://doi.org/10.15468/ab3s5x accessed via GBIF.org on 2021-04-16.\n",
      "Levatich T, Ligocki S (2020). EOD - eBird Observation Dataset. Cornell Lab of Ornithology. Occurrence dataset https://doi.org/10.15468/aomfnb accessed via GBIF.org on 2021-04-16.\n",
      "\n"
     ]
    }
   ],
   "source": [
    "if ask_GBIF == True:\n",
    "    if get_dwca == True:\n",
    "        print(\"Citations-- \")\n",
    "        print(cursor.execute(\"SELECT citations FROM GBIF_download_info\").fetchall()[0][0])\n",
    "    else:\n",
    "        print(\"Set 'get_dwca' to True to acquire a list of citations\")\n",
    "if ask_GBIF == False:\n",
    "    print(\"GBIF was not queried.\")"
   ]
  },
  {
   "cell_type": "code",
   "execution_count": 50,
   "metadata": {},
   "outputs": [
    {
     "name": "stdout",
     "output_type": "stream",
     "text": [
      "Rights-- \n",
      "\n",
      "Dataset: Ohio State University Tetrapod Division - Bird Collection (OSUM)\n",
      "Rights as supplied: http://creativecommons.org/licenses/by/4.0/legalcode\n",
      "Dataset: Xeno-canto - Bird sounds from around the world\n",
      "Rights as supplied: http://creativecommons.org/licenses/by-nc/4.0/legalcode\n",
      "Dataset: iNaturalist Research-grade Observations\n",
      "Rights as supplied: http://creativecommons.org/licenses/by-nc/4.0/legalcode\n",
      "Dataset: EOD - eBird Observation Dataset\n",
      "Rights as supplied: http://creativecommons.org/publicdomain/zero/1.0/legalcode\n"
     ]
    }
   ],
   "source": [
    "if ask_GBIF == True:\n",
    "    if get_dwca == True:\n",
    "        print(\"Rights-- \")\n",
    "        print(output_db_conn.execute(\"SELECT rights FROM GBIF_download_info\").fetchall()[0][0])\n",
    "    else:\n",
    "        print(\"Set 'get_dwca' to True to see the rights\")\n",
    "if ask_GBIF == False:\n",
    "    print(\"GBIF was not queried.\")"
   ]
  },
  {
   "cell_type": "code",
   "execution_count": 51,
   "metadata": {},
   "outputs": [
    {
     "name": "stdout",
     "output_type": "stream",
     "text": [
      "DOI-- \n",
      "https://doi.org/10.15468/dl.x47cbs\n"
     ]
    }
   ],
   "source": [
    "if ask_GBIF == True:\n",
    "    if get_dwca == True:\n",
    "        print(\"DOI-- \")\n",
    "        doi = output_db_conn.execute(\"SELECT doi FROM GBIF_download_info\").fetchall()[0][0]\n",
    "        print(\"https://doi.org/\" + doi)\n",
    "    else:\n",
    "        print(\"Set 'get_dwca' to True to perform a search with a doi assigned\")\n",
    "if ask_GBIF == False:\n",
    "    print(\"GBIF was not queried.\")"
   ]
  },
  {
   "cell_type": "code",
   "execution_count": 52,
   "metadata": {},
   "outputs": [
    {
     "name": "stdout",
     "output_type": "stream",
     "text": [
      "GBIF download key-- \n",
      "0253668-200613084148143\n"
     ]
    }
   ],
   "source": [
    "if ask_GBIF == True:\n",
    "    if get_dwca == True:\n",
    "        print(\"GBIF download key-- \")\n",
    "        print(output_db_conn.execute(\"SELECT download_key FROM GBIF_download_info\").fetchall()[0][0])\n",
    "    else:\n",
    "        print(\"Set 'get_dwca' to True to perform a search with a download key assigned\")\n",
    "if ask_GBIF == False:\n",
    "    print(\"GBIF was not queried\")"
   ]
  },
  {
   "cell_type": "markdown",
   "metadata": {},
   "source": [
    "## Runtime"
   ]
  },
  {
   "cell_type": "code",
   "execution_count": 53,
   "metadata": {
    "scrolled": true
   },
   "outputs": [
    {
     "name": "stdout",
     "output_type": "stream",
     "text": [
      "0:01:44.323842\n"
     ]
    }
   ],
   "source": [
    "output_db_conn.close()\n",
    "del cursor\n",
    "t2 = datetime.now()\n",
    "print(t2 - t1)"
   ]
  }
 ],
 "metadata": {
  "kernelspec": {
   "display_name": "Python 3",
   "language": "python",
   "name": "python3"
  },
  "language_info": {
   "codemirror_mode": {
    "name": "ipython",
    "version": 3
   },
   "file_extension": ".py",
   "mimetype": "text/x-python",
   "name": "python",
   "nbconvert_exporter": "python",
   "pygments_lexer": "ipython3",
   "version": "3.7.10"
  }
 },
 "nbformat": 4,
 "nbformat_minor": 2
}
