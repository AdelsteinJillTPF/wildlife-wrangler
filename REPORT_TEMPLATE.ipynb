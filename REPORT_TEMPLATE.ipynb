{
 "cells": [
  {
   "cell_type": "markdown",
   "metadata": {},
   "source": [
    "# Quick Test -- Canyon Treefrog\n",
    "\n",
    "The following code can be edited with your notebook's name and run in command line in order to generate output without the input code:\n",
    "\n",
    "jupyter nbconvert --to html --TemplateExporter.exclude_input=True --output-dir=\"T:/Temp/\" NOTEBOOKNAMEHERE.ipynb"
   ]
  },
  {
   "cell_type": "code",
   "execution_count": 1,
   "metadata": {},
   "outputs": [],
   "source": [
    "# Specify some paths and names in the cell below.\n",
    "config_path = \"T:/Data/\"  # Path to folder where you saved your wildlifeconfig file.\n",
    "filter_set_json = None\n",
    "taxon_json = None\n",
    "query_name = 'Quick1'\n",
    "ask_eBird = False\n",
    "ask_GBIF = True"
   ]
  },
  {
   "cell_type": "code",
   "execution_count": 2,
   "metadata": {
    "scrolled": true
   },
   "outputs": [
    {
     "name": "stdout",
     "output_type": "stream",
     "text": [
      "Notebook run 2021-06-16 11:22:38.664058\n",
      "Results were saved in T:/Occurrence_Records/Quick1.sqlite\n"
     ]
    }
   ],
   "source": [
    "# Nothing to fill out in the next cell\n",
    "%matplotlib inline\n",
    "import os\n",
    "import sqlite3\n",
    "import pprint\n",
    "import json\n",
    "import pandas as pd\n",
    "import geopandas as gpd\n",
    "import numpy as np\n",
    "import matplotlib.pyplot as plt\n",
    "from datetime import datetime\n",
    "import sys\n",
    "sys.path.append(config_path)\n",
    "import wranglerconfig as config\n",
    "sys.path.append(config.codeDir)\n",
    "import wrangler_functions as functions\n",
    "\n",
    "# Define some variables\n",
    "t1 = datetime.now()\n",
    "working_directory = config.workDir\n",
    "username = config.gbif_username\n",
    "password = config.gbif_password\n",
    "email = config.gbif_email\n",
    "EBD_file = config.EBD_file\n",
    "output_database = working_directory + query_name + '.sqlite'\n",
    "\n",
    "# Set display options\n",
    "pd.set_option('display.max_colwidth', 45)\n",
    "pd.set_option('display.max_rows', 150)\n",
    "\n",
    "print(\"Notebook run \" + str(t1))\n",
    "print(\"Results were saved in \" + output_database)"
   ]
  },
  {
   "cell_type": "markdown",
   "metadata": {},
   "source": [
    "## Taxon Concept\n",
    "Caution! -- Taxon concept mismatches can cause inclusion of innapropriate records or ommission of useful records."
   ]
  },
  {
   "cell_type": "code",
   "execution_count": 3,
   "metadata": {},
   "outputs": [],
   "source": [
    "your_taxon_id = \"test1\"\n",
    "gbif_id = 2427572 \n",
    "ebird_id = None\n",
    "detection_distance_m = 200\n",
    "taxon_polygon = None"
   ]
  },
  {
   "cell_type": "code",
   "execution_count": 4,
   "metadata": {},
   "outputs": [
    {
     "name": "stdout",
     "output_type": "stream",
     "text": [
      "{'EBIRD_ID': None,\n",
      " 'GBIF_ID': 2427572,\n",
      " 'ID': 'test1',\n",
      " 'TAXON_EOO': None,\n",
      " 'detection_distance_m': 200}\n"
     ]
    }
   ],
   "source": [
    "# If a json was provided, use it, otherwise create a new one with info that was provided.\n",
    "if taxon_json is None:\n",
    "    # Build a species dictionary\n",
    "    taxon_info = {\"ID\": your_taxon_id, \"GBIF_ID\": gbif_id, \"EBIRD_ID\": ebird_id, \"detection_distance_m\": detection_distance_m,\n",
    "                  \"TAXON_EOO\": taxon_polygon}\n",
    "\n",
    "    # Save as json object\n",
    "    out_file = open(working_directory + your_taxon_id + \".json\", \"w\")  \n",
    "    json.dump(taxon_info, out_file) \n",
    "    out_file.close() \n",
    "\n",
    "if taxon_json is not None:\n",
    "    with open(taxon_json, \"r\") as f:\n",
    "        taxon_info = json.load(f)\n",
    "        f.close()\n",
    "        \n",
    "pprint.pprint(taxon_info)"
   ]
  },
  {
   "cell_type": "markdown",
   "metadata": {},
   "source": [
    "## Filter Set\n",
    "Specify how you want records filtered and cleaned.  Alternatively, you can load a filter set here by specifying a path in the first cell of this notebook.  \n",
    "\n",
    "To skip a filter, enter \"None\" without the quotation marks or \"\".  "
   ]
  },
  {
   "cell_type": "code",
   "execution_count": 5,
   "metadata": {},
   "outputs": [
    {
     "name": "stdout",
     "output_type": "stream",
     "text": [
      "Filter set name: QuickTest1\n"
     ]
    }
   ],
   "source": [
    "filter_set_name = \"QuickTest1\"\n",
    "print(\"Filter set name: \" + str(filter_set_name))"
   ]
  },
  {
   "cell_type": "markdown",
   "metadata": {},
   "source": [
    "#### GBIF Request Method"
   ]
  },
  {
   "cell_type": "code",
   "execution_count": 6,
   "metadata": {},
   "outputs": [
    {
     "name": "stdout",
     "output_type": "stream",
     "text": [
      "Request a Darwin Core Archive? False\n"
     ]
    }
   ],
   "source": [
    "\"\"\"\n",
    "Whether to get records from GBIF in a darwin core archive.  \n",
    "\"False\" uses the GBIF API, which has limitations that may be important.  \n",
    "\"True\" requests results be emailed in a darwin core archive.\n",
    "\"\"\"\n",
    "get_dwca = False \n",
    "print(\"Request a Darwin Core Archive? \" + str(get_dwca))"
   ]
  },
  {
   "cell_type": "markdown",
   "metadata": {},
   "source": [
    "#### Date Limits\n",
    "Notes: "
   ]
  },
  {
   "cell_type": "code",
   "execution_count": 7,
   "metadata": {},
   "outputs": [
    {
     "name": "stdout",
     "output_type": "stream",
     "text": [
      "Years: 1995,2020\n",
      "Months: 1,12\n"
     ]
    }
   ],
   "source": [
    "'''\n",
    "Enter year and month ranges.  For example, years_range = 2015,2017 and months_range = 3,6\n",
    "'''\n",
    "years_range = \"1995,2020\"\n",
    "months_range = \"1,12\"\n",
    "print(\"Years: \" + str(years_range))\n",
    "print(\"Months: \" + str(months_range))"
   ]
  },
  {
   "cell_type": "markdown",
   "metadata": {},
   "source": [
    "#### Country\n",
    "Notes:"
   ]
  },
  {
   "cell_type": "code",
   "execution_count": 8,
   "metadata": {},
   "outputs": [
    {
     "name": "stdout",
     "output_type": "stream",
     "text": [
      "Country: US\n"
     ]
    }
   ],
   "source": [
    "country = \"US\"\n",
    "print(\"Country: \" + str(country))"
   ]
  },
  {
   "cell_type": "markdown",
   "metadata": {},
   "source": [
    "#### Bounding Box\n",
    "Notes:"
   ]
  },
  {
   "cell_type": "code",
   "execution_count": 9,
   "metadata": {},
   "outputs": [
    {
     "name": "stdout",
     "output_type": "stream",
     "text": [
      "Latitude range: None\n",
      "Longitude range: None\n"
     ]
    }
   ],
   "source": [
    "'''\n",
    "Coordinates should correspond to WGS84 (EPSG:4326).  Don't use this option if you specify a query polygon below.\n",
    "'''\n",
    "lat_range = None\n",
    "lon_range = None\n",
    "print(\"Latitude range: \" + str(lat_range))\n",
    "print(\"Longitude range: \" + str(lon_range))"
   ]
  },
  {
   "cell_type": "markdown",
   "metadata": {},
   "source": [
    "#### Area of Interest\n",
    "Notes:"
   ]
  },
  {
   "cell_type": "code",
   "execution_count": 10,
   "metadata": {},
   "outputs": [
    {
     "name": "stdout",
     "output_type": "stream",
     "text": [
      "None\n"
     ]
    }
   ],
   "source": [
    "'''\n",
    "Specify polygons to use for spatial filtering.  \n",
    "Records with coordinates outside of the polygons will be removed.  \n",
    "You can specify a geometry for the query and one for the species.  \n",
    "The species geometry is included to facilitate better handling of taxonomic issues.  \n",
    "If both are provided, the intersection is calculated and used as the filter.  \n",
    "The format should be well known text in WGS84 (EPSG 4326), and very importantly, vertices need to be listed counter-clockwise.  \n",
    "See the ccw_wkt_from_shp() function in wrangler functions for help.\n",
    "'''\n",
    "query_polygon = None\n",
    "print(query_polygon)"
   ]
  },
  {
   "cell_type": "markdown",
   "metadata": {},
   "source": [
    "#### Taxon EOO\n",
    "Notes:"
   ]
  },
  {
   "cell_type": "code",
   "execution_count": 11,
   "metadata": {},
   "outputs": [
    {
     "name": "stdout",
     "output_type": "stream",
     "text": [
      "Use taxon extent of occurrence? False\n"
     ]
    }
   ],
   "source": [
    "'''\n",
    "True or False whether you want to apply the taxon EOO to the filtering.  \n",
    "If True, removes records with centroids outside of the extent of occurrence geometry you provided in taxon_info.\n",
    "'''\n",
    "use_taxon_geometry = False\n",
    "print(\"Use taxon extent of occurrence? \" + str(use_taxon_geometry))"
   ]
  },
  {
   "cell_type": "markdown",
   "metadata": {},
   "source": [
    "#### Geoissue\n",
    "Notes:"
   ]
  },
  {
   "cell_type": "code",
   "execution_count": 12,
   "metadata": {},
   "outputs": [
    {
     "name": "stdout",
     "output_type": "stream",
     "text": [
      "Records with geoissues OK? False\n"
     ]
    }
   ],
   "source": [
    "'''\n",
    "Are GBIF records with noted geoissues OK to include? GBIF only.\n",
    "'''\n",
    "geoissue = False\n",
    "print(\"Records with geoissues OK? \" + str(geoissue))"
   ]
  },
  {
   "cell_type": "markdown",
   "metadata": {},
   "source": [
    "#### Collections\n",
    "Notes:"
   ]
  },
  {
   "cell_type": "code",
   "execution_count": 13,
   "metadata": {},
   "outputs": [
    {
     "name": "stdout",
     "output_type": "stream",
     "text": [
      "Omit: None\n"
     ]
    }
   ],
   "source": [
    "'''\n",
    "List collection codes that you'd like to omit. GBIF only.\n",
    "'''\n",
    "collection_codes_omit = None\n",
    "print(\"Omit: \" + str(collection_codes_omit))"
   ]
  },
  {
   "cell_type": "markdown",
   "metadata": {},
   "source": [
    "#### Institutions\n",
    "Notes:"
   ]
  },
  {
   "cell_type": "code",
   "execution_count": 14,
   "metadata": {},
   "outputs": [
    {
     "name": "stdout",
     "output_type": "stream",
     "text": [
      "Omit: ['MCZ']\n"
     ]
    }
   ],
   "source": [
    "'''\n",
    "List institution codes that you'd like to omit. GBIF only\n",
    "'''\n",
    "institutions_omit = [\"MCZ\"]\n",
    "print(\"Omit: \" + str(institutions_omit))"
   ]
  },
  {
   "cell_type": "markdown",
   "metadata": {},
   "source": [
    "#### Datasets\n",
    "Notes:"
   ]
  },
  {
   "cell_type": "code",
   "execution_count": 15,
   "metadata": {},
   "outputs": [
    {
     "name": "stdout",
     "output_type": "stream",
     "text": [
      "Omit: None\n"
     ]
    }
   ],
   "source": [
    "'''\n",
    "List datasets that you'd like to omit.\n",
    "'''\n",
    "datasets_omit = None\n",
    "print(\"Omit: \" + str(datasets_omit))"
   ]
  },
  {
   "cell_type": "markdown",
   "metadata": {},
   "source": [
    "#### Coordinate Uncertainty\n",
    "Notes:"
   ]
  },
  {
   "cell_type": "code",
   "execution_count": 16,
   "metadata": {},
   "outputs": [
    {
     "name": "stdout",
     "output_type": "stream",
     "text": [
      "Coordinate uncertainty required? False\n",
      "Default coordinate uncertainty to use: 500\n",
      "Maximum allowable coordinate uncertainty: 10000\n"
     ]
    }
   ],
   "source": [
    "'''\n",
    "Do you want to remove records without coordinate uncertainty (1) or leave them in the data set (0)?  \n",
    "Note that eBird records in GBIF (EOD) do not have this and neither do data in the EBD dataset.  \n",
    "With the EBD, the length of traveling counts is used as a surrogate value.  \n",
    "\n",
    "max_coordinate_uncertainty must be an integer greater than 0.\n",
    "\n",
    "default_coordUncertainty -- coordinateUncertaintyInMeters is often not provided.  \n",
    "Here is an option to use a default.  If you don't want anything entered, set this equal to False (boolean, not string).\n",
    "\n",
    "A maximum for coordinate uncertainty can also be set in meters.\n",
    "'''\n",
    "has_coordinate_uncertainty = False\n",
    "default_coordUncertainty = 500\n",
    "max_coordinate_uncertainty = 10000\n",
    "print(\"Coordinate uncertainty required? \" + str(has_coordinate_uncertainty))\n",
    "print(\"Default coordinate uncertainty to use: \" + str(default_coordUncertainty))\n",
    "print(\"Maximum allowable coordinate uncertainty: \" + str(max_coordinate_uncertainty))"
   ]
  },
  {
   "cell_type": "markdown",
   "metadata": {},
   "source": [
    "#### Bases\n",
    "Notes:"
   ]
  },
  {
   "cell_type": "code",
   "execution_count": 17,
   "metadata": {},
   "outputs": [
    {
     "name": "stdout",
     "output_type": "stream",
     "text": [
      "Omit: None\n"
     ]
    }
   ],
   "source": [
    "'''\n",
    "List bases of records that you want to omit.  GBIF only.\n",
    "'''\n",
    "bases_omit = None\n",
    "print(\"Omit: \" + str(bases_omit))"
   ]
  },
  {
   "cell_type": "markdown",
   "metadata": {},
   "source": [
    "#### Sampling Protocols\n",
    "Notes:"
   ]
  },
  {
   "cell_type": "code",
   "execution_count": 18,
   "metadata": {},
   "outputs": [
    {
     "name": "stdout",
     "output_type": "stream",
     "text": [
      "Omit: None\n"
     ]
    }
   ],
   "source": [
    "'''\n",
    "List sampling protocols that you would like to omit.\n",
    "'''\n",
    "sampling_protocols_omit = None\n",
    "print(\"Omit: \" + str(sampling_protocols_omit))"
   ]
  },
  {
   "cell_type": "markdown",
   "metadata": {},
   "source": [
    "#### Issues\n",
    "Notes:"
   ]
  },
  {
   "cell_type": "code",
   "execution_count": 19,
   "metadata": {},
   "outputs": [
    {
     "name": "stdout",
     "output_type": "stream",
     "text": [
      "Omit: None\n"
     ]
    }
   ],
   "source": [
    "'''\n",
    "List issues that you want to omit.  GBIF only.\n",
    "'''\n",
    "issues_omit = None\n",
    "print(\"Omit: \" + str(issues_omit))"
   ]
  },
  {
   "cell_type": "markdown",
   "metadata": {},
   "source": [
    "#### Duplicates\n",
    "Notes:"
   ]
  },
  {
   "cell_type": "code",
   "execution_count": 20,
   "metadata": {},
   "outputs": [
    {
     "name": "stdout",
     "output_type": "stream",
     "text": [
      "Allow duplicates? False\n"
     ]
    }
   ],
   "source": [
    "'''\n",
    "Specify whether duplicates on latitude, longitude, and date should be included.\n",
    "'''\n",
    "duplicates_OK = False\n",
    "print(\"Allow duplicates? \" + str(duplicates_OK))"
   ]
  },
  {
   "cell_type": "markdown",
   "metadata": {},
   "source": [
    "#### Filter Set Summary"
   ]
  },
  {
   "cell_type": "code",
   "execution_count": 21,
   "metadata": {
    "scrolled": true
   },
   "outputs": [
    {
     "name": "stdout",
     "output_type": "stream",
     "text": [
      "{'bases_omit': None,\n",
      " 'collection_codes_omit': None,\n",
      " 'country': 'US',\n",
      " 'datasets_omit': None,\n",
      " 'default_coordUncertainty': 500,\n",
      " 'duplicates_OK': False,\n",
      " 'geoissue': False,\n",
      " 'get_dwca': False,\n",
      " 'has_coordinate_uncertainty': False,\n",
      " 'institutions_omit': ['MCZ'],\n",
      " 'issues_omit': None,\n",
      " 'lat_range': None,\n",
      " 'lon_range': None,\n",
      " 'max_coordinate_uncertainty': 10000,\n",
      " 'months_range': '1,12',\n",
      " 'name': 'QuickTest1',\n",
      " 'query_polygon': None,\n",
      " 'sampling_protocols_omit': None,\n",
      " 'use_taxon_geometry': False,\n",
      " 'years_range': '1995,2020'}\n"
     ]
    }
   ],
   "source": [
    "if filter_set_json is None:\n",
    "    # Build a filter set dictionary\n",
    "    filter_set = {\"name\": filter_set_name, \"query_polygon\": query_polygon, \"issues_omit\": issues_omit,\n",
    "                  \"sampling_protocols_omit\": sampling_protocols_omit, \"bases_omit\": bases_omit,\n",
    "                  \"has_coordinate_uncertainty\": has_coordinate_uncertainty, \"geoissue\": geoissue,\n",
    "                  \"default_coordUncertainty\": default_coordUncertainty,\n",
    "                  \"max_coordinate_uncertainty\": max_coordinate_uncertainty,\n",
    "                  \"datasets_omit\": datasets_omit, \"collection_codes_omit\": collection_codes_omit,\n",
    "                  \"institutions_omit\": institutions_omit, \"geoissue\": geoissue, \"use_taxon_geometry\": use_taxon_geometry,\n",
    "                  \"lat_range\": lat_range, \"lon_range\": lon_range, \"country\": country, \n",
    "                  \"years_range\": years_range, \"months_range\": months_range, \"duplicates_OK\": duplicates_OK, \"get_dwca\": get_dwca}\n",
    "    \n",
    "    # Replace empty strings with None\n",
    "    for x in filter_set.keys():\n",
    "        if filter_set[x] == \"\":\n",
    "            filter_set[x] = None\n",
    "    \n",
    "    # Save as json object\n",
    "    with open(working_directory + filter_set_name + \".json\", \"w\") as f:\n",
    "        json.dump(filter_set, f) \n",
    "        f.close()\n",
    "        \n",
    "if filter_set_json is not None:\n",
    "    with open(filter_set_json, \"r\") as f:\n",
    "        filter_set = json.load(f)\n",
    "        f.close()\n",
    "        \n",
    "    # Replace empty strings with None\n",
    "    for x in filter_set.keys():\n",
    "        if filter_set[x] == \"\":\n",
    "            filter_set[x] = None\n",
    "        \n",
    "pprint.pprint(filter_set)"
   ]
  },
  {
   "cell_type": "markdown",
   "metadata": {},
   "source": [
    "## Processing"
   ]
  },
  {
   "cell_type": "code",
   "execution_count": 22,
   "metadata": {},
   "outputs": [],
   "source": [
    "# Create an output database\n",
    "functions.build_output_database(output_database)\n",
    "\n",
    "# Save taxon and filter set info into database\n",
    "output_db_conn= sqlite3.connect(output_database)\n",
    "cursor = output_db_conn.cursor()\n",
    "pd.DataFrame(taxon_info.values(), taxon_info.keys()).applymap(str).to_sql(name='taxon_concept', con=output_db_conn, if_exists='replace')\n",
    "pd.DataFrame(filter_set.values(), filter_set.keys()).applymap(str).to_sql(name='filter_set', con=output_db_conn, if_exists='replace')\n",
    "output_db_conn.close()"
   ]
  },
  {
   "cell_type": "code",
   "execution_count": 23,
   "metadata": {},
   "outputs": [
    {
     "name": "stdout",
     "output_type": "stream",
     "text": [
      "Prepared filter set and sorted out geometry constraints: 0:00:00\n",
      "918 records available\n",
      "Downloaded records: 0:00:09.189145\n",
      "Summarized fields returned: 0:00:00.046818\n",
      "Prepared GBIF records for processing: 0:00:00.078113\n"
     ]
    }
   ],
   "source": [
    "# Run the appropriate queries\n",
    "if ask_eBird == True and ask_GBIF == True:\n",
    "    # Run eBird query\n",
    "    ebird_data = functions.get_EBD_records(taxon_info, filter_set, working_directory, EBD_file, query_name)\n",
    "    # Run GBIF query\n",
    "    gbif_data = functions.get_GBIF_records(taxon_info, filter_set, query_name, working_directory, username, password, email) \n",
    "\n",
    "elif ask_eBird == True and ask_GBIF == False:\n",
    "    # Run eBird query\n",
    "    ebird_data = functions.get_EBD_records(taxon_info, filter_set, working_directory, EBD_file, query_name)\n",
    "    gbif_data = None\n",
    "\n",
    "elif ask_eBird == False and ask_GBIF == True:\n",
    "    # Run GBIF query\n",
    "    gbif_data = functions.get_GBIF_records(taxon_info, filter_set, query_name, working_directory, username, password, email)\n",
    "    ebird_data = None"
   ]
  },
  {
   "cell_type": "code",
   "execution_count": 24,
   "metadata": {},
   "outputs": [],
   "source": [
    "# Filter out records with undesirable values, locations, and/or duplication.\n",
    "for x in filter_set.keys():\n",
    "    if filter_set[x] == \"\":\n",
    "        filter_set[x] = None"
   ]
  },
  {
   "cell_type": "code",
   "execution_count": 25,
   "metadata": {
    "scrolled": true
   },
   "outputs": [
    {
     "name": "stdout",
     "output_type": "stream",
     "text": [
      "Prepared data frames for processing: 0:00:00.003398\n",
      "Summarized values acquired: 0:00:00.079906\n",
      "Empty DataFrame\n",
      "Columns: []\n",
      "Index: [nominal_xy_precision, decimalLatitude, digits_latitude, decimalLongitude, digits_longitude, nominal_x_precision, nominal_y_precision]\n",
      "Number of georeferenced GBIF records: 687\n",
      "Applying default coordinate uncertainties for GBIF records\n",
      "Prepared records and calculated radii:0:00:00.072041\n",
      "Performed filtering: 0:00:00.007128\n",
      "51 duplicate records dropped: 0:00:00.130867\n",
      "Saved summary of filtering results: 0:00:00.129425\n"
     ]
    }
   ],
   "source": [
    "import importlib\n",
    "importlib.reload(functions)\n",
    "functions.process_records(ebird_data=ebird_data, gbif_data=gbif_data, filter_set=filter_set, \n",
    "                        taxon_info=taxon_info, working_directory=working_directory, \n",
    "                        query_name=query_name)"
   ]
  },
  {
   "cell_type": "code",
   "execution_count": 26,
   "metadata": {},
   "outputs": [
    {
     "name": "stdout",
     "output_type": "stream",
     "text": [
      "700 records were saved in the output database\n"
     ]
    }
   ],
   "source": [
    "output_db_conn= sqlite3.connect(output_database)\n",
    "cursor = output_db_conn.cursor()\n",
    "record_count = cursor.execute(\"SELECT COUNT(record_id) FROM occurrence_records;\").fetchone()\n",
    "print(str(record_count[0]) + \" records were saved in the output database\")"
   ]
  },
  {
   "cell_type": "markdown",
   "metadata": {},
   "source": [
    "## Results of the Filtering"
   ]
  },
  {
   "cell_type": "markdown",
   "metadata": {},
   "source": [
    "#### Attributes Returned for GBIF Records\n",
    "This count was made before filters were applied"
   ]
  },
  {
   "cell_type": "code",
   "execution_count": 27,
   "metadata": {
    "scrolled": true
   },
   "outputs": [
    {
     "name": "stdout",
     "output_type": "stream",
     "text": [
      "                                               attribute  included(n)  populated(n)\n",
      "Field                                                                              \n",
      "9                                 acceptedScientificName          918           918\n",
      "119                                     acceptedTaxonKey          918           918\n",
      "69                                          accessRights          109           109\n",
      "37                                  associatedReferences            2             2\n",
      "138                                        basisOfRecord          918           918\n",
      "104                                bibliographicCitation           36            36\n",
      "74                                         catalogNumber          918           918\n",
      "124                                                class          918           918\n",
      "7                                               classKey          918           918\n",
      "93                                        collectionCode          918           918\n",
      "130                                         collectionID          106           106\n",
      "107                                        collectionKey           44            44\n",
      "127                                            continent          131           131\n",
      "71                         coordinateUncertaintyInMeters          687           687\n",
      "17                                               country          918           918\n",
      "53                                           countryCode          918           918\n",
      "87                                                county          134           134\n",
      "50                                               crawlId          918           918\n",
      "97                                             datasetID            2             2\n",
      "29                                           datasetName          826           826\n",
      "42                                        dateIdentified          839           839\n",
      "59                                                   day          918           918\n",
      "32                                       decimalLatitude          918           918\n",
      "15                                      decimalLongitude          918           918\n",
      "91                                           disposition            2             2\n",
      "64                                     dynamicProperties           36            36\n",
      "39                                             elevation           46            46\n",
      "89                                     elevationAccuracy           45            45\n",
      "67                                          endDayOfYear          119           119\n",
      "5                                     establishmentMeans           46            46\n",
      "88                                             eventDate          918           918\n",
      "83                                          eventRemarks            6             6\n",
      "134                                            eventTime          752           752\n",
      "79                                            extensions          918           918\n",
      "99                                                 facts          918           918\n",
      "31                                                family          918           918\n",
      "49                                             familyKey          918           918\n",
      "90                                           fieldNumber           11            11\n",
      "80                                                  gadm          918           918\n",
      "60                                                gbifID          918           918\n",
      "8                                            genericName          918           918\n",
      "120                                                genus          918           918\n",
      "52                                              genusKey          918           918\n",
      "117                                        geodeticDatum          918           918\n",
      "36                                  georeferenceProtocol           62            62\n",
      "84                                   georeferenceRemarks           29            29\n",
      "132                                  georeferenceSources           63            63\n",
      "118                       georeferenceVerificationStatus          109           109\n",
      "73                                       georeferencedBy           62            62\n",
      "62                                     georeferencedDate           62            62\n",
      "41                                               habitat            1             1\n",
      "86                                  higherClassification          122           122\n",
      "20                                       higherGeography          131           131\n",
      "133                               hostingOrganizationKey          918           918\n",
      "11         http://rs.tdwg.org/dwc/terms/organismQuantity           28            28\n",
      "2      http://rs.tdwg.org/dwc/terms/organismQuantityType           28            28\n",
      "65                               http://unknown.org/nick          784           784\n",
      "33                  http://unknown.org/occurrenceDetails          784           784\n",
      "103                   http://unknown.org/recordEnteredBy            1             1\n",
      "63                           http://unknown.org/recordId            1             1\n",
      "110                                     identificationID          780           780\n",
      "25                               identificationQualifier           61            61\n",
      "116                                identificationRemarks           47            47\n",
      "77                      identificationVerificationStatus           61            61\n",
      "38                                          identifiedBy          858           858\n",
      "102                                      identifiedByIDs          918           918\n",
      "94                                            identifier          918           918\n",
      "98                                           identifiers          918           918\n",
      "96                                       individualCount           89            89\n",
      "35                                   informationWithheld          140           140\n",
      "109                                      installationKey          918           918\n",
      "121                                      institutionCode          918           918\n",
      "129                                        institutionID          119           119\n",
      "70                                        institutionKey           69            69\n",
      "113                                          isInCluster          918           918\n",
      "13                                                issues          918           918\n",
      "68                                   iucnRedListCategory          918           918\n",
      "128                                                  key          918           918\n",
      "131                                              kingdom          918           918\n",
      "75                                            kingdomKey          918           918\n",
      "47                                              language          109           109\n",
      "18                                           lastCrawled          918           918\n",
      "14                                       lastInterpreted          918           918\n",
      "106                                           lastParsed          918           918\n",
      "105                                              license          918           918\n",
      "19                                             lifeStage           67            67\n",
      "66                                              locality          134           134\n",
      "114                                  locationAccordingTo           61            61\n",
      "137                                      locationRemarks           19            19\n",
      "57                                                 media          918           918\n",
      "16                                              modified          875           875\n",
      "111                                                month          918           918\n",
      "81                                          municipality            1             1\n",
      "85                                           networkKeys          133           133\n",
      "115                                    nomenclaturalCode          103           103\n",
      "12                                     occurrenceRemarks          185           185\n",
      "24                                      occurrenceStatus          918           918\n",
      "72                                                 order          918           918\n",
      "136                                             orderKey          918           918\n",
      "28                                            organismID           61            61\n",
      "48                                      organismQuantity           28            28\n",
      "101                                 organismQuantityType           28            28\n",
      "21                                   otherCatalogNumbers           61            61\n",
      "122                                 ownerInstitutionCode            2             2\n",
      "44                                                phylum          918           918\n",
      "125                                            phylumKey          918           918\n",
      "135                                         preparations           80            80\n",
      "78                               previousIdentifications           63            63\n",
      "123                                             protocol          918           918\n",
      "6                                      publishingCountry          918           918\n",
      "30                                      publishingOrgKey          918           918\n",
      "54                                          recordNumber           84            84\n",
      "126                                            record_id          918           918\n",
      "22                                            recordedBy          905           905\n",
      "108                                        recordedByIDs          918           918\n",
      "46                                            references          894           894\n",
      "45                                             relations          918           918\n",
      "95                                 reproductiveCondition            3             3\n",
      "3                                                 rights          785           785\n",
      "51                                          rightsHolder          786           786\n",
      "76                                        scientificName          918           918\n",
      "27                                                   sex            2             2\n",
      "61                                               species          918           918\n",
      "34                                            speciesKey          918           918\n",
      "82                                       specificEpithet          918           918\n",
      "92                                        startDayOfYear           59            59\n",
      "1                                          stateProvince          918           918\n",
      "0                                                taxonID          785           785\n",
      "55                                              taxonKey          918           918\n",
      "58                                             taxonRank          918           918\n",
      "4                                           taxonRemarks            2             2\n",
      "56                                       taxonomicStatus          918           918\n",
      "40                                                  type          121           121\n",
      "26                              verbatimCoordinateSystem           63            63\n",
      "10                                     verbatimElevation           16            16\n",
      "23                                     verbatimEventDate          902           902\n",
      "43                                      verbatimLocality          891           891\n",
      "112                                       vernacularName           14            14\n",
      "100                                                 year          918           918\n"
     ]
    }
   ],
   "source": [
    "pd.set_option('display.max_colwidth', 100)\n",
    "if ask_GBIF == True:\n",
    "    fields_summary = pd.read_sql(\"SELECT * FROM gbif_fields_returned\", output_db_conn)\n",
    "    fields_summary.index.name = 'Field'\n",
    "    pd.set_option('display.max_rows', 250)\n",
    "    print(fields_summary.sort_values(by=\"attribute\"))\n",
    "if ask_GBIF == False:\n",
    "    print(\"GBIF was not queried.\")"
   ]
  },
  {
   "cell_type": "markdown",
   "metadata": {},
   "source": [
    "#### Attributes Returned for eBird Records\n",
    "This count was made before filters were applied"
   ]
  },
  {
   "cell_type": "code",
   "execution_count": 28,
   "metadata": {},
   "outputs": [
    {
     "name": "stdout",
     "output_type": "stream",
     "text": [
      "No eBird Basic Dataset was queried.\n"
     ]
    }
   ],
   "source": [
    "if ask_eBird == True:\n",
    "    fields_summary = pd.read_sql(\"SELECT * FROM ebird_fields_returned\", output_db_conn)\n",
    "    fields_summary.index.name = 'Field'\n",
    "    pd.set_option('display.max_rows', 250)\n",
    "    print(fields_summary)\n",
    "if ask_eBird == False:\n",
    "    print(\"No eBird Basic Dataset was queried.\")"
   ]
  },
  {
   "cell_type": "markdown",
   "metadata": {},
   "source": [
    "#### Sources"
   ]
  },
  {
   "cell_type": "code",
   "execution_count": 29,
   "metadata": {},
   "outputs": [
    {
     "name": "stdout",
     "output_type": "stream",
     "text": [
      "                     institutionID                  collectionCode                     datasetName  acquired  removed  retained\n",
      "0                              MSB  Amphibian and reptile speci...                         UNKNOWN        50        4        46\n",
      "1                              MVZ  Amphibian and reptile speci...                         UNKNOWN         1        0         1\n",
      "2                          UNKNOWN                          ASUHEC                         UNKNOWN         1        0         1\n",
      "3                          UNKNOWN          Ichthyology Collection                         UNKNOWN        10        1         9\n",
      "4                          UNKNOWN                            OCGR  Oklahoma Collection of Geno...         2        1         1\n",
      "5                          UNKNOWN                    Observations  iNaturalist research-grade ...       784      174       610\n",
      "6                          UNKNOWN                              VZ                         UNKNOWN         2        0         2\n",
      "7                             UTEP  Amphibian and reptile speci...                         UNKNOWN        10        3         7\n",
      "8   http://biocol.org/urn:lsid:...                     Herpetology                         UNKNOWN        10        2         8\n",
      "9   http://biocol.org/urn:lsid:...           Amphibians & Reptiles             NMNH Extant Biology        12        7         5\n",
      "10  http://biocol.org/urn:lsid:...                           Herps                LACM Vertebrates        28       23         5\n",
      "11  http://grbio.org/cool/5bc7-...                            HERP                         UNKNOWN         2        1         1\n",
      "12   urn:lsid:biocol.org:col:34844                     Herpetology                         UNKNOWN         6        2         4\n"
     ]
    }
   ],
   "source": [
    "pd.set_option('display.max_colwidth', 31)\n",
    "sources = pd.read_sql(sql=\"SELECT * FROM sources;\", con=output_db_conn)\n",
    "print(sources[['institutionID', 'collectionCode', 'datasetName', 'acquired', 'removed', 'retained']])"
   ]
  },
  {
   "cell_type": "markdown",
   "metadata": {},
   "source": [
    "#### Bases"
   ]
  },
  {
   "cell_type": "code",
   "execution_count": 30,
   "metadata": {
    "scrolled": true
   },
   "outputs": [
    {
     "name": "stdout",
     "output_type": "stream",
     "text": [
      "                value  acquired  removed  retained\n",
      "0   HUMAN_OBSERVATION       784      174       610\n",
      "1  PRESERVED_SPECIMEN       134       44        90\n"
     ]
    }
   ],
   "source": [
    "bases = pd.read_sql(sql=\"SELECT * FROM attribute_value_counts WHERE attribute = 'basisOfRecord';\", con=output_db_conn)\n",
    "print(bases[['value', 'acquired', 'removed', 'retained']])"
   ]
  },
  {
   "cell_type": "markdown",
   "metadata": {},
   "source": [
    "#### Protocols"
   ]
  },
  {
   "cell_type": "code",
   "execution_count": 31,
   "metadata": {
    "scrolled": true
   },
   "outputs": [
    {
     "name": "stdout",
     "output_type": "stream",
     "text": [
      "  value  acquired  removed  retained\n",
      "0   nan       918      218       700\n"
     ]
    }
   ],
   "source": [
    "protocols = pd.read_sql(sql=\"SELECT * FROM attribute_value_counts WHERE attribute = 'samplingProtocol';\", con=output_db_conn)\n",
    "if protocols.empty == True:\n",
    "    print(\"No protocols were documented.\")\n",
    "if protocols.empty == False:\n",
    "    print(protocols[['value', 'acquired', 'removed', 'retained']])"
   ]
  },
  {
   "cell_type": "markdown",
   "metadata": {},
   "source": [
    "#### Issues"
   ]
  },
  {
   "cell_type": "code",
   "execution_count": 32,
   "metadata": {
    "scrolled": true
   },
   "outputs": [
    {
     "name": "stdout",
     "output_type": "stream",
     "text": [
      "                                                                                        value  acquired  removed  retained\n",
      "0                                                                  ['COLLECTION_MATCH_FUZZY']         1        0         1\n",
      "1                                            ['COORDINATE_ROUNDED', 'COLLECTION_MATCH_FUZZY']         9        2         7\n",
      "2   ['COORDINATE_ROUNDED', 'COORDINATE_REPROJECTED', 'OCCURRENCE_STATUS_INFERRED_FROM_INDI...         5        0         5\n",
      "3                                            ['COORDINATE_ROUNDED', 'COORDINATE_REPROJECTED']         1        0         1\n",
      "4   ['COORDINATE_ROUNDED', 'GEODETIC_DATUM_ASSUMED_WGS84', 'COORDINATE_UNCERTAINTY_METERS_...         2        0         2\n",
      "5   ['COORDINATE_ROUNDED', 'GEODETIC_DATUM_ASSUMED_WGS84', 'INSTITUTION_MATCH_FUZZY', 'INS...         1        0         1\n",
      "6                                      ['COORDINATE_ROUNDED', 'GEODETIC_DATUM_ASSUMED_WGS84']       669      168       501\n",
      "7   ['COORDINATE_ROUNDED', 'GEODETIC_DATUM_INVALID', 'GEODETIC_DATUM_ASSUMED_WGS84', 'INST...         4        2         2\n",
      "8   ['COORDINATE_ROUNDED', 'GEODETIC_DATUM_INVALID', 'GEODETIC_DATUM_ASSUMED_WGS84', 'OCCU...        10        1         9\n",
      "9            ['COORDINATE_ROUNDED', 'GEODETIC_DATUM_INVALID', 'GEODETIC_DATUM_ASSUMED_WGS84']         1        0         1\n",
      "10                ['COORDINATE_ROUNDED', 'INSTITUTION_MATCH_FUZZY', 'COLLECTION_MATCH_FUZZY']        28       23         5\n",
      "11                 ['COORDINATE_ROUNDED', 'OCCURRENCE_STATUS_INFERRED_FROM_INDIVIDUAL_COUNT']         6        2         4\n",
      "12                                                                     ['COORDINATE_ROUNDED']         1        0         1\n",
      "13                    ['COUNTRY_DERIVED_FROM_COORDINATES', 'INSTITUTION_COLLECTION_MISMATCH']         2        1         1\n",
      "14  ['GEODETIC_DATUM_ASSUMED_WGS84', 'INSTITUTION_MATCH_FUZZY', 'INSTITUTION_COLLECTION_MI...         9        1         8\n",
      "15  ['GEODETIC_DATUM_ASSUMED_WGS84', 'OCCURRENCE_STATUS_INFERRED_FROM_INDIVIDUAL_COUNT', '...        12        7         5\n",
      "16                                                           ['GEODETIC_DATUM_ASSUMED_WGS84']       115        7       108\n",
      "17  ['GEODETIC_DATUM_INVALID', 'GEODETIC_DATUM_ASSUMED_WGS84', 'INSTITUTION_MATCH_FUZZY', ...         2        0         2\n",
      "18  ['GEODETIC_DATUM_INVALID', 'GEODETIC_DATUM_ASSUMED_WGS84', 'OCCURRENCE_STATUS_INFERRED...         1        0         1\n",
      "19  ['GEODETIC_DATUM_INVALID', 'GEODETIC_DATUM_ASSUMED_WGS84', 'OCCURRENCE_STATUS_INFERRED...         7        1         6\n",
      "20                                       ['OCCURRENCE_STATUS_INFERRED_FROM_INDIVIDUAL_COUNT']        18        3        15\n",
      "21                                                                                         []        14        0        14\n"
     ]
    }
   ],
   "source": [
    "pd.set_option('display.max_colwidth', 90)\n",
    "issues = pd.read_sql(sql=\"SELECT * FROM attribute_value_counts WHERE attribute = 'issues';\", con=output_db_conn)\n",
    "if issues.empty == True:\n",
    "    print(\"No issues were documented.\")\n",
    "if issues.empty == False:\n",
    "    print(issues[['value', 'acquired', 'removed', 'retained']])"
   ]
  },
  {
   "cell_type": "markdown",
   "metadata": {},
   "source": [
    "#### Establishment Means"
   ]
  },
  {
   "cell_type": "code",
   "execution_count": 33,
   "metadata": {},
   "outputs": [
    {
     "name": "stdout",
     "output_type": "stream",
     "text": [
      "     value  acquired  removed  retained\n",
      "0   NATIVE        46       28        18\n",
      "1  UNKNOWN       872      190       682\n"
     ]
    }
   ],
   "source": [
    "establishment = pd.read_sql(sql=\"SELECT * FROM attribute_value_counts WHERE attribute = 'establishmentMeans';\", con=output_db_conn)\n",
    "if establishment.empty == True:\n",
    "    print(\"No establishment means were reported.\")\n",
    "if establishment.empty == False:\n",
    "    print(establishment[['value', 'acquired', 'removed', 'retained']])"
   ]
  },
  {
   "cell_type": "markdown",
   "metadata": {},
   "source": [
    "#### Identification Qualifiers"
   ]
  },
  {
   "cell_type": "code",
   "execution_count": 34,
   "metadata": {},
   "outputs": [
    {
     "name": "stdout",
     "output_type": "stream",
     "text": [
      "No identification qualifiers were reported.\n"
     ]
    }
   ],
   "source": [
    "qualifications = pd.read_sql(sql=\"SELECT * FROM attribute_value_counts WHERE attribute = 'identificationQualifers';\", con=output_db_conn)\n",
    "if qualifications.empty == True:\n",
    "    print(\"No identification qualifiers were reported.\")\n",
    "if qualifications.empty == False:\n",
    "    print(establishment[['value', 'acquired', 'removed', 'retained']])"
   ]
  },
  {
   "cell_type": "markdown",
   "metadata": {},
   "source": [
    "## Descriptions of Retained Records"
   ]
  },
  {
   "cell_type": "markdown",
   "metadata": {},
   "source": [
    "#### Locations"
   ]
  },
  {
   "cell_type": "code",
   "execution_count": 35,
   "metadata": {},
   "outputs": [
    {
     "data": {
      "image/png": "[encoded data removed]",
      "text/plain": [
       "<Figure size 864x864 with 1 Axes>"
      ]
     },
     "metadata": {
      "needs_background": "light"
     },
     "output_type": "display_data"
    },
    {
     "data": {
      "image/png": "[encoded data removed]",
      "text/plain": [
       "<Figure size 864x864 with 1 Axes>"
      ]
     },
     "metadata": {
      "needs_background": "light"
     },
     "output_type": "display_data"
    },
    {
     "data": {
      "image/png": "[encoded data removed]",
      "text/plain": [
       "<Figure size 864x864 with 1 Axes>"
      ]
     },
     "metadata": {
      "needs_background": "light"
     },
     "output_type": "display_data"
    }
   ],
   "source": [
    "# Get the record coordinates as a data frame\n",
    "record_coordinates = (pd.read_sql(\"\"\"SELECT decimalLatitude, decimalLongitude, radius_m\n",
    "                                     FROM occurrence_records\"\"\",\n",
    "                                  con=output_db_conn)\n",
    "                      .astype({'decimalLongitude': 'float', 'decimalLatitude': 'float',\n",
    "                               'radius_m': 'float'}))\n",
    "\n",
    "# Make the data frame spatial\n",
    "gdf = gpd.GeoDataFrame(record_coordinates, geometry=gpd.points_from_xy(record_coordinates['decimalLongitude'],\n",
    "                                                   record_coordinates['decimalLatitude']))\n",
    "\n",
    "# Set the coordinate reference system\n",
    "gdf.crs={'init' :'epsg:4326'}\n",
    "\n",
    "# Create world map <<<<<<<<<<<<<<<<<<<<<<<<<<<<<<<<<<<<<<<<<<<<<<<<<<<<<<<<<<<<<<<<<<<<<<<<<<<<\n",
    "world = gpd.read_file(gpd.datasets.get_path('naturalearth_lowres'))\n",
    "base = world.plot(figsize=(12,12), color = 'darkkhaki')\n",
    "gdf.plot(ax=base, marker='o', color='k', markersize=5)\n",
    "plt.show()\n",
    "\n",
    "# Create USA map <<<<<<<<<<<<<<<<<<<<<<<<<<<<<<<<<<<<<<<<<<<<<<<<<<<<<<<<<<<<<<<<<<<<<<<<<<<<<<\n",
    "if filter_set[\"country\"] == \"US\":\n",
    "    usa_bbox = np.array([-124.725839,   24.498131,  -66.949895,   49.384358])\n",
    "    fig, ax = plt.subplots(figsize=(12,12))\n",
    "    ax.set_xlim(([usa_bbox[0],  usa_bbox[2]]))\n",
    "    ax.set_ylim(([usa_bbox[1],  usa_bbox[3]]))\n",
    "    world.plot(ax=ax, color='darkkhaki')\n",
    "    gdf.plot(ax=ax, marker='o', color='k', markersize=5)\n",
    "    plt.show()\n",
    "\n",
    "# Create coordinate extent map <<<<<<<<<<<<<<<<<<<<<<<<<<<<<<<<<<<<<<<<<<<<<<<<<<<<<<<<<<<<<<<<\n",
    "os.chdir(config.codeDir)\n",
    "states = gpd.read_file(os.getcwd() + '/data/us_states.shp')\n",
    "\n",
    "# Reproject states and record coordinates to facilitate buffering\n",
    "states = states.to_crs(epsg=5070)\n",
    "footprints = gdf.to_crs(epsg=5070)\n",
    "\n",
    "# Buffer points for record footprints\n",
    "footprints['footprint']=footprints.apply(lambda x: x.geometry.buffer(x.radius_m), axis=1)\n",
    "footprints.set_geometry(col='footprint', inplace=True, drop=True)\n",
    "\n",
    "# Map the buffered points/footprints\n",
    "fig, ax = plt.subplots(figsize=(12,12))\n",
    "coordinate_bbox = footprints.geometry.total_bounds\n",
    "ax.set_xlim(([coordinate_bbox[0],  coordinate_bbox[2]]))\n",
    "ax.set_ylim(([coordinate_bbox[1],  coordinate_bbox[3]]))\n",
    "states.plot(ax=ax, color = 'darkkhaki')\n",
    "footprints.boundary.plot(ax=ax, color='k')\n",
    "plt.show()\n",
    "\n",
    "# Cleanup\n",
    "del footprints, gdf"
   ]
  },
  {
   "cell_type": "markdown",
   "metadata": {},
   "source": [
    "#### Years Represented"
   ]
  },
  {
   "cell_type": "code",
   "execution_count": 36,
   "metadata": {},
   "outputs": [
    {
     "data": {
      "text/plain": [
       "Text(0.5, 1.0, 'Occurrences per Year')"
      ]
     },
     "execution_count": 36,
     "metadata": {},
     "output_type": "execute_result"
    },
    {
     "data": {
      "image/png": "[encoded data removed]",
      "text/plain": [
       "<Figure size 432x288 with 1 Axes>"
      ]
     },
     "metadata": {
      "needs_background": "light"
     },
     "output_type": "display_data"
    }
   ],
   "source": [
    "occ_years = [int(x[0]) for x in cursor.execute(\"SELECT strftime('%Y', eventDate) FROM occurrence_records\").fetchall()]\n",
    "years = filter_set['years_range']\n",
    "years = years.split(',')\n",
    "yearsrng = list(range(int(years[0]), int(years[1]), 1))\n",
    "binsnum = int(years[1]) - int(years[0])\n",
    "plt.hist(occ_years, bins=binsnum)\n",
    "plt.ylabel(\"number of records\")\n",
    "plt.xlabel(\"year\")\n",
    "plt.xticks(yearsrng, rotation=90)\n",
    "plt.title(\"Occurrences per Year\")"
   ]
  },
  {
   "cell_type": "markdown",
   "metadata": {},
   "source": [
    "#### Months Represented"
   ]
  },
  {
   "cell_type": "code",
   "execution_count": 37,
   "metadata": {},
   "outputs": [
    {
     "data": {
      "text/plain": [
       "Text(0.5, 1.0, 'Occurrences per Month')"
      ]
     },
     "execution_count": 37,
     "metadata": {},
     "output_type": "execute_result"
    },
    {
     "data": {
      "image/png": "[encoded data removed]",
      "text/plain": [
       "<Figure size 432x288 with 1 Axes>"
      ]
     },
     "metadata": {
      "needs_background": "light"
     },
     "output_type": "display_data"
    }
   ],
   "source": [
    "occ_months = [int(x[0]) for x in cursor.execute(\"SELECT strftime('%m', eventDate) FROM occurrence_records\").fetchall()]\n",
    "plt.hist(occ_months, bins=range(1, 14), color=\"g\")\n",
    "plt.ylabel(\"number of records\")\n",
    "plt.xlabel(\"month\")\n",
    "plt.xticks(range(1, 13))\n",
    "plt.title(\"Occurrences per Month\")"
   ]
  },
  {
   "cell_type": "markdown",
   "metadata": {},
   "source": [
    "#### Distribution of Coordinate Uncertainty Values for Retained Records"
   ]
  },
  {
   "cell_type": "code",
   "execution_count": 38,
   "metadata": {
    "scrolled": false
   },
   "outputs": [
    {
     "data": {
      "image/png": "[encoded data removed]",
      "text/plain": [
       "<Figure size 1152x288 with 1 Axes>"
      ]
     },
     "metadata": {
      "needs_background": "light"
     },
     "output_type": "display_data"
    }
   ],
   "source": [
    "try:\n",
    "    occ_cert = [float(x[0]) for x in cursor.execute(\"SELECT coordinateUncertaintyInMeters FROM occurrence_records WHERE coordinateUncertaintyInMeters > 0.0;\").fetchall()]\n",
    "    maxi = max(occ_cert)\n",
    "    plt.figure(figsize=(16,4))\n",
    "    plt.hist(occ_cert, bins=50, color=\"r\")\n",
    "    plt.xticks(range(0, int(maxi), int(maxi/50)), rotation=90)\n",
    "    plt.ylabel(\"number of records\")\n",
    "    plt.xlabel(\"meters\")\n",
    "    plt.title(\"Reported Coordinate Uncertainties\")\n",
    "except:\n",
    "    print(\"No coordinate uncertanties values were reported.\")"
   ]
  },
  {
   "cell_type": "code",
   "execution_count": 39,
   "metadata": {},
   "outputs": [
    {
     "data": {
      "image/png": "[encoded data removed]",
      "text/plain": [
       "<Figure size 792x288 with 1 Axes>"
      ]
     },
     "metadata": {
      "needs_background": "light"
     },
     "output_type": "display_data"
    }
   ],
   "source": [
    "try:\n",
    "    plt.figure(figsize=(11,4))\n",
    "    plt.boxplot(occ_cert, vert=False)\n",
    "    plt.xlabel(\"meters\")\n",
    "    plt.title(\"Reported Coordinate Uncertainties\")\n",
    "except:\n",
    "    print(\"No coordinate uncertanties values were reported.\")"
   ]
  },
  {
   "cell_type": "code",
   "execution_count": 40,
   "metadata": {},
   "outputs": [
    {
     "data": {
      "image/png": "[encoded data removed]",
      "text/plain": [
       "<Figure size 864x288 with 1 Axes>"
      ]
     },
     "metadata": {
      "needs_background": "light"
     },
     "output_type": "display_data"
    }
   ],
   "source": [
    "try:\n",
    "    rng_max = 2000\n",
    "    occ_cert2 = [x for x in occ_cert if x <= rng_max]\n",
    "    plt.figure(figsize=(12,4))\n",
    "    plt.hist(occ_cert2, bins=30, color=\"m\", align='mid')\n",
    "    plt.xticks(range(0, rng_max + 100, int(rng_max/30.)), rotation=90)\n",
    "    plt.ylabel(\"number of records\")\n",
    "    plt.xlabel(\"meters\")\n",
    "    plt.title(\"Reported Coordinate Uncertainties Below 2km\")\n",
    "except:\n",
    "    print(\"No coordinate uncertanties values were reported.\")"
   ]
  },
  {
   "cell_type": "markdown",
   "metadata": {},
   "source": [
    "#### Distribution of Point-radius Values for Retained Records"
   ]
  },
  {
   "cell_type": "code",
   "execution_count": 41,
   "metadata": {
    "scrolled": false
   },
   "outputs": [
    {
     "data": {
      "text/plain": [
       "Text(0.5, 1.0, 'Compiled Point-radius Buffer Lengths')"
      ]
     },
     "execution_count": 41,
     "metadata": {},
     "output_type": "execute_result"
    },
    {
     "data": {
      "image/png": "[encoded data removed]",
      "text/plain": [
       "<Figure size 792x288 with 1 Axes>"
      ]
     },
     "metadata": {
      "needs_background": "light"
     },
     "output_type": "display_data"
    }
   ],
   "source": [
    "occ_cert = [float(x[0]) for x in cursor.execute(\"SELECT radius_m FROM occurrence_records;\").fetchall()]\n",
    "plt.figure(figsize=(11,4))\n",
    "plt.boxplot(occ_cert, vert=False)\n",
    "plt.xlabel(\"meters\")\n",
    "plt.title(\"Compiled Point-radius Buffer Lengths\")"
   ]
  },
  {
   "cell_type": "markdown",
   "metadata": {},
   "source": [
    "#### Distribution of Nominal Coordinate Precisions for Retained Records"
   ]
  },
  {
   "cell_type": "code",
   "execution_count": 42,
   "metadata": {
    "scrolled": false
   },
   "outputs": [
    {
     "data": {
      "text/plain": [
       "Text(0.5, 1.0, 'Nominal Precisions of Coordinates')"
      ]
     },
     "execution_count": 42,
     "metadata": {},
     "output_type": "execute_result"
    },
    {
     "data": {
      "image/png": "[encoded data removed]",
      "text/plain": [
       "<Figure size 792x288 with 1 Axes>"
      ]
     },
     "metadata": {
      "needs_background": "light"
     },
     "output_type": "display_data"
    }
   ],
   "source": [
    "occ_cert = [float(x[0]) for x in cursor.execute(\"SELECT nominal_xy_precision FROM occurrence_records;\").fetchall()]\n",
    "plt.figure(figsize=(11,4))\n",
    "plt.boxplot(occ_cert, vert=False)\n",
    "plt.xlabel(\"meters\")\n",
    "plt.title(\"Nominal Precisions of Coordinates\")"
   ]
  },
  {
   "cell_type": "markdown",
   "metadata": {},
   "source": [
    "#### Remarks"
   ]
  },
  {
   "cell_type": "code",
   "execution_count": 43,
   "metadata": {
    "scrolled": true
   },
   "outputs": [
    {
     "name": "stdout",
     "output_type": "stream",
     "text": [
      "General remarks:\n",
      "nan\n"
     ]
    }
   ],
   "source": [
    "print(\"General remarks:\")\n",
    "remarks = output_db_conn.execute(\"SELECT DISTINCT general_remarks FROM occurrence_records;\").fetchall()\n",
    "if len(remarks) <= 20:\n",
    "    try:\n",
    "        for rem in remarks:\n",
    "            if rem[0][0:1] == ';':\n",
    "                print(rem[0][2:])\n",
    "            else:\n",
    "                print(rem[0])\n",
    "    except:\n",
    "        pass\n",
    "else:\n",
    "    print(\"More than 20 remarks, consult the occurrence database.\")"
   ]
  },
  {
   "cell_type": "code",
   "execution_count": 44,
   "metadata": {},
   "outputs": [
    {
     "name": "stdout",
     "output_type": "stream",
     "text": [
      "Event remarks:\n",
      "UNKNOWN\n",
      "mountains/drainage Mimbres Mts, named place: Kingston, georeferencing remarks: Moved 1mi W of FSR 157 along Percha Creek\n",
      "drainage: Piños Altos Range, named place: Piños Altos Range/Hwy 15/Ben Lilly Memorial, georeferencing remarks: GPS measurement accuracy = 20 ft\n",
      "collected at 1703 hrs\n"
     ]
    }
   ],
   "source": [
    "print(\"Event remarks:\")\n",
    "remarks = output_db_conn.execute(\"SELECT DISTINCT eventRemarks FROM occurrence_records;\").fetchall()\n",
    "if len(remarks) <= 20:\n",
    "    try:\n",
    "        for rem in remarks:\n",
    "            if rem[0][0:1] == ';':\n",
    "                print(rem[0][2:])\n",
    "            else:\n",
    "                print(rem[0])\n",
    "    except:\n",
    "        pass\n",
    "else:\n",
    "    print(\"More than 20 remarks, consult the occurrence database.\")"
   ]
  },
  {
   "cell_type": "code",
   "execution_count": 45,
   "metadata": {},
   "outputs": [
    {
     "name": "stdout",
     "output_type": "stream",
     "text": [
      "Occurrence remarks:\n",
      "More than 20 remarks, consult the occurrence database.\n"
     ]
    }
   ],
   "source": [
    "print(\"Occurrence remarks:\")\n",
    "remarks = output_db_conn.execute(\"SELECT DISTINCT occurrenceRemarks FROM occurrence_records;\").fetchall()\n",
    "if len(remarks) <= 20:\n",
    "    try:\n",
    "        for rem in remarks:\n",
    "            if rem[0][0:1] == ';':\n",
    "                print(rem[0][2:])\n",
    "            else:\n",
    "                print(rem[0])\n",
    "    except:\n",
    "        pass\n",
    "else:\n",
    "    print(\"More than 20 remarks, consult the occurrence database.\")"
   ]
  },
  {
   "cell_type": "code",
   "execution_count": 46,
   "metadata": {},
   "outputs": [
    {
     "name": "stdout",
     "output_type": "stream",
     "text": [
      "Location remarks:\n",
      "UNKNOWN\n",
      "T21N R24E 11 NE 1/4\n",
      "T21N R25E 19 NE 1/4\n",
      "T16S R06W 16\n",
      "T12S R7W 9 S 1/2\n",
      "T12S R07W 1/2 ? N1/2,263778E 3683058N Z13\n",
      "247518E 3666800N Z13\n",
      "242465E 3666870N Z13\n",
      "688357E 3646158N Z12\n",
      "T165 R7W 14\n",
      "T16S, R14W, Sec.24\n",
      "T7S,  R22E,  Nw 1/4 Sec.36\n"
     ]
    }
   ],
   "source": [
    "print(\"Location remarks:\")\n",
    "remarks = output_db_conn.execute(\"SELECT DISTINCT locationRemarks FROM occurrence_records;\").fetchall()\n",
    "if len(remarks) <= 20:\n",
    "    try:\n",
    "        for rem in remarks:\n",
    "            if rem[0][0:1] == ';':\n",
    "                print(rem[0][2:])\n",
    "            else:\n",
    "                print(rem[0])\n",
    "    except:\n",
    "        pass\n",
    "else:\n",
    "    print(\"More than 20 remarks, consult the occurrence database.\")"
   ]
  },
  {
   "cell_type": "code",
   "execution_count": 47,
   "metadata": {},
   "outputs": [
    {
     "name": "stdout",
     "output_type": "stream",
     "text": [
      "Identified remarks:\n",
      "nan\n"
     ]
    }
   ],
   "source": [
    "print(\"Identified remarks:\")\n",
    "remarks = output_db_conn.execute(\"SELECT DISTINCT general_remarks FROM occurrence_records;\").fetchall()\n",
    "if len(remarks) <= 20:\n",
    "    try:\n",
    "        for rem in remarks:\n",
    "            if rem[0][0:1] == ';':\n",
    "                print(rem[0][2:])\n",
    "            else:\n",
    "                print(rem[0])\n",
    "    except:\n",
    "        pass\n",
    "else:\n",
    "    print(\"More than 20 remarks, consult the occurrence database.\")"
   ]
  },
  {
   "cell_type": "code",
   "execution_count": 48,
   "metadata": {},
   "outputs": [
    {
     "name": "stdout",
     "output_type": "stream",
     "text": [
      "Georeference remarks:\n",
      "UNKNOWN\n",
      "COGE georefrernce spring 2020: watkinsg\n",
      "Calculated from original coordinates\n"
     ]
    }
   ],
   "source": [
    "print(\"Georeference remarks:\")\n",
    "remarks = output_db_conn.execute(\"SELECT DISTINCT georeferenceRemarks FROM occurrence_records;\").fetchall()\n",
    "if len(remarks) <= 20:\n",
    "    try:\n",
    "        for rem in remarks:\n",
    "            if rem[0][0:1] == ';':\n",
    "                print(rem[0][2:])\n",
    "            else:\n",
    "                print(rem[0])\n",
    "    except:\n",
    "        pass\n",
    "else:\n",
    "    print(\"More than 20 remarks, consult the occurrence database.\")"
   ]
  },
  {
   "cell_type": "markdown",
   "metadata": {},
   "source": [
    "## Citations\n",
    "#### eBird "
   ]
  },
  {
   "cell_type": "code",
   "execution_count": 49,
   "metadata": {},
   "outputs": [
    {
     "name": "stdout",
     "output_type": "stream",
     "text": [
      "No eBird Basic Dataset was queried\n"
     ]
    }
   ],
   "source": [
    "if ask_eBird == True:\n",
    "    with open(config.EBD_file[:-22] + \"recommended_citation.txt\", \"r\") as reference:\n",
    "        print(reference.readlines()[0])\n",
    "else:\n",
    "    print(\"No eBird Basic Dataset was queried\")"
   ]
  },
  {
   "cell_type": "markdown",
   "metadata": {},
   "source": [
    "#### GBIF"
   ]
  },
  {
   "cell_type": "code",
   "execution_count": 50,
   "metadata": {},
   "outputs": [
    {
     "name": "stdout",
     "output_type": "stream",
     "text": [
      "Set 'get_dwca' to True to acquire a list of citations\n"
     ]
    }
   ],
   "source": [
    "if ask_GBIF == True:\n",
    "    if get_dwca == True:\n",
    "        print(\"Citations-- \")\n",
    "        print(cursor.execute(\"SELECT citations FROM GBIF_download_info\").fetchall()[0][0])\n",
    "    else:\n",
    "        print(\"Set 'get_dwca' to True to acquire a list of citations\")\n",
    "if ask_GBIF == False:\n",
    "    print(\"GBIF was not queried.\")"
   ]
  },
  {
   "cell_type": "code",
   "execution_count": 51,
   "metadata": {},
   "outputs": [
    {
     "name": "stdout",
     "output_type": "stream",
     "text": [
      "Set 'get_dwca' to True to see the rights\n"
     ]
    }
   ],
   "source": [
    "if ask_GBIF == True:\n",
    "    if get_dwca == True:\n",
    "        print(\"Rights-- \")\n",
    "        print(output_db_conn.execute(\"SELECT rights FROM GBIF_download_info\").fetchall()[0][0])\n",
    "    else:\n",
    "        print(\"Set 'get_dwca' to True to see the rights\")\n",
    "if ask_GBIF == False:\n",
    "    print(\"GBIF was not queried.\")"
   ]
  },
  {
   "cell_type": "code",
   "execution_count": 52,
   "metadata": {},
   "outputs": [
    {
     "name": "stdout",
     "output_type": "stream",
     "text": [
      "Set 'get_dwca' to True to perform a search with a doi assigned\n"
     ]
    }
   ],
   "source": [
    "if ask_GBIF == True:\n",
    "    if get_dwca == True:\n",
    "        print(\"DOI-- \")\n",
    "        doi = output_db_conn.execute(\"SELECT doi FROM GBIF_download_info\").fetchall()[0][0]\n",
    "        print(\"https://doi.org/\" + doi)\n",
    "    else:\n",
    "        print(\"Set 'get_dwca' to True to perform a search with a doi assigned\")\n",
    "if ask_GBIF == False:\n",
    "    print(\"GBIF was not queried.\")"
   ]
  },
  {
   "cell_type": "code",
   "execution_count": 53,
   "metadata": {},
   "outputs": [
    {
     "name": "stdout",
     "output_type": "stream",
     "text": [
      "Set 'get_dwca' to True to perform a search with a download key assigned\n"
     ]
    }
   ],
   "source": [
    "if ask_GBIF == True:\n",
    "    if get_dwca == True:\n",
    "        print(\"GBIF download key-- \")\n",
    "        print(output_db_conn.execute(\"SELECT download_key FROM GBIF_download_info\").fetchall()[0][0])\n",
    "    else:\n",
    "        print(\"Set 'get_dwca' to True to perform a search with a download key assigned\")\n",
    "if ask_GBIF == False:\n",
    "    print(\"GBIF was not queried\")"
   ]
  },
  {
   "cell_type": "markdown",
   "metadata": {},
   "source": [
    "## Runtime"
   ]
  },
  {
   "cell_type": "code",
   "execution_count": 54,
   "metadata": {
    "scrolled": true
   },
   "outputs": [
    {
     "name": "stdout",
     "output_type": "stream",
     "text": [
      "0:00:13.171909\n"
     ]
    }
   ],
   "source": [
    "output_db_conn.close()\n",
    "del cursor\n",
    "t2 = datetime.now()\n",
    "print(t2 - t1)"
   ]
  },
  {
   "cell_type": "code",
   "execution_count": 55,
   "metadata": {},
   "outputs": [],
   "source": [
    "functions.verify_results(output_database)"
   ]
  }
 ],
 "metadata": {
  "kernelspec": {
   "display_name": "Python 3",
   "language": "python",
   "name": "python3"
  },
  "language_info": {
   "codemirror_mode": {
    "name": "ipython",
    "version": 3
   },
   "file_extension": ".py",
   "mimetype": "text/x-python",
   "name": "python",
   "nbconvert_exporter": "python",
   "pygments_lexer": "ipython3",
   "version": "3.7.10"
  }
 },
 "nbformat": 4,
 "nbformat_minor": 2
}
