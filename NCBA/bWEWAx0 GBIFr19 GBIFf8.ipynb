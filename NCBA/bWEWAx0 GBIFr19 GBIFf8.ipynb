{
 "cells": [
  {
   "cell_type": "markdown",
   "metadata": {},
   "source": [
    "# Worm-eating Warbler Occurrence Records Summary\n",
    "This notebook is a tool for exploring data sets requested from GBIF (and eventually other sources), and mostly for developing criteria for filtering records (filter sets).  When the entire notebook is run, it retrieves records according to the filter sets specified and saves the results (records and some summary tables) in an sqlite database.  Some information is pulled from the parameters.sqlite database that is saved in this repository."
   ]
  },
  {
   "cell_type": "markdown",
   "metadata": {},
   "source": [
    "### General Setup"
   ]
  },
  {
   "cell_type": "code",
   "execution_count": 1,
   "metadata": {},
   "outputs": [
    {
     "name": "stdout",
     "output_type": "stream",
     "text": [
      "/Users/nmtarr/Code/occurrence-records-wrangler\n"
     ]
    }
   ],
   "source": [
    "%matplotlib inline\n",
    "import sqlite3\n",
    "import pprint\n",
    "import json\n",
    "import pandas as pd\n",
    "import numpy as np\n",
    "#import geopandas as gpd\n",
    "pd.set_option('display.width', 600)\n",
    "pd.set_option('display.max_colwidth', 60)\n",
    "pd.set_option('display.max_rows', 150)\n",
    "from IPython.display import Image\n",
    "from pygbif import occurrences\n",
    "import matplotlib.pyplot as plt\n",
    "import os\n",
    "from datetime import datetime\n",
    "t1 = datetime.now()\n",
    "%cd ..\n",
    "import repo_functions as functions"
   ]
  },
  {
   "cell_type": "markdown",
   "metadata": {},
   "source": [
    "### Set Variables\n",
    "Fill out stuff in this cell."
   ]
  },
  {
   "cell_type": "code",
   "execution_count": 2,
   "metadata": {},
   "outputs": [
    {
     "name": "stdout",
     "output_type": "stream",
     "text": [
      "Notebook run 2019-10-30 19:19:25.186118\n"
     ]
    }
   ],
   "source": [
    "species_id = 'bwewax0'\n",
    "summary_name = 'NCWormie'\n",
    "gbif_req_id = 'GBIFr19'\n",
    "gbif_filter_id = 'GBIFf8'\n",
    "workDir = '/Users/nmtarr/Documents/NCBA/Data/'\n",
    "codeDir = '/Users/nmtarr/Code/occurrence-records-wrangler/'\n",
    "inDir = workDir + 'Inputs/'\n",
    "outDir = workDir + 'Outputs/'\n",
    "default_coordUncertainty = 250\n",
    "SRID_dict = {'WGS84': 4326, 'AlbersNAD83': 102008} # Used in file names for output.\n",
    "spdb = outDir + species_id + gbif_req_id + gbif_filter_id + '.sqlite'\n",
    "\n",
    "print(\"Notebook run \" + str(t1))"
   ]
  },
  {
   "cell_type": "code",
   "execution_count": 3,
   "metadata": {
    "scrolled": false
   },
   "outputs": [],
   "source": [
    "connjup = sqlite3.connect(codeDir + 'parameters.sqlite')\n",
    "cursorjup = connjup.cursor()\n",
    "\n",
    "# Get some variables\n",
    "years = connjup.execute(\"\"\"SELECT years_range \n",
    "                           FROM gbif_requests WHERE request_id = '{0}'\"\"\".format(gbif_req_id)).fetchone()[0]\n",
    "gap_id = connjup.execute(\"\"\"SELECT gap_id\n",
    "                            FROM species_concepts WHERE species_id = '{0}'\"\"\".format(species_id)).fetchone()[0]\n",
    "common_name = connjup.execute(\"\"\"SELECT common_name\n",
    "                                 FROM species_concepts WHERE species_id = '{0}'\"\"\".format(species_id)).fetchone()[0]"
   ]
  },
  {
   "cell_type": "markdown",
   "metadata": {},
   "source": [
    "# Species Concept\n",
    "Display information on the species from the parameters.sqlite database."
   ]
  },
  {
   "cell_type": "code",
   "execution_count": 4,
   "metadata": {},
   "outputs": [
    {
     "name": "stdout",
     "output_type": "stream",
     "text": [
      "{'bcb_id': None,\n",
      " 'breeding_months': '5,6,7',\n",
      " 'common_name': 'worm-eating warbler',\n",
      " 'concept_vetted': 0,\n",
      " 'detection_distance_meters': 200,\n",
      " 'ebird_id': None,\n",
      " 'end_year': None,\n",
      " 'error_tolerance': 20,\n",
      " 'fws_id': '',\n",
      " 'gap_id': 'bwewax',\n",
      " 'gbif_id': '2489603',\n",
      " 'geometry': None,\n",
      " 'itis_tsn': '726195',\n",
      " 'migratory': '1',\n",
      " 'notes': 'Species name changed from vermivorus in 2003.  Breeding and '\n",
      "          'wintering months from Birds of North America Database (July 26, '\n",
      "          '2019).  Migration is possible in early May and late July. N. Tarr '\n",
      "          '26 July 2019.',\n",
      " 'pad': 1,\n",
      " 'scientific_name': 'Helmitheros vermivorum',\n",
      " 'species_id': 'bwewax0',\n",
      " 'start_year': 2003,\n",
      " 'wintering_months': '10,11,12,1,2'}\n"
     ]
    }
   ],
   "source": [
    "vals = cursorjup.execute(\"SELECT * FROM species_concepts WHERE species_id = '{0}';\".format(species_id)).fetchall()[0]\n",
    "cols = [x[1] for x in cursorjup.execute(\"PRAGMA table_info('species_concepts')\").fetchall()]\n",
    "pprint.pprint(dict(zip(cols, vals)))"
   ]
  },
  {
   "cell_type": "markdown",
   "metadata": {},
   "source": [
    "# Filters\n",
    "Display the parameters of the request filter set.  These are deployed during the step where records are retrieved from the API."
   ]
  },
  {
   "cell_type": "code",
   "execution_count": 5,
   "metadata": {},
   "outputs": [
    {
     "name": "stdout",
     "output_type": "stream",
     "text": [
      "THE REQUEST FILTER SET\n",
      "request_id                                                          GBIFr19\n",
      "source                                                                 GBIF\n",
      "lat_range                                                              None\n",
      "lon_range                                                              None\n",
      "years_range                                                       2014,2019\n",
      "months_range                                                           1,12\n",
      "geoissue                                                              False\n",
      "coordinate                                                             True\n",
      "country                                                                None\n",
      "geometry        POLYGON ((-84.48078517214034 34.91735591277285, -84.4181...\n",
      "continent                                                              None\n",
      "creator                                                             N. Tarr\n",
      "notes           Parameterized for NC Bird Atlas efforts.  Filterd on geo...\n",
      "Name: 0, dtype: object\n"
     ]
    }
   ],
   "source": [
    "df1 = pd.read_sql_query(sql=\"SELECT * FROM gbif_requests WHERE request_id = '{0}'\".format(gbif_req_id), con=connjup)\n",
    "print(\"THE REQUEST FILTER SET\")\n",
    "print(df1.loc[0])"
   ]
  },
  {
   "cell_type": "markdown",
   "metadata": {},
   "source": [
    "Display the parameters of the post-request filter set.  These are deployed after the records are retrieved from the API, but before they are stored in the occurrence record sqlite database."
   ]
  },
  {
   "cell_type": "code",
   "execution_count": 6,
   "metadata": {},
   "outputs": [
    {
     "name": "stdout",
     "output_type": "stream",
     "text": [
      "THE POST REQUEST FILTER SET\n",
      "filter_id                                                                          GBIFf8\n",
      "dataset                                                                              GBIF\n",
      "collection_codes_omit                                                                None\n",
      "institutions_omit                                                                    None\n",
      "has_coordinate_uncertainty                                                              0\n",
      "max_coordinate_uncertainty                                                          10000\n",
      "bases_omit                                            PRESERVED_SPECIMEN, FOSSIL_SPECIMEN\n",
      "protocols_omit                                                                       None\n",
      "sampling_protocols_omit                                                              None\n",
      "issues_omit                   GEODETIC_DATUM_INVALID, INDIVIDUAL_COUNT_INVALID, MULTIM...\n",
      "duplicates_OK                                                                       False\n",
      "creator                                                                           N. Tarr\n",
      "notes                                                                      Built for NCBA\n",
      "Name: 0, dtype: object\n"
     ]
    }
   ],
   "source": [
    "df2 = pd.read_sql_query(sql=\"SELECT * FROM gbif_filters WHERE filter_id = '{0}'\".format(gbif_filter_id), con=connjup)\n",
    "print(\"THE POST REQUEST FILTER SET\")\n",
    "print(df2.loc[0])"
   ]
  },
  {
   "cell_type": "markdown",
   "metadata": {},
   "source": [
    "### Filter set justification\n",
    "**default_coord_uncertainty**: Many eBird records should be returned and the locational uncertainty could be near 5 miles (8046 m) due to the inclusion of traveling counts.   However, I use 250 m here for demonstration purposes. \n",
    "\n",
    "**years_range**: I included the last 5 years since bird atlases run 3 to 5 years.\n",
    "\n",
    "**months_range**: Included all months for now in order to see what is returned.  It may be best to limit to certain months eventually.\n",
    "\n",
    "**geoissue**: Errors in location are too problematic to include.\n",
    "\n",
    "**coordinate**: Use of records in maps and spatial queries requires that records have x,y coordinates.\n",
    "\n",
    "**continent**: This parameter is not useful and thus left blank.\n",
    " \n",
    "**geometry**: Limits download to within 10km of NC, as that is the area of interest for NCBA.\n",
    "\n",
    "**collection_codes_omit**: For now, interested in what comes back.\n",
    "\n",
    "**institutions_omit**: For now, interested in what comes back.\n",
    "\n",
    "**has_coordinate_uncertainty**: This parameter isn't useful because of vast majority not having a value.\n",
    "\n",
    "**max_coordinate_uncertainty**: Extremely high uncertainty isn't helpful, but moderately high uncertainty will be dealt with in the spatial comparison process.\n",
    "\n",
    "**bases_omit**: Fossils and preserved specimens wouldn't correspond to the questions a bird atlas seeks to answer.\n",
    "\n",
    "**protocols_omit**: For now, interested in what comes back.\n",
    "\n",
    "**sampling_protocols_omit**: For now, interested in what comes back.\n",
    "\n",
    "**issues_omit**: Omitting any issues that we have identified that are undesirable.\n",
    "\n",
    "**duplicates:** Records with the same date, time, latitudes, and longitudes are suspicious.  The default, hard-coded rule for handling duplicates is to keep the one with the highest count of individuals."
   ]
  },
  {
   "cell_type": "code",
   "execution_count": 7,
   "metadata": {
    "scrolled": true
   },
   "outputs": [
    {
     "name": "stdout",
     "output_type": "stream",
     "text": [
      "SPATIALITE_SECURITY set to relaxed\n",
      "Created occurrence db: 0:00:00.315018\n",
      "Got request params and sorted out geometry constraints: 0:00:00.000893\n",
      "Downloaded records: 0:01:18.420232\n",
      "\t5921 records exist with the request parameters\n",
      "Created summary table of request results: 0:00:00.538083\n",
      "Performed post-request filtering: 0:00:00.244791\n",
      "Summarized results of filtering: 0:00:00.484464\n",
      "Performed post-request filtering: 0:00:26.392800\n",
      "Removed duplicates: 0:00:00.180392\n",
      "\t1573 duplicates were deleted\n",
      "Buffered points: 0:00:05.549355\n",
      "Exported maps: 0:00:02.155206\n",
      "\n",
      "Records saved in /Users/nmtarr/Documents/NCBA/Data/Outputs/bwewax0GBIFr19GBIFf8.sqlite\n"
     ]
    }
   ],
   "source": [
    "functions.retrieve_gbif_occurrences(codeDir, species_id, inDir, spdb, gbif_req_id, gbif_filter_id, \n",
    "                                    default_coordUncertainty, SRID_dict, outDir, summary_name)"
   ]
  },
  {
   "cell_type": "markdown",
   "metadata": {},
   "source": [
    "### How many records made it through the filters?\n",
    "This is the number that was actually saved in the occurrence record sqlite database."
   ]
  },
  {
   "cell_type": "code",
   "execution_count": 8,
   "metadata": {},
   "outputs": [
    {
     "name": "stdout",
     "output_type": "stream",
     "text": [
      "4348 records\n"
     ]
    }
   ],
   "source": [
    "conn_occ= sqlite3.connect(spdb)\n",
    "curs_occ = conn_occ.cursor()\n",
    "record_count = curs_occ.execute(\"SELECT COUNT(occ_id) FROM occurrences WHERE species_id = '{0}'\".format(species_id)).fetchone()\n",
    "print(str(record_count[0]) + \" records\")"
   ]
  },
  {
   "cell_type": "markdown",
   "metadata": {},
   "source": [
    "### Are there duplicate records left?\n",
    "Duplicates based on latitude, longitude, and date-time should have been removed, with the record with the highest individualCount retained."
   ]
  },
  {
   "cell_type": "code",
   "execution_count": 9,
   "metadata": {},
   "outputs": [
    {
     "name": "stdout",
     "output_type": "stream",
     "text": [
      "0 duplicate records retained based on xy coordinate and date-time\n"
     ]
    }
   ],
   "source": [
    "dups0 = curs_occ.execute(\"\"\"SELECT count(occ_id) FROM occurrences WHERE occ_id NOT IN (SELECT occ_id FROM occurrences GROUP BY latitude, longitude, occurrenceDate HAVING max(IndividualCount));\"\"\").fetchall()\n",
    "print(str(dups0[0][0]) + ' duplicate records retained based on xy coordinate and date-time')"
   ]
  },
  {
   "cell_type": "markdown",
   "metadata": {},
   "source": [
    "# Institutions\n",
    "#### Pre-filters"
   ]
  },
  {
   "cell_type": "code",
   "execution_count": 10,
   "metadata": {},
   "outputs": [
    {
     "name": "stdout",
     "output_type": "stream",
     "text": [
      "iNaturalist (21)\n",
      "CLO (5898)\n",
      "unknown (2)\n"
     ]
    }
   ],
   "source": [
    "institutions = curs_occ.execute(\"SELECT value, count FROM post_request_value_counts WHERE attribute = 'institutions';\").fetchall()\n",
    "for x in institutions:\n",
    "    print(x[0] + \" ({0})\".format(x[1]))"
   ]
  },
  {
   "cell_type": "markdown",
   "metadata": {},
   "source": [
    "#### Post-filter"
   ]
  },
  {
   "cell_type": "code",
   "execution_count": 11,
   "metadata": {
    "scrolled": true
   },
   "outputs": [
    {
     "name": "stdout",
     "output_type": "stream",
     "text": [
      "UNKNOWN\n",
      "iNaturalist\n",
      "CLO\n"
     ]
    }
   ],
   "source": [
    "institutions = curs_occ.execute(\"SELECT vals FROM record_attributes WHERE field = 'institutions' AND step = 'filter';\").fetchone()[0]\n",
    "institutions = institutions.replace('[', '').strip().replace(']', '').replace(\"'\", \"\")\n",
    "institutions = institutions.split(',')\n",
    "for ins in institutions:\n",
    "    print(ins.strip())"
   ]
  },
  {
   "cell_type": "markdown",
   "metadata": {},
   "source": [
    "# Collections\n",
    "#### Pre-filters"
   ]
  },
  {
   "cell_type": "code",
   "execution_count": 12,
   "metadata": {},
   "outputs": [
    {
     "name": "stdout",
     "output_type": "stream",
     "text": [
      "Observations (21)\n",
      "EBIRD (5885)\n",
      "EBIRD_CAMERICA (5)\n",
      "EBIRD_PNW (3)\n",
      "EBIRD_VA (2)\n",
      "EBIRD_VINS (1)\n",
      "Bird sounds (2)\n",
      "EBIRD_CAN (1)\n",
      "EBIRD_PA (1)\n"
     ]
    }
   ],
   "source": [
    "collections = curs_occ.execute(\"SELECT value, count FROM post_request_value_counts WHERE attribute = 'collections';\").fetchall()\n",
    "for x in collections:\n",
    "    print(x[0] + \" ({0})\".format(x[1]))"
   ]
  },
  {
   "cell_type": "markdown",
   "metadata": {},
   "source": [
    "#### Post-filters"
   ]
  },
  {
   "cell_type": "code",
   "execution_count": 13,
   "metadata": {
    "scrolled": true
   },
   "outputs": [
    {
     "name": "stdout",
     "output_type": "stream",
     "text": [
      "EBIRD_PNW\n",
      "EBIRD_CAMERICA\n",
      "EBIRD\n",
      "EBIRD_CAN\n",
      "EBIRD_VA\n",
      "Observations\n",
      "EBIRD_VINS\n",
      "Bird sounds\n",
      "EBIRD_PA\n"
     ]
    }
   ],
   "source": [
    "collections = curs_occ.execute(\"SELECT vals FROM record_attributes WHERE field = 'collections' AND step = 'filter';\").fetchone()[0]\n",
    "collections = collections.replace('[', '').strip().replace(']', '').replace(\"'\", \"\")\n",
    "collections = collections.split(',')\n",
    "for colls in collections:\n",
    "    print(colls.strip())"
   ]
  },
  {
   "cell_type": "markdown",
   "metadata": {},
   "source": [
    "# Bases\n",
    "#### Pre-filter"
   ]
  },
  {
   "cell_type": "code",
   "execution_count": 14,
   "metadata": {},
   "outputs": [
    {
     "name": "stdout",
     "output_type": "stream",
     "text": [
      "HUMAN_OBSERVATION (5921)\n"
     ]
    }
   ],
   "source": [
    "bases = curs_occ.execute(\"SELECT value, count FROM post_request_value_counts WHERE attribute = 'bases';\").fetchall()\n",
    "for x in bases:\n",
    "    print(x[0] + \" ({0})\".format(x[1]))"
   ]
  },
  {
   "cell_type": "markdown",
   "metadata": {},
   "source": [
    "#### Post-filters"
   ]
  },
  {
   "cell_type": "code",
   "execution_count": 15,
   "metadata": {
    "scrolled": true
   },
   "outputs": [
    {
     "name": "stdout",
     "output_type": "stream",
     "text": [
      "HUMAN_OBSERVATION\n"
     ]
    }
   ],
   "source": [
    "bases = curs_occ.execute(\"SELECT vals FROM record_attributes WHERE field = 'bases' AND step = 'filter';\").fetchone()[0]\n",
    "bases = bases.replace('[', '').strip().replace(']', '').replace(\"'\", \"\")\n",
    "bases = bases.split(\",\")\n",
    "for bas in bases:\n",
    "    print(bas.strip())"
   ]
  },
  {
   "cell_type": "markdown",
   "metadata": {},
   "source": [
    "# Protocols\n",
    "#### Pre-filters"
   ]
  },
  {
   "cell_type": "code",
   "execution_count": 16,
   "metadata": {
    "scrolled": true
   },
   "outputs": [
    {
     "name": "stdout",
     "output_type": "stream",
     "text": [
      "DWC_ARCHIVE (5921)\n"
     ]
    }
   ],
   "source": [
    "protocols = curs_occ.execute(\"SELECT value, count FROM post_request_value_counts WHERE attribute = 'protocols';\").fetchall()\n",
    "for x in protocols:\n",
    "    print(x[0] + \" ({0})\".format(x[1]))"
   ]
  },
  {
   "cell_type": "markdown",
   "metadata": {},
   "source": [
    "#### Post-filters"
   ]
  },
  {
   "cell_type": "code",
   "execution_count": 17,
   "metadata": {},
   "outputs": [
    {
     "name": "stdout",
     "output_type": "stream",
     "text": [
      "DWC_ARCHIVE\n"
     ]
    }
   ],
   "source": [
    "protos = curs_occ.execute(\"SELECT vals FROM record_attributes WHERE field = 'protocols' AND step = 'filter';\").fetchall()[0]\n",
    "for pro in protos:\n",
    "    pro = pro.replace('[', '').strip().replace(']', '').replace(\"'\", \"\")\n",
    "    print(pro)"
   ]
  },
  {
   "cell_type": "markdown",
   "metadata": {},
   "source": [
    "# Issues\n",
    "#### Pre-filters"
   ]
  },
  {
   "cell_type": "code",
   "execution_count": 18,
   "metadata": {
    "scrolled": true
   },
   "outputs": [
    {
     "name": "stdout",
     "output_type": "stream",
     "text": [
      "COORDINATE_ROUNDED (4740)\n",
      "GEODETIC_DATUM_ASSUMED_WGS84 (22)\n"
     ]
    }
   ],
   "source": [
    "issues = curs_occ.execute(\"SELECT value, count FROM post_request_value_counts WHERE attribute = 'issues';\").fetchall()\n",
    "for x in issues:\n",
    "    print(x[0] + \" ({0})\".format(x[1]))"
   ]
  },
  {
   "cell_type": "markdown",
   "metadata": {},
   "source": [
    "#### Post-filters"
   ]
  },
  {
   "cell_type": "code",
   "execution_count": 19,
   "metadata": {
    "scrolled": true
   },
   "outputs": [
    {
     "name": "stdout",
     "output_type": "stream",
     "text": [
      "COORDINATE_ROUNDED\n",
      "GEODETIC_DATUM_ASSUMED_WGS84\n"
     ]
    }
   ],
   "source": [
    "issues = curs_occ.execute(\"SELECT vals FROM record_attributes WHERE field = 'issues' AND step = 'filter';\").fetchone()[0]\n",
    "issues = issues.replace('[', '').strip().replace(']', '').replace(\"'\", \"\")\n",
    "issues = issues.split(',')\n",
    "for iss in issues:\n",
    "    print(iss.strip())"
   ]
  },
  {
   "cell_type": "markdown",
   "metadata": {},
   "source": [
    "# Descriptions of filtered records"
   ]
  },
  {
   "cell_type": "markdown",
   "metadata": {},
   "source": [
    "### Locations"
   ]
  },
  {
   "cell_type": "code",
   "execution_count": 20,
   "metadata": {},
   "outputs": [
    {
     "data": {
      "image/png": "[encoded data removed]",
      "text/plain": [
       "<Figure size 1080x864 with 1 Axes>"
      ]
     },
     "metadata": {},
     "output_type": "display_data"
    }
   ],
   "source": [
    "shp1 = {'file': '{0}{1}_circles'.format(outDir, summary_name), 'column': None,\n",
    "        'alias': 'Occurrence records', 'drawbounds': True, 'linewidth': .75, 'linecolor': 'k',\n",
    "        'fillcolor': None, 'marker':'o'}\n",
    "\n",
    "map_these=[shp1]\n",
    "    \n",
    "title=\"{1} ({0})\".format(years, common_name)\n",
    "functions.MapShapefilePolygons_NC(map_these=map_these, title=title)"
   ]
  },
  {
   "cell_type": "markdown",
   "metadata": {},
   "source": [
    "### Years represented"
   ]
  },
  {
   "cell_type": "code",
   "execution_count": 21,
   "metadata": {},
   "outputs": [
    {
     "data": {
      "text/plain": [
       "Text(0.5, 1.0, 'Occurrences per Year')"
      ]
     },
     "execution_count": 21,
     "metadata": {},
     "output_type": "execute_result"
    },
    {
     "data": {
      "image/png": "[encoded data removed]",
      "text/plain": [
       "<Figure size 432x288 with 1 Axes>"
      ]
     },
     "metadata": {
      "needs_background": "light"
     },
     "output_type": "display_data"
    }
   ],
   "source": [
    "occ_years = [int(x[0]) for x in curs_occ.execute(\"SELECT strftime('%Y', occurrenceDate) FROM occurrences\").fetchall()]\n",
    "years = connjup.execute(\"SELECT years_range FROM gbif_requests WHERE request_id = '{0}'\".format(gbif_req_id)).fetchone()[0]\n",
    "years = years.split(',')\n",
    "yearsrng = list(range(int(years[0]), int(years[1]), 1))\n",
    "binsnum = int(years[1]) - int(years[0])\n",
    "plt.hist(occ_years, bins=binsnum)\n",
    "plt.ylabel(\"number of occurrences\")\n",
    "plt.xlabel(\"year\")\n",
    "plt.xticks(yearsrng, rotation=90)\n",
    "plt.title(\"Occurrences per Year\")"
   ]
  },
  {
   "cell_type": "markdown",
   "metadata": {},
   "source": [
    "### Months represented"
   ]
  },
  {
   "cell_type": "code",
   "execution_count": 22,
   "metadata": {},
   "outputs": [
    {
     "data": {
      "text/plain": [
       "Text(0.5, 1.0, 'Occurrences per Month')"
      ]
     },
     "execution_count": 22,
     "metadata": {},
     "output_type": "execute_result"
    },
    {
     "data": {
      "image/png": "[encoded data removed]",
      "text/plain": [
       "<Figure size 432x288 with 1 Axes>"
      ]
     },
     "metadata": {
      "needs_background": "light"
     },
     "output_type": "display_data"
    }
   ],
   "source": [
    "occ_months = [int(x[0]) for x in curs_occ.execute(\"SELECT strftime('%m', occurrenceDate) FROM occurrences\").fetchall()]\n",
    "plt.hist(occ_months, bins=range(1, 14), color=\"g\")\n",
    "plt.ylabel(\"number of occurrences\")\n",
    "plt.xlabel(\"month\")\n",
    "plt.xticks(range(1, 13))\n",
    "plt.title(\"Occurrences per Month\")"
   ]
  },
  {
   "cell_type": "markdown",
   "metadata": {},
   "source": [
    "### Distribution of coordinate uncertainty values"
   ]
  },
  {
   "cell_type": "code",
   "execution_count": 23,
   "metadata": {
    "scrolled": true
   },
   "outputs": [
    {
     "data": {
      "text/plain": [
       "Text(0.5, 1.0, 'Coordinate Uncertainty')"
      ]
     },
     "execution_count": 23,
     "metadata": {},
     "output_type": "execute_result"
    },
    {
     "data": {
      "image/png": "[encoded data removed]",
      "text/plain": [
       "<Figure size 1152x288 with 1 Axes>"
      ]
     },
     "metadata": {
      "needs_background": "light"
     },
     "output_type": "display_data"
    }
   ],
   "source": [
    "occ_cert = [int(x[0]) for x in curs_occ.execute(\"SELECT coordinateUncertaintyInMeters FROM occurrences\").fetchall()]\n",
    "maxi = np.max(occ_cert)\n",
    "plt.figure(figsize=(16,4))\n",
    "plt.hist(occ_cert, bins=50, color=\"r\")\n",
    "plt.xticks(range(0, maxi, int(maxi/50)), rotation=90)\n",
    "plt.ylabel(\"number of records\")\n",
    "plt.xlabel(\"coordinate uncertainty\")\n",
    "plt.title(\"Coordinate Uncertainty\")"
   ]
  },
  {
   "cell_type": "code",
   "execution_count": 24,
   "metadata": {},
   "outputs": [
    {
     "data": {
      "text/plain": [
       "Text(0.5, 1.0, 'Coordinate Uncertainty')"
      ]
     },
     "execution_count": 24,
     "metadata": {},
     "output_type": "execute_result"
    },
    {
     "data": {
      "image/png": "[encoded data removed]",
      "text/plain": [
       "<Figure size 864x288 with 1 Axes>"
      ]
     },
     "metadata": {
      "needs_background": "light"
     },
     "output_type": "display_data"
    }
   ],
   "source": [
    "rng_max = 2000\n",
    "occ_cert2 = [x for x in occ_cert if x <= rng_max]\n",
    "plt.figure(figsize=(12,4))\n",
    "plt.hist(occ_cert2, bins=30, color=\"m\", align='mid')\n",
    "plt.xticks(range(0, rng_max + 100, int(rng_max/30.)), rotation=90)\n",
    "plt.ylabel(\"number of records\")\n",
    "plt.xlabel(\"coordinate uncertainty\")\n",
    "plt.title(\"Coordinate Uncertainty\")"
   ]
  },
  {
   "cell_type": "markdown",
   "metadata": {},
   "source": [
    "### Geodetic datums present"
   ]
  },
  {
   "cell_type": "code",
   "execution_count": 25,
   "metadata": {
    "scrolled": true
   },
   "outputs": [
    {
     "name": "stdout",
     "output_type": "stream",
     "text": [
      "WGS84\n"
     ]
    }
   ],
   "source": [
    "datums = curs_occ.execute(\"SELECT vals FROM record_attributes WHERE field = 'datums' AND step = 'filter';\").fetchone()[0]\n",
    "datums = datums.replace('[', '').strip().replace(']', '').replace(\"'\", \"\")\n",
    "datums = datums.split()\n",
    "for datum in datums:\n",
    "    print(datum)"
   ]
  },
  {
   "cell_type": "markdown",
   "metadata": {},
   "source": [
    "### Establishment means reported"
   ]
  },
  {
   "cell_type": "code",
   "execution_count": 26,
   "metadata": {},
   "outputs": [
    {
     "name": "stdout",
     "output_type": "stream",
     "text": [
      "\n"
     ]
    }
   ],
   "source": [
    "establishment = curs_occ.execute(\"SELECT vals FROM record_attributes WHERE field = 'establishment' AND step = 'filter';\").fetchall()[0]\n",
    "for est in establishment:\n",
    "    est = est.replace('[', '').strip().replace(']', '').replace(\"'\", \"\")\n",
    "    print(est)"
   ]
  },
  {
   "cell_type": "markdown",
   "metadata": {},
   "source": [
    "### Identification qualifiers included"
   ]
  },
  {
   "cell_type": "code",
   "execution_count": 27,
   "metadata": {},
   "outputs": [
    {
     "name": "stdout",
     "output_type": "stream",
     "text": [
      "\n"
     ]
    }
   ],
   "source": [
    "quali = curs_occ.execute(\"SELECT DISTINCT vals FROM record_attributes WHERE field = 'IDqualifier' AND step = 'filter';\").fetchall()[0]\n",
    "for q in quali:\n",
    "    q = q.replace('[', '').strip().replace(']', '').replace(\"'\", \"\")\n",
    "    print(q)"
   ]
  },
  {
   "cell_type": "markdown",
   "metadata": {},
   "source": [
    "### Remarks included"
   ]
  },
  {
   "cell_type": "code",
   "execution_count": 28,
   "metadata": {
    "scrolled": true
   },
   "outputs": [
    {
     "name": "stdout",
     "output_type": "stream",
     "text": [
      "More than 20 remarks, consult the occurrence database.\n"
     ]
    }
   ],
   "source": [
    "remarks = curs_occ.execute(\"SELECT DISTINCT remarks FROM occurrences;\").fetchall()\n",
    "#remarks = remarks.replace('[', '').strip().replace(']', '').replace(\"'\", \"\")\n",
    "#remarks = remarks.split(',')\n",
    "if len(remarks) <= 20:\n",
    "    for rem in remarks:\n",
    "        if rem[0][0:1] == ';':\n",
    "            print(rem[0][2:])\n",
    "        else:\n",
    "            print(rem[0])\n",
    "else:\n",
    "    print(\"More than 20 remarks, consult the occurrence database.\")"
   ]
  },
  {
   "cell_type": "markdown",
   "metadata": {},
   "source": [
    "### Sources"
   ]
  },
  {
   "cell_type": "code",
   "execution_count": 29,
   "metadata": {},
   "outputs": [
    {
     "name": "stdout",
     "output_type": "stream",
     "text": [
      "GBIF\n"
     ]
    }
   ],
   "source": [
    "tables = cursorjup.execute(\"SELECT table_name FROM table_descriptions\").fetchall()\n",
    "tables = [x[0] for x in tables]\n",
    "\n",
    "filter_sets = [gbif_req_id, gbif_filter_id]\n",
    "\n",
    "sources = []\n",
    "for s in filter_sets:\n",
    "    s = s.strip()\n",
    "    for tab in tables:\n",
    "        columns = cursorjup.execute(\"SELECT column_name FROM column_descriptions WHERE table_name = '{0}'\".format(tab)).fetchall()\n",
    "        columns = [x[0] for x in columns]\n",
    "        for col in columns:\n",
    "            try:\n",
    "                a = cursorjup.execute(\"SELECT source FROM {1} WHERE {2} = '{0}'\".format(s, tab, col)).fetchone()[0]\n",
    "                sources.append(a)\n",
    "            except:\n",
    "                pass\n",
    "print(list(set(sources))[0])"
   ]
  },
  {
   "cell_type": "markdown",
   "metadata": {},
   "source": [
    "### Attributes returned for the records in the request (pre-filters)"
   ]
  },
  {
   "cell_type": "code",
   "execution_count": 32,
   "metadata": {
    "scrolled": false
   },
   "outputs": [
    {
     "name": "stdout",
     "output_type": "stream",
     "text": [
      "Attribute summary may have been skipped for faster processing time\n"
     ]
    }
   ],
   "source": [
    "try:\n",
    "    fields_summary = pd.read_sql(\"SELECT * FROM gbif_fields_returned\", conn_occ, index_col='index')\n",
    "    fields_summary.index.name = 'field'\n",
    "    print(fields_summary)\n",
    "except:\n",
    "    print(\"Attribute summary may have been skipped for faster processing time\")"
   ]
  },
  {
   "cell_type": "markdown",
   "metadata": {},
   "source": [
    "### Runtime"
   ]
  },
  {
   "cell_type": "code",
   "execution_count": 31,
   "metadata": {},
   "outputs": [
    {
     "name": "stdout",
     "output_type": "stream",
     "text": [
      "0:02:03.650977\n"
     ]
    }
   ],
   "source": [
    "t2 = datetime.now()\n",
    "print(t2 - t1)"
   ]
  }
 ],
 "metadata": {
  "kernelspec": {
   "display_name": "Python 3",
   "language": "python",
   "name": "python3"
  },
  "language_info": {
   "codemirror_mode": {
    "name": "ipython",
    "version": 3
   },
   "file_extension": ".py",
   "mimetype": "text/x-python",
   "name": "python",
   "nbconvert_exporter": "python",
   "pygments_lexer": "ipython3",
   "version": "3.6.6"
  }
 },
 "nbformat": 4,
 "nbformat_minor": 2
}
