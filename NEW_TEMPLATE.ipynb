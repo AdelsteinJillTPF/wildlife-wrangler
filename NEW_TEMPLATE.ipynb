{
 "cells": [
  {
   "cell_type": "markdown",
   "metadata": {},
   "source": [
    "# New Template"
   ]
  },
  {
   "cell_type": "markdown",
   "metadata": {},
   "source": [
    "# Setup\n",
    "Specify some paths and names in the cell below."
   ]
  },
  {
   "cell_type": "code",
   "execution_count": 38,
   "metadata": {},
   "outputs": [],
   "source": [
    "configDir = \"T:/Data/\"  # Path to folder where you saved your wildlifeconfig file.\n",
    "filter_set_json = \"\"\n",
    "taxon_json = \"\"\n",
    "query_name = 'withRTest1'\n",
    "use_eBird = True\n",
    "use_GBIF = True"
   ]
  },
  {
   "cell_type": "markdown",
   "metadata": {},
   "source": [
    "### GBIF request method\n",
    "Whether to get records from GBIF in a darwin core archive.  \"False\" uses the GBIF API, which has limitations that may be important.  \"True\" requests results be emailed in a darwin core archive."
   ]
  },
  {
   "cell_type": "code",
   "execution_count": 39,
   "metadata": {},
   "outputs": [],
   "source": [
    "get_dwca = True "
   ]
  },
  {
   "cell_type": "markdown",
   "metadata": {},
   "source": [
    "### An important, temporary bug fix\n",
    "There is a bug with mpl_toolkits, the following code is a temporary fix until they resolve the bug.\n",
    "https://stackoverflow.com/questions/52911232/basemap-library-using-anaconda-jupyter-notebooks-keyerror-proj-lib/54087410#54087410\n",
    "\n",
    "os.environ['PROJ_LIB'] should be set equal to something like \"c:/Users/jramone/AppData/Local/Continuum/miniconda3/envs/wrangler/Library/share\""
   ]
  },
  {
   "cell_type": "code",
   "execution_count": 40,
   "metadata": {},
   "outputs": [],
   "source": [
    "#import os\n",
    "#os.environ['PROJ_LIB'] = \"c:/Users/nmtarr/AppData/Local/Continuum/miniconda3/envs/wrangler/Library/share\""
   ]
  },
  {
   "cell_type": "markdown",
   "metadata": {},
   "source": [
    "Nothing to fill out in the next cell"
   ]
  },
  {
   "cell_type": "code",
   "execution_count": 65,
   "metadata": {
    "scrolled": true
   },
   "outputs": [
    {
     "name": "stdout",
     "output_type": "stream",
     "text": [
      "Notebook run 2021-03-31 12:06:11.127094\n",
      "T:/Occurrence_Records/withRTest1.sqlite\n"
     ]
    }
   ],
   "source": [
    "%matplotlib inline\n",
    "import sqlite3\n",
    "import pprint\n",
    "import json\n",
    "import pandas as pd\n",
    "import numpy as np\n",
    "pd.set_option('display.width', 600)\n",
    "pd.set_option('display.max_colwidth', 30)\n",
    "pd.set_option('display.max_rows', 150)\n",
    "from IPython.display import Image\n",
    "from pygbif import occurrences\n",
    "import matplotlib.pyplot as plt\n",
    "import os\n",
    "from datetime import datetime\n",
    "t1 = datetime.now()\n",
    "import sys\n",
    "sys.path.append(configDir)\n",
    "import wranglerconfig as config\n",
    "codeDir = config.codeDir\n",
    "sys.path.append(codeDir)\n",
    "import wrangler_functions as functions\n",
    "working_directory = config.workDir\n",
    "output_database = working_directory + query_name + '.sqlite'\n",
    "username = config.gbif_username\n",
    "password = config.gbif_password\n",
    "email = config.gbif_email\n",
    "EBD_file = config.EBD_file\n",
    "print(\"Notebook run \" + str(t1))\n",
    "print(output_database)"
   ]
  },
  {
   "cell_type": "markdown",
   "metadata": {},
   "source": [
    "# Specify a taxon\n",
    "GBIF and eBird Basic Dataset can currently be accessed.  Specificy the appropriate identifiers in the cell below.\n",
    "\n",
    "NOTE -- cautions about taxon concept mismatches and errors"
   ]
  },
  {
   "cell_type": "code",
   "execution_count": 42,
   "metadata": {},
   "outputs": [],
   "source": [
    "your_taxon_id = \"TestCuckoo\"\n",
    "gbif_id = 2496287 \n",
    "ebird_id = \"Yellow-billed Cuckoo\"\n",
    "detection_distance_m = 200\n",
    "taxon_polygon = \"POLYGON ((-84.09680233298448 36.69265225442667, -84.07962135716329 34.5561660300382, -84.07962135716329 34.5561660300382, -80.25685423694925 34.65515526072436, -81.15026497965096 36.71331438415306, -84.09680233298448 36.69265225442667))\""
   ]
  },
  {
   "cell_type": "code",
   "execution_count": 43,
   "metadata": {},
   "outputs": [
    {
     "name": "stdout",
     "output_type": "stream",
     "text": [
      "{'EBIRD_ID': 'Yellow-billed Cuckoo',\n",
      " 'GBIF_ID': 2496287,\n",
      " 'ID': 'TestCuckoo',\n",
      " 'TAXON_EOO': 'POLYGON ((-84.09680233298448 36.69265225442667, '\n",
      "              '-84.07962135716329 34.5561660300382, -84.07962135716329 '\n",
      "              '34.5561660300382, -80.25685423694925 34.65515526072436, '\n",
      "              '-81.15026497965096 36.71331438415306, -84.09680233298448 '\n",
      "              '36.69265225442667))',\n",
      " 'detection_distance_m': 200}\n"
     ]
    }
   ],
   "source": [
    "# If a json was provided, use it, otherwise create a new one with info that was provided.\n",
    "if taxon_json == \"\":\n",
    "    # Build a species dictionary\n",
    "    taxon_info = {\"ID\": your_taxon_id, \"GBIF_ID\": gbif_id, \"EBIRD_ID\": ebird_id, \"detection_distance_m\": detection_distance_m,\n",
    "                  \"TAXON_EOO\": taxon_polygon}\n",
    "\n",
    "    # Save as json object\n",
    "    out_file = open(working_directory + your_taxon_id + \".json\", \"w\")  \n",
    "    json.dump(taxon_info, out_file) \n",
    "    out_file.close() \n",
    "\n",
    "if taxon_json != \"\":\n",
    "    with open(taxon_json, \"r\") as f:\n",
    "        taxon_info = json.load(f)\n",
    "        f.close()\n",
    "        \n",
    "pprint.pprint(taxon_info)"
   ]
  },
  {
   "cell_type": "markdown",
   "metadata": {},
   "source": [
    "# Specify a filter set\n",
    "Fill out this section to specify how you want records filtered and cleaned.  Alternatively, you can load a filter set here by specifying a path in the first cell of this notebook.  \n",
    "\n",
    "To skip a filter, enter \"None\" without the quotation marks or \"\".  "
   ]
  },
  {
   "cell_type": "code",
   "execution_count": 44,
   "metadata": {},
   "outputs": [],
   "source": [
    "filter_set_name = \"test_filters_1\""
   ]
  },
  {
   "cell_type": "markdown",
   "metadata": {},
   "source": [
    "### Date limits\n",
    "Enter year and month ranges.  For example, years_range = 2015,2017 and months_range = 3,6\n",
    "\n",
    "Justification: "
   ]
  },
  {
   "cell_type": "code",
   "execution_count": 45,
   "metadata": {},
   "outputs": [],
   "source": [
    "years_range = \"2015,2020\"\n",
    "months_range = \"9,11\""
   ]
  },
  {
   "cell_type": "markdown",
   "metadata": {},
   "source": [
    "### Country\n",
    "Notes:"
   ]
  },
  {
   "cell_type": "code",
   "execution_count": 46,
   "metadata": {},
   "outputs": [],
   "source": [
    "country = \"US\""
   ]
  },
  {
   "cell_type": "markdown",
   "metadata": {},
   "source": [
    "### Bounding box\n",
    "Coordinates should correspond to WGS84 (EPSG:4326).  Don't use this option if you specify a query polygon below.\n",
    "\n",
    "Notes:"
   ]
  },
  {
   "cell_type": "code",
   "execution_count": 47,
   "metadata": {},
   "outputs": [],
   "source": [
    "lat_range = \"27,41\"\n",
    "lon_range = \"-89,-75\""
   ]
  },
  {
   "cell_type": "markdown",
   "metadata": {},
   "source": [
    "### Taxon EOO\n",
    "True or False whether you want to apply the taxon EOO to the filtering.  If True, removes records with centroids outside of the extent of occurrence geometry you provided in taxon_info.\n",
    "\n",
    "Notes:"
   ]
  },
  {
   "cell_type": "code",
   "execution_count": 48,
   "metadata": {},
   "outputs": [],
   "source": [
    "use_taxon_geometry = True"
   ]
  },
  {
   "cell_type": "markdown",
   "metadata": {},
   "source": [
    "### Geoissue\n",
    "Are GBIF records with noted geoissues OK to include? GBIF only.\n",
    "\n",
    "Notes:"
   ]
  },
  {
   "cell_type": "code",
   "execution_count": 49,
   "metadata": {},
   "outputs": [],
   "source": [
    "geoissue = False"
   ]
  },
  {
   "cell_type": "markdown",
   "metadata": {},
   "source": [
    "### Collections\n",
    "List collection codes that you'd like to omit. GBIF only.\n",
    "\n",
    "Notes:"
   ]
  },
  {
   "cell_type": "code",
   "execution_count": 50,
   "metadata": {},
   "outputs": [],
   "source": [
    "collection_codes_omit = \"\""
   ]
  },
  {
   "cell_type": "markdown",
   "metadata": {},
   "source": [
    "### Institutions\n",
    "List institution codes that you'd like to omit. GBIF only\n",
    "\n",
    "Notes:"
   ]
  },
  {
   "cell_type": "code",
   "execution_count": 51,
   "metadata": {},
   "outputs": [],
   "source": [
    "institutions_omit = \"\""
   ]
  },
  {
   "cell_type": "markdown",
   "metadata": {},
   "source": [
    "### Datasets\n",
    "List datasets that you'd like to omit.\n",
    "#### ebird project here?\n",
    "\n",
    "Notes:"
   ]
  },
  {
   "cell_type": "code",
   "execution_count": 52,
   "metadata": {},
   "outputs": [],
   "source": [
    "datasets_omit = \"\""
   ]
  },
  {
   "cell_type": "markdown",
   "metadata": {},
   "source": [
    "### Coordinate uncertainty\n",
    "Do you want to remove records without coordinate uncertainty (1) or leave them in the data set (0)?  Note that eBird records in GBIF (EOD) do not have this and neither do data in the EBD dataset.  With the EBD, the length of traveling counts is used as a surrogate value /??!!!!!?????.  \n",
    "\n",
    "max_coordinate_uncertainty must be an integer greater than 0.\n",
    "\n",
    "default_coordUncertainty -- coordinateUncertaintyInMeters is often not provided.  Here is an option to use a default.  If you don't want anything entered, set this equal to False (boolean, not string).\n",
    "\n",
    "A maximum for coordinate uncertainty can also be set in meters.\n",
    "\n",
    "Notes:"
   ]
  },
  {
   "cell_type": "code",
   "execution_count": 53,
   "metadata": {},
   "outputs": [],
   "source": [
    "has_coordinate_uncertainty = True\n",
    "default_coordUncertainty = 1000\n",
    "max_coordinate_uncertainty = 10000"
   ]
  },
  {
   "cell_type": "markdown",
   "metadata": {},
   "source": [
    "### Bases\n",
    "List bases of records that you want to omit.  GBIF only.\n",
    "\n",
    "Notes:"
   ]
  },
  {
   "cell_type": "code",
   "execution_count": 54,
   "metadata": {},
   "outputs": [],
   "source": [
    "bases_omit = \"\""
   ]
  },
  {
   "cell_type": "markdown",
   "metadata": {},
   "source": [
    "### Sampling protocols\n",
    "List sampling protocols that you would like to omit.  Options for eBird are ........._______\n",
    "\n",
    "Notes:"
   ]
  },
  {
   "cell_type": "code",
   "execution_count": 55,
   "metadata": {},
   "outputs": [],
   "source": [
    "sampling_protocols_omit = \"\""
   ]
  },
  {
   "cell_type": "markdown",
   "metadata": {},
   "source": [
    "### Issues\n",
    "List issues that you want to omit.  GBIF only.\n",
    "\n",
    "Notes:"
   ]
  },
  {
   "cell_type": "code",
   "execution_count": 56,
   "metadata": {},
   "outputs": [],
   "source": [
    "issues_omit = \"\""
   ]
  },
  {
   "cell_type": "markdown",
   "metadata": {},
   "source": [
    "### Geometry (polygons)\n",
    "Specify polygons to use for spatial filtering.  Records with coordinates outside of the polygons will be removed.  You can specify a geometry for the query and one for the species.  The species geometry is included to facilitate better handling of taxonomic issues.  If both are provided, the intersection is calculated and used as the filter.  The format should be well known text in WGS84 (EPSG 4326), and very importantly, vertices need to be listed counter-clockwise.  See the ccw_wkt_from_shp() function in wrangler functions for help.\n",
    "\n",
    "Notes:"
   ]
  },
  {
   "cell_type": "code",
   "execution_count": 57,
   "metadata": {},
   "outputs": [],
   "source": [
    "query_polygon = \"POLYGON ((-82.74809573102132 36.96082629937069, -85.0932989306133 35.63154639485496, -81.0987220521874 33.56697226279766, -79.4235769096217 36.34054727735634, -79.4235769096217 36.34054727735634, -82.74809573102132 36.96082629937069))\""
   ]
  },
  {
   "cell_type": "markdown",
   "metadata": {},
   "source": [
    "### Duplicates\n",
    "Specify whether duplicates on latitude, longitude, and date should be included.\n",
    "\n",
    "Notes:"
   ]
  },
  {
   "cell_type": "code",
   "execution_count": 58,
   "metadata": {},
   "outputs": [],
   "source": [
    "duplicates_OK = False"
   ]
  },
  {
   "cell_type": "markdown",
   "metadata": {},
   "source": [
    "### Save or load the filter set"
   ]
  },
  {
   "cell_type": "code",
   "execution_count": 59,
   "metadata": {
    "scrolled": true
   },
   "outputs": [
    {
     "name": "stdout",
     "output_type": "stream",
     "text": [
      "{'bases_omit': None,\n",
      " 'collection_codes_omit': None,\n",
      " 'country': 'US',\n",
      " 'datasets_omit': None,\n",
      " 'default_coordUncertainty': 1000,\n",
      " 'duplicates_OK': False,\n",
      " 'geoissue': False,\n",
      " 'get_dwca': True,\n",
      " 'has_coordinate_uncertainty': True,\n",
      " 'institutions_omit': None,\n",
      " 'issues_omit': None,\n",
      " 'lat_range': '27,41',\n",
      " 'lon_range': '-89,-75',\n",
      " 'max_coordinate_uncertainty': 10000,\n",
      " 'months_range': '9,11',\n",
      " 'name': 'test_filters_1',\n",
      " 'query_polygon': 'POLYGON ((-82.74809573102132 36.96082629937069, '\n",
      "                  '-85.0932989306133 35.63154639485496, -81.0987220521874 '\n",
      "                  '33.56697226279766, -79.4235769096217 36.34054727735634, '\n",
      "                  '-79.4235769096217 36.34054727735634, -82.74809573102132 '\n",
      "                  '36.96082629937069))',\n",
      " 'sampling_protocols_omit': None,\n",
      " 'use_taxon_geometry': True,\n",
      " 'years_range': '2015,2020'}\n"
     ]
    }
   ],
   "source": [
    "if filter_set_json == \"\":\n",
    "    # Build a filter set dictionary\n",
    "    filter_set = {\"name\": filter_set_name, \"query_polygon\": query_polygon, \"issues_omit\": issues_omit,\n",
    "                  \"sampling_protocols_omit\": sampling_protocols_omit, \"bases_omit\": bases_omit,\n",
    "                  \"has_coordinate_uncertainty\": has_coordinate_uncertainty, \"geoissue\": geoissue,\n",
    "                  \"default_coordUncertainty\": default_coordUncertainty,\n",
    "                  \"max_coordinate_uncertainty\": max_coordinate_uncertainty,\n",
    "                  \"datasets_omit\": datasets_omit, \"collection_codes_omit\": collection_codes_omit,\n",
    "                  \"institutions_omit\": institutions_omit, \"geoissue\": geoissue, \"use_taxon_geometry\": use_taxon_geometry,\n",
    "                  \"lat_range\": lat_range, \"lon_range\": lon_range, \"country\": country, \n",
    "                  \"years_range\": years_range, \"months_range\": months_range, \"duplicates_OK\": duplicates_OK, \"get_dwca\": get_dwca}\n",
    "    \n",
    "    # Replace empty strings with None\n",
    "    for x in filter_set.keys():\n",
    "        if filter_set[x] == \"\":\n",
    "            filter_set[x] = None\n",
    "    \n",
    "    # Save as json object\n",
    "    with open(working_directory + filter_set_name + \".json\", \"w\") as f:\n",
    "        json.dump(filter_set, f) \n",
    "        f.close()\n",
    "        \n",
    "if filter_set_json != \"\":\n",
    "    with open(filter_set_json, \"r\") as f:\n",
    "        filter_set = json.load(f)\n",
    "        f.close()\n",
    "        \n",
    "    # Replace empty strings with None\n",
    "    for x in filter_set.keys():\n",
    "        if filter_set[x] == \"\":\n",
    "            filter_set[x] = None\n",
    "        \n",
    "pprint.pprint(filter_set)"
   ]
  },
  {
   "cell_type": "markdown",
   "metadata": {},
   "source": [
    "### Connect to output database, record species and filter information."
   ]
  },
  {
   "cell_type": "code",
   "execution_count": 87,
   "metadata": {},
   "outputs": [],
   "source": [
    "output_db_conn= sqlite3.connect(output_database)\n",
    "cursor = output_db_conn.cursor()\n",
    "pd.DataFrame(taxon_info.values(), taxon_info.keys()).applymap(str).to_sql(name='taxon_concept', con=output_db_conn, if_exists='replace')\n",
    "pd.DataFrame(filter_set.values(), filter_set.keys()).applymap(str).to_sql(name='filter_set', con=output_db_conn, if_exists='replace')"
   ]
  },
  {
   "cell_type": "markdown",
   "metadata": {},
   "source": [
    "## Run Processes"
   ]
  },
  {
   "cell_type": "code",
   "execution_count": 23,
   "metadata": {},
   "outputs": [],
   "source": [
    "# Create an output database\n",
    "functions.build_output_database(output_database)"
   ]
  },
  {
   "cell_type": "code",
   "execution_count": 24,
   "metadata": {},
   "outputs": [
    {
     "name": "stdout",
     "output_type": "stream",
     "text": [
      "Summarized fields returned: 0:00:00.192013\n",
      "Got request params and sorted out geometry constraints: 0:00:00.130373\n",
      "2021 records available\n",
      "Your download key is  0237154-200613084148143\n",
      "Downloading Darwin Core Archive zip file for this species .....\n",
      "Download file size: 4264635 bytes\n",
      "On disk at T:/Occurrence_Records//0237154-200613084148143.zip\n",
      "Download complete: 0:01:08.713436\n",
      "Downloaded and loaded records: 0:00:01.888819\n",
      "Summarized fields returned: 0:00:00.148245\n",
      "Stored GBIF Download DOI etc.: 0:00:00\n"
     ]
    }
   ],
   "source": [
    "# Run the appropriate queries\n",
    "if use_eBird == True and use_GBIF == True:\n",
    "    # Run eBird query\n",
    "    ebird_data = functions.get_EBD_records(taxon_info, filter_set, working_directory, EBD_file, query_name)\n",
    "    \n",
    "    # Omit Cornell Lab of Ornithology records when querying GBIF\n",
    "    #  collectionCode like \"EBIRD*\" should be omited.  HOW???>>>>>>>!!!!!!!!!!!!!!!!!!!!!!!!!!!!!!\n",
    "    '''\n",
    "    filter_set2 = filter_set\n",
    "    filter_set2[\"collection_codes_omit\"] = filter_set[\"collection_codes_omit\"]''' \n",
    "    gbif_data = functions.get_GBIF_records(taxon_info, filter_set, query_name, working_directory, username, password, email) \n",
    "\n",
    "elif use_eBird == True and use_GBIF == False:\n",
    "    # Run eBird query\n",
    "    ebird_data = functions.get_EBD_records(taxon_info, filter_set, working_directory, EBD_file, query_name)\n",
    "\n",
    "elif use_eBird == False and use_GBIF == True:\n",
    "    # Run GBIF query\n",
    "    gbif_data = functions.get_GBIF_records(taxon_info, filter_set, query_name, working_directory, username, password, email)"
   ]
  },
  {
   "cell_type": "code",
   "execution_count": 25,
   "metadata": {},
   "outputs": [],
   "source": [
    "ebird_data.head()\n",
    "ebird_data.to_csv(\"T:/Temp/ebird.csv\")"
   ]
  },
  {
   "cell_type": "code",
   "execution_count": 26,
   "metadata": {},
   "outputs": [],
   "source": [
    "gbif_data.head()\n",
    "gbif_data.to_csv(\"T:/Temp/gbif.csv\")"
   ]
  },
  {
   "cell_type": "code",
   "execution_count": 77,
   "metadata": {},
   "outputs": [
    {
     "name": "stdout",
     "output_type": "stream",
     "text": [
      "Summarized values acquired: 0:00:00.108893\n",
      "Performed filtering: 0:00:00.044803\n",
      "352 duplicate records dropped: 0:00:01.057345\n"
     ]
    }
   ],
   "source": [
    "# Filter out records with undesirable values, locations, and/or duplication.\n",
    "import importlib\n",
    "importlib.reload(functions)\n",
    "functions.apply_filters(ebird_data, gbif_data, filter_set, taxon_info, working_directory, query_name)"
   ]
  },
  {
   "cell_type": "markdown",
   "metadata": {},
   "source": [
    "### How many records made it through the filters?\n",
    "This is the number of species occurrence records that were actually saved in the occurrence record sqlite database."
   ]
  },
  {
   "cell_type": "code",
   "execution_count": 85,
   "metadata": {},
   "outputs": [
    {
     "name": "stdout",
     "output_type": "stream",
     "text": [
      "1709 records\n"
     ]
    }
   ],
   "source": [
    "record_count = cursor.execute(\"SELECT COUNT(record_id) FROM occurrence_records;\").fetchone()\n",
    "print(str(record_count[0]) + \" records\")"
   ]
  },
  {
   "cell_type": "markdown",
   "metadata": {},
   "source": [
    "# Sources"
   ]
  },
  {
   "cell_type": "code",
   "execution_count": null,
   "metadata": {},
   "outputs": [],
   "source": [
    "'''sources = pd.read_sql(sql=\"SELECT * FROM sources;\", con=output_db_conn)\n",
    "print(sources[['institutionID', 'collectionCode', 'datasetName', 'acquired', 'removed', 'retained']])'''"
   ]
  },
  {
   "cell_type": "markdown",
   "metadata": {},
   "source": [
    "# Institutions"
   ]
  },
  {
   "cell_type": "code",
   "execution_count": 126,
   "metadata": {
    "scrolled": true
   },
   "outputs": [
    {
     "name": "stdout",
     "output_type": "stream",
     "text": [
      "                           value  acquired  removed  retained\n",
      "0  http://grbio.org/cool/i64g...         2        1         1\n"
     ]
    }
   ],
   "source": [
    "institution = pd.read_sql(sql=\"SELECT * FROM attribute_value_counts WHERE attribute = 'institutionID';\", con=output_db_conn)\n",
    "print(institution[['value', 'acquired', 'removed', 'retained']])"
   ]
  },
  {
   "cell_type": "markdown",
   "metadata": {},
   "source": [
    "# Collections"
   ]
  },
  {
   "cell_type": "code",
   "execution_count": 124,
   "metadata": {
    "scrolled": true
   },
   "outputs": [
    {
     "name": "stdout",
     "output_type": "stream",
     "text": [
      "          value  acquired  removed  retained\n",
      "0          Bird         2        1         1\n",
      "1         EBIRD     31526    29983      1543\n",
      "2      EBIRD_MA         4        2         2\n",
      "3      EBIRD_VA       249      248         1\n",
      "4  Observations       204       42       162\n"
     ]
    }
   ],
   "source": [
    "collections = pd.read_sql(sql=\"SELECT * FROM attribute_value_counts WHERE attribute = 'collectionCode';\", con=output_db_conn)\n",
    "print(collections[['value', 'acquired', 'removed', 'retained']])"
   ]
  },
  {
   "cell_type": "markdown",
   "metadata": {},
   "source": [
    "# Data sets"
   ]
  },
  {
   "cell_type": "code",
   "execution_count": 123,
   "metadata": {
    "scrolled": true
   },
   "outputs": [
    {
     "name": "stdout",
     "output_type": "stream",
     "text": [
      "                           value  acquired  removed  retained\n",
      "0  iNaturalist research-grade...       201       41       160\n"
     ]
    }
   ],
   "source": [
    "datasets = pd.read_sql(sql=\"SELECT * FROM attribute_value_counts WHERE attribute = 'datasetName';\", con=output_db_conn)\n",
    "print(datasets[['value', 'acquired', 'removed', 'retained']])"
   ]
  },
  {
   "cell_type": "markdown",
   "metadata": {},
   "source": [
    "# Bases"
   ]
  },
  {
   "cell_type": "code",
   "execution_count": 96,
   "metadata": {
    "scrolled": true
   },
   "outputs": [
    {
     "name": "stdout",
     "output_type": "stream",
     "text": [
      "                value  acquired  removed  retained\n",
      "0   HUMAN_OBSERVATION     30111    29949       162\n",
      "1  PRESERVED_SPECIMEN         2        1         1\n"
     ]
    }
   ],
   "source": [
    "bases = pd.read_sql(sql=\"SELECT * FROM attribute_value_counts WHERE attribute = 'basisOfRecord';\", con=output_db_conn)\n",
    "print(bases[['value', 'acquired', 'removed', 'retained']])"
   ]
  },
  {
   "cell_type": "markdown",
   "metadata": {},
   "source": [
    "# Protocols"
   ]
  },
  {
   "cell_type": "code",
   "execution_count": 95,
   "metadata": {
    "scrolled": true
   },
   "outputs": [
    {
     "name": "stdout",
     "output_type": "stream",
     "text": [
      "        value  acquired  removed  retained\n",
      "0  Historical         1        0         1\n",
      "1   Traveling      1895      350      1545\n"
     ]
    }
   ],
   "source": [
    "protocols = pd.read_sql(sql=\"SELECT * FROM attribute_value_counts WHERE attribute = 'samplingProtocol';\", con=output_db_conn)\n",
    "print(protocols[['value', 'acquired', 'removed', 'retained']])"
   ]
  },
  {
   "cell_type": "markdown",
   "metadata": {},
   "source": [
    "# Issues"
   ]
  },
  {
   "cell_type": "code",
   "execution_count": 97,
   "metadata": {
    "scrolled": true
   },
   "outputs": [
    {
     "name": "stdout",
     "output_type": "stream",
     "text": [
      "Empty DataFrame\n",
      "Columns: [value, acquired, removed, retained]\n",
      "Index: []\n"
     ]
    }
   ],
   "source": [
    "issues = pd.read_sql(sql=\"SELECT * FROM attribute_value_counts WHERE attribute = 'issues';\", con=output_db_conn)\n",
    "print(issues[['value', 'acquired', 'removed', 'retained']])"
   ]
  },
  {
   "cell_type": "markdown",
   "metadata": {},
   "source": [
    "# Descriptions of filtered records"
   ]
  },
  {
   "cell_type": "markdown",
   "metadata": {},
   "source": [
    "### Locations"
   ]
  },
  {
   "cell_type": "code",
   "execution_count": null,
   "metadata": {},
   "outputs": [],
   "source": [
    "plot_records = False\n",
    "if plot_records == True:\n",
    "    make_records_shapefile()\n",
    "    '''shp1 = {'file': '{0}{1}_polygons'.format(outDir, summary_name), 'column': None,\n",
    "            'alias': 'Occurrence records', 'drawbounds': True, 'linewidth': .75, 'linecolor': 'magenta',\n",
    "            'fillcolor': None, 'marker':'o'}\n",
    "\n",
    "    # Display occurrence polygons\n",
    "    map_these=[shp1]\n",
    "\n",
    "    title=\"{1} ({0})\".format(years, common_name)\n",
    "    try:\n",
    "        functions.MapShapefilePolygons(map_these=map_these, title=title)\n",
    "    except Exception as e:\n",
    "        print(\"Unable to map:  \" + str(e))'''"
   ]
  },
  {
   "cell_type": "markdown",
   "metadata": {},
   "source": [
    "### Years represented"
   ]
  },
  {
   "cell_type": "code",
   "execution_count": 122,
   "metadata": {},
   "outputs": [
    {
     "data": {
      "text/plain": [
       "Text(0.5, 1.0, 'Occurrences per Year')"
      ]
     },
     "execution_count": 122,
     "metadata": {},
     "output_type": "execute_result"
    },
    {
     "data": {
      "image/png": "[encoded data removed]",
      "text/plain": [
       "<Figure size 432x288 with 1 Axes>"
      ]
     },
     "metadata": {
      "needs_background": "light"
     },
     "output_type": "display_data"
    }
   ],
   "source": [
    "occ_years = [int(x[0]) for x in cursor.execute(\"SELECT strftime('%Y', eventDate) FROM occurrence_records\").fetchall()]\n",
    "years = filter_set['years_range']\n",
    "years = years.split(',')\n",
    "yearsrng = list(range(int(years[0]), int(years[1]), 1))\n",
    "binsnum = int(years[1]) - int(years[0])\n",
    "plt.hist(occ_years, bins=binsnum)\n",
    "plt.ylabel(\"number of records\")\n",
    "plt.xlabel(\"year\")\n",
    "plt.xticks(yearsrng, rotation=90)\n",
    "plt.title(\"Occurrences per Year\")"
   ]
  },
  {
   "cell_type": "markdown",
   "metadata": {},
   "source": [
    "### Months represented"
   ]
  },
  {
   "cell_type": "code",
   "execution_count": 119,
   "metadata": {},
   "outputs": [
    {
     "data": {
      "text/plain": [
       "Text(0.5, 1.0, 'Occurrences per Month')"
      ]
     },
     "execution_count": 119,
     "metadata": {},
     "output_type": "execute_result"
    },
    {
     "data": {
      "image/png": "[encoded data removed]",
      "text/plain": [
       "<Figure size 432x288 with 1 Axes>"
      ]
     },
     "metadata": {
      "needs_background": "light"
     },
     "output_type": "display_data"
    }
   ],
   "source": [
    "occ_months = [int(x[0]) for x in cursor.execute(\"SELECT strftime('%m', eventDate) FROM occurrence_records\").fetchall()]\n",
    "plt.hist(occ_months, bins=range(1, 14), color=\"g\")\n",
    "plt.ylabel(\"number of records\")\n",
    "plt.xlabel(\"month\")\n",
    "plt.xticks(range(1, 13))\n",
    "plt.title(\"Occurrences per Month\")"
   ]
  },
  {
   "cell_type": "markdown",
   "metadata": {},
   "source": [
    "### Distribution of coordinate uncertainty values"
   ]
  },
  {
   "cell_type": "code",
   "execution_count": 118,
   "metadata": {
    "scrolled": false
   },
   "outputs": [
    {
     "data": {
      "text/plain": [
       "'occ_cert = [int(x[0]) for x in cursor.execute(\"SELECT coordinateUncertaintyInMeters FROM occurrence_records\").fetchall()]\\nmaxi = np.max(occ_cert)\\nplt.figure(figsize=(16,4))\\nplt.hist(occ_cert, bins=50, color=\"r\")\\nplt.xticks(range(0, maxi, int(maxi/50)), rotation=90)\\nplt.ylabel(\"number of records\")\\nplt.xlabel(\"meters\")\\nplt.title(\"Coordinate Uncertainty\")'"
      ]
     },
     "execution_count": 118,
     "metadata": {},
     "output_type": "execute_result"
    }
   ],
   "source": [
    "'''occ_cert = [int(x[0]) for x in cursor.execute(\"SELECT coordinateUncertaintyInMeters FROM occurrence_records\").fetchall()]\n",
    "maxi = np.max(occ_cert)\n",
    "plt.figure(figsize=(16,4))\n",
    "plt.hist(occ_cert, bins=50, color=\"r\")\n",
    "plt.xticks(range(0, maxi, int(maxi/50)), rotation=90)\n",
    "plt.ylabel(\"number of records\")\n",
    "plt.xlabel(\"meters\")\n",
    "plt.title(\"Coordinate Uncertainty\")'''"
   ]
  },
  {
   "cell_type": "code",
   "execution_count": null,
   "metadata": {},
   "outputs": [],
   "source": [
    "'''occ_cert = [int(x[0]) for x in curs_occ.execute(\"SELECT coordinateUncertaintyInMeters FROM occurrences\").fetchall()]\n",
    "plt.figure(figsize=(16,4))\n",
    "plt.boxplot(occ_cert, vert=False)\n",
    "plt.xlabel(\"meters\")\n",
    "plt.title(\"Coordinate Uncertainty\")'''"
   ]
  },
  {
   "cell_type": "code",
   "execution_count": null,
   "metadata": {},
   "outputs": [],
   "source": [
    "'''rng_max = 2000\n",
    "occ_cert2 = [x for x in occ_cert if x <= rng_max]\n",
    "plt.figure(figsize=(12,4))\n",
    "plt.hist(occ_cert2, bins=30, color=\"m\", align='mid')\n",
    "plt.xticks(range(0, rng_max + 100, int(rng_max/30.)), rotation=90)\n",
    "plt.ylabel(\"number of records\")\n",
    "plt.xlabel(\"meters\")\n",
    "plt.title(\"Coordinate Uncertainties Below 2km\")'''"
   ]
  },
  {
   "cell_type": "markdown",
   "metadata": {},
   "source": [
    "### Establishment means reported"
   ]
  },
  {
   "cell_type": "code",
   "execution_count": 98,
   "metadata": {},
   "outputs": [
    {
     "name": "stdout",
     "output_type": "stream",
     "text": [
      "    value  acquired  removed  retained\n",
      "0  NATIVE         2        1         1\n"
     ]
    }
   ],
   "source": [
    "establishment = pd.read_sql(sql=\"SELECT * FROM attribute_value_counts WHERE attribute = 'establishmentMeans';\", con=output_db_conn)\n",
    "print(establishment[['value', 'acquired', 'removed', 'retained']])"
   ]
  },
  {
   "cell_type": "markdown",
   "metadata": {},
   "source": [
    "### Identification qualifiers included"
   ]
  },
  {
   "cell_type": "code",
   "execution_count": null,
   "metadata": {},
   "outputs": [],
   "source": [
    "'''quali = curs_occ.execute(\"SELECT DISTINCT vals FROM unique_values WHERE field = 'IDqualifier' AND step = 'filter';\").fetchall()[0]\n",
    "for q in quali:\n",
    "    q = q.replace('[', '').strip().replace(']', '').replace(\"'\", \"\")\n",
    "    print(q)\n",
    "'''"
   ]
  },
  {
   "cell_type": "markdown",
   "metadata": {},
   "source": [
    "### Remarks included"
   ]
  },
  {
   "cell_type": "code",
   "execution_count": 115,
   "metadata": {
    "scrolled": true
   },
   "outputs": [
    {
     "data": {
      "text/plain": [
       "'remarks = output_db_conn.execute(\"SELECT DISTINCT remarks FROM occurrence_records;\").fetchall()\\nif len(remarks) <= 20:\\n    try:\\n        for rem in remarks:\\n            if rem[0][0:1] == \\';\\':\\n                print(rem[0][2:])\\n            else:\\n                print(rem[0])\\n    except:\\n        pass\\nelse:\\n    print(\"More than 20 remarks, consult the occurrence database.\")'"
      ]
     },
     "execution_count": 115,
     "metadata": {},
     "output_type": "execute_result"
    }
   ],
   "source": [
    "'''remarks = output_db_conn.execute(\"SELECT DISTINCT remarks FROM occurrence_records;\").fetchall()\n",
    "if len(remarks) <= 20:\n",
    "    try:\n",
    "        for rem in remarks:\n",
    "            if rem[0][0:1] == ';':\n",
    "                print(rem[0][2:])\n",
    "            else:\n",
    "                print(rem[0])\n",
    "    except:\n",
    "        pass\n",
    "else:\n",
    "    print(\"More than 20 remarks, consult the occurrence database.\")'''"
   ]
  },
  {
   "cell_type": "markdown",
   "metadata": {},
   "source": [
    "### Attributes returned for the records from the GBIF request\n",
    "This count was made before filters were applied"
   ]
  },
  {
   "cell_type": "code",
   "execution_count": 110,
   "metadata": {
    "scrolled": true
   },
   "outputs": [
    {
     "name": "stdout",
     "output_type": "stream",
     "text": [
      "                           attribute  included(n)  populated(n)\n",
      "Field                                                          \n",
      "0                           abstract        30113             0\n",
      "1                       accessRights        30113             2\n",
      "2                      accrualMethod        30113             0\n",
      "3                 accrualPeriodicity        30113             0\n",
      "4                      accrualPolicy        30113             0\n",
      "5                        alternative        30113             0\n",
      "6                           audience        30113             0\n",
      "7                          available        30113             0\n",
      "8              bibliographicCitation        30113             2\n",
      "9                         conformsTo        30113             0\n",
      "10                       contributor        30113             0\n",
      "11                          coverage        30113             0\n",
      "12                           created        30113             0\n",
      "13                           creator        30113             0\n",
      "14                              date        30113             0\n",
      "15                      dateAccepted        30113             0\n",
      "16                   dateCopyrighted        30113             0\n",
      "17                     dateSubmitted        30113             0\n",
      "18                       description        30113             0\n",
      "19                    educationLevel        30113             0\n",
      "20                            extent        30113             0\n",
      "21                            format        30113             0\n",
      "22                         hasFormat        30113             0\n",
      "23                           hasPart        30113             0\n",
      "24                        hasVersion        30113             0\n",
      "25                        identifier        30113         30113\n",
      "26               instructionalMethod        30113             0\n",
      "27                        isFormatOf        30113             0\n",
      "28                          isPartOf        30113             0\n",
      "29                    isReferencedBy        30113             0\n",
      "30                      isReplacedBy        30113             0\n",
      "31                      isRequiredBy        30113             0\n",
      "32                       isVersionOf        30113             0\n",
      "33                            issued        30113             0\n",
      "34                          language        30113             2\n",
      "35                           license        30113         30113\n",
      "36                          mediator        30113             0\n",
      "37                            medium        30113             0\n",
      "38                          modified        30113           204\n",
      "39                        provenance        30113             0\n",
      "40                         publisher        30113             0\n",
      "41                        references        30113           207\n",
      "42                          relation        30113             0\n",
      "43                          replaces        30113             0\n",
      "44                          requires        30113             0\n",
      "45                            rights        30113           201\n",
      "46                      rightsHolder        30113           205\n",
      "47                            source        30113             0\n",
      "48                           spatial        30113             0\n",
      "49                           subject        30113             0\n",
      "50                   tableOfContents        30113             0\n",
      "51                          temporal        30113             0\n",
      "52                             title        30113             0\n",
      "53                              type        30113             2\n",
      "54                             valid        30113             0\n",
      "55                     institutionID        30113             2\n",
      "56                      collectionID        30113             2\n",
      "57                         datasetID        30113             0\n",
      "58                   institutionCode        30113         30109\n",
      "59                    collectionCode        30113         30113\n",
      "60                       datasetName        30113           201\n",
      "61              ownerInstitutionCode        30113             0\n",
      "62                     basisOfRecord        30113         30113\n",
      "63               informationWithheld        30113             3\n",
      "64               dataGeneralizations        30113             0\n",
      "65                 dynamicProperties        30113             2\n",
      "66                      occurrenceID        30113         30113\n",
      "67                     catalogNumber        30113         30113\n",
      "68                      recordNumber        30113             0\n",
      "69                        recordedBy        30113         30110\n",
      "70                   individualCount        30113         29714\n",
      "71                  organismQuantity        30113             0\n",
      "72              organismQuantityType        30113             0\n",
      "73                               sex        30113             2\n",
      "74                         lifeStage        30113             3\n",
      "75             reproductiveCondition        30113             2\n",
      "76                          behavior        30113             1\n",
      "77                establishmentMeans        30113             2\n",
      "78                  occurrenceStatus        30113         30113\n",
      "79                      preparations        30113             2\n",
      "80                       disposition        30113             0\n",
      "81              associatedReferences        30113             0\n",
      "82               associatedSequences        30113             0\n",
      "83                    associatedTaxa        30113             1\n",
      "84               otherCatalogNumbers        30113             0\n",
      "85                 occurrenceRemarks        30113            34\n",
      "86                        organismID        30113             0\n",
      "87                      organismName        30113             0\n",
      "88                     organismScope        30113             0\n",
      "89             associatedOccurrences        30113             0\n",
      "90               associatedOrganisms        30113             0\n",
      "91           previousIdentifications        30113             0\n",
      "92                   organismRemarks        30113             0\n",
      "93                  materialSampleID        30113             0\n",
      "94                           eventID        30113             0\n",
      "95                     parentEventID        30113             0\n",
      "96                       fieldNumber        30113             0\n",
      "97                         eventDate        30113         30113\n",
      "98                         eventTime        30113           189\n",
      "99                    startDayOfYear        30113             2\n",
      "100                     endDayOfYear        30113             2\n",
      "101                             year        30113         30113\n",
      "102                            month        30113         30113\n",
      "103                              day        30113         30113\n",
      "104                verbatimEventDate        30113           204\n",
      "105                          habitat        30113             0\n",
      "106                 samplingProtocol        30113             0\n",
      "107                   samplingEffort        30113             0\n",
      "108                  sampleSizeValue        30113             0\n",
      "109                   sampleSizeUnit        30113             0\n",
      "110                       fieldNotes        30113             1\n",
      "111                     eventRemarks        30113             1\n",
      "112                       locationID        30113             0\n",
      "113                higherGeographyID        30113             0\n",
      "114                  higherGeography        30113             2\n",
      "115                        continent        30113             5\n",
      "116                        waterBody        30113             0\n",
      "117                      islandGroup        30113             0\n",
      "118                           island        30113             0\n",
      "119                      countryCode        30113         30113\n",
      "120                    stateProvince        30113         30109\n",
      "121                           county        30113         29908\n",
      "122                     municipality        30113             0\n",
      "123                         locality        30113         29912\n",
      "124                 verbatimLocality        30113           202\n",
      "125                verbatimElevation        30113             1\n",
      "126                    verbatimDepth        30113             0\n",
      "127    minimumDistanceAboveSurfac...        30113             0\n",
      "128    maximumDistanceAboveSurfac...        30113             0\n",
      "129              locationAccordingTo        30113             0\n",
      "130                  locationRemarks        30113             0\n",
      "131                  decimalLatitude        30113         30113\n",
      "132                 decimalLongitude        30113         30113\n",
      "133    coordinateUncertaintyInMeters        30113           171\n",
      "134              coordinatePrecision        30113             0\n",
      "135            pointRadiusSpatialFit        30113             0\n",
      "136         verbatimCoordinateSystem        30113             0\n",
      "137                      verbatimSRS        30113             0\n",
      "138                     footprintWKT        30113             0\n",
      "139                     footprintSRS        30113             0\n",
      "140              footprintSpatialFit        30113             0\n",
      "141                  georeferencedBy        30113             0\n",
      "142                georeferencedDate        30113             2\n",
      "143             georeferenceProtocol        30113             0\n",
      "144              georeferenceSources        30113             0\n",
      "145    georeferenceVerificationSt...        30113             2\n",
      "146              georeferenceRemarks        30113             0\n",
      "147              geologicalContextID        30113             0\n",
      "148      earliestEonOrLowestEonothem        30113             0\n",
      "149       latestEonOrHighestEonothem        30113             0\n",
      "150       earliestEraOrLowestErathem        30113             0\n",
      "151        latestEraOrHighestErathem        30113             0\n",
      "152     earliestPeriodOrLowestSystem        30113             0\n",
      "153      latestPeriodOrHighestSystem        30113             0\n",
      "154      earliestEpochOrLowestSeries        30113             0\n",
      "155       latestEpochOrHighestSeries        30113             0\n",
      "156         earliestAgeOrLowestStage        30113             0\n",
      "157          latestAgeOrHighestStage        30113             0\n",
      "158       lowestBiostratigraphicZone        30113             0\n",
      "159      highestBiostratigraphicZone        30113             0\n",
      "160          lithostratigraphicTerms        30113             0\n",
      "161                            group        30113             0\n",
      "162                        formation        30113             0\n",
      "163                           member        30113             0\n",
      "164                              bed        30113             0\n",
      "165                 identificationID        30113           201\n",
      "166          identificationQualifier        30113             0\n",
      "167                       typeStatus        30113             0\n",
      "168                     identifiedBy        30113           201\n",
      "169                   dateIdentified        30113           201\n",
      "170         identificationReferences        30113             0\n",
      "171    identificationVerification...        30113             0\n",
      "172            identificationRemarks        30113             3\n",
      "173                          taxonID        30113           201\n",
      "174                 scientificNameID        30113             0\n",
      "175              acceptedNameUsageID        30113             0\n",
      "176                parentNameUsageID        30113             0\n",
      "177              originalNameUsageID        30113             0\n",
      "178                nameAccordingToID        30113             0\n",
      "179                namePublishedInID        30113             0\n",
      "180                   taxonConceptID        30113             0\n",
      "181                   scientificName        30113         30113\n",
      "182                acceptedNameUsage        30113             0\n",
      "183                  parentNameUsage        30113             0\n",
      "184                originalNameUsage        30113             0\n",
      "185                  nameAccordingTo        30113             0\n",
      "186                  namePublishedIn        30113             0\n",
      "187              namePublishedInYear        30113             0\n",
      "188             higherClassification        30113             6\n",
      "189                          kingdom        30113         30113\n",
      "190                           phylum        30113         30113\n",
      "191                            class        30113         30113\n",
      "192                            order        30113         30113\n",
      "193                           family        30113         30113\n",
      "194                            genus        30113         30113\n",
      "195                         subgenus        30113             0\n",
      "196                  specificEpithet        30113         30113\n",
      "197             infraspecificEpithet        30113             0\n",
      "198                        taxonRank        30113         30113\n",
      "199                verbatimTaxonRank        30113             0\n",
      "200                   vernacularName        30113         29910\n",
      "201                nomenclaturalCode        30113             3\n",
      "202                  taxonomicStatus        30113         30113\n",
      "203              nomenclaturalStatus        30113             0\n",
      "204                     taxonRemarks        30113             0\n",
      "205                       datasetKey        30113         30113\n",
      "206                publishingCountry        30113         30113\n",
      "207                  lastInterpreted        30113         30113\n",
      "208                        elevation        30113             0\n",
      "209                elevationAccuracy        30113             0\n",
      "210                            depth        30113             0\n",
      "211                    depthAccuracy        30113             0\n",
      "212             distanceAboveSurface        30113             0\n",
      "213     distanceAboveSurfaceAccuracy        30113             0\n",
      "214                            issue        30113         30111\n",
      "215                        mediaType        30113           189\n",
      "216                    hasCoordinate        30113         30113\n",
      "217              hasGeospatialIssues        30113         30113\n",
      "218                         taxonKey        30113         30113\n",
      "219                 acceptedTaxonKey        30113         30113\n",
      "220                       kingdomKey        30113         30113\n",
      "221                        phylumKey        30113         30113\n",
      "222                         classKey        30113         30113\n",
      "223                         orderKey        30113         30113\n",
      "224                        familyKey        30113         30113\n",
      "225                         genusKey        30113         30113\n",
      "226                      subgenusKey        30113             0\n",
      "227                       speciesKey        30113         30113\n",
      "228                          species        30113         30113\n",
      "229                      genericName        30113         30113\n",
      "230           acceptedScientificName        30113         30113\n",
      "231           verbatimScientificName        30113         30113\n",
      "232                     typifiedName        30113             0\n",
      "233                         protocol        30113         30113\n",
      "234                       lastParsed        30113         30113\n",
      "235                      lastCrawled        30113         30113\n",
      "236                      repatriated        30113         30113\n",
      "237         relativeOrganismQuantity        30113             0\n",
      "238                     recordedByID        30113             2\n",
      "239                   identifiedByID        30113             2\n",
      "240                        level0Gid        30113         29887\n",
      "241                       level0Name        30113         29887\n",
      "242                        level1Gid        30113         29887\n",
      "243                       level1Name        30113         29887\n",
      "244                        level2Gid        30113         29887\n",
      "245                       level2Name        30113         29887\n",
      "246                        level3Gid        30113             0\n",
      "247                       level3Name        30113             0\n",
      "248              iucnRedListCategory        30113         30113\n",
      "249                    geodeticDatum        30113         30113\n"
     ]
    }
   ],
   "source": [
    "if use_GBIF == True:\n",
    "    fields_summary = pd.read_sql(\"SELECT * FROM gbif_fields_returned\", output_db_conn)\n",
    "    fields_summary.index.name = 'Field'\n",
    "    pd.set_option('display.max_rows', 250)\n",
    "    print(fields_summary)"
   ]
  },
  {
   "cell_type": "markdown",
   "metadata": {},
   "source": [
    "### Attributes returned for the records from the eBird request\n",
    "This count was made before filters were applied"
   ]
  },
  {
   "cell_type": "code",
   "execution_count": 114,
   "metadata": {},
   "outputs": [
    {
     "name": "stdout",
     "output_type": "stream",
     "text": [
      "                           attribute  included(n)  populated(n)\n",
      "Field                                                          \n",
      "0           global_unique_identifier         2258          2258\n",
      "1                       checklist_id         2258          2258\n",
      "2                       project_code         2258          2258\n",
      "3                   last_edited_date         2258          2258\n",
      "4                        common_name         2258          2258\n",
      "5                  observation_count         2258          2258\n",
      "6                           locality         2258          2258\n",
      "7                           latitude         2258          2258\n",
      "8                          longitude         2258          2258\n",
      "9                   observation_date         2258          2258\n",
      "10                       observer_id         2258          2258\n",
      "11                effort_distance_km         2258          1896\n",
      "12                     protocol_type         2258          2258\n",
      "13                    effort_area_ha         2258             1\n",
      "14                     trip_comments         2258           527\n",
      "15                  species_comments         2258           168\n",
      "16                 effort_distance_m         2258          1896\n",
      "17     coordinateUncertaintyInMeters         2258          1896\n"
     ]
    }
   ],
   "source": [
    "if use_eBird == True:\n",
    "    fields_summary = pd.read_sql(\"SELECT * FROM ebird_fields_returned\", output_db_conn)\n",
    "    fields_summary.index.name = 'Field'\n",
    "    pd.set_option('display.max_rows', 250)\n",
    "    print(fields_summary)"
   ]
  },
  {
   "cell_type": "markdown",
   "metadata": {},
   "source": [
    "### Citations for records downloaded from GBIF"
   ]
  },
  {
   "cell_type": "code",
   "execution_count": 103,
   "metadata": {},
   "outputs": [
    {
     "data": {
      "text/plain": [
       "'if get_dwca == True:\\n    print(cursor.execute(\"SELECT citations FROM GBIF_download_info\").fetchall()[0][0])\\nelse:\\n    print(\"Set \\'get_dwca\\' to True to acquire a list of citations\")'"
      ]
     },
     "execution_count": 103,
     "metadata": {},
     "output_type": "execute_result"
    }
   ],
   "source": [
    "'''if get_dwca == True:\n",
    "    print(cursor.execute(\"SELECT citations FROM GBIF_download_info\").fetchall()[0][0])\n",
    "else:\n",
    "    print(\"Set 'get_dwca' to True to acquire a list of citations\")'''"
   ]
  },
  {
   "cell_type": "markdown",
   "metadata": {},
   "source": [
    "### Rights associated with records downloaded from GBIF"
   ]
  },
  {
   "cell_type": "code",
   "execution_count": null,
   "metadata": {},
   "outputs": [],
   "source": [
    "'''if get_dwca == True:\n",
    "    print(curs_occ.execute(\"SELECT rights FROM GBIF_download_info\").fetchall()[0][0])\n",
    "else:\n",
    "    print(\"Set 'get_dwca' to True to see the rights\")'''"
   ]
  },
  {
   "cell_type": "markdown",
   "metadata": {},
   "source": [
    "### GBIF download doi"
   ]
  },
  {
   "cell_type": "code",
   "execution_count": null,
   "metadata": {},
   "outputs": [],
   "source": [
    "'''if get_dwca == True:\n",
    "    doi = curs_occ.execute(\"SELECT doi FROM GBIF_download_info\").fetchall()[0][0]\n",
    "    print(\"https://doi.org/\" + doi)\n",
    "else:\n",
    "    print(\"Set 'get_dwca' to True to perform a search with a doi assigned\")'''"
   ]
  },
  {
   "cell_type": "markdown",
   "metadata": {},
   "source": [
    "### GBIF Download Key"
   ]
  },
  {
   "cell_type": "code",
   "execution_count": 102,
   "metadata": {},
   "outputs": [
    {
     "data": {
      "text/plain": [
       "'if get_dwca == True:\\n    print(curs_occ.execute(\"SELECT download_key FROM GBIF_download_info\").fetchall()[0][0])\\nelse:\\n    print(\"Set \\'get_dwca\\' to True to perform a search with a download key assigned\")'"
      ]
     },
     "execution_count": 102,
     "metadata": {},
     "output_type": "execute_result"
    }
   ],
   "source": [
    "'''if get_dwca == True:\n",
    "    print(curs_occ.execute(\"SELECT download_key FROM GBIF_download_info\").fetchall()[0][0])\n",
    "else:\n",
    "    print(\"Set 'get_dwca' to True to perform a search with a download key assigned\")'''"
   ]
  },
  {
   "cell_type": "markdown",
   "metadata": {},
   "source": [
    "### Runtime"
   ]
  },
  {
   "cell_type": "code",
   "execution_count": null,
   "metadata": {},
   "outputs": [],
   "source": [
    "t2 = datetime.now()\n",
    "print(t2 - t1)"
   ]
  }
 ],
 "metadata": {
  "kernelspec": {
   "display_name": "Python 3",
   "language": "python",
   "name": "python3"
  },
  "language_info": {
   "codemirror_mode": {
    "name": "ipython",
    "version": 3
   },
   "file_extension": ".py",
   "mimetype": "text/x-python",
   "name": "python",
   "nbconvert_exporter": "python",
   "pygments_lexer": "ipython3",
   "version": "3.7.10"
  }
 },
 "nbformat": 4,
 "nbformat_minor": 2
}
