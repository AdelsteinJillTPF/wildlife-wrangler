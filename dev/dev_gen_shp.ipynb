{
 "cells": [
  {
   "cell_type": "code",
   "execution_count": 3,
   "id": "3d1dd4c8",
   "metadata": {},
   "outputs": [],
   "source": [
    "database = \"T:/Occurrence_Records/EBD_TEST_1.sqlite\"\n",
    "outFile = \"T:/Occurrence_Records/EBD_TEST_1.shp\"\n",
    "footprints = False"
   ]
  },
  {
   "cell_type": "code",
   "execution_count": 5,
   "id": "a10ce6f8",
   "metadata": {},
   "outputs": [],
   "source": [
    "from datetime import datetime\n",
    "import sqlite3\n",
    "import pandas as pd\n",
    "import geopandas as gpd\n",
    "timestamp = datetime.now()\n",
    "\n",
    "# Get the record coordinates as a data frame\n",
    "records = (pd.read_sql(\"\"\"SELECT * FROM occurrence_records;\"\"\",\n",
    "                       con=sqlite3.connect(database))\n",
    "                      .astype({'decimalLongitude': 'float',\n",
    "                               'decimalLatitude': 'float',\n",
    "                               'radius_meters': 'float'}))"
   ]
  },
  {
   "cell_type": "code",
   "execution_count": null,
   "id": "81d1fa79",
   "metadata": {},
   "outputs": [],
   "source": [
    "# If user just wants shapefile of given coordinates\n",
    "if footprints == False:\n",
    "    # Make a point geometry from coordinates\n",
    "    gdf = gpd.GeoDataFrame(records,\n",
    "                           geometry=gpd.points_from_xy(records['decimalLongitude'],\n",
    "                                                       records['decimalLatitude']))\n",
    "\n",
    "    # Set the coordinate reference system\n",
    "    gdf.crs={'init' :'epsg:4326'}\n",
    "    \n",
    "    # Save shapefile\n",
    "    gdf.to_file(outFile)"
   ]
  },
  {
   "cell_type": "code",
   "execution_count": null,
   "id": "a1866734",
   "metadata": {},
   "outputs": [],
   "source": [
    "# Save polygons (footprints)\n",
    "if footprints == True:\n",
    "    # Reproject states and record coordinates to facilitate buffering\n",
    "    footprints = gdf.to_crs(epsg=5070)\n",
    "\n",
    "    # Point-radius method\n",
    "    footprints['footprint']=footprints.apply(lambda x: x.geometry.buffer(x.radius_meters), axis=1)\n",
    "    footprints.set_geometry(col='footprint', inplace=True, drop=True)\n",
    "\n",
    "    # Shape method\n",
    "\n",
    "\n",
    "    footprints.to_file(outFile)\n",
    "\n",
    "print(\"Exported shapefile: \" + str(datetime.now() - timestamp))"
   ]
  },
  {
   "cell_type": "code",
   "execution_count": null,
   "id": "f0e6b123",
   "metadata": {},
   "outputs": [],
   "source": []
  }
 ],
 "metadata": {
  "kernelspec": {
   "display_name": "Python 3",
   "language": "python",
   "name": "python3"
  },
  "language_info": {
   "codemirror_mode": {
    "name": "ipython",
    "version": 3
   },
   "file_extension": ".py",
   "mimetype": "text/x-python",
   "name": "python",
   "nbconvert_exporter": "python",
   "pygments_lexer": "ipython3",
   "version": "3.7.10"
  }
 },
 "nbformat": 4,
 "nbformat_minor": 5
}
