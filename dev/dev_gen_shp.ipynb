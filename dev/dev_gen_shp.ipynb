{
 "cells": [
  {
   "cell_type": "code",
   "execution_count": 65,
   "id": "ed84a991",
   "metadata": {},
   "outputs": [],
   "source": [
    "database = \"T:/Occurrence_Records/Quick1.sqlite\"\n",
    "outFile = \"T:/Occurrence_Records/center1.shp\"\n",
    "mode = \"points\"\n",
    "make_file = True"
   ]
  },
  {
   "cell_type": "code",
   "execution_count": 66,
   "id": "0e57e2c8",
   "metadata": {},
   "outputs": [],
   "source": [
    "from datetime import datetime\n",
    "import sqlite3\n",
    "import pandas as pd\n",
    "import geopandas as gpd\n",
    "import random\n",
    "from shapely.geometry import Point\n",
    "\n",
    "timestamp = datetime.now()\n",
    "\n",
    "# Get the record coordinates as a data frame\n",
    "records = (pd.read_sql(\"\"\"SELECT * FROM occurrence_records;\"\"\",\n",
    "                       con=sqlite3.connect(database))\n",
    "                       .astype({'decimalLongitude': 'float',\n",
    "                               'decimalLatitude': 'float',\n",
    "                               'radius_m': 'float'}))\n",
    "\n",
    "# Make a point geometry from coordinates\n",
    "gdf = gpd.GeoDataFrame(records,\n",
    "                       geometry=gpd.points_from_xy(records['decimalLongitude'],\n",
    "                                                   records['decimalLatitude']))\n",
    "\n",
    "# Set the coordinate reference system\n",
    "gdf.crs={'init' :'epsg:4326'}\n",
    "\n",
    "# <<<<<<<<<<<<<<<<<<<<<<<<<<<<<<<<<<<<<<<<<<<<<<<<<<<<<<<<<<<<<<<<<<<<  POINTS\n",
    "# If user just wants shapefile of given coordinates (point method)\n",
    "if mode == \"points\":\n",
    "    if make_file == True:\n",
    "        # Simply save points\n",
    "        gdf.to_file(outFile)\n",
    "\n",
    "    out = gdf\n",
    "\n",
    "# <<<<<<<<<<<<<<<<<<<<<<<<<<<<<<<<<<<<<<<<<<<<<<<<<<<<<<<<<<<<<<<<  FOOTPRINTS\n",
    "# If the user wants to identify record footprints (point-radius or shape method)\n",
    "if mode == \"footprints\":\n",
    "    # Reproject record coordinates to facilitate buffering\n",
    "    feetprints = gdf.to_crs(epsg=5070)\n",
    "\n",
    "    # Use point-radius method\n",
    "    feetprints['footprint'] = feetprints.apply(lambda x: x.geometry.buffer(x.radius_m), axis=1)\n",
    "    feetprints.set_geometry(col='footprint', inplace=True, drop=True)\n",
    "\n",
    "    # Overwrite when footprint WKT is provided (shape method; careful with projection) FORTHCOMING\n",
    "    if list(gdf['footprintWKT'].unique()) != ['nan']:\n",
    "        print(\"ALERT! footprintWKT was provided but not used.\")\n",
    "\n",
    "    if make_file == True:\n",
    "        # Save results as shapefile\n",
    "        feetprints.to_file(outFile)\n",
    "\n",
    "    out = feetprints\n",
    "\n",
    "# <<<<<<<<<<<<<<<<<<<<<<<<<<<<<<<<<<<<<<<<<<<<<<<<<<<<<<<<<<<<<<  RANDOM POINTS\n",
    "# If the user wants a random point selected from within each footprint\n",
    "if mode == \"random\":\n",
    "    # Reproject record coordinates to facilitate buffering\n",
    "    feetprints = gdf.to_crs(epsg=5070)\n",
    "    \n",
    "    # Use point-radius method\n",
    "    feetprints['footprint'] = feetprints.apply(lambda x: x.geometry.buffer(x.radius_m), axis=1)\n",
    "    feetprints.set_geometry(col='footprint', inplace=True, drop=True)\n",
    "\n",
    "    # Overwrite when footprint WKT is provided (shape method; careful with projection) FORTHCOMING   \n",
    "    if list(gdf['footprintWKT'].unique()) != ['nan']:\n",
    "        print(\"ALERT! footprintWKT was provided but not used.\")\n",
    "        \n",
    "    # Function to generate random points\n",
    "    def generate_random(number, polygon):\n",
    "        points = []\n",
    "        minx, miny, maxx, maxy = polygon.bounds\n",
    "        while len(points) < number:\n",
    "            pnt = Point(random.uniform(minx, maxx), random.uniform(miny, maxy))\n",
    "            if polygon.contains(pnt):\n",
    "                points.append(pnt)\n",
    "        return points\n",
    "    \n",
    "    # Generate random points\n",
    "    feetprints[\"random_points\"] = feetprints[\"geometry\"].apply(lambda x: generate_random(1, x)[0])\n",
    "    feetprints.drop([\"geometry\"], axis=1, inplace=True)\n",
    "    feetprints.set_geometry(col='random_points', inplace=True, drop=True)\n",
    "    \n",
    "    if make_file == True:\n",
    "        # Save results as shapefile\n",
    "        feetprints.to_file(outFile)\n",
    "    \n",
    "    out=feetprints\n",
    "    \n",
    "print(\"Exported shapefile: \" + str(datetime.now() - timestamp))"
   ]
  },
  {
   "cell_type": "code",
   "execution_count": 70,
   "id": "0d94c039",
   "metadata": {},
   "outputs": [
    {
     "ename": "ModuleNotFoundError",
     "evalue": "No module named 'wrangler_functions'",
     "output_type": "error",
     "traceback": [
      "\u001b[1;31m---------------------------------------------------------------------------\u001b[0m",
      "\u001b[1;31mModuleNotFoundError\u001b[0m                       Traceback (most recent call last)",
      "\u001b[1;32m<ipython-input-70-9e4fde4f61a6>\u001b[0m in \u001b[0;36m<module>\u001b[1;34m\u001b[0m\n\u001b[1;32m----> 1\u001b[1;33m \u001b[1;32mimport\u001b[0m \u001b[0mwrangler_functions\u001b[0m \u001b[1;32mas\u001b[0m \u001b[0mwf\u001b[0m\u001b[1;33m\u001b[0m\u001b[1;33m\u001b[0m\u001b[0m\n\u001b[0m\u001b[0;32m      2\u001b[0m \u001b[0mgdf\u001b[0m \u001b[1;33m=\u001b[0m \u001b[0mwf\u001b[0m\u001b[1;33m.\u001b[0m\u001b[0mspatial_output\u001b[0m\u001b[1;33m(\u001b[0m\u001b[0mdatabase\u001b[0m\u001b[1;33m,\u001b[0m \u001b[0mmake_file\u001b[0m\u001b[1;33m,\u001b[0m \u001b[0mmode\u001b[0m\u001b[1;33m,\u001b[0m \u001b[0moutput_file\u001b[0m\u001b[1;33m=\u001b[0m\u001b[0moutFile\u001b[0m\u001b[1;33m)\u001b[0m\u001b[1;33m\u001b[0m\u001b[1;33m\u001b[0m\u001b[0m\n",
      "\u001b[1;31mModuleNotFoundError\u001b[0m: No module named 'wrangler_functions'"
     ]
    }
   ],
   "source": [
    "\n",
    "import wrangler_functions as wf\n",
    "gdf = wf.spatial_output(database, make_file, mode, output_file=outFile)"
   ]
  },
  {
   "cell_type": "code",
   "execution_count": 68,
   "id": "6f692179",
   "metadata": {},
   "outputs": [
    {
     "data": {
      "image/png": "[encoded data removed]",
      "text/plain": [
       "<Figure size 864x864 with 1 Axes>"
      ]
     },
     "metadata": {
      "needs_background": "light"
     },
     "output_type": "display_data"
    }
   ],
   "source": [
    "import numpy as np\n",
    "import matplotlib.pyplot as plt\n",
    "\n",
    "usa_bbox = np.array([-113.0,   31.0,  -106.0,   36.0])\n",
    "fig, ax = plt.subplots(figsize=(12,12))\n",
    "ax.set_xlim(([usa_bbox[0],  usa_bbox[2]]))\n",
    "ax.set_ylim(([usa_bbox[1],  usa_bbox[3]]))\n",
    "world = gpd.read_file(gpd.datasets.get_path('naturalearth_lowres'))\n",
    "world.plot(ax=ax, color='darkkhaki')\n",
    "gdf.plot(ax=ax, marker='o', color='k', markersize=5)\n",
    "plt.show()"
   ]
  },
  {
   "cell_type": "code",
   "execution_count": null,
   "id": "2162c97a",
   "metadata": {},
   "outputs": [],
   "source": []
  },
  {
   "cell_type": "code",
   "execution_count": null,
   "id": "fdc055ba",
   "metadata": {},
   "outputs": [],
   "source": []
  }
 ],
 "metadata": {
  "kernelspec": {
   "display_name": "Python 3",
   "language": "python",
   "name": "python3"
  },
  "language_info": {
   "codemirror_mode": {
    "name": "ipython",
    "version": 3
   },
   "file_extension": ".py",
   "mimetype": "text/x-python",
   "name": "python",
   "nbconvert_exporter": "python",
   "pygments_lexer": "ipython3",
   "version": "3.7.10"
  }
 },
 "nbformat": 4,
 "nbformat_minor": 5
}
